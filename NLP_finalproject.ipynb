{
  "cells": [
    {
      "cell_type": "markdown",
      "source": [
        "# **Installing dependencies**"
      ],
      "metadata": {
        "id": "1HljIt9F-ff2"
      }
    },
    {
      "cell_type": "code",
      "execution_count": null,
      "metadata": {
        "colab": {
          "base_uri": "https://localhost:8080/"
        },
        "id": "X1QJJqP7C-aQ",
        "outputId": "e8553848-5aca-48ba-8309-484adc68d45d"
      },
      "outputs": [
        {
          "output_type": "stream",
          "name": "stdout",
          "text": [
            "Looking in indexes: https://pypi.org/simple, https://us-python.pkg.dev/colab-wheels/public/simple/\n",
            "Collecting transformers==4.28.0\n",
            "  Downloading transformers-4.28.0-py3-none-any.whl (7.0 MB)\n",
            "\u001b[2K     \u001b[90m━━━━━━━━━━━━━━━━━━━━━━━━━━━━━━━━━━━━━━━━\u001b[0m \u001b[32m7.0/7.0 MB\u001b[0m \u001b[31m39.4 MB/s\u001b[0m eta \u001b[36m0:00:00\u001b[0m\n",
            "\u001b[?25hRequirement already satisfied: filelock in /usr/local/lib/python3.10/dist-packages (from transformers==4.28.0) (3.12.0)\n",
            "Collecting huggingface-hub<1.0,>=0.11.0 (from transformers==4.28.0)\n",
            "  Downloading huggingface_hub-0.14.1-py3-none-any.whl (224 kB)\n",
            "\u001b[2K     \u001b[90m━━━━━━━━━━━━━━━━━━━━━━━━━━━━━━━━━━━━━━\u001b[0m \u001b[32m224.5/224.5 kB\u001b[0m \u001b[31m20.8 MB/s\u001b[0m eta \u001b[36m0:00:00\u001b[0m\n",
            "\u001b[?25hRequirement already satisfied: numpy>=1.17 in /usr/local/lib/python3.10/dist-packages (from transformers==4.28.0) (1.22.4)\n",
            "Requirement already satisfied: packaging>=20.0 in /usr/local/lib/python3.10/dist-packages (from transformers==4.28.0) (23.1)\n",
            "Requirement already satisfied: pyyaml>=5.1 in /usr/local/lib/python3.10/dist-packages (from transformers==4.28.0) (6.0)\n",
            "Requirement already satisfied: regex!=2019.12.17 in /usr/local/lib/python3.10/dist-packages (from transformers==4.28.0) (2022.10.31)\n",
            "Requirement already satisfied: requests in /usr/local/lib/python3.10/dist-packages (from transformers==4.28.0) (2.27.1)\n",
            "Collecting tokenizers!=0.11.3,<0.14,>=0.11.1 (from transformers==4.28.0)\n",
            "  Downloading tokenizers-0.13.3-cp310-cp310-manylinux_2_17_x86_64.manylinux2014_x86_64.whl (7.8 MB)\n",
            "\u001b[2K     \u001b[90m━━━━━━━━━━━━━━━━━━━━━━━━━━━━━━━━━━━━━━━━\u001b[0m \u001b[32m7.8/7.8 MB\u001b[0m \u001b[31m68.1 MB/s\u001b[0m eta \u001b[36m0:00:00\u001b[0m\n",
            "\u001b[?25hRequirement already satisfied: tqdm>=4.27 in /usr/local/lib/python3.10/dist-packages (from transformers==4.28.0) (4.65.0)\n",
            "Requirement already satisfied: fsspec in /usr/local/lib/python3.10/dist-packages (from huggingface-hub<1.0,>=0.11.0->transformers==4.28.0) (2023.4.0)\n",
            "Requirement already satisfied: typing-extensions>=3.7.4.3 in /usr/local/lib/python3.10/dist-packages (from huggingface-hub<1.0,>=0.11.0->transformers==4.28.0) (4.5.0)\n",
            "Requirement already satisfied: urllib3<1.27,>=1.21.1 in /usr/local/lib/python3.10/dist-packages (from requests->transformers==4.28.0) (1.26.15)\n",
            "Requirement already satisfied: certifi>=2017.4.17 in /usr/local/lib/python3.10/dist-packages (from requests->transformers==4.28.0) (2022.12.7)\n",
            "Requirement already satisfied: charset-normalizer~=2.0.0 in /usr/local/lib/python3.10/dist-packages (from requests->transformers==4.28.0) (2.0.12)\n",
            "Requirement already satisfied: idna<4,>=2.5 in /usr/local/lib/python3.10/dist-packages (from requests->transformers==4.28.0) (3.4)\n",
            "Installing collected packages: tokenizers, huggingface-hub, transformers\n",
            "Successfully installed huggingface-hub-0.14.1 tokenizers-0.13.3 transformers-4.28.0\n"
          ]
        }
      ],
      "source": [
        "!pip install transformers==4.28.0"
      ]
    },
    {
      "cell_type": "markdown",
      "metadata": {
        "id": "S20S2hqZ7baI"
      },
      "source": [
        "# **Data Loading**"
      ]
    },
    {
      "cell_type": "code",
      "execution_count": null,
      "metadata": {
        "colab": {
          "base_uri": "https://localhost:8080/"
        },
        "id": "eqSHVtPV-5TM",
        "outputId": "e33ec7ef-e4c4-4985-85ba-12774e6f4c4e"
      },
      "outputs": [
        {
          "output_type": "stream",
          "name": "stdout",
          "text": [
            "Looking in indexes: https://pypi.org/simple, https://us-python.pkg.dev/colab-wheels/public/simple/\n",
            "Collecting datasets\n",
            "  Downloading datasets-2.12.0-py3-none-any.whl (474 kB)\n",
            "\u001b[2K     \u001b[90m━━━━━━━━━━━━━━━━━━━━━━━━━━━━━━━━━━━━━━━\u001b[0m \u001b[32m474.6/474.6 kB\u001b[0m \u001b[31m8.6 MB/s\u001b[0m eta \u001b[36m0:00:00\u001b[0m\n",
            "\u001b[?25hRequirement already satisfied: numpy>=1.17 in /usr/local/lib/python3.10/dist-packages (from datasets) (1.22.4)\n",
            "Requirement already satisfied: pyarrow>=8.0.0 in /usr/local/lib/python3.10/dist-packages (from datasets) (9.0.0)\n",
            "Collecting dill<0.3.7,>=0.3.0 (from datasets)\n",
            "  Downloading dill-0.3.6-py3-none-any.whl (110 kB)\n",
            "\u001b[2K     \u001b[90m━━━━━━━━━━━━━━━━━━━━━━━━━━━━━━━━━━━━━━━\u001b[0m \u001b[32m110.5/110.5 kB\u001b[0m \u001b[31m7.2 MB/s\u001b[0m eta \u001b[36m0:00:00\u001b[0m\n",
            "\u001b[?25hRequirement already satisfied: pandas in /usr/local/lib/python3.10/dist-packages (from datasets) (1.5.3)\n",
            "Requirement already satisfied: requests>=2.19.0 in /usr/local/lib/python3.10/dist-packages (from datasets) (2.27.1)\n",
            "Requirement already satisfied: tqdm>=4.62.1 in /usr/local/lib/python3.10/dist-packages (from datasets) (4.65.0)\n",
            "Collecting xxhash (from datasets)\n",
            "  Downloading xxhash-3.2.0-cp310-cp310-manylinux_2_17_x86_64.manylinux2014_x86_64.whl (212 kB)\n",
            "\u001b[2K     \u001b[90m━━━━━━━━━━━━━━━━━━━━━━━━━━━━━━━━━━━━━━\u001b[0m \u001b[32m212.5/212.5 kB\u001b[0m \u001b[31m12.3 MB/s\u001b[0m eta \u001b[36m0:00:00\u001b[0m\n",
            "\u001b[?25hCollecting multiprocess (from datasets)\n",
            "  Downloading multiprocess-0.70.14-py310-none-any.whl (134 kB)\n",
            "\u001b[2K     \u001b[90m━━━━━━━━━━━━━━━━━━━━━━━━━━━━━━━━━━━━━━\u001b[0m \u001b[32m134.3/134.3 kB\u001b[0m \u001b[31m13.4 MB/s\u001b[0m eta \u001b[36m0:00:00\u001b[0m\n",
            "\u001b[?25hRequirement already satisfied: fsspec[http]>=2021.11.1 in /usr/local/lib/python3.10/dist-packages (from datasets) (2023.4.0)\n",
            "Collecting aiohttp (from datasets)\n",
            "  Downloading aiohttp-3.8.4-cp310-cp310-manylinux_2_17_x86_64.manylinux2014_x86_64.whl (1.0 MB)\n",
            "\u001b[2K     \u001b[90m━━━━━━━━━━━━━━━━━━━━━━━━━━━━━━━━━━━━━━━━\u001b[0m \u001b[32m1.0/1.0 MB\u001b[0m \u001b[31m17.3 MB/s\u001b[0m eta \u001b[36m0:00:00\u001b[0m\n",
            "\u001b[?25hRequirement already satisfied: huggingface-hub<1.0.0,>=0.11.0 in /usr/local/lib/python3.10/dist-packages (from datasets) (0.14.1)\n",
            "Requirement already satisfied: packaging in /usr/local/lib/python3.10/dist-packages (from datasets) (23.1)\n",
            "Collecting responses<0.19 (from datasets)\n",
            "  Downloading responses-0.18.0-py3-none-any.whl (38 kB)\n",
            "Requirement already satisfied: pyyaml>=5.1 in /usr/local/lib/python3.10/dist-packages (from datasets) (6.0)\n",
            "Requirement already satisfied: attrs>=17.3.0 in /usr/local/lib/python3.10/dist-packages (from aiohttp->datasets) (23.1.0)\n",
            "Requirement already satisfied: charset-normalizer<4.0,>=2.0 in /usr/local/lib/python3.10/dist-packages (from aiohttp->datasets) (2.0.12)\n",
            "Collecting multidict<7.0,>=4.5 (from aiohttp->datasets)\n",
            "  Downloading multidict-6.0.4-cp310-cp310-manylinux_2_17_x86_64.manylinux2014_x86_64.whl (114 kB)\n",
            "\u001b[2K     \u001b[90m━━━━━━━━━━━━━━━━━━━━━━━━━━━━━━━━━━━━━━━\u001b[0m \u001b[32m114.5/114.5 kB\u001b[0m \u001b[31m6.6 MB/s\u001b[0m eta \u001b[36m0:00:00\u001b[0m\n",
            "\u001b[?25hCollecting async-timeout<5.0,>=4.0.0a3 (from aiohttp->datasets)\n",
            "  Downloading async_timeout-4.0.2-py3-none-any.whl (5.8 kB)\n",
            "Collecting yarl<2.0,>=1.0 (from aiohttp->datasets)\n",
            "  Downloading yarl-1.9.2-cp310-cp310-manylinux_2_17_x86_64.manylinux2014_x86_64.whl (268 kB)\n",
            "\u001b[2K     \u001b[90m━━━━━━━━━━━━━━━━━━━━━━━━━━━━━━━━━━━━━━\u001b[0m \u001b[32m268.8/268.8 kB\u001b[0m \u001b[31m15.8 MB/s\u001b[0m eta \u001b[36m0:00:00\u001b[0m\n",
            "\u001b[?25hCollecting frozenlist>=1.1.1 (from aiohttp->datasets)\n",
            "  Downloading frozenlist-1.3.3-cp310-cp310-manylinux_2_5_x86_64.manylinux1_x86_64.manylinux_2_17_x86_64.manylinux2014_x86_64.whl (149 kB)\n",
            "\u001b[2K     \u001b[90m━━━━━━━━━━━━━━━━━━━━━━━━━━━━━━━━━━━━━━\u001b[0m \u001b[32m149.6/149.6 kB\u001b[0m \u001b[31m11.6 MB/s\u001b[0m eta \u001b[36m0:00:00\u001b[0m\n",
            "\u001b[?25hCollecting aiosignal>=1.1.2 (from aiohttp->datasets)\n",
            "  Downloading aiosignal-1.3.1-py3-none-any.whl (7.6 kB)\n",
            "Requirement already satisfied: filelock in /usr/local/lib/python3.10/dist-packages (from huggingface-hub<1.0.0,>=0.11.0->datasets) (3.12.0)\n",
            "Requirement already satisfied: typing-extensions>=3.7.4.3 in /usr/local/lib/python3.10/dist-packages (from huggingface-hub<1.0.0,>=0.11.0->datasets) (4.5.0)\n",
            "Requirement already satisfied: urllib3<1.27,>=1.21.1 in /usr/local/lib/python3.10/dist-packages (from requests>=2.19.0->datasets) (1.26.15)\n",
            "Requirement already satisfied: certifi>=2017.4.17 in /usr/local/lib/python3.10/dist-packages (from requests>=2.19.0->datasets) (2022.12.7)\n",
            "Requirement already satisfied: idna<4,>=2.5 in /usr/local/lib/python3.10/dist-packages (from requests>=2.19.0->datasets) (3.4)\n",
            "Requirement already satisfied: python-dateutil>=2.8.1 in /usr/local/lib/python3.10/dist-packages (from pandas->datasets) (2.8.2)\n",
            "Requirement already satisfied: pytz>=2020.1 in /usr/local/lib/python3.10/dist-packages (from pandas->datasets) (2022.7.1)\n",
            "Requirement already satisfied: six>=1.5 in /usr/local/lib/python3.10/dist-packages (from python-dateutil>=2.8.1->pandas->datasets) (1.16.0)\n",
            "Installing collected packages: xxhash, multidict, frozenlist, dill, async-timeout, yarl, responses, multiprocess, aiosignal, aiohttp, datasets\n",
            "Successfully installed aiohttp-3.8.4 aiosignal-1.3.1 async-timeout-4.0.2 datasets-2.12.0 dill-0.3.6 frozenlist-1.3.3 multidict-6.0.4 multiprocess-0.70.14 responses-0.18.0 xxhash-3.2.0 yarl-1.9.2\n"
          ]
        }
      ],
      "source": [
        "# data loaded through hugging face\n",
        "!pip install datasets"
      ]
    },
    {
      "cell_type": "code",
      "execution_count": null,
      "metadata": {
        "colab": {
          "base_uri": "https://localhost:8080/",
          "height": 379,
          "referenced_widgets": [
            "425497da828f466e8b91c7cb70bd5b67",
            "57f66af446c8438196b084b3585ca56d",
            "972baf38218b4b85a9aba19be61427d7",
            "c36c6f07673f4de891256d6c50030c09",
            "3f29ebea1fbd4708bfdb72d20391d231",
            "e59bfbf57cd94c64a7cebc467b0893ca",
            "fe5d1069bc024ebdbfea21a590b7ae10",
            "87420a31ca6f4bdaa14d9ba6cd74c5b5",
            "9d5ab443f2ac4ec3ae6637c3efb745f9",
            "907149f179cd4bdf8d52cfcc9ebba885",
            "67af796cd5974a66a4e7e054eb689066",
            "d44a265aa39e432f9b9d3cb60d1d992a",
            "08d354b272ca4275b0e0a0edb1fceb5d",
            "873cb5a404184f179e8decf25eb82150",
            "bdd6f7a439ff4a0da2e50881fe337e26",
            "3b32df3d7ff94bfd9ac8309b25e2fcc2",
            "a1e6f3ca4405412bac7b5ec8c24f2574",
            "7c781134b959428d952b436bb19efbb5",
            "256d08799ea74cdb999dc7ad341f0ec7",
            "4d6d3388ed0644bea1ce4d58ded64a95",
            "bcf18802aeaa494a8d69e0a83fc4c0fc",
            "c8d117fd258443a2801a11aaeb3ace82",
            "5011898d247f4cc38d09169a4c3121b4",
            "7f349150260a4cff80bf832254f57db0",
            "d47b1be44ed0488cbd147016ffe1d009",
            "c812c9fc54074a0e9433fd9198e666f5",
            "cecc166c6dd74fcf86354bd60ab612d9",
            "6d0594f1130b4a0ba415d934cb08fbd8",
            "1f910fdf508a4c3ab1a1f8b8aaf49cc9",
            "ab9f4d124c78481db02d393b37205ed4",
            "3cebd0b7578a4467992c2bbdf7d7835e",
            "67a43446e0bf432286106596f09936f7",
            "8c19cbe8294a4849abc7b1ec7f1676cc",
            "c821518df1614e6a8bbde8f9958ae67b",
            "fda2e46c9352484daeacab58224933cf",
            "87e8aaf430f4429e99377c08de19f2ad",
            "b7c06d513cd842ba890fa605560e6d0b",
            "9cc5d0ad024341e7b8c7478c9d623f14",
            "f8cd2d8ef73247579888540b2ebd1525",
            "b5962fc1e13c49b69e39b10ec284faba",
            "3eb98df0ab964fbda04a2238b405085c",
            "58ec8bac5e7746839d3fe89c272db763",
            "62d41906bd394f42be50c671e8ac95c7",
            "9a62af8d75504a1d8ed9ea4e5dfc1a3b",
            "2c29a48aca954f1d9a3b3d28fe047885",
            "da069a14625b484ea042137ff9fe2387",
            "193b25ee2c9e4e34952fe5e095f5cfbc",
            "64e1b890bd6748d3a20b08f68be0199b",
            "06940210a7454d86a1a6661edba0a860",
            "9a48b0d36c5644378f6abb0a7b2d4c75",
            "d6ea93452d9a49a8a5643f265c219999",
            "9f41418f6a8940f39744c555c3b47671",
            "6980ef51b6f440cf9d85c749c1a9e9a2",
            "378ed785e0a04ec4a6617700c0ecb644",
            "0dfbba380853493a905e7c28a33584e8",
            "fbe00699f4024adcab50b219b188252c",
            "8819fc04dbbe48c18dbdb5b2120e5ed7",
            "5294745f832c4e1c890728bbab8e7985",
            "c504269cc4d645828ef6da1f24cde1f4",
            "718ac5b5f7c74ecb894759cb93fa0fd8",
            "fe3166bea1944eaa99e94249b43b4b8d",
            "970ca09cf75540518c00de12d695b255",
            "57c2b42ceac24c1fb07d9ed97ac479d0",
            "e396c60d25a64da88830a5aa4e0f4ae6",
            "b4068334112f40179dfc91e560e2d5d0",
            "ee4c54388e0547ba8ca20953a9afc642",
            "0442dffc3001464289a2441526d7d199",
            "bc59d873f57248428726a6e46ddaac35",
            "53144dfbf5c441c288a5310ce0b71477",
            "8d619fafceff458ba975a5963b835951",
            "6ae5e09ea56c4b2caf8d5c2d2a7857af",
            "457c9646511545bc8050fa7494fdde5c",
            "8d3bb68de6f0479482d605ff45aab277",
            "1c20d249fb1544de9c5e75f2b5323b47",
            "c8d79a013027438e8e63e8af9baec52e",
            "5996e12c9ada49289d42de5067f46d58",
            "6cea08b829844b3cb4298384e43ce9b5",
            "37349241e0764e6684b347af76185f23",
            "f629c4feb371418aa7560dc49e569c11",
            "7fcb1e6e1e0348ee8ff3f589900a2f86",
            "cf4d98949499404a81bb43208ab7142e",
            "a53fb15aadfe4c3287de694e2d3beb0d",
            "f5e4503325c14a31ac29139150f4bd14",
            "f257c07c50f2481eb0309d7e46f59ab8",
            "b7c27db6f1294a31b49208831bbfff28",
            "2f122a0650ed41989e3a26100b87f3ad",
            "235610d8ada544128dfccc828305b9b6",
            "e188ba4faf5147e6acda226bf8890607"
          ]
        },
        "id": "AJjgJIcyaMcw",
        "outputId": "1805abc4-20b1-4c55-f3b7-92756a96f2c5"
      },
      "outputs": [
        {
          "output_type": "display_data",
          "data": {
            "text/plain": [
              "Downloading builder script:   0%|          | 0.00/5.14k [00:00<?, ?B/s]"
            ],
            "application/vnd.jupyter.widget-view+json": {
              "version_major": 2,
              "version_minor": 0,
              "model_id": "425497da828f466e8b91c7cb70bd5b67"
            }
          },
          "metadata": {}
        },
        {
          "output_type": "display_data",
          "data": {
            "text/plain": [
              "Downloading readme:   0%|          | 0.00/2.83k [00:00<?, ?B/s]"
            ],
            "application/vnd.jupyter.widget-view+json": {
              "version_major": 2,
              "version_minor": 0,
              "model_id": "d44a265aa39e432f9b9d3cb60d1d992a"
            }
          },
          "metadata": {}
        },
        {
          "output_type": "stream",
          "name": "stderr",
          "text": [
            "WARNING:datasets.builder:No config specified, defaulting to: arxiv-summarization/section\n"
          ]
        },
        {
          "output_type": "stream",
          "name": "stdout",
          "text": [
            "Downloading and preparing dataset arxiv-summarization/section to /root/.cache/huggingface/datasets/ccdv___arxiv-summarization/section/1.0.0/fa2c9abf4312afb8660ef8e041d576b8e3943ea96ae771bd3cd091b5798e7cc3...\n"
          ]
        },
        {
          "output_type": "display_data",
          "data": {
            "text/plain": [
              "Downloading data:   0%|          | 0.00/3.36G [00:00<?, ?B/s]"
            ],
            "application/vnd.jupyter.widget-view+json": {
              "version_major": 2,
              "version_minor": 0,
              "model_id": "5011898d247f4cc38d09169a4c3121b4"
            }
          },
          "metadata": {}
        },
        {
          "output_type": "display_data",
          "data": {
            "text/plain": [
              "Downloading data:   0%|          | 0.00/102M [00:00<?, ?B/s]"
            ],
            "application/vnd.jupyter.widget-view+json": {
              "version_major": 2,
              "version_minor": 0,
              "model_id": "c821518df1614e6a8bbde8f9958ae67b"
            }
          },
          "metadata": {}
        },
        {
          "output_type": "display_data",
          "data": {
            "text/plain": [
              "Downloading data:   0%|          | 0.00/102M [00:00<?, ?B/s]"
            ],
            "application/vnd.jupyter.widget-view+json": {
              "version_major": 2,
              "version_minor": 0,
              "model_id": "2c29a48aca954f1d9a3b3d28fe047885"
            }
          },
          "metadata": {}
        },
        {
          "output_type": "display_data",
          "data": {
            "text/plain": [
              "Generating train split: 0 examples [00:00, ? examples/s]"
            ],
            "application/vnd.jupyter.widget-view+json": {
              "version_major": 2,
              "version_minor": 0,
              "model_id": "fbe00699f4024adcab50b219b188252c"
            }
          },
          "metadata": {}
        },
        {
          "output_type": "display_data",
          "data": {
            "text/plain": [
              "Generating validation split: 0 examples [00:00, ? examples/s]"
            ],
            "application/vnd.jupyter.widget-view+json": {
              "version_major": 2,
              "version_minor": 0,
              "model_id": "0442dffc3001464289a2441526d7d199"
            }
          },
          "metadata": {}
        },
        {
          "output_type": "display_data",
          "data": {
            "text/plain": [
              "Generating test split: 0 examples [00:00, ? examples/s]"
            ],
            "application/vnd.jupyter.widget-view+json": {
              "version_major": 2,
              "version_minor": 0,
              "model_id": "37349241e0764e6684b347af76185f23"
            }
          },
          "metadata": {}
        },
        {
          "output_type": "stream",
          "name": "stdout",
          "text": [
            "Dataset arxiv-summarization downloaded and prepared to /root/.cache/huggingface/datasets/ccdv___arxiv-summarization/section/1.0.0/fa2c9abf4312afb8660ef8e041d576b8e3943ea96ae771bd3cd091b5798e7cc3. Subsequent calls will reuse this data.\n"
          ]
        },
        {
          "output_type": "stream",
          "name": "stderr",
          "text": [
            "WARNING:datasets.builder:No config specified, defaulting to: arxiv-summarization/section\n",
            "WARNING:datasets.builder:Found cached dataset arxiv-summarization (/root/.cache/huggingface/datasets/ccdv___arxiv-summarization/section/1.0.0/fa2c9abf4312afb8660ef8e041d576b8e3943ea96ae771bd3cd091b5798e7cc3)\n",
            "WARNING:datasets.builder:No config specified, defaulting to: arxiv-summarization/section\n",
            "WARNING:datasets.builder:Found cached dataset arxiv-summarization (/root/.cache/huggingface/datasets/ccdv___arxiv-summarization/section/1.0.0/fa2c9abf4312afb8660ef8e041d576b8e3943ea96ae771bd3cd091b5798e7cc3)\n"
          ]
        },
        {
          "output_type": "stream",
          "name": "stdout",
          "text": [
            "Number of train examples: 10152\n",
            "Number of test examples 3220\n",
            "Number of validation examples 3218\n"
          ]
        }
      ],
      "source": [
        "from datasets import load_dataset\n",
        "\n",
        "# Load the 'arxiv summarization' dataset\n",
        "#dataset = load_dataset('ccdv/arxiv-summarization', split=\"\")\n",
        "dataset_train = load_dataset('ccdv/arxiv-summarization', split='train[:5%]')\n",
        "dataset_test=load_dataset('ccdv/arxiv-summarization', split='test[:50%]')\n",
        "dataset_validation=load_dataset('ccdv/arxiv-summarization', split='validation[:50%]')\n",
        "\n",
        "# Print the number of examples in the dataset\n",
        "print('Number of train examples:', len(dataset_train))\n",
        "print(\"Number of test examples\",len(dataset_test))\n",
        "print(\"Number of validation examples\",len(dataset_validation))\n",
        "\n",
        "\n",
        "\n",
        "\n"
      ]
    },
    {
      "cell_type": "code",
      "execution_count": null,
      "metadata": {
        "id": "cajMEaeGtN31"
      },
      "outputs": [],
      "source": [
        "import datasets"
      ]
    },
    {
      "cell_type": "code",
      "execution_count": null,
      "metadata": {
        "id": "YhtD3YNzqXG9"
      },
      "outputs": [],
      "source": [
        "# making data dictionary that will contain train, validate and test data partitions\n",
        "\n",
        "dataset=  datasets.DatasetDict({\n",
        "    'train': dataset_train,\n",
        "    'test': dataset_test,\n",
        "    'validation': dataset_validation})"
      ]
    },
    {
      "cell_type": "code",
      "execution_count": null,
      "metadata": {
        "colab": {
          "base_uri": "https://localhost:8080/"
        },
        "id": "-rnR3dS-u8_s",
        "outputId": "45187207-6227-4739-fcfd-8332cc0037b9"
      },
      "outputs": [
        {
          "data": {
            "text/plain": [
              "DatasetDict({\n",
              "    train: Dataset({\n",
              "        features: ['article', 'abstract'],\n",
              "        num_rows: 10152\n",
              "    })\n",
              "    test: Dataset({\n",
              "        features: ['article', 'abstract'],\n",
              "        num_rows: 3220\n",
              "    })\n",
              "    validation: Dataset({\n",
              "        features: ['article', 'abstract'],\n",
              "        num_rows: 3218\n",
              "    })\n",
              "})"
            ]
          },
          "execution_count": 5,
          "metadata": {},
          "output_type": "execute_result"
        }
      ],
      "source": [
        "dataset"
      ]
    },
    {
      "cell_type": "markdown",
      "source": [
        "### **Displaying some data samples**"
      ],
      "metadata": {
        "id": "z3zqQoYR-7yE"
      }
    },
    {
      "cell_type": "code",
      "execution_count": null,
      "metadata": {
        "id": "opZnBmz2DGpk"
      },
      "outputs": [],
      "source": [
        "import datasets\n",
        "import random\n",
        "import pandas as pd\n",
        "from IPython.display import display, HTML\n",
        "\n",
        "\n",
        "def show_random_elements(dataset, num_examples=5):\n",
        "    assert num_examples <= len(\n",
        "        dataset\n",
        "    ), \"Can't pick more elements than there are in the dataset.\"\n",
        "    picks = []\n",
        "    for _ in range(num_examples):\n",
        "        pick = random.randint(0, len(dataset) - 1)\n",
        "        while pick in picks:\n",
        "            pick = random.randint(0, len(dataset) - 1)\n",
        "        picks.append(pick)\n",
        "\n",
        "    df = pd.DataFrame(dataset[picks])\n",
        "    for column, typ in dataset.features.items():\n",
        "        if isinstance(typ, datasets.ClassLabel):\n",
        "            df[column] = df[column].transform(lambda i: typ.names[i])\n",
        "    display(HTML(df.to_html()))"
      ]
    },
    {
      "cell_type": "code",
      "execution_count": null,
      "metadata": {
        "colab": {
          "base_uri": "https://localhost:8080/",
          "height": 1000
        },
        "id": "PWPwsQlvP54u",
        "outputId": "0ab011be-4874-4aeb-fcbc-e8c47ef090aa"
      },
      "outputs": [
        {
          "data": {
            "text/html": [
              "<table border=\"1\" class=\"dataframe\">\n",
              "  <thead>\n",
              "    <tr style=\"text-align: right;\">\n",
              "      <th></th>\n",
              "      <th>article</th>\n",
              "      <th>abstract</th>\n",
              "    </tr>\n",
              "  </thead>\n",
              "  <tbody>\n",
              "    <tr>\n",
              "      <th>0</th>\n",
              "      <td>the intermittent small - scale dynamics of fully developed turbulence at very large reynolds numbers is believed to be more or less scale - invariant within the so - called inertial range , the latter being bound by the integral length scale @xmath0 and the dissipation length scale @xmath1 . \\n consequently , both experimental @xcite and theoretical @xcite efforts largely concentrate on scaling exponents , which are deduced from structure functions of the velocity field . \\n however , `` scaling exponents are not everything '' as they represent for sure the simplest , but at the same time also the most insensitive observables characterising multi - scale processes . \\n because of this insensitiveness any heroic effort to derive the observed multi - scaling directly from the navier - stokes equation @xcite remains somewhat incomplete as some physics might have been lost with the applied approximations and assumptions . \\n also , due to the finiteness of the real - world inertial range and the limited statistical sampling , the experimental procedure to extract multi - scaling is not unequivocal and quoted values for scaling exponents beyond sixth order should not be overemphasised . for these reasons and also in view of the quest for universality in the up - to - now unreachable limit @xmath2 , additional observables other than scaling exponents are needed .    in order to explain this philosophy , `` scaling exponents are not everything '' , in more detail \\n , we discuss heuristic multiplicative cascade processes and show that with a clever subclass of additional observables more can be learned about the intrinsic cascade dynamics than only from scaling exponents . following richardsons historic metaphor of large eddies decaying into successively smaller and smaller eddies , \\n a multiplicative cascade process phenomenologically describes the turbulent redistribution of energy flux from large to small scales and is able to reproduce the observed scaling exponents of the surrogate energy dissipation field @xcite , which are related to those of the velocity structure functions by the refined similarity hypothesis @xcite . \\n originally intended to directly access the multiplicative weight distribution associated to the energy cascade generator distributions of so - called multipliers or break - up coefficients @xcite have been extracted from very large taylor - scale based reynolds number atmospheric boundary layer and wind tunnel flows recently @xcite ; see also ref . \\n it was found that within the upper part @xmath3 of the inertial range these multiplier distributions do in fact become scale - independent . \\n however , they do depend on the relative position of parent and daughter domain ; this non - homogeneity of the breakup leaves a subsequent extraction of scaling exponents inconsistent @xcite and indicates the presence of correlations between successive multipliers , as has been confirmed by studying multiplier distributions conditioned on the value of the ( scale- ) previous multiplier @xcite . \\n the observed correlations appear to be in conflict with the simple multiplicative cascade models , where the cascade generator is assumed to be identical and independent at each breakup . \\n as has been convincingly demonstrated in refs . \\n @xcite this apparent conflict can be resolved : introducing non - conservative cascade generators with a positively skewed weight distribution and restoring euclidean homogeneity of the ultrametric cascade models , the multiplier distributions resulting from a discrete binary multiplicative cascade become a scale - independent fix - point due to small - scale resummation and are in good qualitative agreement with the experimentally deduced distributions , including all observed correlation effects . \\n originally not anticipated , these multiplier distributions represent one of those wanted clever subclasses of additional observables , from which more can be learned about the relevance of cascade processes in turbulence and about the intrinsic cascade dynamics than only from scaling exponents . the experimental analysis \\n @xcite reveals that unconditional multiplier distributions are observed to be scale - independent within the range @xmath4 . in view of the findings of ref . \\n @xcite we call this the visible cascade range . since due to small - scale resummation it takes about three binary scale steps for the multiplier distributions to converge to the scale - independent fix - point the lowest part of the true cascade range @xmath5 is not visible . \\n a further conclusion from this line of reasoning would be that below @xmath6 dissipation dynamics sets in and modifies the scale - independent cascade dynamics . \\n besides this interpretation about the scope of cascade processes in turbulence , also more details about the intrinsic cascade dynamics can be learned from multiplier distributions @xcite . \\n not every weight distribution , associated to a binary cascade generator and reproducing observed scaling exponents within experimental error bars , qualifies to yield the correct distributions of multipliers and their correlations . \\n it has to come with a positive skewness . \\n weight distributions of log - normal or certain asymmetric binomial type share this property , whereas , for example , a log - poisson weight distribution @xcite does not . \\n all those conclusions have been drawn from binary discrete multiplicative cascade processes in connection with base - two ( @xmath7 ) multiplier distributions . \\n multiplier distributions referring to other scale steps have not been looked at . in this respect \\n it is of interest to find out whether the latter do again reveal a scale - independent fix - point behaviour with additional correlations or whether they are simply artefacts of the binary discrete cascade model implementation . \\n not only this aspect is of relevance to find answers , the impact of cascade model implementations with scale steps other than @xmath8 , i.e.  @xmath9 or @xmath10 , has to be studied for the multiplier phenomenology : do multiplier distributions resulting from different model implementations differ or not ? put in other words : are different cascade model implementations distinguishable or indistinguishable on the level of multiplier observables ? \\n theoretically the scale step @xmath11 associated to the cascade generator is not fixed . due to the present lack of a derivation of cascade models from the navier - stokes equation , \\n no specific choice is favoured for @xmath11 , except for personal taste . \\n only if the last question can be answered with yes , we can consider multiplier distributions as a clever subclass of additional observables . \\n the organisation of the paper is as follows : in sect . \\n ii we sketch the implementation of general multiplicative cascade processes and briefly summarize previous work on ( @xmath12)-multiplier distributions resulting from a discrete ( @xmath8 ) model implementation . \\n iii concentrates on discrete ( @xmath13 ) implementations of multiplicative cascade processes and presents multiplier distributions referring to scale steps @xmath14 . \\n a quasicontinuous implementation of random multiplicative cascade models is used in sect . \\n iv to study respective multiplier distributions referring to various scale steps . \\n so - called log - stable weight distributions @xcite are considered in sect . \\n v and , although leading to correct scaling exponents @xcite , shown not to reproduce the observed multiplier distributions . \\n several conclusions are presented in sect . \\n vi , the most important being that it does not matter how multiplicative cascade models are implemented ( discrete or continuous ) , since the multiplier observables are indistinguishable . \\n the following one - dimensional implementation of multiplicative cascade processes is designed to model the energy cascade from large ( @xmath0 ) to small ( @xmath6 ) length scales :    the initial energy flux density field at the integral scale @xmath0 is set equal to @xmath15 without any loss of generality . for an intermediate length scale @xmath16 we introduce a so - called weight field @xmath17 where the index function @xmath18 represents a subdomain of length @xmath19 . \\n each random weight @xmath20 is independently drawn from a scale - independent probability distribution @xmath21 with mean @xmath22 . the energy density field @xmath23 at the smallest scale @xmath6 \\n is then constructed as a multiplication of weight fields belonging to a hierarchy of different intermediate length scales @xmath24 , where @xmath25 . \\n let us discuss the special case for @xmath26 , so that it is sufficient to consider the fields only in the domain @xmath27 . \\n the implementation ( [ two3 ] ) can then be understood in terms of a binary cascade generator : the energy density @xmath28 of a domain of length @xmath19 is redistributed onto a left and right subdomain of length @xmath29 with energy densities @xmath30 and @xmath31 , where the random weights are drawn from the splitting function @xmath32 the successive application of this cascade generator from the large scale @xmath0 down to the small scale @xmath6 leads to the field ( [ two3 ] ) . \\n the splitting function ( [ two4 ] ) is not in its most general form as it does not need to factorise . \\n however , it has been noted in ref . \\n @xcite , that because fully developed turbulence is a @xmath33 dimensional process , the observational reduction of a more - dimensional multiplicative cascade process to one dimension leads to a splitting function which factorises almost completely . \\n the standard observable of multiplicative cascade processes are scaling exponents representing the intermittency corrections . \\n they are deduced from a scale - invariant moment analysis of the synergetic field ( [ two3 ] ) ; a naive derivation gives @xmath34 with scaling exponents @xmath35 where the independence of the @xmath36 weights @xmath37 ,  , @xmath38 has been exploited . \\n this deduction is not in full accordance with the analysis of experimentally measured fields ; those are recorded at the finest resolution scale @xmath39 , then averaged over larger length scales @xmath19 , @xmath40 and are not identical to the model field evolved from scales @xmath0 to @xmath19 @xcite , i.e.@xmath41 the scale dependence of moments @xmath42 of the backward field are different from ( [ two5 ] ) and do not show rigorous scaling at the very small scales @xcite . only in the large - scale asymptotic \\n scaling exponents can be extracted unambiguously and coincide with the expression ( [ two6 ] ) .    originally proposed in ref . \\n @xcite and applied in refs.@xcite the method of random multipliers ( or break - up coefficients ) aims at directly accessing scaling exponents via respective distributions of the former . in its most general form multipliers \\n are defined as @xmath43 where @xmath44 represents the averaged energy density over an offspring interval of length @xmath45 and with its centre shifted by @xmath46 with respect to the parent interval . \\n we distinguish three special cases for the shift parameter @xmath47 : for @xmath48 , @xmath49 we call @xmath50 centred , right- and left - sided , respectively . \\n for very large reynolds number turbulent flows it has been found experimentally @xcite that the unconditional multiplier distributions @xmath51 , which are sampled over @xmath52 , do not depend on the scale @xmath19 within the regime @xmath53 . \\n however , a dependence on the shift parameter @xmath47 was noticed ; this `` nonhomogeneity of the breakup '' obscures the relationship between multiplier and weight distribution and the once intended extraction of scaling exponents @xcite . \\n actually the @xmath47-dependence hints to the existence of correlations between successive multipliers . \\n these correlations have been observed in conditional multiplier distributions @xmath54 with left / right - sided ( @xmath55 ) @xcite and centred ( @xmath48 ) @xcite shift parameter , respectively , and with the emphasis on base - two ( @xmath7 ) scale steps . \\n these latest findings appear to contradict the simple multiplicative cascade processes with independent breakups . however , this statement is not true ! \\n the studies in refs . \\n @xcite with nonconservative binary ( @xmath26 ) random multiplicative cascade models have given a new interpretation to multiplier distributions : unconditional multiplier distributions represent a scale - independent fix - point due to small - scale resummation ; the `` nonhomogeneity of the breakup '' is also naturally explained along this line . \\n once the sampling of multipliers is allowed over all and not only dyadic positions the correct multiplier correlations have been obtained from positively skewed weight distributions ; for example , a log - normal weight distribution does qualify whereas a log - poisson distribution does not qualify . \\n these results show that multiplier distributions do reveal more information about the underlying weight distribution than might be extracted from approximate scaling exponents . \\n for discrete multiplicative cascade models with binary splittings the scale step entering into the construction of the energy density field ( [ two3 ] ) is set equal to @xmath26 . \\n furthermore , we choose @xmath56 . \\n the length of the field configuration is set equal to @xmath57 , mimicking a long time series . as weight distribution \\n we choose the binomial distribution @xmath58 with parameters @xmath59 , @xmath60 ; this choice has the correct skewness @xmath61 in order to reproduce conditional base - two multiplier distributions @xcite . \\n other , non - binomial weight distributions , such as of log - normal or pearson - iii type , are also able to provide a positive skewness and lead to more or less identical base - two multiplier distributions @xcite , all being in qualitative accordance with experimental findings @xcite . also multiplier distributions different from base - two do not distinguish the aforementioned weight distributions . \\n hence , we will only show results for the weight distribution ( [ three1 ] ) . \\n due to small - scale resummation @xcite the base - two multiplier distributions are scale - invariant in the regime @xmath62 ; for @xmath63 the distributions converge to the scale - independent fix - point and for scales very close to the integral length scale deviations from scale - invariance set in because of the finiteness of @xmath0 . \\n figure 1(a2 ) shows simulation results for left - sided multiplier distributions ( @xmath64 ) at scale @xmath65 : the unconditional multiplier distribution @xmath66 comes close to a beta - distribution parametrisation @xmath67 with @xmath68 , which has been extracted from very large reynolds number atmospheric boundary layer turbulence @xcite . \\n once conditioned on the respective parent multiplier , correlations are observed : the distribution @xmath69 with a large parent multiplier becomes broader than the unconditional distribution and its average is shifted to a value larger than @xmath70 . \\n the opposite holds for the conditional distribution @xmath71 with a small parent multiplier ; it is more narrow than the unconditional distribution and its average is shifted to a value smaller than @xmath70 . \\n the positive correlation between left - sided daughter and left - sided parent multiplier is a consequence of the homogeneous sampling of multipliers over all @xmath52-positions , which is not restricted to dyadic cascade positions . \\n respective multiplier distributions of right / right combinations are identical to these left / left combinations . a negative correlation between daughter and parent multipliers \\n is revealed for identical left / right and right / left combinations ; their respective distributions are mirror images of those for left / left and right / right combinations , i.e.   @xmath72 . \\n this explains that conditional distributions , which are averaged over all four daughter / parent combinations , are again symmetric around @xmath73 ; these distributions have been shown in refs . \\n @xcite . \\n left - sided multiplier distributions for scale steps different from @xmath7 are shown in figs . \\n 1(a1+a3 ) . \\n for @xmath74 the unconditional multiplier distribution converges to a fix - point for @xmath75 ; its maximum is shifted towards smaller values since its average amounts to @xmath76 . \\n a conditioning on a left - sided parent multiplier again reveals correlations between successive multipliers : the distribution @xmath77 is broader than the unconditional one , whereas @xmath78 is more narrow . \\n also multiplier distributions of base step close to one , e.g.   @xmath79 , show fix - point behaviour in the regime @xmath75 . in view of the discrete ( @xmath26)-steps used in the cascade evolution \\n this result appears unexpected on first sight , but again it is small - scale resummation , which explains this result on second thought . \\n the unconditional left - sided distribution comes with an average of @xmath80 close to one . \\n the respective conditional distributions @xmath81 and @xmath82 both deviate from the unconditional distribution , but contrary to the @xmath12 and @xmath83 cases , the former has now become broader whereas the latter turns out to be more narrow . \\n closer inspection reveals that this tendency has been reversed at around @xmath84 . \\n centred multiplier distributions for scale steps @xmath74 , @xmath85 and @xmath86 do qualitatively show the same behaviour as the respective left - sided multiplier distributions depicted in figs . \\n 1(a1)-(a3 ) . \\n all centred distributions are more narrow than their respective left - sided counterparts , reflecting again the `` nonhomogeneity of the breakup '' . \\n this is also illuminated in fig .  2 , where the @xmath87-dependence of the two exponents @xmath88 and @xmath89 of the beta - distribution ( [ three2 ] ) , fitted to the respective unconditional left - sided and centred multiplier distributions , are shown . since \\n according to ( [ three2 ] ) we have @xmath90 , the two exponents are related by setting @xmath91 . \\n conditional multiplier distributions of base step different from @xmath12 have not been looked at in refs . \\n hence , we consider our respective simulation results as predictions .      most often discrete multiplicative cascade models are chosen with scale steps @xmath26 . \\n now we will consider @xmath92 and @xmath93 and investigate the resulting multiplier distributions . within the implementation ( [ two1])-([two3 ] ) \\n the parameters are chosen as @xmath94 and @xmath95 . \\n again for demonstration , the binomial weight distribution ( [ three1 ] ) is picked with new parameters @xmath96 , @xmath97 for @xmath92 and @xmath98 , @xmath99 for @xmath93 . according to the expression ( [ two6 ] ) the two parameter settings yield an acceptable intermittency exponent @xmath100 , but \\n actually have been fitted to reproduce the experimentally deduced unconditional left - sided base - two ( @xmath7 ) multiplier distribution ( [ three2 ] ) with @xmath68 in the fix - point scale regime @xmath101 . for both cases \\n the resulting unconditional and conditional left - sided fix - point multiplier distributions of bases @xmath74 , @xmath7 and @xmath102 are almost indistinguishable from the respective distributions shown in figs . \\n 1(a1)-(a3 ) for the binary discrete multiplicative cascade implementation with @xmath26 . \\n the same holds for centred multiplier distributions .    for parameter choices \\n @xmath103 , @xmath104 , resulting in a negative skewness of the binomial weight distribution , the shape of the resulting unconditional left - sided fix - point multiplier distribution turns out to deviate from the symmetric beta - distribution parametrisation to some small , but noticeable extend . \\n moreover , the correct effects observed in the conditional multiplier distributions can not be reproduced . \\n on the contrary , well adjusted log - normal weight distributions come again with the correct positive skewness and almost identically reproduce all unconditional and conditional multiplier distributions derived from the good binomial weight parametrisations . \\n a discrete implementation of random multiplicative cascade processes is often opposed by the question `` why discrete ? '' . \\n it is true that a continuous implementation leads to nicer mathematics in terms of log - infinite divisible and log - stable distributions @xcite , but since the relationship of the random multiplicative cascade processes to the navier - stokes equation is unclear for the moment we prefer to consider discrete and continuous versions on an equal footing . \\n as far as the numerical implementation is concerned a continuous random multiplicative cascade process will always be quasi - continuous . \\n hence , eqs . \\n ( [ two1])-([two3 ] ) do apply with a quasi - continuous scale step @xmath11 close to one ; we choose @xmath105 , which compared to a binary cascade corresponds to an eightfold scale - densification . \\n other parameters are set equal to @xmath106 and @xmath95 . \\n due to scale - densification the binomial weight distribution ( [ three1 ] ) now comes with rescaled parameters . \\n the setting @xmath107 , @xmath108 comes from a fit of the resulting unconditional left - sided base - two multiplier distribution to the expression ( [ three2 ] ) with @xmath68 ; see fig . \\n using eq . \\n ( [ two6 ] ) it also yields an intermittency exponent of @xmath109 . \\n because of small - scale resummation all multiplier distributions become again scale - independent fix - points in the range @xmath110 ; to be more concrete , the simulations reveal a lower bound of approximately @xmath111 . \\n the unconditional left - sided multiplier distributions of base - scale @xmath74 , @xmath85 and @xmath86 , which are shown in figs . \\n 1(b1)-(b3 ) , are hard to distinguish from those obtained from a scale - discrete cascade implementation , which are illustrated in figs . \\n . a similar statement can be made not only about the respective left - sided conditional distributions , but also for all unconditional and conditional centred multiplier distributions . \\n this finding demonstrates that multiplier distributions in the fix - point regime do not distinguish discrete and continuous versions of random multiplicative cascade processes ; again , the reason for this is small - scale resummation . \\n other suitable parameter settings of the binomial weight distribution quite easily reproduce all unconditional multiplier distributions shown so far . \\n even with a different - signed skewness , as for example with @xmath112 , @xmath113 , the correlation effects observed in the resulting conditional multiplier distributions go in the right direction , but are reduced by a factor of about @xmath85 in magnitude . \\n another interesting parameter setting is @xmath114 , @xmath115 . in the limit @xmath116 with @xmath117 \\n the weight distribution comes with a large negative skewness @xmath118 and leads to the infinite divisible log - poisson cascade model of refs . \\n all unconditional multiplier distributions shown so far are again reproduced , but only very weak correlation effects are observed in the resulting conditional multiplier distributions . \\n this demonstrates that although the log - poisson cascade model is capable to reproduce scaling exponents with no doubt , it fails to describe the correlation systematics of multiplier distributions . \\n these findings suggest that in order to reproduce unconditional as well as correct conditional multiplier distributions the weight distribution has to possess a positive skewness , irrespective of the chosen scale - step-@xmath11 implementation of the underlying multiplicative cascade process . for the binomial weight distribution ( [ three1 ] ) \\n we note that for the qualitatively best parameter choices , i.e.   ( @xmath103 , @xmath104 ) @xmath119 ( @xmath120 , @xmath121 ) , ( @xmath122 , @xmath123 ) , ( @xmath124 , @xmath125 ) , ( @xmath126 , @xmath127 ) for @xmath128 , @xmath85 , @xmath129 , @xmath130 , respectively , the resulting skewness almost coincides at a value around @xmath131 . here a more quantitative analysis , driven by very large reynolds number data , would certainly deserve future consideration . \\n multiplier distributions resulting from a meticulously tuned log - normal weight distribution @xmath132 are also practically indistinguishable from the results shown in fig .  1 . \\n qualitative best parameters for the implementations with @xmath128 , @xmath85 , @xmath129 , @xmath130 are @xmath133 , @xmath126 , @xmath134 , @xmath135 , respectively , reflecting an approximate , but obvious log - normal dependence @xmath136 . \\n contrary to the case of the binomial weight distribution , the skewness of the respective log - normal distributions is not identical ; it increases with increasing @xmath11 and stays positive for all four cases . \\n the multiplier statistics of continuously implemented multiplicative cascade processes appears to be indistinguishable from their discrete counterparts . \\n this poses the question to what degree a continuous multiplicative cascade process might be described by an effective discrete multiplicative cascade process . \\n for the translation of a continuous into a discrete multiplicative cascade process it is important to deal with the forward field . in analogy \\n ( [ two3 ] ) the energy density field is evolved from integral down to the intermediate binary target length scales @xmath19 and @xmath29 , respectively , i.e.@xmath137 with @xmath138 , @xmath139 and the scale - densification @xmath140 . \\n we restrict the @xmath52-regime to @xmath141 . \\n the averaging @xmath142 with discrete positions @xmath143 , @xmath144 is principally different from the backward averaging of eq . \\n ( [ two7 ] ) and leads to the binary weights @xmath145 sampling over all discrete positions leads to a binary splitting function @xmath146 , which still might depend on the scale @xmath19 .    for the numerical simulations of a concrete quasi - continuous cascade process \\n again an eightfold scale - densification ( @xmath147 ) has been chosen together with the binomial weight distribution ( [ three1 ] ) with parameters @xmath148 , @xmath149 . the effective binary splitting function @xmath146 with effective weights ( [ fourb3 ] ) \\n is illustrated in fig . \\n 3a for an intermediate length scale . \\n for @xmath150 it is practically scale - independent ; only at the very large scales a weak scale - dependence is observed . \\n the projected weight distributions @xmath151 and @xmath152 are identical and come close to a log - normal distribution with a positive skewness . \\n observe in fig . \\n 3b that the projected weight distribution is not simply a @xmath153-fold convolution of the binomial weight distribution ( [ three1 ] ) ; the modification is a result of the multivariate implementation ( [ two1 ] ) of the weight fields . \\n note also , that the effective splitting function does not strictly factorise ; a small correlation between the two effective weights @xmath154 and @xmath155 exists as the relative entropy @xmath156 turns out to be negative . \\n so far the continously implemented multiplicative cascade process has been directly translated into a ( @xmath26)-discrete multiplicative cascade process with an effective splitting function @xmath146 . for consistency \\n we still have to check , whether this effective ( @xmath26)-discrete multiplicative cascade process leads to identical results for the multiplier statistics . the discrete implementation ( [ two1])-([two3 ] ) with @xmath26 and @xmath146 instead of eq . \\n ( [ two4 ] ) leads to the multiplier distributions shown in figs . \\n 1(c1)-(c3 ) . \\n qualitatively there is no difference to the distributions illustrated in figs . \\n 1(a1)-(a3 ) , ( b1)-(b3 ) and quantitative differences remain very small . \\n in this section we want to demonstrate again , that `` scaling exponents is not everything '' . in view of renormalisation \\n theory so - called log - stable distributions represent mathematically very attractive parametrisations for the weight distribution @xmath21 , leading its way to the denotation `` universal multifractals '' @xcite . in connection with \\n the energy cascade in fully developed turbulence they have already been discussed in refs.@xcite , where the expression @xmath157 has been derived for the scaling exponents ( [ two6 ] ) . with an intermittency exponent of @xmath158 and a stable index of @xmath159 \\n the experimentally deduced scaling exponents @xcite are reproduced remarkably well . \\n focusing on multiplier distributions , we will now reveal limitations of log - stable weight distributions . \\n concentrating first on a discrete implementation of multiplicative cascade processes , where according to ( [ two1])-([two3 ] ) the parameters are set as @xmath26 , @xmath56 and @xmath160 , the associated log - stable weight distribution @xmath21 is constructed by noting that @xmath161 is distributed according to a stable distribution @xcite . \\n the skewness parameter has to be set equal to @xmath162 and the scale and shift parameters @xmath163 and @xmath164 are fixed by the scaling exponents @xmath165 and @xmath158 . for various stable parameters @xmath166 the respective log - stable weight distributions are illustrated in fig.4a . \\n depending on @xmath167 these distributions possess different asymmetries with respect to the average @xmath168 ; in fact the skewness @xmath169 , which should neither be confused with the skewness parameter @xmath170 nor with the notation @xmath171 of the stable distributions , amounts to @xmath172 , @xmath173 , @xmath174 , @xmath175 for @xmath176 , @xmath177 , @xmath178 , @xmath179 . if a correct skewness is really a good criterion to reproduce unconditional as well as conditional multiplier distributions , then according to what we now know from the previous sections it should be around @xmath180 for @xmath26 . \\n this would limit the stable index @xmath167 to a regime close to @xmath85 . \\n the unconditional left - sided base - two multiplier distributions resulting from the log - stable weight distributions with a given index @xmath167 are again scale - independent in the scale range @xmath62 and are illustrated in fig . \\n since the log - stable weight distributions have already been fitted to the scaling exponent @xmath181 , there is no further free parameter left to adjust to the observed unconditional left - sided multiplier distribution ( [ three2 ] ) with @xmath68 . for @xmath182 \\n the agreement is acceptable . \\n notice especially the extra contributions at @xmath183 and @xmath184 for small values of @xmath167 . \\n this is a consequence of the algebraic tails of the stable - distributions , which lead to excess contributions at @xmath185 in the corresponding weight distributions ; consult again fig . \\n the conditional multiplier distributions @xmath186 are also shown in fig .  4b , where over all four possible left / right - sided daughter / parent multiplier combinations has been averaged . \\n for @xmath187 a conditioning on a small parent multiplier , i.e.   @xmath188 , leads to a distribution more narrow than the unconditional distribution and a conditioning on a large parent multiplier , i.e.   @xmath189 , leads to a broader distribution . \\n this is in qualitative agreement with the experimental findings of ref.@xcite . for @xmath190 \\n this tendency has almost vanished , for @xmath191 it has vanished and for @xmath192 it has even been reversed . a very similar behaviour is observed in the conditional centred base - two multiplier distributions , which are depicted in fig . \\n 4c ; only for @xmath167 very close to 2 they are in qualitative agreement with the experimental findings of ref . \\n this outcome also confirms our conjecture from above that a correct positive skewness is needed for the weight distribution in order to reproduce the multiplier distributions . \\n a quasi - continuous implementation of multiplicative cascade processes with log - stable weight distributions leads to multiplier distributions , which are identical to those shown in figs . \\n 4b+c for the discrete implementation . \\n hence , we arrive at the conclusion that although scaling exponents are well fitted by log - stable weight distributions with index @xmath193 @xcite the observed systematics of the multiplier distributions rules out such a stable index value . the log - normal limit @xmath194 reproduces the multiplier distributions much better . \\n discrete and continuous implementations of geometric multiplicative cascade processes are both able to model multifractal characteristics observed in the surrogate energy dissipation field of fully developed turbulence . since their relation to the navier - stokes equation remains unclear neither form of implementation is principally favoured over the other . \\n although perhaps somewhat unexpected , this indistinguishability remains once a specific class of observables , going beyond scaling exponents , is employed : multiplier distributions referring to various scale - steps , discrete or quasi - continuous , do not care whether they result from discrete or continuous versions of nonconservative multiplicative cascade processes . \\n the reason for this is that the multivariate model implementation implies a small - scale resummation leading to scale - independent fix - point distributions . from an analysis point of view \\n a discrete or continuous multiplicative cascade process with no correlations between the various branchings appears as a continuous multiplicative cascade process with correlations . \\n there is more to learn from these fix - point multiplier distributions : not every weight distribution associated to the cascade generator , which matches scaling exponents within experimental error bars , qualifies to reproduce the observed multiplier correlations . \\n the weight distribution has to possess a positive skewness . \\n for example , so - called log - stable distributions with a stable index not close to @xmath187 do not share this property and are unable to reproduce the observed conditional multiplier distributions . \\n this leaves us with a speculation : the original idea to directly access scaling exponents via unconditional multiplier distributions does not work due to the observed correlations between multipliers . \\n however , these correlations help to restrict the broad class of cascade weight distributions , which all reproduce the observed lowest - order scaling exponents , to those having a positive skewness . a further restriction of this subclass appears to be possible with yet additional observables to be derived from the full analytic solution of the multivariate cascade characteristic function @xcite . \\n then , by directly accessing the cascade weight distribution , it is tempting to study its dependence on the reynolds number and on the flow configuration , and , thus , to check for universality .</td>\n",
              "      <td>the multiplier statistics of discrete and continuous nonconservative multiplicative cascade models , employed to describe the energy cascade in fully developed turbulence , is investigated . \\n it is found to be indistinguishable due to small - scale resummation and restoration of spatial homogeneity . \\n only the subclass of positively skewed weight distributions , associated to the cascade generator , qualifies to describe observed unconditional as well as conditional multiplier distributions qualitatively ; popular log - poisson and log - stable weight distributions do not share this property .</td>\n",
              "    </tr>\n",
              "    <tr>\n",
              "      <th>1</th>\n",
              "      <td>99          bohigas o 1991 _ random matrix theories and chaotic dynamics _ , in giannoni m j , voros a and zinn - justin j ( eds ) , _ proceedings of the 1989 les houches summer school on chaos and quantum physics _ , pages 88 - 199 . \\n ( amsterdam : elsevier ) .</td>\n",
              "      <td>the spectral statistics of the circular billiard with a point - scatterer is investigated . in the semiclassical limit \\n , the spectrum is demonstrated to be composed of two uncorrelated level sequences . \\n the first corresponds to states for which the scatterer is located in the classically forbidden region and its energy levels are not affected by the scatterer in the semiclassical limit while the second sequence contains the levels which are affected by the point - scatterer . \\n the nearest neighbor spacing distribution which results from the superposition of these sequences is calculated analytically within some approximation and good agreement with the distribution that was computed numerically is found . \\n classical dynamics may be illuminating for the understanding of the corresponding quantum mechanical systems . \\n one of the most studied aspects of the relation between classical and quantum mechanics is the connection between the spectral statistics of the quantum system and the dynamical properties of its classical counterpart . \\n classically integrable systems typically exhibit poisson - like spectral statistics  @xcite while classically chaotic systems exhibit spectral statistics of random matrix ensembles  @xcite . \\n the spectral statistics of integrable and chaotic systems are universal , that is , they do not depend on specific details of the system but rather on the type of motion and its symmetries . \\n there are systems which are intermediate between integrable and chaotic ones and their spectral properties are not known to be universal . \\n such systems are of experimental relevance . \\n the spectral statistics of mixed systems , for which the phase space is composed of both integrable and chaotic regions , were studied by berry and robnik  @xcite . \\n the spectrum can be viewed as a superposition of uncorrelated level sequences , corresponding to the various regions , which are either chaotic or integrable . \\n the nearest neighbor spacing distribution ( nnsd ) of such a superposition of sequences was calculated in  @xcite . \\n the resulting statistics are , in some sense , intermediate between those of integrable and chaotic systems . \\n other types of systems with intermediate statistics include pseudointegrable systems and integrable systems with flux lines or point - scatterers  @xcite . \\n the spectral statistics of billiards with flux lines  @xcite and of some pseudointegrable billiards  @xcite were recently studied . \\n a possible route towards an understanding of the spectral statistics of these systems is based on their classical periodic orbits . \\n it is possible to compute the correlation function of the energy levels from these orbits by using trace formulae  @xcite . for the billiards with flux lines or for pseudointegrable billiards , \\n the orbits include not only the periodic orbits but also diffracting orbits which are built from segments that start and end at some singularity of the system . \\n while the contributions from periodic orbits were easily calculated , those from diffracting orbits turn out to be much more involved . \\n the spectral statistics of these systems , that can be obtained numerically , appear to be intermediate between those of integrable and chaotic systems . \\n in particular , the nnsd show level repulsion at small spacings and an exponential falloff at large spacings .    since the contributions of diffracting orbits to the spectral statistics of pseudointegrable systems and of billiards with flux lines is far from being understood , it is of interest to study simpler systems which exhibit intermediate statistics . a class of such systems is given by integrable systems with a point - scatterers . \\n a point - scatterer is the self adjoint extension of a `` @xmath0-function potential '' in two or three dimensions  @xcite . \\n the spectral statistics of an integrable system with such a point - scatterer was first studied by eba  @xcite . \\n it is a rectangular billiard with the perturbation at its center . \\n this `` eba billiard '' also exhibits intermediate statistics which differs from that of psedointegrable systems . \\n integrable systems with point - scatterers are much easier to study analytically compared to integrable systems with flux lines or to pseudointegrable systems . \\n the contributions of diffracting orbits to the correlation function of the energy levels were recently calculated for the rectangular billiard with a point - scatterer  @xcite . \\n exact results for the nnsd were also obtained @xcite . \\n one of the intriguing features of the spectral statistics of the rectangular billiard with a point - scatterer ( and dirichlet boundary conditions ) is its dependence on the location of the scatterer . if the coordinates of the scatterer ( divided by the sides of the rectangle ) are rational numbers @xmath1 ( where @xmath2 ) then the spectral statistics depend in a non trivial way on @xmath3 @xcite . \\n in contrast , for typical locations , the spectral statistics seem to be location independent . \\n the cause for this dependence on location is that many wavefunctions vanish at rational values of the coordinates . at these locations \\n there are many degeneracies in the lengths of the diffracting orbits ( including repetitions ) . \\n since such dependence on location is atypical , it is of interest to study the dependence of the spectral statistics on the location of the perturbation in other systems . \\n for instance , it may be possible that for typical systems the location of the point scatterer affects the spectral statistics only smoothly ( and does not depend on the rationality of the coordinates of the scatterer ) . \\n the system that is studied in this work is the circle billiard perturbed by a point - scatterer and the dependence of the spectral statistics on its location is studied . \\n the ( two dimensional ) circle billiard with radius @xmath4 is described by the schrdinger equation @xmath5 with dirichlet boundary conditions @xmath6 . \\n ( the units where @xmath7 are used in most of this work . ) \\n the hamiltonian with the point - scatterer is the self - adjoint extension of a hamiltonian where one point , say @xmath8 , is removed from its domain . \\n it can be considered as the self - adjoint extension of a hamiltonian with a @xmath0-function potential at @xmath8 . given the eigenvalues ( and eigenfunctions ) of the unperturbed system @xmath9 ( and @xmath10 ) , \\n namely the system in absence of the @xmath0-scatterer , the eigenvalues of the system with the point - scatterer are given by the roots of  @xcite @xmath11 where @xmath12 and @xmath13 are two parameters . \\n for a more complete discussion regarding this equation , the roles of the parameters as well as the method of its numerical solution see , for example ,  @xcite . \\n this equation turns out to be very convenient for numerical solution since every root is located between two eigenvalues of the unperturbed system . \\n the ( unnormalized ) eigenfunctions of the circle billiard are @xmath14 where @xmath15 are bessel functions of the first kind and the angular momentum @xmath16 is any nonnegative integer . \\n the energy levels @xmath17 are determined by the boundary condition @xmath18 . \\n it is obvious that all the energy levels with @xmath19 are doubly degenerate . as a result \\n there is a linear combination of the two degenerate wavefunctions which vanishes at @xmath8 and an orthogonal linear combination which does not vanish at @xmath8 . \\n the perturbation breaks this degeneracy . the linear combination which vanishes is also an eigenfunction of the hamiltonian _ with _ the point - scatterer and \\n thus @xmath20 is an eigenvalue of the perturbed problem . \\n therefore , half of the spectrum is unchanged by the perturbation . to avoid this trivial part of the spectrum we choose to work with the non vanishing \\n linear combinations ( which are eigenfunctions of the unperturbed hamiltonian ) and only the half of the spectrum which is affected by the perturbation will be considered in this work . for convenience , \\n the location of the perturbation is chosen at @xmath21 and therefore the eigenfunctions of the unperturbed hamiltonian which do not vanish there are @xmath22 the spectrum is determined by substituting these eigenfunctions and the corresponding energies @xmath17 in equation ( [ solvept ] ) . \\n we are interested in the dependence of the spectral statistics on the location of the scatterer . \\n this dependence can be easily understood in terms of the properties of the wavefunctions of the unperturbed system . \\n the quantum numbers @xmath23 correspond to a state with an angular momentum @xmath24 and an energy @xmath25 . in the semiclassical limit where @xmath26 , but @xmath27 and @xmath28 are kept fixed , \\n the values of the wavefunctions are small in the classically forbidden region @xmath29 . \\n therefore , one can divide the states into two groups . \\n the first consists of states for which the point - scatterer is located in the classically forbidden region . \\n as will be demonstrated , the eigenvalues of these states change only slightly due to the perturbation ( and do not change at all in the semiclassical limit ) . \\n the second group includes the states for which the perturbation is located in the classically allowed region . \\n these states will be ( strongly ) affected by the perturbation . \\n this separation of the spectrum into a superposition of two sequences is the cause for the dependence of the spectral statistics on the location of the scatterer . \\n this separation into ( semiclassically ) affected and unaffected states is justified in the following .    to demonstrate that some of the eigenvalues are almost unchanged by the perturbation one should solve equation ( [ solvept ] ) and show that for ( exponentially ) small eigenfunctions the corresponding eigenvalues are almost unaffected . for simplicity , instead of equation ( [ solvept ] ) it is sufficient to consider the finite sum @xmath30 where @xmath31 is assumed to be slowly varying function of @xmath32 . \\n we denote @xmath33 . to further simplify the argument \\n let us assume that @xmath34 and @xmath35 are of order unity while for @xmath36 the wavefunctions on the scatterer @xmath37 are all small . \\n the solutions of ( [ finitept ] ) are to a good approximation given by the solutions of @xmath38 for @xmath39 and by @xmath40 for @xmath36 . \\n this is true since substituting a solution of the form @xmath41 in ( [ finitept ] ) leads to @xmath42 expanding with respect to @xmath43 and then solving to the leading order in @xmath44 results in @xmath45 when @xmath46 , as is the case in the semiclassical limit , @xmath43 also approaches @xmath47 . for the other eigenenergies one can substitute @xmath48 ( with @xmath36 ) and find that in the leading order @xmath49 which also vanish when @xmath46 . \\n note that we have just found @xmath50 ( approximate ) solutions which are all the solutions between @xmath51 to @xmath52 . \\n it is not hard to generalize this calculation for more wavefunctions which are of order unity . in the semiclassical limit \\n , the resulting spectrum always consist of such affected and unaffected components . in this limit \\n the values of the wavefunctions at the scatterer are exponentially small if it is located in the classically forbidden region and the corresponding eigenvalues can be treated as unchanged by the perturbation for any semiclassical consideration .    consider a circle billiard with the point - scatterer at @xmath53 . \\n the spectral statistics of its energy levels in an energy window of width @xmath54 around @xmath55 are studied in what follows . \\n assume that @xmath55 is very large compared to @xmath54 , i.e. that all the levels in the window have similar energies which are high enough to be considered semiclassical . a natural question to ask is how many of these levels are affected by the point - scatterer and how many are unaffected by it . \\n as was argued , the semiclassically unaffected levels are those for which the classical turning point , @xmath56 , satisfies @xmath57 . \\n equivalently , for a given energy @xmath55 , for a state to be unaffected , the angular momentum @xmath28 should satisfy @xmath58 ( for the estimate of @xmath59 , the values of the energies are approximated by @xmath55 ) . \\n the fraction of such states was calculated in  @xcite where it was used to determine how many levels are poorly approximated in the wkb method . \\n this fraction is @xmath60.\\ ] ] it is clear that when @xmath61 then @xmath62 , as expected , while for @xmath63 , @xmath64 . \\n as one approaches the semiclassical limit these states are less and less affected . \\n the predictions of equation ( [ xunaff ] ) can be checked numerically . \\n the number of unaffected levels was calculated for two energy windows as a function of the location of the perturbation . \\n the results are presented in figure [ unfig ] .    , width=453,height=377 ]    the radius of the billiard was chosen so that the mean level spacing is @xmath65 . \\n therefore both energy windows contain @xmath66 levels . \\n a level was counted as unaffected if its difference from an energy level of the unperturbed system was less than @xmath67 of the mean level spacing . \\n this criterion is somewhat arbitrary , since in the semiclassical limit the difference can be taken to be arbitrarily small . \\n figure [ unfig ] indicates that equation ( [ xunaff ] ) correctly describes the number of unaffected levels . \\n there is a slight deviation which is smaller for the levels from the higher energy window . \\n this deviation is caused by the fact that for any finite energy the wavefunctions do not vanish at the turning point @xmath56 but rather exhibit an airy - like structure ( in the radial direction ) near the turning point . \\n this means that for states with @xmath57 , for which @xmath56 is close to @xmath68 , @xmath69 might not be small at a finite ( but large ) energy . \\n the deviations are expected to vanish in the semiclassical limit as indicated by figure [ unfig ] . \\n the spectrum of the circle billiard with a point - scatterer can therefore be viewed as composed of two uncorrelated components . \\n one is unaffected by the point - scatterer and its relative fraction is @xmath70 while the other is affected and its relative fraction is @xmath71 . \\n the nnsd of a spectrum which is composed of several uncorrelated level sequences was computed by berry and robnik  @xcite and is applied to the circle billiard with the point - scatterer in what follows . \\n the unaffected spectrum consists of many levels with different angular momentum quantum numbers and thus its statistics are poissonian  @xcite . since the density of levels in this sequence is @xmath70 , and the radius was chosen so that the total level density is unity , its nnsd is @xmath72 the second level sequence contains the levels which are influenced by the point - scatterer and their density is @xmath71 . \\n the exact form of its nnsd is unknown and an exact computation of this nnsd is complicated and beyond of the scope of this letter . instead , following experience with other systems  @xcite \\n , we will _ assume _ that the nnsd can be _ approximated _ by a semi - poisson distribution , that is , @xmath73 this distribution exhibits level repulsion at small spacings and exponentially small probability to find large spacings . in these works \\n it was found numerically to describe the distribution of spacings reasonably well but there is no analytical justification for its use . \\n note that even if the semi - poisson distribution is an approximation for the nnsd it may not approximate other spectral measures well . for instance , the form factor , which is the fourier transform of the energy - energy correlation function , satisfies @xmath74 for the semi - poisson distribution  @xcite while for a billiard with point - scatterer one expects to find @xmath75  @xcite . in particular , for the rectangular billiard with a point - scatterer , the nnsd was computed analytically under some assumptions in  @xcite and was found \\n _ not _ to be given by the semi - poisson or the poisson distributions . \\n the nth neighbor spacing distributions were also calculated there and found to be those of the poisson distribution at large spacings . \\n following @xcite the nnsd of the circle billiard with the point - scatterer , obtained by superposing the two sequences , is given by @xmath76 e^{-(2-x_{un})s}.\\ ] ] when the perturbation is at the center , @xmath62 , and @xmath77 approaches the poisson distribution . \\n alternatively , when the perturbation is near the boundary , and @xmath64 , the nnsd approaches the semi - poisson distribution . \\n note that the distribution ( [ totalps ] ) does not exhibit complete level repulsion since its value at @xmath78 , @xmath79 , does not vanish and it is a manifestation of the existence of an infinite class of states that are unaffected by the perturbation . the nnsd of ( [ totalps ] ) is compared to numerical results in figure  [ pofs ] .    , ( c ) @xmath80 and ( d ) @xmath81 . \\n [ pofs],width=453,height=377 ]    the nnsd was computed using the levels @xmath82-@xmath83 for three locations of the point - scatterer as well as for the circle billiard without the perturbation . \\n it is clear that the agreement is very good . \\n the main features of the distribution are captured by the simple argument leading to ( [ totalps ] ) . \\n there are slight deviations from the predictions of equation ( [ totalps ] ) , mainly at large @xmath84 . \\n these can be attributed to the fact that the nnsd of the affected spectrum differs from the semi - poisson distribution . \\n the results presented in figures [ unfig ] and [ pofs ] suggest that the spectrum of the circle with a point - scatterer consists of a superposition of two uncorrelated level sequences . \\n the relative densities of these sequences are determined by the way the classical tori of the integrable system are projected into coordinate space . \\n states for which the perturbation is in the classically allowed region are affected while states for which the perturbation is in the classically forbidden region are nearly unaffected . \\n we expect this behavior to be typical of systems where the scatterer affects only a fraction of the tori of the otherwise classically integrable systems . \\n this differs from the rectangular billiard where all tori are affected by the scatterer . \\n another important difference compared to the rectangle billiard results of the different nature of the wavefunctions . for the rectangular billiard \\n there are infinite classes of wavefunctions that have common zeros at rational points . consequently , \\n if the scatterer is placed at such a location the wavefunctions are not affected , and the distribution depends strongly on the rationality of the location of the scatterer . for the circle billiard studied in the present work , on the other hand , there is one class of eigenfunctions that vanish on the scatterer since they are antisymmetric in @xmath85 . \\n these are not considered in the present work \\n . the symmetric eigenfunctions always satisfy @xmath86 . to obtain many functions , symmetric in @xmath85 , that vanish at the same location \\n is equivalent to finding many bessel functions which satisfy @xmath87 and @xmath88 for integer @xmath16 , @xmath89 and for @xmath90 \\n . finding an infinite number of such solutions , for the same @xmath91 ( corresponding to the same location of the perturbation ) , is unlikely . \\n however , since any bessel function of large argument is asymptotically given by a cosine one can find states with close zeros , that is where @xmath92 and @xmath93 are zeros of @xmath15 , while @xmath94 is a zero of @xmath95 and @xmath96 is close to a zero of @xmath95 . in this case when the scatterer is at a zero of one of these states , the square of the wave function of the other state is much smaller there than its average value . \\n many such close zeros should exist to affect the spectral statistics . \\n this question is beyond the scope of the present letter and is left for future research . \\n our numerical results are not sensitive enough to resolve this issue . \\n the numerical results are used here just to verify that the mean dependence on the location of the scatterer is given by equation ( [ totalps ] ) . \\n we believe that the behavior of the circle billiard rather than that of the rectangular billiard is typical of integrable systems perturbed by a localized potential .    in summary , \\n the spectral statistics of the circle billiard , perturbed by a point - scatterer are intermediate between those of the poisson distribution , characteristic of integrable systems , and of the semi - poisson distribution . \\n the spectrum was shown to be composed of two uncorrelated components . \\n the first contains energy levels which are nearly unaffected by the perturbation , since the point - scatterer is in a classically forbidden region where the wavefunctions are exponentially small . \\n the relative fraction of such states was computed analytically and found to depend smoothly on the location of the point - scatterer . \\n the second contribution is from states which are affected by the perturbation . \\n the exact statistics of this level sequence are complicated but can be approximated by the semi - poisson statistics . \\n the nearest neighbor spacing distribution results of combination of the two and is a manifestation of the berry - robnik statistics . \\n other integrable systems should also exhibit qualitatively similar behavior when a localized perturbation is added to them . \\n this research was supported in part by the us - israel binational science foundation ( bsf ) and by the minerva center of nonlinear physics of complex systems .</td>\n",
              "    </tr>\n",
              "    <tr>\n",
              "      <th>2</th>\n",
              "      <td>the constrained voter model has been originally introduced in @xcite to understand the opinion dynamics in a spatially structured population of leftists , centrists and rightists . as in the popular voter model @xcite , the individuals are located on the vertex set of a graph and \\n interact through the edges of the graph at a constant rate . \\n however , in contrast with the classical voter model where , upon interaction , an individual adopts the opinion of her neighbor , it is now assumed that this imitation rule is suppressed when a leftist and a rightist interact . in particular \\n , the model includes a social factor called homophily that prevents agents who disagree too much to interact . \\n * model description *  this paper is concerned with a natural generalization of the previous version of the constrained voter model that includes an arbitrary finite number @xmath0 of opinions and a so - called confidence threshold @xmath1 . having a connected graph @xmath3 representing the network of interactions , \\n the state at time @xmath4 is a spatial configuration @xmath5 each individual looks at each of her neighbors at rate one that she imitates if and only if the opinion distance between the two neighbors is at most equal to the confidence threshold . formally , the dynamics of the system is described by the markov generator @xmath6 \\end{array}\\ ] ] where configuration @xmath7 is obtained from @xmath8 by setting @xmath9 and where @xmath10 means that the two vertices are connected by an edge . \\n note that the basic voter model and the original version of the constrained voter model including the three opinions leftist , centrist and rightist can be recovered from our general model as follows : @xmath11 the main question about the constrained voter model is whether the system fluctuates and evolves to a global consensus or fixates in a highly fragmented configuration . to define this dichotomy rigorously \\n , we say that * fluctuation * occurs whenever @xmath12 and that * fixation * occurs if there exists a configuration @xmath13 such that @xmath14 in other words , fixation means that the opinion of each individual is only updated a finite number of times , therefore fluctuation and fixation exclude each other . \\n we define convergence to a global consensus mathematically as a * clustering * of the system , i.e. , @xmath15 note that , whenever @xmath16 , the process reduces to the basic voter model with @xmath0 instead of two different opinions for which the long - term behavior of the process is well known : the system on lattices fluctuates while the system on finite connected graphs fixates to a configuration in which all the individuals share the same opinion . \\n in particular , the main objective of this paper is to study fluctuation and fixation in the nontrivial case when @xmath17 .        * main results *  whether the system fluctuates or fixates depends not only on the two parameters but also on the initial distribution . \\n in particular , we point out that , throughout the paper , it will be assumed that the initial distribution is the product measure with constant densities . to avoid trivialities , we also assume that the initial density of each of the opinions is positive : @xmath18 for the constrained voter model on the one - dimensional torus with @xmath19 vertices , the mean - field analysis in @xcite suggests that , in the presence of three opinions and when the threshold is equal to one , the average domain length at equilibrium is @xmath20 ^ 2 \\ \\sim \\ \\frac{2 \\rho_2}{\\pi}\\ ] ] when the initial density of centrists @xmath21 is small and @xmath19 is large . \\n vzquez et al . \\n @xcite also showed that these predictions agree with their numerical simulations from which they conclude that , when the initial density of centrists is small , the system fixates with high probability in a frozen mixture of leftists and rightists . \\n in contrast , it is conjectured in @xcite based on an idea in @xcite that the infinite system fluctuates and clusters whenever @xmath2 , which includes the threshold one model with three opinions introduced in @xcite . to explain this apparent disagreement \\n , we first observe that , regardless of the parameters , the system on finite graphs always fixate and there is a positive probability that the final configuration consists of a highly fragmented configuration , thus showing that spatial simulations of the necessarily finite system are not symptomatic of the behavior of its infinite counterpart . \\n our first theorem shows that the conjecture in @xcite is indeed correct . \\n [ th : fluctuation ] assume and @xmath2 . then ,    1 . \\n the process on @xmath22 fluctuates and clusters . 2 . \\n the probability of consensus on any finite connected graph satisfies @xmath23    the intuition behind the proof is that , whenever @xmath2 , there is a nonempty set of opinions which are within the confidence threshold of any other opinions . \\n this simple observation implies the existence of a coupling between the constrained and basic voter models , which is the key to proving fluctuation . \\n the proof of clustering is more difficult . \\n it heavily relies on the fact that the system fluctuates but also on an analysis of the interfaces of the process through a coupling with a certain system of charged particles . \\n in contrast , our lower bound for the probability of consensus on finite connected graphs relies on techniques from martingale theory . \\n note that this lower bound is in fact equal to the initial density of individuals who are in the confidence threshold of any other individuals in the system . \\n returning to the relationship between finite and infinite systems , we point out that the simulation pictures of figure [ fig : interface ] , which show two typical realizations of the process on the torus under the assumptions of the theorem , suggest fixation of the infinite counterpart in a highly fragmented configuration , in contradiction with the first part of our theorem , showing again the difficulty to interpret spatial simulations . \\n note also that , for the system on the one - dimensional torus with @xmath19 vertices , the average domain length at equilibrium is bounded from below by @xmath24 which , together with the second part of the theorem , proves that the average domain length scales like the population size when @xmath2 and that does not hold . while our fluctuation - clustering result holds regardless of the initial densities \\n provided they are all positive , whether fixation occurs or not seems to be very sensitive to the initial distribution . \\n also , to state our fixation results and avoid messy calculations later , we strengthen condition and assume that @xmath25 the next theorem looks at the fixation regime in three different contexts . \\n [ th : fixation ] assume . \\n then , the process on @xmath22 fixates in the following cases :    1 . \\n @xmath26 and @xmath27 is small enough . \\n 2 .   @xmath0 is large , @xmath28 and @xmath29 where @xmath30 3 . \\n @xmath31 and @xmath32 and @xmath33 . \\n the first part of the theorem is the converse of the first part of theorem [ th : fluctuation ] , thus showing that the condition @xmath34 is critical in the sense that    * when @xmath2 , the one - dimensional constrained voter model fluctuates when starting from any nondegenerate distributions whereas * when @xmath26 , the one - dimensional constrained voter model can fixate even when starting from a nondegenerate distribution . \\n the last two parts of the theorem specialize in two particular cases . \\n the first one looks at uniform initial distributions in which all the opinions are equally likely . for simplicity , \\n our statement focuses on the fixation region when the parameters are large but our proof is not limited to large parameters and implies more generally that the system fixates for all pairs of parameters corresponding to the set of white dots in the phase diagram of figure [ fig : diagram ] for the one - dimensional system with up to twenty opinions . \\n note that the picture suggests that the process starting from a uniform initial distribution fixates whenever @xmath28 even for a small number of opinions . \\n the second particular case returns to the slightly more general initial distributions but focuses on the threshold one model with four opinions for which fixation is proved when @xmath21 is only slightly less than one over the number of opinions = 0.25 . \\n this last result suggests that the constrained voter model with four opinions and threshold one fixates when starting from the uniform product measure , although the calculations become too tedious to indeed obtain fixation when starting from this distribution . \\n * structure of the paper *  the rest of the article is devoted to the proof of both theorems . even though our proof of fluctuation - clustering and fixation differ significantly , a common technique we introduce to study these two aspects for the one - dimensional process is a coupling with a certain system of charged particles that keeps track of the discrepancies along the edges of the graph rather than the actual opinion at each vertex . \\n in contrast , our approach to analyze the process on finite connected graphs is to look at the opinion at each vertex and use , among other things , the optimal stopping theorem for martingales . \\n the coupling with the system of charged particles is introduced in section  [ sec : coupling ] and then used in section  [ sec : fluctuation ] to prove theorem  [ th : fluctuation ] . \\n the proof of theorem [ th : fixation ] is more complicated and carried out in the last five sections  [ sec : condition][sec : fixation - particular ] . \\n in addition to the coupling with the system of charged particles introduced in the next section , the proof relies on a characterization of fixation based on so - called active paths proved in section  [ sec : condition ] and large deviation estimates for the number of changeovers in a sequence of independent coin flips proved in section  [ sec : deviation ] . \\n to study the one - dimensional system , it is convenient to construct the process from a graphical representation and to introduce a coupling between the process and a certain system of charged particles that keeps track of the discrepancies along the edges of the lattice rather than the opinion at each vertex . \\n this system of charged particles can also be constructed from the same graphical representation . since the constrained voter model on general finite graphs \\n will be studied using other techniques , we only define the graphical representation for the process on @xmath22 , which consists of the following collection of independent poisson processes :    * for each @xmath35 , we let @xmath36 be a rate one poisson process , * we denote by @xmath37 its @xmath38th arrival time .    this collection of independent poisson processes is then turned into a percolation structure by drawing an arrow @xmath39 at time @xmath40 and , given a configuration of the one - dimensional system at time @xmath41 , we say that this arrow is * active * if and only if @xmath42 the configuration at time @xmath4 is then obtained by setting @xmath43 an argument due to harris @xcite implies that the constrained voter model starting from any configuration can indeed be constructed using this percolation structure and rule . from the collection of active arrows , we construct active paths as in percolation theory . \\n more precisely , we say that there is an * active path * from @xmath44 to @xmath45 , and write @xmath46 , whenever there exist @xmath47 such that the following two conditions hold :    1 .   for @xmath48 , there is an active arrow from @xmath49 to @xmath50 at time @xmath51 . \\n 2 .   for @xmath52 \\n , there is no active arrow that points at @xmath53 . \\n note that conditions 1 and 2 above imply that @xmath54 moreover , because of the definition of active arrows , the opinion of vertex @xmath55 at time @xmath4 originates and is therefore equal to the initial opinion of vertex @xmath56 so we call vertex @xmath56 the * ancestor * of vertex @xmath55 at time @xmath4 \\n . one of the key ingredients to studying the one - dimensional system is to look at the following process defined on the edges : identifying each edge with its midpoint , we set @xmath57 and think of edge @xmath58 as being    * empty whenever @xmath59 , * occupied by a pile of @xmath60 particles with positive charge whenever @xmath61 , * occupied by a pile of @xmath60 particles with negative charge whenever @xmath62 . \\n the dynamics of the constrained voter model induces evolution rules which are again markov on this system of charged particles . \\n assume that there is an arrow @xmath63 at time @xmath4 and @xmath64 indicating in particular that there is a pile of @xmath60 particles with positive charge at @xmath65 . \\n then , we have the following alternative :    * there is no particle at edge @xmath66 or equivalently @xmath67 in which case the individuals at vertices @xmath55 and @xmath68 already agree so nothing happens . \\n * there is a pile of @xmath69 particles at edge @xmath66 in which case @xmath55 and @xmath68 disagree too much to interact so nothing happens . \\n * there is a pile of @xmath70 particles at @xmath66 in which case @xmath71 in particular , there is no more particles at edge @xmath66 and a pile of @xmath72 particles all with the common charge @xmath73 at edge @xmath74 . \\n similar evolution rules are obtained by exchanging the direction of the interaction or by assuming that we have @xmath75 from which we can deduce the following description :    * piles with more than @xmath1 particles can not move therefore we call such piles * blockades * and the particles they contain * frozen * particles . \\n * piles with at most @xmath1 particles jump one step to the left or one step to the right at the same rate one therefore we call the particles they contain * active * particles . * when a pile with positive / negative particles jumps onto a pile with negative / positive particles , positive and negative particles * \\n annihilate * by pair which results in a smaller pile of particles all with the same charge . \\n we refer to figure [ fig : particles ] for an illustration of these evolution rules . \\n note that whether an arrow is active or not can also be characterized from the state of the edge process : @xmath76 in particular , active arrows correspond to active piles of particles . \\n the key ingredient to proving fluctuation of the one - dimensional system and estimating the probability of consensus on finite connected graphs is to partition the opinion set into two sets that we shall call the set of * centrist * opinions and the set of * extremist * opinions : @xmath77 note that the assumption @xmath2 implies that the set of centrist opinions is nonempty . \\n note also that both sets are characterized by the properties @xmath78 as shown in figure [ fig : partition ] which gives a schematic illustration of the partition . \\n fluctuation is proved in the next lemma using this partition and relying on a coupling with the voter model . \\n [ lem : fluctuation ] the process on @xmath22 fluctuates whenever @xmath2 and @xmath79 . \\n it follows from that centrist agents are within the confidence threshold of every other individual . \\n in particular , for each pair @xmath80 we have the transition rates @xmath81 and similarly @xmath82 now , we introduce the process @xmath83 since for all @xmath84 the transition rates @xmath85 are constant over all @xmath86 according to , we have the following local transition rate for this new process : @xmath87 using in place of and some obvious symmetry , we also have @xmath88 this shows that the spin system @xmath89 reduces to the voter model \\n . in particular , the lemma directly follows from the fact that the one - dimensional voter model itself , when starting with a positive density of each type , fluctuates , a result proved based on duality in @xcite , pp 868869 . \\n [ lem : cluster ] the process on @xmath22 clusters whenever @xmath2 and @xmath79 . \\n the proof strongly relies on the coupling with the voter model in the proof of the previous lemma . to begin with \\n , we define the function @xmath90 which , in view of translation invariance of the initial configuration and the evolution rules , does not depend on the choice of @xmath58 . note that , since the system of charged particles coupled with the process involves deaths of particles but no births , the function @xmath91 is nonincreasing in time , therefore it has a limit : @xmath92 as @xmath93 . \\n now , on the event that an edge @xmath58 is occupied by a pile of at least one particle at a given time @xmath4 , we have the following alternative :    * @xmath65 is a blockade . in this case , since the centrist agents are within the confidence threshold of all the other agents , we must have @xmath94 but since the voter model @xmath89 fluctuates , @xmath95 in particular , at least of one of the frozen particles at @xmath58 is killed eventually . \\n * @xmath65 is a live edge . in this case , since one - dimensional symmetric random walks are recurrent , the active pile of particles at @xmath58 eventually intersects another pile of particles , and we have the following alternative : * * the two intersecting piles of particles have opposite charge , which results in the simultaneous death of at least two particles . * \\n * the two intersecting piles have the same charge and merge to form a blockade in which case we are back to the previous case : since the voter model @xmath89 fluctuates , at least one of the frozen particles in this blockade is killed eventually . * \\n * the two intersecting piles have the same charge and merge to form a larger active pile in which case the pile keeps moving until , after a finite number of collisions , we are back to one of the previous two possibilities : at least two active particles annihilate or there is creation of a blockade with at least one particle that is killed eventually .    in either case , as long as there are particles , there are also annihilating events indicating that the density of particles @xmath91 is strictly decreasing as long as it is positive . \\n in particular , the density of particles decreases to zero so there is extinction of both the active and frozen particles : @xmath96 in particular , for all @xmath97 with @xmath98 , we have @xmath99 which proves clustering .     +   + the second part of the theorem , which gives a lower bound for the probability of consensus of the process on finite connected graphs , relies on very different techniques , namely techniques related to martingale theory following an idea from @xcite , section 3 . however , the partition of the opinion set into centrist opinions and extremist opinions is again a key to the proof . \\n [ lem : consensus ] for the process on any finite connected graph , @xmath100    the first step is to prove that the process that keeps track of the number of supporters of any given opinion is a martingale . \\n then , applying the martingale convergence theorem and optimal stopping theorem , we obtain a lower bound for the probability of extinction of the extremist agents , which is also a lower bound for the probability of consensus . for @xmath101 , we set @xmath102 and we observe that @xmath103 letting @xmath104 denote the natural filtration of the process , we also have @xmath105 indicating that the process @xmath106 is a martingale with respect to the natural filtration of the constrained voter model . \\n this , together with , implies that @xmath107 also is a martingale . \\n it is also bounded because of the finiteness of the graph therefore , according to the martingale convergence theorem , there is almost sure convergence to a certain random variable : @xmath108 and we claim that @xmath109 can only take two values : @xmath110 to prove our claim , we note that , invoking again the finiteness of the graph , the process gets trapped in an absorbing state after an almost surely stopping time so we have @xmath111 assuming by contradiction that @xmath112 gives an absorbing state with at least one centrist agent and at least one extremist agent . since the graph is connected , this implies the existence of an edge @xmath113 such that @xmath114 but then we have @xmath115 and @xmath116 showing that @xmath117 is not an absorbing state , in contradiction with the definition of time @xmath118 . \\n this proves that our claim is true . \\n now , applying the optimal stopping theorem to the bounded martingale @xmath107 and the almost surely finite stopping time @xmath118 and using , we obtain @xmath119 from which it follows that @xmath120 to conclude , we observe that , on the event that @xmath121 , all the opinions present in the system after the hitting time @xmath118 are within distance @xmath1 of each other therefore the process evolves according to a voter model after that time . since the only absorbing states of the voter model on finite connected graphs are the configurations in which all the agents share the same opinion , we deduce that the system converges to a consensus . \\n this , together with , implies that @xmath122 this completes the proof of the lemma . \\n the main objective of this section is to prove a sufficient condition for fixation of the constrained voter model based on certain properties of the active paths . \\n [ lem : fixation - condition ] for all @xmath123 , let @xmath124 then , the constrained voter model fixates whenever @xmath125    this is similar to the proof of lemma 2 in @xcite and lemma 4 in @xcite . to begin with , \\n we define recursively a sequence of stopping times by setting @xmath126 in other words , the @xmath60th stopping time @xmath127 is the @xmath60th time the individual at the origin changes her opinion . \\n now , we define the following random variables and collection of events : @xmath128 the assumption together with reflection symmetry implies that the event @xmath129 occurs almost surely for some positive integer @xmath130 , which implies that @xmath131 since @xmath132 is the event that the individual at the origin changes her opinion infinitely often , in view of the previous inequality , in order to establish fixation , it suffices to prove that @xmath133 to prove equations , we let @xmath134 be the set of descendants of @xmath55 at time @xmath4 which , due to one - dimensional nearest neighbor interactions , is necessarily an interval and its cardinality , respectively . now , since each interaction between two individuals is equally likely to affect the opinion of each of these two individuals , the number of descendants of any given site is a martingale whose expected value is constantly equal to one . \\n in particular , the martingale convergence theorem implies that @xmath135 therefore the number of descendants of @xmath55 converges to a finite value . \\n since in addition the number of descendants is an integer - valued process , @xmath136 which further implies that , with probability one , @xmath137 finally , we note that , on the event @xmath129 , the last time the individual at the origin changes her opinion is at most equal to the largest of the stopping times @xmath138 for @xmath139 therefore @xmath140 according to . \\n this proves and the lemma . \\n in order to find later a good upper bound for the probability in and deduce a sufficient condition for fixation of the process , the next step is to prove large deviation estimates for the number of piles with @xmath60  particles with a given charge in a large interval . more precisely , the main objective of this section is to prove that for all @xmath60 and all @xmath141 the probability that @xmath142 decays exponentially with @xmath130 . note that , even though the initial opinions are chosen independently , the states at different edges are not independent . \\n for instance , a pile of particles with a positive charge is more likely to be surrounded by negative particles . \\n in particular , the result does not simply follow from large deviation estimates for the binomial distribution . \\n the main ingredient is to first show large deviation estimates for the number of so - called changeovers in a sequence of independent coin flips . \\n consider an infinite sequence of independent coin flips such that @xmath143 where @xmath144 is the outcome : heads or tails , at time @xmath60 . \\n we say that a * changeover * occurs whenever two consecutive coin flips result in two different outcomes . \\n the expected value of the number of changeovers @xmath145 before time @xmath130 can be easily computed by observing that @xmath146 and by using the linearity of the expected value : @xmath147 then , we have the following large deviation estimates for the number of changeovers . \\n [ lem : changeover ] for all @xmath141 , there exists @xmath148 such that @xmath149    to begin with , we let @xmath150 be the time to the @xmath151th changeover and notice that , since all the outcomes between two consecutive changeovers are identical , the sequence of coin flips up to this stopping time can be decomposed into @xmath151 strings with an alternation of strings with only heads and strings with only tails followed by one more coin flip . \\n in addition , since the coin flips are independent , the length distribution of each string is @xmath152 and lengths are independent . in particular , @xmath150 is equal in distribution to the sum of @xmath151 independent geometric random variables with parameters @xmath153 and @xmath154 , namely , we have @xmath155 now , using that , for all @xmath156 , @xmath157 and large deviation estimates for the binomial distribution implies that @xmath158 for a suitable constant @xmath159 and all @xmath130 large . \\n similarly , @xmath160 for a suitable @xmath161 and all @xmath130 large . combining  , we deduce that @xmath162 taking @xmath163 and observing that @xmath164 , we deduce @xmath165 for a suitable @xmath166 and all @xmath130 large . in particular , for all @xmath130 sufficiently large , @xmath167 for suitable constants @xmath168 and @xmath169 and all @xmath130 sufficiently large . using the previous two inequalities and the fact that the event that the number of changeovers is equal to @xmath170 is also the event that the time to the @xmath170th changeover is less than @xmath130 but the time to the next changeover is more than @xmath130 , we conclude that @xmath171 for all @xmath130 sufficiently large . \\n this completes the proof . \\n +   + now , we say that an edge is of type @xmath172 if it connects an individual with initial opinion @xmath173 on the left to an individual with initial opinion @xmath60 on the right , and let @xmath174 denote the number of edges of type @xmath172 in the interval @xmath175 . using the large deviation estimates for the number of changeovers established in the previous lemma \\n , we can now deduce large deviation estimates for the number of edges of each type . \\n [ lem : edge ] for all @xmath141 , there exists @xmath176 such that @xmath177    for any given @xmath173 , the number of edges @xmath172 and @xmath178 with @xmath179 has the same distribution as the number of changeovers in a sequence of independent coin flips of a coin that lands on heads with probability @xmath180 . \\n in particular , applying lemma [ lem : changeover ] with @xmath181 gives @xmath182 for all @xmath130 sufficiently large . \\n in addition , since each @xmath173 preceding a changeover is independently followed by any of the remaining @xmath183 opinions , @xmath184 combining  with large deviation estimates for the binomial distribution , conditioning on the number of edges of type @xmath185 for some @xmath186 , and using that @xmath187 @xmath188 we deduce the existence of @xmath189 such that @xmath190 for all @xmath130 large . similarly , there exists @xmath191 such that @xmath192 for all @xmath130 large . \\n the lemma follows from .     +   + note that the large deviation estimates for the initial number of piles of particles easily follows from the previous lemma . \\n finally , from the large deviation estimates for the number of edges of each type , we deduce the analog for a general class of weight functions that will be used in the next section to find a sufficient condition for fixation of the constrained voter model . \\n [ lem : weight ] let @xmath193 and assume that @xmath194 with @xmath195 for @xmath196 . for all @xmath141 , there exists @xmath197 such that @xmath198    first , we observe that @xmath199 this , together with lemma [ lem : edge ] , implies that @xmath200 for a suitable constant @xmath201 and all @xmath130 large . \\n in view of lemma [ lem : fixation - condition ] , in order to prove fixation , it suffices to show that the probability of the event in equation , that we denote by @xmath202 , tends to zero as @xmath203 . \\n let @xmath204 be the first time an active path starting from @xmath205 hits the origin , and observe that @xmath206 from which it follows that @xmath207 denote by @xmath208 the initial position of this active path and by @xmath209 the rightmost source of an active path that reaches the origin by time @xmath204 , i.e. , @xmath210 and define @xmath211 . \\n now , note that each blockade initially in the interval @xmath212 must have been destroyed , i.e. , turned into a set of active particles through the annihilation of part of the particles that constitute the blockade , by time @xmath204 . \\n moreover , all the active particles initially outside the interval @xmath212 can not jump inside the space - time region delimited by the two active paths implicitly defined in because the existence of such particles would contradict either the minimality of @xmath213 or the maximality of @xmath214 . \\n in particular , on the event @xmath202 , all the blockades initially in @xmath212 must have been destroyed before time @xmath204 by either active particles initially in @xmath212 or active particles resulting from the destruction of the blockades initially in @xmath212 . to estimate the probability of this last event \\n , we first give a weight of @xmath215 to each particle initially active by setting @xmath216 now , since each blockade with @xmath60 frozen particles can induce the annihilation of at least @xmath217 active particles after which there is a set of at most @xmath1 initially frozen particles becoming active , the weight of such an edge is set to @xmath218 , i.e. , @xmath219 the fact that the event @xmath202 occurs only if all the blockades initially in the interval @xmath212 are destroyed by either active particles initially in @xmath212 or active particles resulting from the destruction of the blockades initially in @xmath212 can be expressed as @xmath220 to find an upper bound for the probability of the event on the right - hand side of , we first compute the expected value of the weight function @xmath221 and then use the large deviation estimates proved in lemma [ lem : weight ] . \\n the next lemma gives an explicit expression of the expected value of the weight function and will be used repeatedly in the proofs of our last three theorems in order to identify sets of parameters in which fixation occurs . to prove this lemma as well as the so - called contribution of additional events later , we make use of the identities @xmath222     [ lem : expected - weight ] assume . then , @xmath223 where @xmath224    to begin with , we note that @xmath225 from which we deduce that @xmath226 for all @xmath227 while @xmath228 for @xmath229 . \\n it follows that @xmath230 also , decomposing the second sum in depending on whether the number of particles  @xmath60 is larger or smaller than @xmath231 and changing variables , we obtain @xmath232 combining  , we obtain @xmath233 which , recalling the notation in , becomes @xmath234 to further simplify the expected value , we note that @xmath235 then , plugging into , we get @xmath236 this completes the proof . \\n +   + to deduce theorem [ th : fixation].a , we observe that @xmath237 using the continuity of @xmath238 together with lemma [ lem : expected - weight ] gives @xmath239 then , using and applying lemma [ lem : weight ] with @xmath240 , we deduce @xmath241 this together with lemma [ lem : fixation - condition ] implies fixation . \\n we now specialize in the case of a uniform initial distribution : @xmath29 , which forces the initial density of each opinion to be equal to @xmath242 . in this case \\n , the expected value of the weight function reduces to the expression given in the following lemma . \\n [ lem : expected - weight - uniform ] assume with @xmath29 . \\n then , @xmath243    according to lemma [ lem : expected - weight ] , we have @xmath244 in other respects , using @xmath245 with @xmath246 together with gives @xmath247 the lemma follows from combining . \\n +   + letting @xmath248 and taking @xmath249 , the lemma implies that @xmath250 in particular , @xmath251 whenever @xmath0 is large and @xmath252 using again lemmas [ lem : fixation - condition ] and [ lem : weight ] as well as , we deduce as in the previous section that fixation occurs under the condition above when the parameters are large enough . \\n this is not exactly the assumption of our theorem . \\n note however that the weight function is defined based on a worst case scenario in which the active particles _ do their best _ to destroy the blockades and to turn as many frozen particles as possible into active particles . to improve the lower bound for the asymptotic critical slope from @xmath253 to @xmath254 , \\n the idea is to take into account additional events that eliminate some active particles and find lower bounds for their contribution defined as the number of active particles they eliminate times their probability . \\n the events we consider are    1 . \\n * annihilation of active particles * due to the collision of a pile of active particles with positive charge with a pile of active particles with a negative charge , 2 . \\n * blockade formation * due to the collision of two piles of active particles with the same charge and total size exceeding the confidence threshold , 3 . \\n * blockade increase * due to the jump of a pile of active particles with a certain charge onto a blockade with the same charge . \\n more precisely , we introduce the events @xmath255 as well as the three events @xmath256 the next three lemmas give lower bounds for the contribution of these three events . \\n [ lem : contribution-1 ] the contribution of the event @xmath257 satisfies @xmath258    by conditioning on the possible values of @xmath259 , we get @xmath260 in particular , when @xmath261 and @xmath75 we have @xmath262 note that on the event @xmath263 the number of particles that are eliminated is twice the size of the smallest of the two active piles therefore the contribution of this event is given by @xmath264 where the factor 1/3 is the probability that there is an arrow pointing at @xmath55 before there is an arrow pointing at @xmath265 . using obvious symmetry , and , we deduce that @xmath266 this completes the proof . \\n [ lem : contribution-2 ] the contribution of the event @xmath132 satisfies @xmath267    first , we note that taking @xmath261 and @xmath268 in equation gives @xmath269 in addition , the event @xmath270 with @xmath271 replaces a set of @xmath272 active particles by a blockade of size @xmath272 so it induces the annihilation of at least @xmath273 active particles . \\n the contribution of @xmath270 is therefore @xmath274 using again some obvious symmetry together with and and the fact that the contribution above is a function of @xmath275 , we deduce that @xmath276 this completes the proof . \\n [ lem : contribution-3 ] the contribution of the event @xmath277 satisfies @xmath278    assume that @xmath279 and @xmath69 . \\n then , again implies that @xmath280 in addition , the event @xmath281 replaces an active pile of size @xmath173 and a blockade of size @xmath60 with a blockade of size @xmath272 so it induces the annihilation of @xmath282 active particles . \\n the contribution of @xmath281 is therefore @xmath283 where we use that the conditional probability is larger than @xmath284 using symmetry together with and , we get @xmath285 this completes the proof . \\n +   + using again lemma [ lem : fixation - condition ] and the large deviation estimates of lemma [ lem : weight ] , we deduce that the one - dimensional constrained voter model fixates whenever @xmath286 which , together with lemmas [ lem : expected - weight][lem : contribution-3 ] , gives the condition for fixation : @xmath287 letting again @xmath248 and taking @xmath249 , we obtain fixation whenever @xmath288 this gives fixation when @xmath0 is large and @xmath289 which completes the proof of theorem [ th : fixation].b . \\n in this last section , we assume , thus returning to slightly more general initial distributions , but specialize in the system with threshold one and four opinions , which is not covered by part b of the theorem . \\n note that , applying lemma [ lem : expected - weight ] with @xmath31 and @xmath32 , we obtain @xmath290 then , using that @xmath291 , we get @xmath292 in particular , using the same arguments as in the previous two sections , we deduce that the system with threshold one and four opinions fixates whenever @xmath293 to improve this condition to the one stated in the theorem , we follow the same strategy as in the previous section , namely we compute the contribution of the three events . using the specific value of the parameters allows us to significantly improve the lower bounds for the contribution of the three events . \\n this is done in the following three lemmas .      to simplify the notation \\n , we define @xmath295 and partition the event @xmath257 into two events distinguishing between two types of initial conditions that result in two different contributions : @xmath296 also , we let @xmath118 be the time of the first active arrow that either starts or points at @xmath68 . since two particles are eliminated on @xmath257 , the contribution of the event @xmath297 is given by @xmath298 now , we let @xmath299 be the distance between vertex @xmath55 and the rightmost agent with either initial opinion  1 or initial opinion  3 to the left of @xmath55 , i.e. , @xmath300 and observe that , in order to have a change of opinion at @xmath55 before time @xmath118 , there must be a sequence of at least @xmath299 arrows all occurring before time @xmath118 . summing over all possible positions of this rightmost agent and using that @xmath118 \\n is exponentially distributed with rate 4 , we obtain @xmath301 where the first term corresponds to the case where @xmath302 and is obtained by further conditioning on whether the arrow @xmath303 and the reverse arrow occur before time @xmath118 or not . combining our lower bound for the contribution of @xmath297 together with , we obtain @xmath304 repeating the same reasoning for the event @xmath305 gives @xmath306 conditioning on all possible values of @xmath299 where @xmath299 now keeps track of the position of the closest agent with opinion 2 to the left of @xmath55 , which is geometric with parameter @xmath21 , we get @xmath307 therefore , the contribution of the event @xmath305 is bounded by @xmath308 the lemma follows from the combination of and .      note that the set of initial configurations on the event @xmath132 is @xmath310 again , we let @xmath118 be the time of the first active arrow that either starts or points at @xmath68 . \\n since two active particles are eliminated on the event @xmath132 , we have @xmath311 using and as in the previous lemma gives @xmath312 this completes the proof . \\n the set of initial configurations is now @xmath314 note that the time @xmath118 of the first active arrow that either starts or points at @xmath68 is now exponentially distributed with rate two . \\n since two active particles are eliminated on @xmath277 , we have @xmath315 using the same reasoning as in but recalling that @xmath118 is now exponentially distributed with parameter two instead of four , we also have @xmath316 from which we deduce that @xmath313 this completes the proof .     +   + we refer the reader to figure [ fig : contribut ] for a plot of the expected value of @xmath317 and the lower bounds proved in lemmas [ lem : contribution-4][lem : contribution-6 ] with respect to the initial density @xmath21 . using again the same arguments as in the previous two sections \\n , we deduce that the one - dimensional constrained voter model with threshold one and four opinions fixates whenever @xmath318 which , recalling , using lemmas [ lem : contribution-4][lem : contribution-6 ] , and expanding and simplifying the expression above , gives the following sufficient condition for fixation : @xmath319 where @xmath320 to complete the proof of the theorem , we need the following technical lemma .      to begin with \\n , we introduce the polynomials @xmath323 and observe that the derivative of @xmath321 can be written as @xmath324 now , it is clear that @xmath325 in other respects , we have @xmath326 showing that @xmath327 is decreasing in the interval @xmath322 . therefore , the polynomial @xmath328 is concave in this interval , from which it follows that @xmath329 combining  , we deduce that @xmath321 is decreasing in @xmath322 . to prove that @xmath321 also has a unique root in this interval , we use its monotonicity and continuity , the fact that @xmath330 and the intermediate value theorem . \\n adamopoulos , a. , scarlatos , s. ( 2012 ) . \\n behavior of social dynamical models ii : clustering for some multitype particle systems with confidence threshold . \\n lecture notes in computer science , vol . \\n 7495 , pp . 151160 , springer , heidelberg 2012 .</td>\n",
              "      <td>the constrained voter model describes the dynamics of opinions in a population of individuals located on a connected graph . \\n each agent is characterized by her opinion , where the set of opinions is represented by a finite sequence of consecutive integers , and each pair of neighbors , as defined by the edge set of the graph , interact at a constant rate . \\n the dynamics depends on two parameters : the number of opinions denoted by @xmath0 and a so - called confidence threshold denoted by @xmath1 . \\n if the opinion distance between two interacting agents exceeds the confidence threshold then nothing happens , otherwise one of the two agents mimics the other one just as in the classical voter model . \\n our main result shows that the one - dimensional system starting from any product measures with a positive density of each opinion fluctuates and clusters if and only if @xmath2 . \\n sufficient conditions for fixation in one dimension when the initial distribution is uniform and lower bounds for the probability of consensus for the process on finite connected graphs are also proved .</td>\n",
              "    </tr>\n",
              "    <tr>\n",
              "      <th>3</th>\n",
              "      <td>normal liquids exhibit homogeneous behavior in their dynamical properties over length scales larger than the correlation length of density fluctuations . \\n for example , the stokes \\n einstein relation that relates the self  diffusion constant @xmath1 , viscosity @xmath9 , and temperature @xmath10 , d , [ se ] is usually accurate @xcite . \\n this relation is essentially a mean field result for the effects of a viscous environment on a tagged particle . in recent experimental studies \\n , it has been reported that the stokes \\n einstein relation breaks down as the glass transition is approached in supercooled liquid systems @xcite . \\n translational diffusion shows an enhancement by orders of magnitude from what would be expected from eq . \\n ( [ se ] ) @xcite . \\n here , we show that this breakdown is due to fluctuation dominance in the dynamics of low temperature glass formers . these pertinent fluctuations are dynamic heterogeneities @xcite . \\n thus , the stokes \\n einstein breakdown is one further example of the intrinsic role of dynamic heterogeneity in structural glass formers @xcite .    in the treatment \\n we apply , dynamic heterogeneity is a manifestation of excitation lines in space \\n time @xcite . \\n this picture leads to the prediction of dynamic scaling in supercooled liquids , @xmath11 . here , @xmath12 is the structural relaxation time for processes occurring at length scale @xmath13 , and @xmath14 is a dynamic exponent for which specific results have been established @xcite . \\n this picture and its predicted scaling results differ markedly from those derived with the view that glass formation is a static or thermodynamic phenomenon @xcite . \\n it also differs from mode coupling theory which predicts singular behavior at non  zero temperature @xcite . \\n this paper is organized as follows . in sec . \\n [ sec2 ] , we introduce our model for a supercooled liquid with a probe molecule immersed in the liquid . \\n simulation results are given in secs . \\n [ sec3 ] and [ sec4 ] . \\n section [ sec4 ] also provides analytical analysis of the diffusion coefficient and the stokes  einstein violation , and explains the origin of the decoupling of transport coefficients based on the excitation line picture of trajectory space . \\n comparison of our theory with recent experimental results is carried out in sec . \\n we conclude in sec . \\n [ sec6 ] with a discussion . \\n we imagine coarse graining a real molecular liquid over a microscopic time scale ( e.g. , larger than the molecular vibrational time scale ) , and also over a microscopic length scale ( e.g. , larger than the equilibrium correlation length ) . in its simplest form , \\n we assume this coarse graining leads to a kinetically constrained model @xcite with the dimensionless hamiltonian , h=_i=1^n n_i ,  ( n_i=0 , 1 ) . \\n [ hamil ] here , @xmath15 coincides with lattice site @xmath16 being a spatially unjammed region , while @xmath17 coincides with it being a jammed region . \\n we call @xmath18 the `` mobility field '' \\n . the number of sites , @xmath19 , specifies the size of the system . from eq . \\n ( [ hamil ] ) , thermodynamics is trivial , and the equilibrium concentration of defects or excitations is c = n_i= 11 + ( 1/ ) , where @xmath20 is a reduced temperature . we make explicit connection of @xmath20 with absolute temperature later when comparing our theory with experimental results . \\n the dynamics of these models obey detailed balance and local dynamical rules . \\n namely , @xmath21 { } \\\\ \\end{array } n_i=1 , \\ ] ] where the rate constants for site @xmath16 , @xmath22 and @xmath23 , depend on the configurations of nearest neighbors . \\n for example , in dimension @xmath5 , @xmath24 where @xmath25 reflects the type of dynamical facilitation . in the fredrickson  andersen ( fa ) model @xcite , a state change is allowed when it is next to at least one defect . the facilitation function in this case \\n is given by , @xmath26 in the east model @xcite , dynamical facilitation has directional persistence . \\n the facilitation function in this case is @xmath27 in order to study translational diffusion in supercooled liquids , we extend the concept of dynamic facilitation to include a probe molecule . \\n the dynamics of a probe will depend on the local state of the background liquid . \\n when and where there is no mobility , the diffusive motion of the probe will be hindered . when and where there is mobility , the probe molecule will undergo diffusion easily . as such , in a coarse  grained picture \\n , the probe molecule is allowed to jump from lattice site @xmath16 to a nearest neighbor site when site @xmath16 coincides with a mobile region , @xmath15 . in order to satisfy detailed balance \\n , we further assume that the probe molecule can move only to a mobile region , i.e. , x(t+t ) = x(t ) x n_x n_xx , where @xmath28 denotes the position of the probe at time @xmath29 . \\n units of time and length scales are set equal to a monte carlo sweep and a lattice spacing , respectively . \\n using the rules described in sec . \\n [ sec2 ] , we have performed monte carlo simulations of diffusion of a probe molecule in the fa and east models for various temperatures . for the purpose of numerical efficiency , \\n we have used the continuous time monte carlo algorithm @xcite . in the all systems , @xmath19 was chosen as @xmath30 , and the simulations were performed for total times @xmath31 , with @xmath2 being the relaxation time of the model . \\n averages were performed over @xmath32 to @xmath33 independent trajectories .    in fig . \\n [ fig1 ] , we show typical trajectories of probe molecules in the fa and east models . in the high temperature case , \\n trajectory space is dense with mobile regions and there are no significant patterns in space  time . as such , \\n the dynamics is mean  field like . \\n it is for this reason that the relaxation time in this case is inversely proportional to the equilibrium probability of excitation , @xmath34 ( see , for example , ref . \\n the probe molecule executes diffusive motion , without being trapped in immobile regions for any significant period of time . \\n the low temperature dynamics is different . \\n mobility is sparse , defects tend to be spatially isolated at a given time , and trajectory space exhibits space  time patterns . \\n see fig . \\n [ fig1](b ) and ( c ) . \\n because of the facilitation constraint , an immobile region needs a nearest mobile region to become mobile at a later time . \\n the excitations therefore form continuous lines and bubble  like structures in trajectory space . while inside a bubble , the probe molecule will be immobilized . \\n see , for example , the segment of the trajectory of a probe molecule for @xmath35 in fig . \\n [ fig1](b ) . due to exchanges between mobile and immobile regions , \\n an immobile region can become mobile after a period of time . at that stage \\n the probe molecule can perform a random walk until it is again in an immobile region . \\n the motion of a probe molecule will manifest diffusive behavior over a time long enough for many dynamical exchanges to occur . in the east model at low temperatures such as pictured in fig . \\n [ fig1](c ) , the bubbles in space \\n time form hierarchical structures @xcite . \\n figure  [ fig2 ] plots mean square displacements of probe molecules for the fa and east models for three different cases pictured in fig .  [ fig1 ] . in the high temperature case \\n , the mean square displacement reaches its diffusive linear regime after a very short transient time . in the low temperature case , the probe molecule in the east model case reaches the diffusive regime after a longer time and over a larger length scale than that in the fa model with the same reduced temperature . \\n figure  [ fig3 ] plots the diffusion coefficient of a probe molecule for the fa and the east models . \\n the diffusion coefficient is determined from the mean square displacement , d=_t ^2 t , where @xmath36 . \\n error estimates for our simulations are no larger than the size of the symbols .    in the fa model , \\n the diffusion coefficient exhibits arrhenius behavior for @xmath37 . \\n this behavior reflects the fact that relaxation dynamics in the fa model is similar to that of a strong liquid . in this regime , over more than 4 orders of magnitude in @xmath1 , the slope of @xmath38 vs \\n @xmath39 is close to 2 . \\n this result is consistent with the expected low temperature scaling , \\n d_fa ~c^2 ~(-2/ ) , [ dfa ] as discussed in the next subsection . in the east model case , also pictured in fig . \\n [ fig3 ] , the diffusion coefficient decreases more quickly than arrhenius . \\n this super  arrhenius behavior is due to the hierarchical nature of dynamics in the east model @xcite . \\n comparing the diffusion coefficients with the relaxation times of the background liquids demonstrates stokes \\n einstein violation in both models . \\n the relaxation times , @xmath2 , of the fa and the east models at different temperatures have been determined in prior work @xcite . when the stokes \\n einstein relation is satisfied , @xmath40 . \\n this behavior occurs in the fa and east models when @xmath41 , but fig . \\n [ fig4 ] shows that @xmath42 is enhanced from that behavior by 2 or 3 orders of magnitude when @xmath43 . \\n bear in mind , these deviations from stokes \\n einstein are @xmath5 results \\n . the appropriate generalization of the fa model to @xmath7 does not exhibit such large deviations . on the other hand \\n , we expect that generalizations of the east model , which is hierarchical and therefore fragile , will have weak dimensional dependence and continue to exhibit large deviations for @xmath7 . \\n we turn to the arguments that explain these claims now .      for high temperatures , the local mobility field will tend to be close to its mean value , @xmath34 . \\n as such , both the relaxation mechanism of the material and the diffusional motion of the probe molecule make use of the same local mobility fields . for this reason , the diffusion coefficient and the relaxation time scale \\n are strongly coupled in this regime , leading to the stokes \\n einstein relation .    at low temperatures , however , \\n the dynamics of the system is not so simply related to the mean mobility field . here , the fluctuations of bubble structures dominate . \\n the relaxation time of the background liquid will approximately scale as the longest temporal extension of bubbles . \\n the _ persistence time _ of an individual lattice site , @xmath44 , is the time for which that site makes its first change in state . \\n its typical size will be intimately tied to the structural relaxation time of the liquid . for the fa model in @xmath5 , ~t_pers ~c^-3 . \\n [ taufa ] see , for example , refs . \\n @xcite . \\n this result is consistent with a simple argument concerning diffusive motions of excitation lines in the low temperature fa model @xcite . in particular , the structural relaxation times in the fa model is given by the time in which a typical bubble structure looses its identity through wandering motions of excitation lines . \\n the excitation line has a local diffusivity of @xmath45 . \\n ( we use caligraphic @xmath46 to distinguish this diffusion constant for excitations from that for particles , @xmath1 . ) in order to form a bubble , an excitation line needs to wander distance of the order of the typical length between defects , @xmath47 . \\n therefore , the mean relaxation time is given by @xmath48 . \\n when the probe molecule is at the boundary of a bubble , it may not need to wait until the bubble closes in order to undergo diffusion ; rather , it can remain within mobile cells and diffuse around the boundary of the bubbles . in this way \\n , translational diffusion will be more facilitated than structural relaxation , leading to an enhanced diffusion in the fluctuation dominated low temperature region . \\n specifically , consider the dynamical _ exchange times _ , i.e. , the times between flipping events for a given lattice site . \\n see fig . \\n @xmath49 is such a time duration for an @xmath17 state and @xmath50 is such a time duration for an @xmath51 state . \\n the probe molecule can move only while in a mobile region . \\n further , the mean square displacement of the probe will be proportional to the number of diffusive steps that a probe molecule will take during the trajectory , @xmath52 , ^2~ ~tt_0 + t_1 . \\n [ msqd - fa ] here , @xmath53 is the length of a long trajectory in the fa model . \\n the average duration of the defect state , @xmath54 , is inversely proportional to the probability of a lattice site being mobile , @xmath34 , times the flip rate , @xmath23 . since @xmath55 \\n , we have , t_1 ~c^-1 . \\n [ t1 ] from detailed balance , therefore , t_0 ~c^-2 . [ t0 ] since @xmath56 in the low temperature region , eqs . \\n ( [ msqd - fa])([t0 ] ) give d_fa ~(x)^2 ~1t_0 ~c^2 . \\n this result explains eq . \\n ( [ dfa ] ) . together with eq . \\n ( [ taufa ] ) , it leads to d_fa ~^- , with @xmath57 in the @xmath5 fa model case . \\n this scaling is to be contrasted with the stokes \\n einstein result , @xmath58 .    numerical simulation @xcite and \\n renormalization group analysis @xcite of higher dimension generalizations of the fa model indicate that for @xmath7 , @xmath59 . \\n however , the scaling @xmath60 remains true for all dimensions as it is based solely on detailed balance . \\n thus , for @xmath7 , @xmath61 . in other words \\n , there is only a weak breakdown in the stokes \\n einstein relation for strong liquids in @xmath7 .    in the east model case , \\n both the diffusion coefficient and the relaxation time show super - arrhenius behavior . \\n the hierarchical , fractal structure of pattern development in trajectory space for the east model does not allow a simple scaling analysis of the diffusion coefficient , and it is not obvious whether temperature independent scaling exists . \\n one can define a temperature dependent scaling exponents , @xmath62 and @xmath63 , @xmath64 so that d_east ~^-()/z ( ) . \\n interestingly , our numerical results indicate that @xmath65 is independent of temperature as shown in fig . \\n this exponent , @xmath66 for the @xmath5 east model , is very close to what many experiments and simulations have found for three  dimensional glass forming liquids . \\n for example , a recent experiment finds that @xmath67 in the self  diffusion of _ \\n tris_-naphthylbenzene(tnb ) @xcite . \\n it was found that @xmath68 in a molecular dynamics simulation of lennard  jones binary mixture @xcite and a recent detailed scaling analysis of numerical results shows @xmath69 @xcite . \\n presumably , such good agreement of scaling relation between the @xmath5 east model and higher dimension systems arises due to directional persistence of facilitation in the fragile liquid @xcite . \\n this persistence in higher dimensions causes motion to be effectively one  dimensional @xcite . \\n therefore , dimensionality is not very significant for fragile glass formers . as such , for fragile systems , we expect that the scaling relation of the stokes \\n einstein violation will be reasonably well described by the @xmath5 east model . \\n based on this expectation , we further purse the comparison between theory and experiment . \\n swallen _ et al .  _ \\n @xcite measured the self  translational diffusion coefficient of tnb near the glass transition temperature . \\n they observed an increase of @xmath70 from its high temperature limit by a factor of 400 near the glass transition temperature . in order to compare our results with these experiments , \\n we need to determine the excitation concentration , @xmath34 , as function of temperature . \\n since tnb behaves as a fragile liquid , we determine the excitation concentration as a function of temperature by fitting the viscosity data of tnb @xcite with the generalization of the east model formulas to higher dimensions @xcite . \\n namely , ^2 , [ lntau ] where @xmath71 is the number of equally likely persistence directions on a cubic lattice , and ( c)= ( c_r)-j(1t-1t_r ) . \\n [ lnc ] the parameter @xmath72 is the energy scale associated with creating a mobile region from an immobile region , and @xmath73 is an appropriate reference temperature . \\n details on the fitting can be found in ref . \\n @xcite . taking @xmath74 ( the cubic lattice value ) and @xmath73 as the temperature \\n at which @xmath75 is half the value of @xmath76 , we determine that @xmath77 , and @xmath78 . the reduced temperature , @xmath20 of the east model is related to absolute temperature by = j(1t-1t_r ) + ( g / c_r ) . \\n once we have determined the excitation concentration as a function of the temperature , we can compare experimental data with our computed results for the stokes \\n einstein violation in the east model case . based on the argument that the scaling relation of the stokes \\n einstein violation ( @xmath79 ) remains robust in higher dimensions and from the dimensional dependence of eq . \\n ( [ lntau ] ) , we expect . \\n [ east3d ] in fig . \\n [ fig7 ] we use this relationship to compare the extent of the stokes \\n einstein violation of the experimental system with our east model results . \\n the agreement between the two appears excellent . \\n there have been previous theoretical studies on the violation of the stokes \\n einstein relation in supercooled liquid systems . for example , kivelson and tarjus have argued that the stokes \\n einstein violation can be understood from their `` frustration  limited domain '' model for supercooled liquids @xcite . assuming a distribution of local relaxation times associated with domain structures \\n , this model describes the translational diffusion and viscosity as corresponding to different averaging process of such a distribution . \\n their idea contrasts to ours in that the domain structure in their work is purely static , and the exchange between different domains are not considered . \\n hodgdon and stillinger have proposed a fluidized domain model @xcite . in their work \\n , it is assumed that the system consists of a sparse collection of fluid  like domains in a background of more viscous media , and fluid  like domains appear and disappear with a finite life  time and rate . \\n relaxation times are determined by the rate of appearance of the fluid  like domains , while translation diffusion also depends on the life \\n time of the domains . to the extent that these domains refer to space  time and not simply space , this picture is not inconsistent with ours . \\n xia and wolynes have applied the so  called `` random first order transition theory '' @xcite to the hodgdon \\n stillinger model @xcite . in this case , the picture is both mean field and static and decidedly contrary to our fluctuation dominated and dynamic view .    from the perspective that stokes \\n einstein violation is a manifestation of fluctuation dominated dynamics , one expects that similar decoupling behavior occurs between other kinds of transport properties near the glass transition . \\n the extent to which such decoupling can appear depends upon microscopic details in the specific transport properties and materials under study . \\n for example , molecular rotations of a probe will be coupled to the mobility field , but less so than translations . \\n indeed , single molecule experiments indicate that rotations persist in both mobile and immobile regions of a glass former @xcite . \\n rotational motions can therefore average the effects of dynamic heterogeneity to a greater extent than translational motions . \\n as such , decoupling of rotational relaxation from structural relaxation can be more difficult to detect than violations of the stokes  einstein relation . \\n precisely how such effects might be detected seems worthy of further theoretical analysis . \\n we are grateful to m.d . \\n ediger , d.a . \\n vandenbout , l. berthier and s. whitelam for discussions . \\n this work was supported at berkeley by the miller research fellowship ( yj ) and by the us department of energy grant no . \\n de - fg03 - 87er13793 ( dc ) , at oxford by epsrc grant no.gr/r83712/01 and the glasstone fund ( jpg ) , and at nottingham by epsrc grant no . \\n gr / s54074/01 ( jpg ) .</td>\n",
              "      <td>by applying the concept of dynamical facilitation and analyzing the excitation lines that result from this facilitation , we investigate the origin of decoupling of transport coefficients in supercooled liquids . \\n we illustrate our approach with two classes of models . \\n one depicts diffusion in a strong glass former , and the other in a fragile glass former . at low temperatures , both models exhibit violation of the stokes - einstein relation , @xmath0 , where @xmath1 is the self diffusion constant and @xmath2 \\n is the structural relaxation time . in the strong case , the violation is sensitive to dimensionality @xmath3 , going as @xmath4 for @xmath5 , and as @xmath6 for @xmath7 . in the fragile case , however , we argue that dimensionality dependence is weak , and show that for @xmath5 , @xmath8 . \\n this scaling for the fragile case compares favorably with the results of a recent experimental study for a three - dimensional fragile glass former .</td>\n",
              "    </tr>\n",
              "    <tr>\n",
              "      <th>4</th>\n",
              "      <td>the dynamic of a small quantum system interacting weakly with uncontrollable degrees of freedom is well understood when a markovian approximation applies . in this situation , after tracing - out the environment , the system density matrix evolution can be well approximated by a lindblad equation @xcite .    besides that the applicability of the markovian approximation range over many areas of physics @xcite there exist several real systems whose dynamics present strong departures from it . \\n the main signature of this departure is the presence of strong non - exponential decay behaviors , such as power law and stretched exponential . \\n some examples are nanocrystal quantum dots under laser radiation schlegel , brokmann , grigolini , superconducting qubits makhlinreport , makhlin , falci , spin environments @xcite , dephasing in atomic and molecular physics @xcite , electron transfer and exciton dynamics in proteins @xcite , and molecular systems maintained in a glassy environment @xcite , to name but a few . \\n these and another specific experimental situations rise up the necessity of finding formalism and effective evolutions able to describe the corresponding non - markovian dynamics .    when the environment is modeled as an infinite set of normal modes , departure from a markov approximation can be related to the corresponding spectral density function . \\n this situation was extensively studied for the spin - boson and boson - boson models , where exacts solutions are available leggett , grifoni , lang , hanggi , milena . \\n exact solutions can also be formulated for more general systems . \\n nevertheless , due to the huge analytical and numerical efforts needed for getting the non - markovian system dynamics , alternative numerical methods based in a special decomposition of the spectral density function were formulated @xcite . \\n anomalous system dynamics also arise from a random matrix modeling of the system - environment interaction @xcite . \\n this approach naturally applies when describing environments characterized by a complex dynamics as for example chaotic ones . \\n outside from a microscopic point of view , there exist an increasing interest in describing non - markovian effects in open quantum systems by introducing memory contributions in lindblad evolutions wilkie , budini , cresser , lidar . \\n this procedure provide easy manageable dynamics . \\n while most of these models are phenomenological , in this paper we will relate the presence of strong memory effects in the standard lindblad theory @xcite  with the microscopic interaction of a system with a complex structured environment . \\n we will base our considerations in a splitting of the full hilbert space of the bath in a direct sum of sub - reservoirs , constructed in such a way that each one guarantees the conditions for the applicability of a markov approximation . \\n our motivation for formulating this splitting comes from systems embedded in glassy environments , where the underlying disorder produce localized bath states , inducing a natural shell structure of modes , each set having a different coupling strength with the system @xcite . \\n thus , we associate a different markovian sub - bath to each set of states . \\n as we will demonstrate , the splitting assumption allows us to generalize the usual born - markov approximation , which in a natural way leads to the formulation of lindblad equations characterized by a random dissipative rate . as is well known from a classical context , master equations with random rates @xcite are useful for describing strong non - markovian effects @xcite . here \\n we will demonstrate that the same scheme can also be applied in a quantum context under the previous conditions , i.e. , a complex environment under the splitting condition . \\n as an example , we will study the anomalous dissipative dynamics of a quantum tunneling system described in a two level approximation @xcite . \\n strong non - exponential behaviors , such as stretched exponential and power law , arise from the interplay between the unitary hopping dynamics and the memory effects induced by the environment . the conditions under which our modeling can be mapped to the spin - boson model and stochastic dynamics are established . in this context , the differences between our framework and other approaches @xcite introduced to deal with non - markovian environments are established . \\n in general , the evolution of a system interacting with a complex environment can not be described in a markovian approximation . while a general treatment is clearly not possible , when the splitting condition applies , for weak system - bath interactions , the reduced dynamics can be described through a generalization of the born - markov approximation . \\n we start by assuming a full microscopic hamiltonian description@xmath0where @xmath1 correspond to the hamiltonian of a system s , and @xmath2 correspond to the hamiltonian of the bath b. the term @xmath3  describes their mutual interaction , with the operators @xmath4 and @xmath5 acting on the system and bath hilbert spaces respectively .    in an interaction representation with respect to @xmath6 , \\n the total density matrix @xmath7 evolves as@xmath8,\\]]where @xmath9 is the interaction hamiltonian in the heisenberg representation . integrating formally this equation , and substituting the solution in it \\n , the evolution of the reduced system density matrix @xmath10 can be written as@xmath11\\ } ,   \\label{exact}\\]]where , as usual , a first order contribution was discarded after assuming @xmath12=0 $ ] . from this evolution , \\n the well known born - markov approximation can be deduced blum , cohen , carmichael , weiss . \\n the born approximation consists into assume , at all times , an uncorrelated structure for the total density matrix@xmath13where @xmath14 define a stationary state of the bath . \\n this assumption is consistent up to second order in the interaction hamiltonian . \\n when the decay of the bath correlation defines the small time - scale of the problem , after introducing eq . \\n ( [ born ] ) in eq . \\n ( [ exact ] ) , the markovian approximation leads to a closed local in time density matrix evolution . \\n we remark that the born - markov approximation does not rely in any specific model of bath dynamics @xcite , such as an infinite set of harmonic oscillators . \\n in fact , its master equation is independent of model assumptions used in its derivation @xcite . \\n now we consider a complex environment for which the previous approximations are not valid . as is usual \\n when dealing with complex environments kuznezov , dcohen , gaspard , kottos , instead of defining the bath hamiltonian @xmath15 as an infinite set of normal modes , here we specify it through its eigenstates basis @xmath16 , which in a weak interaction limit , results unmodified by the interaction with the system . as a central hypothesis \\n , we will assume that , while the full action of the environment can not be described in a markov approximation , it is possible to split the full hilbert space of the bath as a direct sum of subspaces , in such a way that each one defines a sub - reservoir able to induce by itself a markovian system evolution @xcite . \\n these hypotheses are the main assumptions that allow us to formulate our results .    in conformity with the splitting condition \\n , we write the interaction hamiltonian as a direct sum of sub - hamiltonians@xmath17where @xmath18 here , each operator @xmath19 defines the interaction between the system and each sub - reservoir @xmath20    in order to describe the joint action of all sub - reservoirs over the system , instead of the uncorrelated form eq . \\n ( [ born ] ) , we introduce the _ _ generalized born - approximation__@xmath21where @xmath22=1,$ ] and we have defined@xmath23@xmath24 is the base of eigenvectors that span the subspace corresponding to each sub - reservoir . \\n therefore , each contribution in eq . \\n ( [ rhotot ] ) consists in the external product between a system state @xmath25 and the projection of the stationary bath state @xmath14 over each subspace @xmath26 . in physical terms , each state @xmath27 takes in account the dissipative effects induced by each sub - reservoir .    after introducing eq . \\n ( [ rhotot ] ) in eq . \\n ( [ exact ] ) , we get the approximated evolution@xmath28\\ } ,   \\notag \\end{aligned}\\]]where @xmath29 means a trace operation with the states @xmath24 corresponding to each subspace . \\n furthermore , we have introduced the sub - bath density states @xmath30 where@xmath31the normalization condition @xmath32=1 $ ] implies the relation @xmath33 . \\n thus , the set @xmath34 can be seen as a set of probabilities defined by the weight of each subspace in the total stationary bath state .    from eq . \\n ( [ rhotot ] ) we can write@xmath35\\approx \\sum_{r}p_{r}\\rho _ { r}(t ) . \\n \\label{sum}\\]]then , the evolution eq . \\n ( [ borngeneral ] ) is in fact a linear combination of the evolutions corresponding to the set @xmath36 , each one participating with weight @xmath37 . after introducing the _ \\n markovian approximation _ \\n @xcite to the evolution of each state @xmath25 ,  in a schrdinger representation , we get@xmath38-\\left (    \\frac{1}{\\hbar } \\right ) ^{2}\\int_{0}^{\\infty } dt^{\\prime }   \\label{markov } \\\\   &amp; &amp; \\mathrm{tr}_{b_{r}}\\{[h_{i_{r}},[h_{i_{r}}(-t^{\\prime } ) , \\rho   _ { r}(t)\\otimes \\rho _ { b_{r } } ] ] . \\n \\notag \\end{aligned}\\]]this evolution correspond to the usual born - markov approximation when considering a bath consisting only of the subset of states @xmath39 and characterized by the stationary state @xmath40 . \\n the system density matrix is defined by the linear combination eq . \\n ( [ sum ] ) . \\n the evolution eq . \\n ( [ markov ] ) , disregarding transients of the order of the sub - bath hamiltonian correlation time , can be always well approximated by a lindblad equation @xcite@xmath41+\\gamma _ { r}\\mathcal{l}%   [ \\rho _ { r}(t ) ] ,   \\label{lindblad}\\]]where @xmath42=(-i/\\hbar ) [ h_{s},\\bullet ] $ ] is the system liouville superoperator and the lindblad superoperator is defined by@xmath43=\\sum_{\\alpha } \\frac{1}{2}([v_{\\alpha } , \\bullet   v_{\\alpha } ^{\\dagger } ] + [ v_{\\alpha } \\bullet , v_{\\alpha } ^{\\dagger } ] ) .\\]]as the underlying microscopic interaction between the system and the environment is the same in each subspace , the set of operators @xmath44  does not depend on index @xmath26 . \\n nevertheless , each subspace has associated a different characteristic dissipative rate @xmath45 . as this rate arises from the interaction of the system with the manifold of states @xmath24 , \\n consistently with the fermi golden rule @xcite , it is proportional to the characteristic interaction strength of each subspace , denoted as @xmath46 multiplied by the corresponding density of states @xmath47 evaluated in a characteristic frequency @xmath48 of the system , i.e. , @xmath49 . \\n correspondingly , the system state follows from the average@xmath50random rate equations were extensively used to model classical anomalous diffusion processes in disordered media klafter , bernasconi , odagaki , miguel . here \\n , we have derived a similar structure for a different physical situation , i.e. , quantum systems embedded in a complex structured environment .    as in a classical context , while the density matrixes @xmath25 follows a markovian evolution , the average state @xmath51 evolve with a non - markovian evolution . \\n this evolution can be easily obtained in a laplace domain , where the average eq . \\n ( [ average ] ) takes the form@xmath52with @xmath53 being the laplace variable , and we have used the solutions @xmath54\\rho _ { s}(0).$ ] consistently with the uncorrelated initial condition @xmath55 , there not exist any statistical correlation between @xmath56 and the random rate set . \\n thus , the average evolution can be obtained without appealing to a projector technique klafter , bernasconi , odagaki , miguel . \\n in fact , after introducing in eq . \\n ( rholaplace ) the identity in the form @xmath57\\rangle ^{-1}$ ] , it is immediate to get the deterministic , closed , non - markovian evolution equation@xmath58+\\int_{0}^{t}d\\tau \\,% \\n \\mathbb{l}(t-\\tau ) [ \\rho _ { s}(\\tau ) ] ,   \\label{nomarkov}\\]]where the superoperator @xmath59 \\n is defined in the laplace domain by the equation@xmath60=\\langle   g_{r}(u)\\rangle \\mathbb{l}(u)[\\bullet ] . \\n \\label{memory}\\]]depending on the set @xmath61 , eq . \\n ( [ nomarkov ] ) may lead to the presence of strong non - markovian decay behaviors in the system dynamics . \\n this characteristic originates from the entanglement of the system which each sub - reservoir , situation explicitly introduced by eq . \\n ( rhotot ) . \\n an example of complex structured environment where the generalized born - markov applies straightforwardly is a bath hamiltonian whose eigenvectors can be labelled with two indexes @xmath62 . \\n the index @xmath63 is continuous , and for each @xmath26 the corresponding sub - manifold of states is able to induce a different system markovian - decay . \\n the difference between the markovian dynamics may originates in the coupling strength of each sub - manifold with the system . on the other hand \\n , it may originates due to strong variations of the bath density of states with index @xmath26 . \\n the system dynamics follows as a superposition of markovian dynamics whose weights are taken in account through the generalized born approximation eq . \\n ( [ rhotot ] ) . \\n if the decay induced by each sub - manifold is the same , the generalized born approximation reduces to the usual one , and then a markovian evolution is obtained . \\n further examples can be established in the context of random band - matrix models @xcite , where the markovian sub - baths , for example , may be associated to subspaces with a different characteristic bandwidth . \\n classical master equations with random rates are characterized by equations similar to those obtained previously . \\n nevertheless , as in general the underlying numbers of states is infinite , some kind of approximation is necessary in order to obtain the operator @xmath59 , as for example an effective medium approximation @xcite . here \\n , we introduce a similar approximation in order get a general characterization of the dynamics . \\n thus , in eq . \\n ( [ memory ] ) we discard the dependence introduced by the lindblad superoperator @xmath64 in the propagator @xmath65 , i.e. , @xmath66 . \\n then , we get the approximated solution @xmath67 from where it follows the evolution@xmath68+\\int_{0}^{t}d\\tau k(t-\\tau ) e^{(t-\\tau ) \\mathcal{l}_{h}}\\mathcal{l}%   [ \\rho _ { s}(\\tau ) ] . \\n \\label{aproximada}\\]]in this approximation all information about the random rate is introduced through the kernel function@xmath69as in a classical context , this kernel can be associated with a waiting time distribution @xmath70  and a survival probability @xmath71  defined by@xmath72 in classical master equations , these objects define a continuous time random walk @xcite . in the quantum case , a similar stochastic dynamics can be constructed @xcite . \\n it consists in the application at random times of the superoperator @xmath73 , implying the transformation @xmath74 $ ] , while during the intervals between these disruptive actions the system evolves with its unitary dynamics , @xmath75 $ ] . \\n the intervals between the successive applications of @xmath76 follows from the waiting time distribution @xmath70 . \\n the function @xmath77 defines the corresponding survival probability , @xmath78 . \\n thus , the average over different realizations of the random times can be written as@xmath79 . \\n \\label{estocastica } \\end{aligned}\\]]from here , in a laplace domain , it is straightforward to recuperate the evolution eq . \\n ( [ aproximada ] ) . when @xmath80i , with @xmath81 a completely positive superoperator @xcite , a similar stochastic dynamics can be formulated after introducing a limit procedure @xcite . \\n we remark that the stochastic interpretation [ eq . \\n ( [ estocastica ] ) ] was constructed after associating to the kernel @xmath82 a waiting time distribution and a survival probability , eq . \\n ( [ survival ] ) . \\n this association does not rely in the generalized born - markov approximation , neither it was deduced from a conditional continuous time measurement theory  @xcite . \\n therefore , it is not clear if one can associate to the stochastic dynamics a random signal of a measurement apparatus . if this is the case , contradictions between environmental decoherence and wave - function collapse may arise  @xcite . \\n as an example of our formalism , in this section we will characterize the dissipative dynamics of a quantum tunneling system described in a two level approximation @xcite and driven by a complex environment . \\n then , the system hamiltonian can be written as @xmath83 the first term , proportional to the @xmath84-pauli matrix @xmath85 define the energy of the effective levels , and the second one , proportional to the @xmath86-pauli matrix @xmath87 , introduce the reversible hopping between the two effective states . \\n the complex environment will be represented by the lindblad superoperator@xmath43=\\frac{1}{2}([\\sigma _ { z}\\bullet , \\sigma _ { z}]+[\\sigma   _ { z},\\bullet \\sigma _ { z } ] ) ,   \\label{lindblad}\\]]and an arbitrary set @xmath88 of random rates and weights . \\n for fixed rate , this superoperator induces a dynamics equivalent to a thermal environment in a high temperature limit @xcite . \\n the evolution of the system density matrix is defined by eqs . \\n ( [ nomarkov ] ) and ( [ memory ] ) . here \\n , we write the evolution in terms of the components of the bloch vector , which are defined by the mean value of the pauli matrixes , @xmath89 , with @xmath90 @xmath91 and @xmath84 . \\n we get    [ bloch ] @xmath92thus , the system evolution is completely characterized by three memory kernels @xmath93 , @xmath94 , and @xmath95 . in appendix a , we give the exact expressions of these kernels for arbitrary random rates , joint with the kernels that arise from the effective approximation eq . \\n ( [ aproximada ] ) . from eq . \\n ( [ bloch ] ) it is straightforward to write the system density matrix evolution [ eq . \\n ( [ nomarkov ] ) ] as a sum of lindblad superoperators , each one characterized by a different kernel . \\n when the hopping frequency is zero , @xmath96 , the dynamics reduce to a dispersive one . \\n thus , the coherences decay continuously while the population of each effective level remains constant . in this limit , from appendix a , for arbitrary set @xmath61 we get the exact kernels    [ kerneldispersivo ] @xmath97 , \\\\   \\gamma _ { y}(t ) &amp; = &amp; k(t)\\cos [ \\omega _ { a}t ] , \\\\   \\upsilon ( t ) &amp; = &amp; k(t)\\sin [ \\omega _ { a}t ] . \\n \\end{aligned}\\]]where @xmath82 is defined in the laplace domain by eq . \\n ( [ k(u ) ] ) . \\n we note that these kernels also arise from the effective approximation eq . \\n ( aproximada ) , indicating that for @xmath96 , both evolutions coincide .    from eqs . \\n ( [ bloch ] ) , the exact solution of the bloch vector is given by    [ disperso ] @xmath98s_{x}(0)-\\sin [ \\omega   _ { a}t]s_{y}(0)\\},\\ \\ \\ \\ \\ \\ \\ \\   \\\\ \\n s_{y}(t ) &amp; = &amp; p_{0}(t)\\{\\sin [ \\omega _ { a}t]s_{x}(0)+\\cos [ \\omega   _ { a}t]s_{y}(0)\\},\\ \\ \\ \\ \\ \\ \\ \\   \\\\ \\n s_{z}(t ) &amp; = &amp; s_{z}(0 ) , \\end{aligned}\\]]where @xmath71 is the survival probability defined by its laplace transform eq . \\n ( [ survival ] ) , which in the time domain reads @xmath99.$ ] consistently , we note that the exact solutions eqs . \\n ( [ disperso ] ) correspond to an average over markovian solutions , each one characterized by a rate @xmath45 and participating with weight @xmath37 . depending on the distribution of the dissipation rate \\n , arbitrary forms of the decay can be obtained from this average over exponential functions . \\n hence the non - markovian behavior can be observed in the relaxation of the density matrix to the stationary state . \\n the form of the set @xmath61 depends on the specific structure of the complex environment . here \\n , we will determine this set in a phenomenological way as a function of the system decay behavior . \\n we will be interested in obtaining anomalous decay dynamics such as _ power law_. a possible set consistent with this decay is    @xmath100,\\;\\;\\;\\;\\;\\;p_{r}=(1-e^{-a})\\exp [ -ar ] ,   \\label{expo}\\ ] ]    where @xmath101,$ ] @xmath102 scale the random rates , and the constants @xmath103 and @xmath104 measure the exponential decay of the random rates and their corresponding weights . with these definitions , it is simple to demonstrate that after a transient of order @xmath102 , the waiting time distribution and its associated survival probability , eq . \\n ( [ survival ] ) , present a power law decay behavior @xcite , @xmath105 , and @xmath106 where @xmath107 . \\n clearly , this behavior is reflected in the system dynamics .    , @xmath108 , @xmath109 , @xmath110 , @xmath111 , and the markovian limit @xmath112 . in all cases \\n we take @xmath113.,height=272 ]    when @xmath114 , the kernel @xmath82 corresponding to the set eq . \\n ( expo ) can be well approximated by the expression@xmath115with the definitions@xmath116 the scaling of these parameters can be motivated by considering a two dimensional set of random rates @xcite . from eq . \\n ( [ k(u ) ] ) and ( [ survival ] ) , the waiting time distribution and its associated survival probability can be obtained as @xmath117from here , is it is simple to proof that @xmath118 is a completely monotone function @xcite , which implies that @xmath71 decays in a monotonous way or equivalently , @xmath119 .    in figure 1 \\n we plot the survival probability @xmath71 by assuming the kernel eq . \\n ( [ kernel ] ) for different values of @xmath120 . \\n we note that in a short time regime , the decay is an exponential one , while in an asymptotic regime a power law behavior is present@xmath121,\\ \\ \\ \\ \\ \\ \\ \\ \\ \\ \\n p_{0}(t)\\simeq \\frac{%   \\beta ^{1-\\alpha } } { \\gamma \\gamma ( 1-\\alpha ) } \\frac{1}{t^{\\alpha } } , \\]]where @xmath122 is the gamma function . \\n these asymptotic behaviors follows immediately from eq . \\n ( [ sur ] ) . when the dispersion of the random rate @xmath123 is zero @xmath124 , consistently the dynamics reduce to a markovian one , @xmath125 , which implies the pure exponential decay @xmath126 $ ] and @xmath127 $ ] .    in the next subsection \\n we will characterize the tunneling dynamics by assuming a complex environment characterized by the random rate set eq . \\n ( expo ) or equivalently by the kernel eq . \\n ( [ kernel ] ) .      here \\n we will analyze the tunneling dynamics for a symmetric case @xmath128 , which arise when the two effective levels have the same energy . from appendix a , the exact kernels read    [ kernelhoping ] @xmath129as before , the kernel @xmath130 is defined by eq . \\n ( [ k(u ) ] ) . the exact solution of the bloch vector can be obtained in a laplace domain . \\n we get    [ hoping ] @xmath131s_{z}(0)+\\delta s_{y}(0)\\},\\ \\ \\   \\ \\ \\ \\n \\end{aligned}\\]]where we have defined    @xmath132    which can also be expressed as @xmath133 .    in this case \\n it is not possible to find in the time domain a general exact solution for arbitrary memory kernels . \\n a simple analytical solution is only available in a markovian case [ @xmath125 ]    [ markovian ] @xmath135   \\notag \\\\   &amp; &amp; -\\lambda ^{-1}[(\\gamma /2)s_{y}(0)+\\delta s_{z}(0)]\\sinh [ \\lambda t],\\ \\ \\   \\ \\   \\\\ \\n s_{z}(t ) &amp; = &amp; e^{-\\gamma t/2}\\{s_{z}(0)\\cosh [ \\lambda t ]   \\notag \\\\   &amp; &amp; + \\lambda ^{-1}[(\\gamma /2)s_{z}(0)+\\delta s_{y}(0)]\\sinh [ \\lambda t],\\ \\ \\   \\ \\   \\end{aligned}\\]]where @xmath136 , and @xmath137 defines the unique dissipative rate . \\n notice that in the limit of null dissipation , a periodic hopping between the effective levels is obtained . \\n considering as initial condition the upper eigenstate of @xmath138 . \\n the envelopes are given by @xmath139 . from top to bottom , the parameters are @xmath140 , @xmath141 , and @xmath142 . in all cases \\n we take @xmath143 @xmath144 , and @xmath145,height=257 ]    for arbitrary random rates @xmath61 , the dynamics can be characterized in different regimes . \\n first , in the case @xmath146 , from eqs .  ( \\n [ hoping ] ) it is possible to get the approximated solutions    [ aproxhoping ] @xmath147s_{y}(0)-\\sin [ \\delta   t]s_{z}(0)\\},\\ \\ \\ \\ \\ \\ \\   \\\\ \\n s_{z}(t ) &amp; \\simeq &amp; p_{0}(t/2)\\{\\sin [ \\delta t]s_{y}(0)+\\cos [ \\delta   t]s_{z}(0)\\}.\\ \\ \\ \\ \\ \\ \\   \\end{aligned}\\]]thus , \\n the dynamics consist in a periodic tunneling between the two effective states , and whose decay can be written in terms of the survival probability . as in the previous case , \\n this solution correspond to an average over the corresponding markovian solutions , i.e. , eq . \\n ( [ markovian ] ) written in the limit of small decay rate when compared to the tunneling frequency @xmath148 .    in figure 2 \\n we plot the average of the @xmath84-pauli matrix which follows from eq . \\n ( [ hoping ] ) with the kernel eq . \\n ( [ kernel ] ) . as initial condition \\n we take the upper eigenstate of @xmath85 . \\n we verified that the exact solutions are well described by the approximation eq . \\n ( [ aproxhoping ] ) for parameters values satisfying @xmath149 . \\n as the envelope decay is given by @xmath150 , by increasing the average rate @xmath151 , the dynamics decay in a faster way . \\n this dependence is broken when the average rate is much greater than the hopping frequency .    in the limit @xmath152 , \\n the dissipative dynamics dominates over the tunneling one . in figure 3 \\n we plot @xmath153 [ eq .  ( \\n [ hoping ] ) ] for different values of the characteristic parameters of the kernel eq . \\n ( [ kernel ] ) . \\n we note that by increasing the average rate @xmath137 , a slower decay is obtained . thus , the dynamics develops a zeno - like effect @xcite . from the exact solution eq . \\n ( hoping ) , the characteristic decay of the bloch vector can be approximated by the expressions    @xmath154    where we have introduced @xmath155 and the function @xmath156^{-1}\\simeq u^{-1}p_{0}(\\delta ^{2}/u)$ ] . \\n for the kernel defined by eq . \\n ( [ kernel ] ) , the characteristic decay @xmath157 results    @xmath158    as can be seen in figure 3 ( dotted line ) , besides the oscillatory behavior , after the transient @xmath159 , this function provides an excellent fitting of the decay dynamics .     considering as initial condition the upper eigenstate of @xmath138 . \\n the fitting decay curves ( dotted lines ) are given by eq . \\n ( [ zenodecay ] ) . from top to bottom , the parameters are @xmath160 , @xmath161 , @xmath162 , @xmath163 , @xmath164 , and @xmath165 . in all cases \\n we take @xmath143 @xmath166 and @xmath145 in the inset we show the same graphic in a log - log scale.,height=279 ]    the function @xmath167 is characterized by a reach variety of behaviors . \\n first , we note that in the markovian limit , @xmath168 , we get an exponential decay with rate @xmath169 , which clearly diminish by increasing @xmath137 . in the non - markovian case , in a short time regime , we can approximate@xmath170\\},\\]]while in an asymptotic long time limit we get@xmath171thus , the dispersion of the random rate ( measured by @xmath172 ) induce , at short times , an extra stretched exponential decay , while in the asymptotic regime it scales a power law behavior [ @xmath173 . the characteristic rates of both regimes arise from a competence between the unitary and dissipative dynamics . \\n we notice that by increasing the dispersion rate @xmath172 , the characteristic rate of the stretched exponential decay is increased , while the rate for the power law regime is decreased . \\n the dependence in the hopping frequency @xmath174 is the inverse one . \\n the zeno - like effect can be _ qualitatively _ understood in terms of the stochastic evolution corresponding to the effective approximation eq . \\n ( [ aproximada ] ) . \\n this stochastic process develops in the system hilbert space and consists in the application at random times of the superoperator @xmath73 , which in view of eq . \\n ( [ lindblad ] ) reads @xmath175=\\sigma _ { z}\\bullet \\sigma _ { z}$ ] , while in the intermediates times the system evolves with its unitary evolution @xmath176.$ ] the superoperator @xmath81 implies the disruptive transformations @xmath177 , @xmath178 , @xmath179 , while the unitary dynamics is equivalent to a rotation around the @xmath180-direction . in the limit of vanishing hopping frequency @xmath174 , the continuous applications of the superoperator @xmath76 kill the @xmath180-@xmath181 components and frozen the dynamics in the initial condition @xmath182 . \\n thus , a pure zeno effect is recuperated . \\n for @xmath183 the decay dynamics is determined from the competence between the transformations induced by @xmath81 and @xmath184 , defining the zeno - like regime . \\n this interpretation is exact in a markovian limit and always valid for the effective master equation eq . \\n ( aproximada ) .      in obtaining the previous results we have assumed an infinite set of random rates , eq . \\n ( [ expo ] ) , whose effects can be approximated by the kernel eq . \\n ( [ kernel ] ) . \\n while this election guarantees the presence of an asymptotic power law decay , strong non - exponential behaviors can be obtained in an _ intermediate regime _ by considering only a finite set , @xmath185 , of random rates @xmath61 . on the other hand , for a finite set , \\n the asymptotic system dynamics is always markovian and characterized by the inverse rate @xmath186 . \\n this result follows from @xmath187    in figure  4 we show the decay dynamics induced by an environment characterized by a finite set of random rates @xmath45 ( @xmath188 ) with equal weights , @xmath189 . \\n each curve follows from a superposition of markovian solutions , eq . \\n ( [ markovian ] ) with @xmath190 . \\n the set of rates @xmath191  of each plot differ in a multiplicative factor , in such a way that the relation between the average rate @xmath192 and the corresponding fluctuation rate @xmath193/\\langle \\gamma _ { r}\\rangle $ ]  remains constant in all curves . for the case \\n @xmath194 the random rates are @xmath195 , @xmath142 , @xmath196 , @xmath197 , @xmath198 , @xmath199 and @xmath200 .     considering as initial condition the upper eigenstate of @xmath201 and a finite set of random rates with equal weights . from top to bottom , the parameters are @xmath202 , @xmath163 , @xmath203 , @xmath204 , @xmath205 , and @xmath206 . in all cases \\n we take @xmath207 , @xmath208 and @xmath145 for @xmath209 the dotted lines correspond to the fitting @xmath210 $ ] , while for @xmath211  they corresponds to @xmath212^{-\\protect\\delta } $ ] ( see text).,height=264 ]    in order to enlighten the intermediate non - exponential regime , we have plotted the shifted average @xmath213 , with @xmath214 . in the deep zeno - like regime [ @xmath215 , @xmath216 \\n can be well approximated by an stretched exponential behavior @xmath217 $ ] , with @xmath218 and @xmath219 . for @xmath220 , \\n a power law fitting is more adequate @xmath221^{-\\delta   } , $ ] with @xmath222 and @xmath223 . \\n we note that a similar non - exponential fitting was found in ref . \\n @xcite by considering the action of a finite bath , which can be associated with a glassy environment . on the other hand , \\n the oscillatory effects in the decay of @xmath216 arise from the markovian solutions , eq . \\n ( markovian ) , corresponding to the rates satisfying @xmath224 . \\n in fact , for the markovian solution , this condition delimits the change between a monotonous and an oscillatory decay behavior . \\n consistently , we notice that by increasing the average rate , the amplitude of the oscillations are smaller . \\n a similar effect can be seen in figure  3 . \\n our formalism relies on the applicability of the generalized born - markov approximation . here \\n we explore the possibility of mapping its dynamics with other models that also induce anomalous decay behaviors .    _ spin - boson model _ : \\n the spin - boson model is defined by the total hamiltonian @xmath225where the bath hamiltonian @xmath226 $ ] corresponds to a set of harmonic oscillators , and @xmath227 . \\n the bath is characterized by the spectral density function@xmath228and assumed to be in equilibrium at temperature @xmath229 . \\n as is well known , the reduced system dynamics can be obtained in an exact way leggett , grifoni , lang , hanggi , milena . \\n it reads    [ spin - boson ] @xmath230\\ \\ \\ \\ \\ \\ \\   \\\\   &amp; &amp; + y_{b}^{(s)}(t)s_{x}(0)+y_{b}^{(a)}(t)s_{y}(0 ) ,   \\notag \\\\ \\n s_{y}(t ) &amp; = &amp; \\frac{1}{\\delta } \\frac{ds_{z}(t)}{dt } , \\\\   \\frac{ds_{z}(t)}{dt } &amp; = &amp; \\int_{0}^{t}d\\tau \\lbrack k_{a}^{(a)}(t-\\tau   ) -k_{a}^{(s)}(t-\\tau ) s_{z}(\\tau ) ] \\ \\ \\ \\ \\ \\ \\    \\notag \\\\   &amp; &amp; + k_{b}^{(a)}(t)s_{x}(0)+k_{b}^{(s)}(t)s_{y}(0)\\ } , \\n \\end{aligned}\\]]where the corresponding kernels can be written as functions of @xmath231 . \\n on the other hand , it is possible to write the exact averaged evolution eq . \\n ( [ bloch ] ) in the form eqs . \\n ( [ spin - boson ] ) . in appendix \\n b we present the kernels corresponding to each dynamics . from these expressions , it is simple to proof that to first order in @xmath174 , after disregarding a phase factor , both set of kernels can be mapped under the condition    @xmath232=\\exp [ -q^{\\prime } ( t ) ] ,   \\label{map}\\ ] ]    where@xmath233,\\]]define the real part of the thermal  bath correlation . \\n we remark that the mapping eq . \\n ( [ map ] ) is only valid in a high temperature limit , condition consistent with the lindblad structure eq . \\n ( [ lindblad ] ) .    in this context , from eq . \\n ( [ map ] ) , it is possible to enlighten the difference between the present approach and that developed in refs . \\n tannor , ulrich . in our approach , which relies in splitting the hilbert space of the bath as a _ \\n direct sum _ of subspaces , @xmath234 $ ] is written as a sum of exponential functions , each one associated to each markovian sub - reservoir . instead , in refs . \\n @xcite , @xmath235 is expressed as a sum of exponential functions . \\n this representation relies in an artificial discomposing of the spectral density function @xmath231 as a sum of individuals terms . \\n thus , the hilbert space of the bath is effectively split in an _ external product _ of subspaces , each one associated to a non - markovian sub - reservoir . as in our approach \\n , the system density matrix can be written in terms of a set of auxiliary sub - density - matrixes . \\n nevertheless , their evolution involves coupling among them all . \\n _ stochastic hamiltonian _ : decoherence in small quantum systems is also modeled by introducing stochastic elements in the system evolution . this situation arises naturally in many physical systems makhlinreport , makhlin , falci , adrian . \\n consistently with the spin - boson model we consider the stochastic hamiltonian@xmath236\\sigma _ { z}+\\delta \\sigma   _ { x}\\},\\]]where @xmath237 is a classical non - white noise term .    by assuming @xmath238 , where @xmath239 means an average over realizations of the noise , in the limit of vanishing @xmath174 it is simple to solve the stochastic dynamics and obtain the average of the pauli matrixes . \\n the final evolution is the same as in eq . \\n ( [ disperso ] ) after replacing @xmath71 with the average dephasing factor @xmath240\\rangle \\rangle _ { \\xi } $ ] . \\n thus , the generalized born - markov approximation can be mapped to the stochastic hamiltonian evolution  under the condition @xmath241 , which explicitly reads @xmath232=\\big\\langle\\big\\langle\\exp   [ i\\int_{0}^{t}d\\tau \\xi ( \\tau ) ] \\big\\rangle\\big\\rangle_{\\xi } .\\]]this condition can be consistently satisfied if the dephasing factor @xmath242 decays in a monotonous way . \\n we have presented a theoretical approach intended to describe the dynamic of small quantum systems interacting with a complex structured environment . \\n our formalism is based in an extension of the well known born - markov approximation , which relies in the possibility of splitting the environment as a direct sum of sub - reservoirs , each one being able to induce by itself a markovian system dynamics . \\n then , we have demonstrated that the full action of the complex environment can be described through a random lindblad master equation . \\n the set of random rates follows from a fermi golden rule . \\n thus , they are proportional to the characteristic coupling strength of each subspace multiplied by the corresponding sub - density of states evaluated in a characteristic frequency of the system . \\n the associated probabilities are defined by the weight of each subspace in the stationary state of the bath .    from a phenomenological point of view \\n , the set of random rates and weights can be determined in a consistent way in function of the system decay . \\n in fact , the system dynamics is characterized by a non - markovian master equation that in function of the random rate set can develop strong non - exponential decays .    as an example we worked out the dissipative dynamic of a quantum tunneling system in a two level approximation . \\n we have introduced a set of random rates that lead to the presence of asymptotic power law decay . in the limit of small hopping frequency , \\n when compared with the average rate , we have showed that a zeno - like phenomenon arises , which is characterized by a stretched exponential and a power law decay . \\n these behaviors follow from the interplay between the unitary dynamics and the entanglement - memory - effects induced by the reservoir .    for the tunneling dynamics \\n , we have also demonstrated that non - exponential decays arise even by considering a small set of random rates . \\n furthermore , we have established the conditions under which the random lindblad evolution can be mapped to a spin - boson model and a stochastic hamiltonian evolution . \\n finally , we want to emphasize that the present results define a new framework for describing anomalous quantum system dynamics , which consists in taking the characteristic rate of a lindblad equation as a random distributed variable . \\n we remark that this approach was not derived from an ensemble of identical systems whose local interactions with the environment can be approximated by different markovian evolutions . \\n in fact , the underlying microscopic physics can be related to a _ single _ \\n quantum system coupled to an environment with a complex structured spectral density function and whose dynamical influence over the system can be approximated by a direct sum of markovian sub - reservoirs . \\n thus , our approach may be relevant for the description of anomalous decay processes in individual mesoscopic systems embedded in a condensed phase environment schlegel , brokmann , grigolini . \\n a natural example for which the generalized born - markov approximation may applies are glassy reservoirs , where the underlying configurational disorder produce a hierarchical distribution of coupling strength between the single system and the corresponding localized eigenstates of the reservoir @xcite . \\n here we present the exact expressions for the kernels @xmath243 , @xmath244 , and @xmath245 that define the evolution of the pauli operators average , eqs .  ( [ bloch ] ) . for arbitrary rates \\n @xmath246 , the kernels read    [ exactkernels ] @xmath247(u+b)+u\\omega _ { a}^{2}\\},\\ \\ \\ \\ \\    \\\\   \\gamma _ { y}(u ) &amp; = &amp; d\\{[u(u+b)+\\delta ^{2}](u+c)+u\\omega _ { a}^{2}\\},\\ \\ \\ \\ \\    \\\\   \\upsilon ( u ) &amp; = &amp; d(b - c)u\\omega _ { a},\\ \\ \\ \\ \\ \\n \\end{aligned}\\]]where @xmath248 denotes the function    @xmath249+\\delta ^{2}\\}[u+b(u)]+u\\omega _ { a}^{2}}.\\ ] ]    the extra functions @xmath250 and @xmath251 are defined by@xmath252where we have introduced@xmath253(u+\\gamma _ { r})+u\\omega _ { a}^{2}}%   .\\]]using that the laplace transform of @xmath254 is given by @xmath255 , in the case @xmath96 it is possible to recuperate the expressions of section iii - a , eqs .  ( [ kerneldispersivo ] ) . on the other hand , taking @xmath256 it is straightforward to get the results of section iii - c , eqs . \\n ( [ kernelhoping ] ) .    in an effective approximation , \\n ( [ aproximada ] ) , the corresponding kernels read    @xmath257\\ } , \\\\ \\n \\gamma _ { y}(t ) &amp; = &amp; k(t)\\cos [ \\varphi t ] , \\\\   \\upsilon ( t ) &amp; = &amp; k(t)\\frac{\\omega _ { a}}{\\varphi } \\sin [ \\varphi t ] , \\\\ \\n \\phi _ { x}(t ) &amp; = &amp; k(t)\\frac{\\omega _ { a}\\delta } { \\varphi ^{2}}\\{1-\\cos [ \\varphi   t]\\ } , \\\\   \\phi _ { y}(t ) &amp; = &amp; k(t)\\frac{\\delta } { \\varphi } \\sin [ \\varphi t ] , \\end{aligned}\\ ] ]    where @xmath258    the extra kernels @xmath259 and @xmath260  couples the derivative of @xmath153 to the averages @xmath261 and @xmath262 respectively , i.e. , @xmath263 for the exact evolution , these kernels vanish . \\n the kernels of the spin - boson model eqs . \\n ( [ spin - boson ] ) , in lowest order in @xmath174 read @xcite    [ kernelspinboson ] @xmath264 ,   \\\\ \\n k_{a}^{(a)}(t ) &amp; \\simeq &amp; \\delta ^{2}y_{b}^{(a)}(t)\\sin [ q^{\\prime \\prime   } ( t ) ] , \\\\ \\n k_{a}^{(s)}(t ) &amp; \\simeq &amp; \\delta ^{2}y_{b}^{(s)}(t)\\cos [ q^{\\prime \\prime   } ( t ) ] , \\\\ \\n y_{a}^{(a)}(t ) &amp; \\simeq &amp; -\\delta y_{b}^{(a)}(t)\\cos [ q^{\\prime \\prime } ( t ) ] ,   \\\\ \\n k_{b}^{(s)}(t ) &amp; \\simeq &amp; \\delta y_{b}^{(s)}(t ) , \\\\ \\n k_{b}^{(a)}(t ) &amp; \\simeq &amp; -\\delta y_{b}^{(a)}(t ) , \\\\ \\n y_{b}^{(s)}(t ) &amp; \\simeq &amp; \\cos [ \\omega _ { a}t]e^{-q^{\\prime } ( t ) } , \\\\ \\n y_{b}^{(a)}(t ) &amp; \\simeq &amp; -\\sin [ \\omega _ { a}t]e^{-q^{\\prime } ( t ) } , \\end{aligned}\\]]where @xmath265 and @xmath266 are defined by        [ kerneldisorder ] @xmath268 @xmath269 , \\\\ \\n y_{a}^{(a)}(u ) &amp; = &amp; t(u)\\delta \\lbrack \\omega _ { a}-\\upsilon ( u ) ] , \\\\ \\n y_{b}^{(s)}(u ) &amp; = &amp; t(u)\\delta \\lbrack u+\\gamma _ { x}(u ) ] , \\\\ \\n k_{b}^{(a)}(u ) &amp; = &amp; t(u)\\delta \\lbrack \\omega _ { a}-\\upsilon ( u ) ] , \\\\ \\n y_{b}^{(s)}(u ) &amp; = &amp; t(u)[u+\\gamma _ { y}(u ) ] , \\\\ \\n y_{b}^{(a)}(u ) &amp; = &amp; -t(u)[\\omega _ { a}-\\upsilon ( u ) ] , \\end{aligned}\\]]where we have introduced      the structure of these kernels is the same as those of the spin - boson model in the limit of vanishing @xmath174 , which implies that @xmath174 only appears through the unitary evolution . in fact , in this limit we can approximate eqs . \\n ( [ exactkernels ] ) by @xmath271/2 $ ] and @xmath272/2i$ ] . after introducing these expressions in eqs . \\n ( [ kerneldisorder ] ) , it is simple to get @xmath273p_{0}(t)$ ] , and @xmath274p_{0}(t)$ ] . \\n then , disregarding in eqs . \\n ( [ kernelspinboson ] ) the phase contribution proportional to @xmath275 , which is valid in a high temperature limit wilkie , a mapping with eqs . \\n ( [ kerneldisorder ] ) can be done after imposing the equality @xmath276 . \\n the stochastic dynamics can be formally extended to the case @xmath80i \\n @xcite  after introducing the superoperator @xmath277=\\{$]i@xmath278i@xmath279\\}\\rho $ ] , where @xmath280 must be intended as a control parameter . \\n then , the evolution eq . \\n ( [ aproximada ] ) is recuperated in the limit in which simultaneously @xmath281 and the number of events by unit of time go to infinite , the last limit being controlled by the sprinkling distribution @xmath282 @xcite . \\n this object is defined as the probability density for an event at time @xmath283 , disregarding the possibility of extra events in @xmath284 . \\n therefore , it is given by  @xmath285 where @xmath286 is the step function [ here defined as @xmath287 for @xmath288 , and @xmath289 for @xmath290 , which implies @xmath291.$ ] in the laplace domain it reads @xmath292 $ ] , which allows to write @xmath293 . \\n when the random rate  assumes only two different values @xmath294 , with probabilities @xmath295 , the exact kernel reads @xmath296 $ ] where @xmath297 $ ] . the rate @xmath172 is defined in terms of the fluctuations @xmath193/\\langle \\gamma _ { r}\\rangle .$ ] the extra rates are @xmath298 , and @xmath299</td>\n",
              "      <td>in this paper we demonstrate that lindblad equations characterized by a random rate variable arise after tracing out a complex structured reservoir . \\n our results follows from a generalization of the born - markov approximation , which relies in the possibility of splitting the complex environment in a direct sum of sub - reservoirs , each one being able to induce by itself a markovian system evolution . \\n strong non - markovian effects , which microscopically originate from the entanglement with the different sub - reservoirs , characterize the average system decay dynamics . as an example \\n , we study the anomalous irreversible behavior of a quantum tunneling system described in an effective two level approximation . stretched exponential and power law decay behaviors arise from the interplay between the dissipative and unitary hopping dynamics .</td>\n",
              "    </tr>\n",
              "  </tbody>\n",
              "</table>"
            ],
            "text/plain": [
              "<IPython.core.display.HTML object>"
            ]
          },
          "metadata": {},
          "output_type": "display_data"
        }
      ],
      "source": [
        "show_random_elements(dataset[\"train\"])"
      ]
    },
    {
      "cell_type": "code",
      "execution_count": null,
      "metadata": {
        "id": "SKHzaRb-dWHR"
      },
      "outputs": [],
      "source": []
    },
    {
      "cell_type": "markdown",
      "metadata": {
        "id": "jwGOhjyUaMOc"
      },
      "source": [
        "# **Loading pretrained Galactica Model**"
      ]
    },
    {
      "cell_type": "code",
      "execution_count": null,
      "metadata": {
        "colab": {
          "base_uri": "https://localhost:8080/"
        },
        "id": "x3MR1x5hrerX",
        "outputId": "71e53c12-24a3-447f-f1bf-bc14b52e142e"
      },
      "outputs": [
        {
          "output_type": "stream",
          "name": "stdout",
          "text": [
            "Looking in indexes: https://pypi.org/simple, https://us-python.pkg.dev/colab-wheels/public/simple/\n",
            "Requirement already satisfied: transformers in /usr/local/lib/python3.10/dist-packages (4.28.0)\n",
            "Requirement already satisfied: datasets in /usr/local/lib/python3.10/dist-packages (2.12.0)\n",
            "Requirement already satisfied: filelock in /usr/local/lib/python3.10/dist-packages (from transformers) (3.12.0)\n",
            "Requirement already satisfied: huggingface-hub<1.0,>=0.11.0 in /usr/local/lib/python3.10/dist-packages (from transformers) (0.14.1)\n",
            "Requirement already satisfied: numpy>=1.17 in /usr/local/lib/python3.10/dist-packages (from transformers) (1.22.4)\n",
            "Requirement already satisfied: packaging>=20.0 in /usr/local/lib/python3.10/dist-packages (from transformers) (23.1)\n",
            "Requirement already satisfied: pyyaml>=5.1 in /usr/local/lib/python3.10/dist-packages (from transformers) (6.0)\n",
            "Requirement already satisfied: regex!=2019.12.17 in /usr/local/lib/python3.10/dist-packages (from transformers) (2022.10.31)\n",
            "Requirement already satisfied: requests in /usr/local/lib/python3.10/dist-packages (from transformers) (2.27.1)\n",
            "Requirement already satisfied: tokenizers!=0.11.3,<0.14,>=0.11.1 in /usr/local/lib/python3.10/dist-packages (from transformers) (0.13.3)\n",
            "Requirement already satisfied: tqdm>=4.27 in /usr/local/lib/python3.10/dist-packages (from transformers) (4.65.0)\n",
            "Requirement already satisfied: pyarrow>=8.0.0 in /usr/local/lib/python3.10/dist-packages (from datasets) (9.0.0)\n",
            "Requirement already satisfied: dill<0.3.7,>=0.3.0 in /usr/local/lib/python3.10/dist-packages (from datasets) (0.3.6)\n",
            "Requirement already satisfied: pandas in /usr/local/lib/python3.10/dist-packages (from datasets) (1.5.3)\n",
            "Requirement already satisfied: xxhash in /usr/local/lib/python3.10/dist-packages (from datasets) (3.2.0)\n",
            "Requirement already satisfied: multiprocess in /usr/local/lib/python3.10/dist-packages (from datasets) (0.70.14)\n",
            "Requirement already satisfied: fsspec[http]>=2021.11.1 in /usr/local/lib/python3.10/dist-packages (from datasets) (2023.4.0)\n",
            "Requirement already satisfied: aiohttp in /usr/local/lib/python3.10/dist-packages (from datasets) (3.8.4)\n",
            "Requirement already satisfied: responses<0.19 in /usr/local/lib/python3.10/dist-packages (from datasets) (0.18.0)\n",
            "Requirement already satisfied: attrs>=17.3.0 in /usr/local/lib/python3.10/dist-packages (from aiohttp->datasets) (23.1.0)\n",
            "Requirement already satisfied: charset-normalizer<4.0,>=2.0 in /usr/local/lib/python3.10/dist-packages (from aiohttp->datasets) (2.0.12)\n",
            "Requirement already satisfied: multidict<7.0,>=4.5 in /usr/local/lib/python3.10/dist-packages (from aiohttp->datasets) (6.0.4)\n",
            "Requirement already satisfied: async-timeout<5.0,>=4.0.0a3 in /usr/local/lib/python3.10/dist-packages (from aiohttp->datasets) (4.0.2)\n",
            "Requirement already satisfied: yarl<2.0,>=1.0 in /usr/local/lib/python3.10/dist-packages (from aiohttp->datasets) (1.9.2)\n",
            "Requirement already satisfied: frozenlist>=1.1.1 in /usr/local/lib/python3.10/dist-packages (from aiohttp->datasets) (1.3.3)\n",
            "Requirement already satisfied: aiosignal>=1.1.2 in /usr/local/lib/python3.10/dist-packages (from aiohttp->datasets) (1.3.1)\n",
            "Requirement already satisfied: typing-extensions>=3.7.4.3 in /usr/local/lib/python3.10/dist-packages (from huggingface-hub<1.0,>=0.11.0->transformers) (4.5.0)\n",
            "Requirement already satisfied: urllib3<1.27,>=1.21.1 in /usr/local/lib/python3.10/dist-packages (from requests->transformers) (1.26.15)\n",
            "Requirement already satisfied: certifi>=2017.4.17 in /usr/local/lib/python3.10/dist-packages (from requests->transformers) (2022.12.7)\n",
            "Requirement already satisfied: idna<4,>=2.5 in /usr/local/lib/python3.10/dist-packages (from requests->transformers) (3.4)\n",
            "Requirement already satisfied: python-dateutil>=2.8.1 in /usr/local/lib/python3.10/dist-packages (from pandas->datasets) (2.8.2)\n",
            "Requirement already satisfied: pytz>=2020.1 in /usr/local/lib/python3.10/dist-packages (from pandas->datasets) (2022.7.1)\n",
            "Requirement already satisfied: six>=1.5 in /usr/local/lib/python3.10/dist-packages (from python-dateutil>=2.8.1->pandas->datasets) (1.16.0)\n"
          ]
        }
      ],
      "source": [
        "pip install transformers datasets"
      ]
    },
    {
      "cell_type": "code",
      "execution_count": null,
      "metadata": {
        "colab": {
          "base_uri": "https://localhost:8080/",
          "height": 270,
          "referenced_widgets": [
            "a13a182e11704f09b365a798c5fda3b1",
            "0fb860dd3b1b4cde8f22dff6bf4ee6cc",
            "d7bd674372164ea1b5098dba0a99f676",
            "1bf6466cd32046f1a5182846b367ecfe",
            "ddd66a2809d1444f8c92d7c1cdc07a5f",
            "d1c1bab11db04fc8b7df3ce15e2c0408",
            "89a44daa07a24e8d819459f44688ee1a",
            "4e59a7e34561470780c0ee97198fb494",
            "2634f0d9ab0c417f88c7f8c10be16512",
            "a7a608ec7fdc4dc795e69938276d6978",
            "41a61347c0ff4fa19002b5c11f1c6982",
            "7379520e13904818a39d009ad304ba04",
            "b748bccf374c4cabb2cbd817cb6283c2",
            "21f9a0e99c4c437dabd6aa9a99a25f00",
            "fcd4ffbb51224ade9c93bfed50df1f0d",
            "33fb3c10933847688040ff0ada36143e",
            "6abbbe94c8534b89897b08e1b97c59f9",
            "7aaa000d84644c7d80ba275e6d8ba670",
            "2527fc3e2fc1480e80e7aeaad218249f",
            "74fefebc79e341a0816b43351f98d6c6",
            "2b2786cf63d747f6a3246be53f3260dc",
            "449b0328edab4387a5b92d8b2fea50ac",
            "8fb9697a534f486880060daa51b542af",
            "b51d4f39beae44aa94114ba5cae96437",
            "8340084c5be84406a44b3fc9aa7236f6",
            "7debbe47faf340e99e91f12d43df2b99",
            "312f3dedd6e64ec1a5680161d0e2f78f",
            "821f7d56d810402ebf2118506ac2c319",
            "2eb1e94e235746dc859feb4013a7f5b8",
            "db09e74a43cf4e29a9e8880d1448d42c",
            "b662d150d5b247349f42271f69d1ddbc",
            "e1f4c4b1420d4a47b043114e8230b9ff",
            "ba3f1acd30594286b955c3693bf68596",
            "146f0d5a38fd4a518fcca75073a14c6d",
            "46cc68636a134cd28062a51a7b2179f4",
            "fba520af111b45398c18a684757c0336",
            "d4de7a38135b4c87824828f43f82c960",
            "a1305764573e47f0a68971a52aae88cb",
            "63673c6a02114a8984dde6f8816e318a",
            "c8585d3a6d714d64b279ee491dd56173",
            "97881ede81554117913117b294c145ca",
            "1dcf4810f0ac4dc0a7b99b4d8e60f9d1",
            "11e4b409da17473eb89187940cfcc839",
            "a5517bafbb174526a27bdde02e9b7df3",
            "bf68670c10f345a786a20f5ab266bb8f",
            "9b59bd8f978245bd8c20bb94726b73e0",
            "ee7393c9938e43809ae4667feea3935e",
            "2826e4877a0d42dd9a8fcf6730200029",
            "e757fdff93bb4fc3aa0ee854357ad165",
            "778877d772b941aa9519cfb23cd3a651",
            "91ce0395171248ef9a1fc8d5ebfa84e0",
            "551415c10c2142cbbe2a2e36a78d9876",
            "f39787d014a54aba96fc49923f6f0a71",
            "940e2c50951243d8857b6d35aec5fd5d",
            "874fcba85a264cb182fc89b7bfaf45e8"
          ]
        },
        "id": "htT35DQZrRbp",
        "outputId": "36a540d7-377b-438e-d407-7d0d5f801ca6"
      },
      "outputs": [
        {
          "output_type": "display_data",
          "data": {
            "text/plain": [
              "Downloading (…)lve/main/config.json:   0%|          | 0.00/792 [00:00<?, ?B/s]"
            ],
            "application/vnd.jupyter.widget-view+json": {
              "version_major": 2,
              "version_minor": 0,
              "model_id": "a13a182e11704f09b365a798c5fda3b1"
            }
          },
          "metadata": {}
        },
        {
          "output_type": "display_data",
          "data": {
            "text/plain": [
              "Downloading (…)olve/main/vocab.json:   0%|          | 0.00/813k [00:00<?, ?B/s]"
            ],
            "application/vnd.jupyter.widget-view+json": {
              "version_major": 2,
              "version_minor": 0,
              "model_id": "7379520e13904818a39d009ad304ba04"
            }
          },
          "metadata": {}
        },
        {
          "output_type": "display_data",
          "data": {
            "text/plain": [
              "Downloading (…)olve/main/merges.txt:   0%|          | 0.00/473k [00:00<?, ?B/s]"
            ],
            "application/vnd.jupyter.widget-view+json": {
              "version_major": 2,
              "version_minor": 0,
              "model_id": "8fb9697a534f486880060daa51b542af"
            }
          },
          "metadata": {}
        },
        {
          "output_type": "display_data",
          "data": {
            "text/plain": [
              "Downloading (…)/main/tokenizer.json:   0%|          | 0.00/2.14M [00:00<?, ?B/s]"
            ],
            "application/vnd.jupyter.widget-view+json": {
              "version_major": 2,
              "version_minor": 0,
              "model_id": "146f0d5a38fd4a518fcca75073a14c6d"
            }
          },
          "metadata": {}
        },
        {
          "output_type": "stream",
          "name": "stderr",
          "text": [
            "Special tokens have been added in the vocabulary, make sure the associated word embeddings are fine-tuned or trained.\n"
          ]
        },
        {
          "output_type": "display_data",
          "data": {
            "text/plain": [
              "Downloading pytorch_model.bin:   0%|          | 0.00/500M [00:00<?, ?B/s]"
            ],
            "application/vnd.jupyter.widget-view+json": {
              "version_major": 2,
              "version_minor": 0,
              "model_id": "bf68670c10f345a786a20f5ab266bb8f"
            }
          },
          "metadata": {}
        },
        {
          "output_type": "stream",
          "name": "stderr",
          "text": [
            "Some weights of the model checkpoint at mrm8488/galactica-125m were not used when initializing OPTForCausalLM: ['model.decoder.final_layer_norm.weight', 'model.decoder.layers.2.self_attn_layer_norm.weight', 'model.decoder.layers.11.self_attn_layer_norm.weight', 'model.decoder.layers.9.self_attn_layer_norm.bias', 'model.decoder.layers.7.final_layer_norm.bias', 'model.decoder.layers.3.self_attn_layer_norm.bias', 'model.decoder.layers.11.final_layer_norm.weight', 'model.decoder.layers.9.final_layer_norm.bias', 'model.decoder.layers.4.self_attn_layer_norm.bias', 'model.decoder.layers.6.self_attn_layer_norm.bias', 'model.decoder.layers.2.final_layer_norm.weight', 'model.decoder.layers.4.final_layer_norm.bias', 'model.decoder.layers.1.final_layer_norm.weight', 'model.decoder.layers.10.self_attn_layer_norm.weight', 'model.decoder.final_layer_norm.bias', 'model.decoder.layers.11.self_attn_layer_norm.bias', 'model.decoder.layers.0.final_layer_norm.weight', 'model.decoder.layers.2.self_attn_layer_norm.bias', 'model.decoder.layers.4.self_attn_layer_norm.weight', 'model.decoder.layers.1.self_attn_layer_norm.bias', 'model.decoder.layers.1.final_layer_norm.bias', 'model.decoder.layers.3.self_attn_layer_norm.weight', 'model.decoder.layers.5.self_attn_layer_norm.bias', 'model.decoder.layers.2.final_layer_norm.bias', 'model.decoder.layers.0.self_attn_layer_norm.weight', 'model.decoder.layers.5.final_layer_norm.weight', 'model.decoder.layers.4.final_layer_norm.weight', 'model.decoder.layers.1.self_attn_layer_norm.weight', 'model.decoder.layers.10.self_attn_layer_norm.bias', 'model.decoder.layers.10.final_layer_norm.weight', 'model.decoder.layers.0.self_attn_layer_norm.bias', 'model.decoder.layers.7.final_layer_norm.weight', 'model.decoder.layers.9.final_layer_norm.weight', 'model.decoder.layers.0.final_layer_norm.bias', 'model.decoder.layers.6.self_attn_layer_norm.weight', 'model.decoder.layers.7.self_attn_layer_norm.bias', 'model.decoder.layers.8.self_attn_layer_norm.weight', 'model.decoder.layers.10.final_layer_norm.bias', 'model.decoder.layers.8.self_attn_layer_norm.bias', 'model.decoder.layers.5.final_layer_norm.bias', 'model.decoder.layers.6.final_layer_norm.weight', 'model.decoder.layers.11.final_layer_norm.bias', 'model.decoder.layers.5.self_attn_layer_norm.weight', 'model.decoder.layers.8.final_layer_norm.weight', 'model.decoder.layers.3.final_layer_norm.weight', 'model.decoder.layers.6.final_layer_norm.bias', 'model.decoder.layers.9.self_attn_layer_norm.weight', 'model.decoder.layers.3.final_layer_norm.bias', 'model.decoder.layers.8.final_layer_norm.bias', 'model.decoder.layers.7.self_attn_layer_norm.weight']\n",
            "- This IS expected if you are initializing OPTForCausalLM from the checkpoint of a model trained on another task or with another architecture (e.g. initializing a BertForSequenceClassification model from a BertForPreTraining model).\n",
            "- This IS NOT expected if you are initializing OPTForCausalLM from the checkpoint of a model that you expect to be exactly identical (initializing a BertForSequenceClassification model from a BertForSequenceClassification model).\n"
          ]
        }
      ],
      "source": [
        "from transformers import AutoTokenizer, AutoModelForSeq2SeqLM,AutoModelForCausalLM,TFAutoModelForCausalLM\n",
        "\n",
        "\n",
        "# Load Galactica-125M pretrained model and tokenizer from hugging face\n",
        "name = \"mrm8488/galactica-125m\"\n",
        "tokenizer_xsum = AutoTokenizer.from_pretrained(name)\n",
        "model_xsum = AutoModelForCausalLM.from_pretrained(name)\n",
        "\n"
      ]
    },
    {
      "cell_type": "markdown",
      "source": [
        "# **Tokenizing Data**"
      ],
      "metadata": {
        "id": "N7PI6JSeADI6"
      }
    },
    {
      "cell_type": "code",
      "execution_count": null,
      "metadata": {
        "id": "T2iAYo2HBjJL"
      },
      "outputs": [],
      "source": [
        "max_input_length = 1024\n",
        "max_target_length = 128\n",
        "\n",
        "#tokenizing data to be fed to the model\n",
        "def preprocess_function(examples):\n",
        "    inputs = [doc for doc in examples[\"article\"]]\n",
        "    model_inputs = tokenizer_xsum(inputs)\n",
        "\n",
        "    # Setup the tokenizer for targets\n",
        "    with tokenizer_xsum.as_target_tokenizer():\n",
        "        labels = tokenizer_xsum(examples[\"abstract\"])\n",
        "\n",
        "    model_inputs[\"labels\"] = labels[\"input_ids\"]\n",
        "    return model_inputs"
      ]
    },
    {
      "cell_type": "code",
      "execution_count": null,
      "metadata": {
        "colab": {
          "base_uri": "https://localhost:8080/",
          "height": 475,
          "referenced_widgets": [
            "4bcd2491f4f74c5bbd554fb86b640a0b",
            "95708991282a4571908a1e4fe5efcc71",
            "a05c7d2b9ffa49b888fe151ee34c5aba",
            "200088635a984cdabac8ec197508b7b7",
            "30bceb2137694280953138988214c986",
            "20e79ff268a844ffb654f6be3bc2affd",
            "f235e1a556604d5abc84a521fbafe772",
            "015b8d3b86b24cbdbf1876a6440ad135",
            "d770287c303049ad9f88134a36e1c3bc",
            "84fbbe3fe8074a6c8417b9964afc8cf3",
            "8002ea5e2c04470ea907d6848ae73237",
            "917b274437d14cd0adc8154983cbd345",
            "31275140305e47e685efe520eb9f9731",
            "fe80a238a7084b7db650cfa582a59da7",
            "46558a29605c4edc8c5f638a5332f099",
            "08a4cae639544a628de9dbb2ae8e689a",
            "375e9b41af07493e988da64944a98f8d",
            "018f6399fa154b2aa5454260d81aa682",
            "1cb236886ee847358667160bb9503796",
            "7a736a9c9428445c9c805c545bb6bd5e",
            "0503b7bba8d6449fa96b6196cdfae9b3",
            "e3fa79940f2745d191aa02a774fdde0d",
            "9c4bdf2627184cf787d17b592e90ddb2",
            "ffcdbf8498304400a4399e3eb70ad0f2",
            "5e2736331d4a4a86bedd70bc899a8519",
            "29cf392e6c414dc985a586e865b62283",
            "e206b5a562a249d292af44e15ba2c05a",
            "050f3f5f7ef144c09b48e5bf5920bf80",
            "183772bd722a45e3a1483895e2d87645",
            "f05a7fbe34484d44b3f1502f7621fbfb",
            "52198f6c132d4b30abd2832abf5dda75",
            "a3d46a9b475c412dbdbe222d5bca9e00",
            "fffaec0259b44d04963a70897dbe15e9"
          ]
        },
        "id": "0slVj5O5BqGi",
        "outputId": "5d982fec-ce83-4137-ef1e-b89c1b29cc50"
      },
      "outputs": [
        {
          "output_type": "display_data",
          "data": {
            "text/plain": [
              "Map (num_proc=4):   0%|          | 0/10152 [00:00<?, ? examples/s]"
            ],
            "application/vnd.jupyter.widget-view+json": {
              "version_major": 2,
              "version_minor": 0,
              "model_id": "4bcd2491f4f74c5bbd554fb86b640a0b"
            }
          },
          "metadata": {}
        },
        {
          "output_type": "stream",
          "name": "stderr",
          "text": [
            "/usr/local/lib/python3.10/dist-packages/transformers/tokenization_utils_base.py:3596: UserWarning: `as_target_tokenizer` is deprecated and will be removed in v5 of Transformers. You can tokenize your labels by using the argument `text_target` of the regular `__call__` method (either in the same call as your input texts if you use the same keyword arguments, or in a separate call.\n",
            "  warnings.warn(\n",
            "/usr/local/lib/python3.10/dist-packages/transformers/tokenization_utils_base.py:3596: UserWarning: `as_target_tokenizer` is deprecated and will be removed in v5 of Transformers. You can tokenize your labels by using the argument `text_target` of the regular `__call__` method (either in the same call as your input texts if you use the same keyword arguments, or in a separate call.\n",
            "  warnings.warn(\n",
            "/usr/local/lib/python3.10/dist-packages/transformers/tokenization_utils_base.py:3596: UserWarning: `as_target_tokenizer` is deprecated and will be removed in v5 of Transformers. You can tokenize your labels by using the argument `text_target` of the regular `__call__` method (either in the same call as your input texts if you use the same keyword arguments, or in a separate call.\n",
            "  warnings.warn(\n",
            "/usr/local/lib/python3.10/dist-packages/transformers/tokenization_utils_base.py:3596: UserWarning: `as_target_tokenizer` is deprecated and will be removed in v5 of Transformers. You can tokenize your labels by using the argument `text_target` of the regular `__call__` method (either in the same call as your input texts if you use the same keyword arguments, or in a separate call.\n",
            "  warnings.warn(\n"
          ]
        },
        {
          "output_type": "display_data",
          "data": {
            "text/plain": [
              "Map (num_proc=4):   0%|          | 0/3220 [00:00<?, ? examples/s]"
            ],
            "application/vnd.jupyter.widget-view+json": {
              "version_major": 2,
              "version_minor": 0,
              "model_id": "917b274437d14cd0adc8154983cbd345"
            }
          },
          "metadata": {}
        },
        {
          "output_type": "stream",
          "name": "stderr",
          "text": [
            "/usr/local/lib/python3.10/dist-packages/transformers/tokenization_utils_base.py:3596: UserWarning: `as_target_tokenizer` is deprecated and will be removed in v5 of Transformers. You can tokenize your labels by using the argument `text_target` of the regular `__call__` method (either in the same call as your input texts if you use the same keyword arguments, or in a separate call.\n",
            "  warnings.warn(\n",
            "/usr/local/lib/python3.10/dist-packages/transformers/tokenization_utils_base.py:3596: UserWarning: `as_target_tokenizer` is deprecated and will be removed in v5 of Transformers. You can tokenize your labels by using the argument `text_target` of the regular `__call__` method (either in the same call as your input texts if you use the same keyword arguments, or in a separate call.\n",
            "  warnings.warn(\n",
            "/usr/local/lib/python3.10/dist-packages/transformers/tokenization_utils_base.py:3596: UserWarning: `as_target_tokenizer` is deprecated and will be removed in v5 of Transformers. You can tokenize your labels by using the argument `text_target` of the regular `__call__` method (either in the same call as your input texts if you use the same keyword arguments, or in a separate call.\n",
            "  warnings.warn(\n",
            "/usr/local/lib/python3.10/dist-packages/transformers/tokenization_utils_base.py:3596: UserWarning: `as_target_tokenizer` is deprecated and will be removed in v5 of Transformers. You can tokenize your labels by using the argument `text_target` of the regular `__call__` method (either in the same call as your input texts if you use the same keyword arguments, or in a separate call.\n",
            "  warnings.warn(\n"
          ]
        },
        {
          "output_type": "display_data",
          "data": {
            "text/plain": [
              "Map (num_proc=4):   0%|          | 0/3218 [00:00<?, ? examples/s]"
            ],
            "application/vnd.jupyter.widget-view+json": {
              "version_major": 2,
              "version_minor": 0,
              "model_id": "9c4bdf2627184cf787d17b592e90ddb2"
            }
          },
          "metadata": {}
        },
        {
          "output_type": "stream",
          "name": "stderr",
          "text": [
            "/usr/local/lib/python3.10/dist-packages/transformers/tokenization_utils_base.py:3596: UserWarning: `as_target_tokenizer` is deprecated and will be removed in v5 of Transformers. You can tokenize your labels by using the argument `text_target` of the regular `__call__` method (either in the same call as your input texts if you use the same keyword arguments, or in a separate call.\n",
            "  warnings.warn(\n",
            "/usr/local/lib/python3.10/dist-packages/transformers/tokenization_utils_base.py:3596: UserWarning: `as_target_tokenizer` is deprecated and will be removed in v5 of Transformers. You can tokenize your labels by using the argument `text_target` of the regular `__call__` method (either in the same call as your input texts if you use the same keyword arguments, or in a separate call.\n",
            "  warnings.warn(\n",
            "/usr/local/lib/python3.10/dist-packages/transformers/tokenization_utils_base.py:3596: UserWarning: `as_target_tokenizer` is deprecated and will be removed in v5 of Transformers. You can tokenize your labels by using the argument `text_target` of the regular `__call__` method (either in the same call as your input texts if you use the same keyword arguments, or in a separate call.\n",
            "  warnings.warn(\n",
            "/usr/local/lib/python3.10/dist-packages/transformers/tokenization_utils_base.py:3596: UserWarning: `as_target_tokenizer` is deprecated and will be removed in v5 of Transformers. You can tokenize your labels by using the argument `text_target` of the regular `__call__` method (either in the same call as your input texts if you use the same keyword arguments, or in a separate call.\n",
            "  warnings.warn(\n"
          ]
        }
      ],
      "source": [
        "dataset_train = dataset.map(preprocess_function,batched=True, num_proc=4, remove_columns=[\"article\",\"abstract\"])"
      ]
    },
    {
      "cell_type": "code",
      "execution_count": null,
      "metadata": {
        "id": "y_tIEoGA4d8h"
      },
      "outputs": [],
      "source": [
        "block_size = 128\n",
        "\n",
        "def group_texts(examples):\n",
        "    # Concatenate all texts.\n",
        "    concatenated_examples = {k: sum(examples[k], []) for k in examples.keys()}\n",
        "    total_length = len(concatenated_examples[list(examples.keys())[0]])\n",
        "    # We drop the small remainder, we could add padding if the model supported it instead of this drop, you can\n",
        "        # customize this part to your needs.\n",
        "    total_length = (total_length // block_size) * block_size\n",
        "    # Split by chunks of max_len.\n",
        "    result = {\n",
        "        k: [t[i : i + block_size] for i in range(0, total_length, block_size)]\n",
        "        for k, t in concatenated_examples.items()\n",
        "    }\n",
        "    result[\"labels\"] = result[\"input_ids\"].copy()\n",
        "    return result"
      ]
    },
    {
      "cell_type": "code",
      "execution_count": null,
      "metadata": {
        "colab": {
          "base_uri": "https://localhost:8080/",
          "height": 17,
          "referenced_widgets": [
            "470b3b65c3e14cc7853fbf1aa8da3e6c",
            "85a560c6df8a4f01bf57facb10ae845c",
            "c1d4b884c0e043a2b731d2302275b043",
            "d3c6ef4c9fc24901906cd59410828d5b",
            "fae73e9367a34dab83bfed3f90929aba",
            "29bbf9c0115b44f686c4176367b52d00",
            "60f0056e2ad5409eae92ab2c4614a64c",
            "2c3df0a9b9ca42a9baaf4043426e090c",
            "99ccf96f6a9947408b8d8fdf4fcc68e0",
            "94a1fd1495704d04bb23f8af5deb3db3",
            "527a41028c91449c8c42dafe2dc4afe8",
            "45d449232d4f41aa8a433b2b3987e3ea",
            "27422903a6ce45e1bfafa6384f51c08a",
            "52b019bfd0394f70b3d5005113516595",
            "578e2e3336eb4614b0b10d1fd337f0d9",
            "eb22a92bcacb42f296ff0dc332a7ba31",
            "25270c164a004ebab4170b02a76ca77e",
            "6ab51f24353945bda12be1c5080aeb76",
            "0bba5eca2f4a412e9cc14a14bb4c8ad1",
            "56b36936ae2d4d69850743dab6571f6a",
            "8ac50efa615f4011af1162841034569c",
            "12585a4098544188a0925bf57b8ac35a",
            "499ccc1761854813a6307380cb420af2",
            "f642d07c6ca840d9adb2b5b9e837d04c",
            "f90d8ce4202e475a877b9cc0fb123dcc",
            "ece21feb690f4d9eab44cee93b523b0e",
            "669ebd3c55104109a14142da98bab344",
            "5b90aa22371c41d3983bae00781cbf67",
            "0f009337d9d94d51adbca3bcf458e041",
            "17c751e34e294b32950a18040c6891ed",
            "43af6f9f2e4a415483bad803773ab6e0",
            "a48e0ba07cee4e2482ac51fdcef5252b",
            "3b72154e015742b5aa60d297a66e9393"
          ]
        },
        "id": "2lGqgsVC4gnd",
        "outputId": "6ed8f596-23d3-44f3-bdad-c3e68476043b"
      },
      "outputs": [
        {
          "output_type": "display_data",
          "data": {
            "text/plain": [
              "Map (num_proc=4):   0%|          | 0/10152 [00:00<?, ? examples/s]"
            ],
            "application/vnd.jupyter.widget-view+json": {
              "version_major": 2,
              "version_minor": 0,
              "model_id": "470b3b65c3e14cc7853fbf1aa8da3e6c"
            }
          },
          "metadata": {}
        },
        {
          "output_type": "display_data",
          "data": {
            "text/plain": [
              "Map (num_proc=4):   0%|          | 0/3220 [00:00<?, ? examples/s]"
            ],
            "application/vnd.jupyter.widget-view+json": {
              "version_major": 2,
              "version_minor": 0,
              "model_id": "45d449232d4f41aa8a433b2b3987e3ea"
            }
          },
          "metadata": {}
        },
        {
          "output_type": "display_data",
          "data": {
            "text/plain": [
              "Map (num_proc=4):   0%|          | 0/3218 [00:00<?, ? examples/s]"
            ],
            "application/vnd.jupyter.widget-view+json": {
              "version_major": 2,
              "version_minor": 0,
              "model_id": "499ccc1761854813a6307380cb420af2"
            }
          },
          "metadata": {}
        }
      ],
      "source": [
        "arxiv_datasets = dataset_train.map(\n",
        "    group_texts,\n",
        "    batched=True,\n",
        "    batch_size=1000,\n",
        "    num_proc=4,\n",
        ")"
      ]
    },
    {
      "cell_type": "code",
      "execution_count": null,
      "metadata": {
        "colab": {
          "base_uri": "https://localhost:8080/"
        },
        "id": "V8yBn3GpE1ct",
        "outputId": "5dfd9df3-37bf-4c59-df28-e391aee499d2"
      },
      "outputs": [
        {
          "data": {
            "text/plain": [
              "DatasetDict({\n",
              "    train: Dataset({\n",
              "        features: ['input_ids', 'attention_mask', 'labels'],\n",
              "        num_rows: 833430\n",
              "    })\n",
              "    test: Dataset({\n",
              "        features: ['input_ids', 'attention_mask', 'labels'],\n",
              "        num_rows: 250852\n",
              "    })\n",
              "    validation: Dataset({\n",
              "        features: ['input_ids', 'attention_mask', 'labels'],\n",
              "        num_rows: 254740\n",
              "    })\n",
              "})"
            ]
          },
          "execution_count": 17,
          "metadata": {},
          "output_type": "execute_result"
        }
      ],
      "source": [
        "#final tokenized data \n",
        "\n",
        "arxiv_datasets"
      ]
    },
    {
      "cell_type": "markdown",
      "source": [
        "# **Training**"
      ],
      "metadata": {
        "id": "VKAWhDGfAcHd"
      }
    },
    {
      "cell_type": "code",
      "execution_count": null,
      "metadata": {
        "id": "Ov7NkTNJIss2"
      },
      "outputs": [],
      "source": [
        "#importing transformers train functions \n",
        "\n",
        "from transformers import Trainer, TrainingArguments"
      ]
    },
    {
      "cell_type": "code",
      "execution_count": null,
      "metadata": {
        "id": "QFWCTXzE9JkK"
      },
      "outputs": [],
      "source": [
        "pip install --upgrade accelerate"
      ]
    },
    {
      "cell_type": "code",
      "execution_count": null,
      "metadata": {
        "id": "BEbeul_wbgsC",
        "colab": {
          "base_uri": "https://localhost:8080/"
        },
        "outputId": "13bb4181-ed84-46df-a7e2-c208387d99d4"
      },
      "outputs": [
        {
          "output_type": "stream",
          "name": "stdout",
          "text": [
            "Mounted at /content/drive\n"
          ]
        }
      ],
      "source": [
        "#mounting drive to store checkpoints\n",
        "\n",
        "from google.colab import drive\n",
        "\n",
        "\n",
        "drive.mount('/content/drive',force_remount=True)"
      ]
    },
    {
      "cell_type": "code",
      "source": [
        "pip install nltk"
      ],
      "metadata": {
        "id": "LBAdLmkwByJ3"
      },
      "execution_count": null,
      "outputs": []
    },
    {
      "cell_type": "code",
      "execution_count": null,
      "metadata": {
        "id": "fDFzl8a0bSRP"
      },
      "outputs": [],
      "source": [
        "import nltk\n",
        "import numpy as np\n",
        "\n",
        "def compute_metrics(eval_pred):\n",
        "    predictions, labels = eval_pred\n",
        "    decoded_preds = tokenizer_xsum.batch_decode(predictions, skip_special_tokens=True)\n",
        "    # Replace -100 in the labels as we can't decode them.\n",
        "    labels = np.where(labels != -100, labels, tokenizer_xsum.pad_token_id)\n",
        "    decoded_labels = tokenizer.batch_decode(labels, skip_special_tokens=True)\n",
        "    \n",
        "    # Rouge expects a newline after each sentence\n",
        "    decoded_preds = [\"\\n\".join(nltk.sent_tokenize(pred.strip())) for pred in decoded_preds]\n",
        "    decoded_labels = [\"\\n\".join(nltk.sent_tokenize(label.strip())) for label in decoded_labels]\n",
        "    \n",
        "    result = metric.compute(predictions=decoded_preds, references=decoded_labels, use_stemmer=True)\n",
        "    # Extract a few results\n",
        "    result = {key: value.mid.fmeasure * 100 for key, value in result.items()}\n",
        "    \n",
        "    # Add mean generated length\n",
        "    prediction_lens = [np.count_nonzero(pred != tokenizer_xsum.pad_token_id) for pred in predictions]\n",
        "    result[\"gen_len\"] = np.mean(prediction_lens)\n",
        "    \n",
        "    return {k: round(v, 4) for k, v in result.items()}"
      ]
    },
    {
      "cell_type": "markdown",
      "source": [
        "### **Specifying training arguments**"
      ],
      "metadata": {
        "id": "Wgp6C_jfCdRG"
      }
    },
    {
      "cell_type": "code",
      "execution_count": null,
      "metadata": {
        "id": "tm4m8JaPI0XU"
      },
      "outputs": [],
      "source": [
        "training_args = TrainingArguments(\n",
        "    output_dir='drive/My Drive/Colab Notebooks/nlp project/arxiv_dataset_logs/',\n",
        "    overwrite_output_dir=False,\n",
        "    evaluation_strategy = \"steps\",\n",
        "    #eval_steps=40,\n",
        "    #logging_steps = 40,\n",
        "    learning_rate=2e-5,\n",
        "    #weight_decay=0.01\n",
        "    gradient_checkpointing=True,\n",
        "    save_steps=20000,\n",
        "    eval_steps=20000,\n",
        "    logging_steps=20000,\n",
        "    save_strategy = \"steps\",\n",
        "    logging_dir='drive/My Drive/Colab Notebooks/nlp project/arxiv_dataset_logs/'\n",
        "    #push_to_hub=True,\n",
        ")\n"
      ]
    },
    {
      "cell_type": "markdown",
      "source": [
        "### **Initializing trainer**"
      ],
      "metadata": {
        "id": "ioy5aFliCnsd"
      }
    },
    {
      "cell_type": "code",
      "execution_count": null,
      "metadata": {
        "id": "Loihx4hQ4weQ"
      },
      "outputs": [],
      "source": [
        "trainer_arxiv= Trainer(\n",
        "    model=model_xsum,\n",
        "    args=training_args,\n",
        "    train_dataset=arxiv_datasets[\"train\"],\n",
        "    eval_dataset=arxiv_datasets[\"validation\"]\n",
        ")"
      ]
    },
    {
      "cell_type": "markdown",
      "source": [
        "### **Training by loading different checkpoints**"
      ],
      "metadata": {
        "id": "Ojf-VwEnCzEZ"
      }
    },
    {
      "cell_type": "code",
      "execution_count": null,
      "metadata": {
        "colab": {
          "base_uri": "https://localhost:8080/",
          "height": 465
        },
        "id": "35JriPmrUkC-",
        "outputId": "c5ea57ee-8c52-4806-c484-f1912f273896"
      },
      "outputs": [
        {
          "name": "stderr",
          "output_type": "stream",
          "text": [
            "/usr/local/lib/python3.10/dist-packages/transformers/optimization.py:391: FutureWarning: This implementation of AdamW is deprecated and will be removed in a future version. Use the PyTorch implementation torch.optim.AdamW instead, or set `no_deprecation_warning=True` to disable this warning\n",
            "  warnings.warn(\n",
            "`use_cache=True` is incompatible with gradient checkpointing. Setting `use_cache=False`...\n"
          ]
        },
        {
          "data": {
            "text/html": [
              "\n",
              "    <div>\n",
              "      \n",
              "      <progress value='20001' max='312537' style='width:300px; height:20px; vertical-align: middle;'></progress>\n",
              "      [ 20001/312537 3:56:56 < 57:45:51, 1.41 it/s, Epoch 0.19/3]\n",
              "    </div>\n",
              "    <table border=\"1\" class=\"dataframe\">\n",
              "  <thead>\n",
              " <tr style=\"text-align: left;\">\n",
              "      <th>Step</th>\n",
              "      <th>Training Loss</th>\n",
              "      <th>Validation Loss</th>\n",
              "    </tr>\n",
              "  </thead>\n",
              "  <tbody>\n",
              "    <tr>\n",
              "      <td>5000</td>\n",
              "      <td>2.282900</td>\n",
              "      <td>2.270095</td>\n",
              "    </tr>\n",
              "    <tr>\n",
              "      <td>10000</td>\n",
              "      <td>2.216100</td>\n",
              "      <td>2.242140</td>\n",
              "    </tr>\n",
              "    <tr>\n",
              "      <td>15000</td>\n",
              "      <td>2.192500</td>\n",
              "      <td>2.232179</td>\n",
              "    </tr>\n",
              "  </tbody>\n",
              "</table><p>\n",
              "    <div>\n",
              "      \n",
              "      <progress value='22858' max='31843' style='width:300px; height:20px; vertical-align: middle;'></progress>\n",
              "      [22858/31843 30:27 < 11:58, 12.51 it/s]\n",
              "    </div>\n",
              "    "
            ],
            "text/plain": [
              "<IPython.core.display.HTML object>"
            ]
          },
          "metadata": {},
          "output_type": "display_data"
        },
        {
          "data": {
            "text/html": [
              "\n",
              "    <div>\n",
              "      \n",
              "      <progress value='25001' max='312537' style='width:300px; height:20px; vertical-align: middle;'></progress>\n",
              "      [ 25001/312537 5:06:56 < 58:50:23, 1.36 it/s, Epoch 0.24/3]\n",
              "    </div>\n",
              "    <table border=\"1\" class=\"dataframe\">\n",
              "  <thead>\n",
              " <tr style=\"text-align: left;\">\n",
              "      <th>Step</th>\n",
              "      <th>Training Loss</th>\n",
              "      <th>Validation Loss</th>\n",
              "    </tr>\n",
              "  </thead>\n",
              "  <tbody>\n",
              "    <tr>\n",
              "      <td>5000</td>\n",
              "      <td>2.282900</td>\n",
              "      <td>2.270095</td>\n",
              "    </tr>\n",
              "    <tr>\n",
              "      <td>10000</td>\n",
              "      <td>2.216100</td>\n",
              "      <td>2.242140</td>\n",
              "    </tr>\n",
              "    <tr>\n",
              "      <td>15000</td>\n",
              "      <td>2.192500</td>\n",
              "      <td>2.232179</td>\n",
              "    </tr>\n",
              "    <tr>\n",
              "      <td>20000</td>\n",
              "      <td>2.176800</td>\n",
              "      <td>2.221241</td>\n",
              "    </tr>\n",
              "  </tbody>\n",
              "</table><p>\n",
              "    <div>\n",
              "      \n",
              "      <progress value='8836' max='31843' style='width:300px; height:20px; vertical-align: middle;'></progress>\n",
              "      [ 8836/31843 11:45 < 30:37, 12.52 it/s]\n",
              "    </div>\n",
              "    "
            ],
            "text/plain": [
              "<IPython.core.display.HTML object>"
            ]
          },
          "metadata": {},
          "output_type": "display_data"
        }
      ],
      "source": [
        "trainer_arxiv.train()"
      ]
    },
    {
      "cell_type": "code",
      "execution_count": null,
      "metadata": {
        "colab": {
          "base_uri": "https://localhost:8080/",
          "height": 371,
          "referenced_widgets": [
            "1ec6106641914a62ab4f6fe1384e3b81",
            "1148998c37ac431d9eed590edf82f923",
            "aed57a4145e64f139a29b9513fd69cfe",
            "d8231857c3884e429e666fe19fcb61f9",
            "d1c4b40863854698b6d805ac86b792fb",
            "9aa02c9cf9f74bebac8fcf25ca39e74d",
            "1fd480497ab2487897d16280dcca6e36",
            "85a89863d57c422695bcc6e728c1c66c",
            "9b0aa5f25b8942788ee256cbf59aa890",
            "dbe7b477ce8c4d54b721a6e5a80cfb5f",
            "af1b407c36404ca8b8b6fea3c97969a1"
          ]
        },
        "outputId": "ffdd66c4-6838-4e6b-dab2-37d468877603",
        "id": "ibk4RFM3X3x7"
      },
      "outputs": [
        {
          "metadata": {
            "tags": null
          },
          "name": "stderr",
          "output_type": "stream",
          "text": [
            "/usr/local/lib/python3.10/dist-packages/transformers/optimization.py:391: FutureWarning: This implementation of AdamW is deprecated and will be removed in a future version. Use the PyTorch implementation torch.optim.AdamW instead, or set `no_deprecation_warning=True` to disable this warning\n",
            "  warnings.warn(\n"
          ]
        },
        {
          "data": {
            "application/vnd.jupyter.widget-view+json": {
              "model_id": "1ec6106641914a62ab4f6fe1384e3b81",
              "version_major": 2,
              "version_minor": 0
            },
            "text/plain": [
              "  0%|          | 0/20000 [00:00<?, ?it/s]"
            ]
          },
          "metadata": {},
          "output_type": "display_data"
        },
        {
          "metadata": {
            "tags": null
          },
          "name": "stderr",
          "output_type": "stream",
          "text": [
            "`use_cache=True` is incompatible with gradient checkpointing. Setting `use_cache=False`...\n"
          ]
        },
        {
          "data": {
            "text/html": [
              "\n",
              "    <div>\n",
              "      \n",
              "      <progress value='30001' max='312537' style='width:300px; height:20px; vertical-align: middle;'></progress>\n",
              "      [ 30001/312537 1:40:15 < 47:12:48, 1.66 it/s, Epoch 0.29/3]\n",
              "    </div>\n",
              "    <table border=\"1\" class=\"dataframe\">\n",
              "  <thead>\n",
              " <tr style=\"text-align: left;\">\n",
              "      <th>Step</th>\n",
              "      <th>Training Loss</th>\n",
              "      <th>Validation Loss</th>\n",
              "    </tr>\n",
              "  </thead>\n",
              "  <tbody>\n",
              "    <tr>\n",
              "      <td>25000</td>\n",
              "      <td>2.156400</td>\n",
              "      <td>2.212852</td>\n",
              "    </tr>\n",
              "  </tbody>\n",
              "</table><p>\n",
              "    <div>\n",
              "      \n",
              "      <progress value='10470' max='31843' style='width:300px; height:20px; vertical-align: middle;'></progress>\n",
              "      [10470/31843 14:23 < 29:22, 12.13 it/s]\n",
              "    </div>\n",
              "    "
            ],
            "text/plain": [
              "<IPython.core.display.HTML object>"
            ]
          },
          "metadata": {},
          "output_type": "display_data"
        },
        {
          "output_type": "display_data",
          "data": {
            "text/plain": [
              "<IPython.core.display.HTML object>"
            ],
            "text/html": [
              "\n",
              "    <div>\n",
              "      \n",
              "      <progress value='35001' max='312537' style='width:300px; height:20px; vertical-align: middle;'></progress>\n",
              "      [ 35001/312537 2:52:22 < 53:09:39, 1.45 it/s, Epoch 0.34/3]\n",
              "    </div>\n",
              "    <table border=\"1\" class=\"dataframe\">\n",
              "  <thead>\n",
              " <tr style=\"text-align: left;\">\n",
              "      <th>Step</th>\n",
              "      <th>Training Loss</th>\n",
              "      <th>Validation Loss</th>\n",
              "    </tr>\n",
              "  </thead>\n",
              "  <tbody>\n",
              "    <tr>\n",
              "      <td>25000</td>\n",
              "      <td>2.156400</td>\n",
              "      <td>2.212852</td>\n",
              "    </tr>\n",
              "    <tr>\n",
              "      <td>30000</td>\n",
              "      <td>2.155000</td>\n",
              "      <td>2.204518</td>\n",
              "    </tr>\n",
              "  </tbody>\n",
              "</table><p>\n",
              "    <div>\n",
              "      \n",
              "      <progress value='12604' max='31843' style='width:300px; height:20px; vertical-align: middle;'></progress>\n",
              "      [12604/31843 17:19 < 26:26, 12.12 it/s]\n",
              "    </div>\n",
              "    "
            ]
          },
          "metadata": {}
        }
      ],
      "source": [
        "trainer_arxiv.train(resume_from_checkpoint=\"drive/My Drive/Colab Notebooks/checkpoint-20000/\")"
      ]
    },
    {
      "cell_type": "code",
      "source": [
        "trainer_arxiv.train(resume_from_checkpoint=\"drive/My Drive/Colab Notebooks/nlp project/arxiv_logs/checkpoint-30000/\")"
      ],
      "metadata": {
        "colab": {
          "base_uri": "https://localhost:8080/",
          "height": 211,
          "referenced_widgets": [
            "38b421c90f754365aa56c5d185268628",
            "d5e89661fba54cde99da83ed13be2afd",
            "c9158270580542db82f11a9f693033cf",
            "566d3c4474d049c08fd6fcaafc48fa02",
            "c3e6ba2f4f3f4daa941e46c294f9f998",
            "9da96deabf7841ce9f36dd12e171caa2",
            "6c783646db0c4c9e860eed7f536c16a9",
            "0aebf0f7aded451cb1fb8d645da28e58",
            "be42669c8fcb464398e5c5ce3f61c0c5",
            "42bd80548e7844208af439f442b2db00",
            "bd4792ac03544b279832942c888749b2"
          ]
        },
        "id": "phNdhqjTVt6e",
        "outputId": "15d95f3a-e0da-4654-e5e7-21f9d5f7df20"
      },
      "execution_count": null,
      "outputs": [
        {
          "output_type": "stream",
          "name": "stderr",
          "text": [
            "/usr/local/lib/python3.10/dist-packages/transformers/optimization.py:391: FutureWarning: This implementation of AdamW is deprecated and will be removed in a future version. Use the PyTorch implementation torch.optim.AdamW instead, or set `no_deprecation_warning=True` to disable this warning\n",
            "  warnings.warn(\n"
          ]
        },
        {
          "output_type": "display_data",
          "data": {
            "text/plain": [
              "  0%|          | 0/30000 [00:00<?, ?it/s]"
            ],
            "application/vnd.jupyter.widget-view+json": {
              "version_major": 2,
              "version_minor": 0,
              "model_id": "38b421c90f754365aa56c5d185268628"
            }
          },
          "metadata": {}
        },
        {
          "output_type": "stream",
          "name": "stderr",
          "text": [
            "`use_cache=True` is incompatible with gradient checkpointing. Setting `use_cache=False`...\n"
          ]
        },
        {
          "output_type": "display_data",
          "data": {
            "text/plain": [
              "<IPython.core.display.HTML object>"
            ],
            "text/html": [
              "\n",
              "    <div>\n",
              "      \n",
              "      <progress value='37483' max='312537' style='width:300px; height:20px; vertical-align: middle;'></progress>\n",
              "      [ 37483/312537 1:27:37 < 53:41:33, 1.42 it/s, Epoch 0.36/3]\n",
              "    </div>\n",
              "    <table border=\"1\" class=\"dataframe\">\n",
              "  <thead>\n",
              " <tr style=\"text-align: left;\">\n",
              "      <th>Step</th>\n",
              "      <th>Training Loss</th>\n",
              "      <th>Validation Loss</th>\n",
              "    </tr>\n",
              "  </thead>\n",
              "  <tbody>\n",
              "    <tr>\n",
              "      <td>35000</td>\n",
              "      <td>2.147000</td>\n",
              "      <td>2.203930</td>\n",
              "    </tr>\n",
              "  </tbody>\n",
              "</table><p>"
            ]
          },
          "metadata": {}
        }
      ]
    },
    {
      "cell_type": "code",
      "source": [
        "trainer_arxiv.train(resume_from_checkpoint=\"drive/My Drive/Colab Notebooks/nlp project/arxiv_logs/checkpoint-35000/\")"
      ],
      "metadata": {
        "colab": {
          "base_uri": "https://localhost:8080/",
          "height": 403,
          "referenced_widgets": [
            "fc285f7889c24c659a4b7dd56bd243c7",
            "be8018e7dbd64cb8a948cd1b44badd81",
            "0607e7971e2548af9e1efa4f98d0821c",
            "ebaade1856334cceadaaa39a966ab245",
            "b7962d36aee34ce6ba136fc5653ef65a",
            "05b035bf350d4e77a047bc96a9dbfc09",
            "61a5927ed6d54bd9bb9312202643c8f0",
            "02350bd2576145b7aa722779332773ae",
            "b9b5e8dd83c9418fa9d74d35f4389c34",
            "774ff06bf48f461f8e54766df26c6e4f",
            "5b726d9028e2412b947d94e4cff67307"
          ]
        },
        "id": "rEJnAvM1sGqG",
        "outputId": "90b39959-b2e4-41ad-a86e-f0106cd16d77"
      },
      "execution_count": null,
      "outputs": [
        {
          "metadata": {
            "tags": null
          },
          "name": "stderr",
          "output_type": "stream",
          "text": [
            "/usr/local/lib/python3.10/dist-packages/transformers/optimization.py:391: FutureWarning: This implementation of AdamW is deprecated and will be removed in a future version. Use the PyTorch implementation torch.optim.AdamW instead, or set `no_deprecation_warning=True` to disable this warning\n",
            "  warnings.warn(\n"
          ]
        },
        {
          "data": {
            "application/vnd.jupyter.widget-view+json": {
              "model_id": "fc285f7889c24c659a4b7dd56bd243c7",
              "version_major": 2,
              "version_minor": 0
            },
            "text/plain": [
              "  0%|          | 0/35000 [00:00<?, ?it/s]"
            ]
          },
          "metadata": {},
          "output_type": "display_data"
        },
        {
          "metadata": {
            "tags": null
          },
          "name": "stderr",
          "output_type": "stream",
          "text": [
            "`use_cache=True` is incompatible with gradient checkpointing. Setting `use_cache=False`...\n"
          ]
        },
        {
          "data": {
            "text/html": [
              "\n",
              "    <div>\n",
              "      \n",
              "      <progress value='50001' max='312537' style='width:300px; height:20px; vertical-align: middle;'></progress>\n",
              "      [ 50001/312537 3:00:02 < 52:31:28, 1.39 it/s, Epoch 0.48/3]\n",
              "    </div>\n",
              "    <table border=\"1\" class=\"dataframe\">\n",
              "  <thead>\n",
              " <tr style=\"text-align: left;\">\n",
              "      <th>Step</th>\n",
              "      <th>Training Loss</th>\n",
              "      <th>Validation Loss</th>\n",
              "    </tr>\n",
              "  </thead>\n",
              "  <tbody>\n",
              "    <tr>\n",
              "      <td>40000</td>\n",
              "      <td>2.134700</td>\n",
              "      <td>2.193405</td>\n",
              "    </tr>\n",
              "    <tr>\n",
              "      <td>45000</td>\n",
              "      <td>2.134200</td>\n",
              "      <td>2.191349</td>\n",
              "    </tr>\n",
              "  </tbody>\n",
              "</table><p>\n",
              "    <div>\n",
              "      \n",
              "      <progress value='7844' max='31843' style='width:300px; height:20px; vertical-align: middle;'></progress>\n",
              "      [ 7844/31843 11:20 < 34:42, 11.52 it/s]\n",
              "    </div>\n",
              "    "
            ],
            "text/plain": [
              "<IPython.core.display.HTML object>"
            ]
          },
          "metadata": {},
          "output_type": "display_data"
        },
        {
          "output_type": "display_data",
          "data": {
            "text/plain": [
              "<IPython.core.display.HTML object>"
            ],
            "text/html": [
              "\n",
              "    <div>\n",
              "      \n",
              "      <progress value='50001' max='312537' style='width:300px; height:20px; vertical-align: middle;'></progress>\n",
              "      [ 50001/312537 3:00:02 < 52:31:28, 1.39 it/s, Epoch 0.48/3]\n",
              "    </div>\n",
              "    <table border=\"1\" class=\"dataframe\">\n",
              "  <thead>\n",
              " <tr style=\"text-align: left;\">\n",
              "      <th>Step</th>\n",
              "      <th>Training Loss</th>\n",
              "      <th>Validation Loss</th>\n",
              "    </tr>\n",
              "  </thead>\n",
              "  <tbody>\n",
              "    <tr>\n",
              "      <td>40000</td>\n",
              "      <td>2.134700</td>\n",
              "      <td>2.193405</td>\n",
              "    </tr>\n",
              "    <tr>\n",
              "      <td>45000</td>\n",
              "      <td>2.134200</td>\n",
              "      <td>2.191349</td>\n",
              "    </tr>\n",
              "  </tbody>\n",
              "</table><p>\n",
              "    <div>\n",
              "      \n",
              "      <progress value='8800' max='31843' style='width:300px; height:20px; vertical-align: middle;'></progress>\n",
              "      [ 8800/31843 12:43 < 33:19, 11.52 it/s]\n",
              "    </div>\n",
              "    "
            ]
          },
          "metadata": {}
        }
      ]
    },
    {
      "cell_type": "code",
      "execution_count": null,
      "metadata": {
        "colab": {
          "base_uri": "https://localhost:8080/",
          "height": 272,
          "referenced_widgets": [
            "dbbba837685041869cb4f532b025fd43",
            "441aeb6390fc4f6cb553a98c7f1c938f",
            "9e6046f2b10147f29c4e67d97eb08fdb",
            "3ff5025eb27f4d5e91eeaa11b12cc695",
            "c903c3044f5c44d39563b31d2bc71278",
            "821bc1dcc0c343afa6c39788d86a4c08",
            "345eb8473cad47efb3145864b9959e02",
            "77ba8e72f6b64fe9b3a57095f53dc23e",
            "7fcf832703a44bf09588a0a797307dbd",
            "176172ecffe1489ba2bb5f17deef18e4",
            "ed40486fadf947359ae00d7eab8e1c6a"
          ]
        },
        "id": "Z_khm0Xbi-63",
        "outputId": "3bda2f62-4900-4a8b-bb33-3b8ca2ecf24d"
      },
      "outputs": [
        {
          "metadata": {
            "tags": null
          },
          "name": "stderr",
          "output_type": "stream",
          "text": [
            "/usr/local/lib/python3.10/dist-packages/transformers/optimization.py:391: FutureWarning: This implementation of AdamW is deprecated and will be removed in a future version. Use the PyTorch implementation torch.optim.AdamW instead, or set `no_deprecation_warning=True` to disable this warning\n",
            "  warnings.warn(\n"
          ]
        },
        {
          "data": {
            "application/vnd.jupyter.widget-view+json": {
              "model_id": "dbbba837685041869cb4f532b025fd43",
              "version_major": 2,
              "version_minor": 0
            },
            "text/plain": [
              "  0%|          | 0/45000 [00:00<?, ?it/s]"
            ]
          },
          "metadata": {},
          "output_type": "display_data"
        },
        {
          "metadata": {
            "tags": null
          },
          "name": "stderr",
          "output_type": "stream",
          "text": [
            "`use_cache=True` is incompatible with gradient checkpointing. Setting `use_cache=False`...\n"
          ]
        },
        {
          "data": {
            "text/html": [
              "\n",
              "    <div>\n",
              "      \n",
              "      <progress value='50656' max='312537' style='width:300px; height:20px; vertical-align: middle;'></progress>\n",
              "      [ 50656/312537 33:03 < 25:30:49, 2.85 it/s, Epoch 0.49/3]\n",
              "    </div>\n",
              "    <table border=\"1\" class=\"dataframe\">\n",
              "  <thead>\n",
              " <tr style=\"text-align: left;\">\n",
              "      <th>Step</th>\n",
              "      <th>Training Loss</th>\n",
              "      <th>Validation Loss</th>\n",
              "    </tr>\n",
              "  </thead>\n",
              "  <tbody>\n",
              "  </tbody>\n",
              "</table><p>"
            ],
            "text/plain": [
              "<IPython.core.display.HTML object>"
            ]
          },
          "metadata": {},
          "output_type": "display_data"
        },
        {
          "output_type": "display_data",
          "data": {
            "text/plain": [
              "<IPython.core.display.HTML object>"
            ],
            "text/html": [
              "\n",
              "    <div>\n",
              "      \n",
              "      <progress value='61692' max='312537' style='width:300px; height:20px; vertical-align: middle;'></progress>\n",
              "      [ 61692/312537 2:24:00 < 36:04:21, 1.93 it/s, Epoch 0.59/3]\n",
              "    </div>\n",
              "    <table border=\"1\" class=\"dataframe\">\n",
              "  <thead>\n",
              " <tr style=\"text-align: left;\">\n",
              "      <th>Step</th>\n",
              "      <th>Training Loss</th>\n",
              "      <th>Validation Loss</th>\n",
              "    </tr>\n",
              "  </thead>\n",
              "  <tbody>\n",
              "    <tr>\n",
              "      <td>60000</td>\n",
              "      <td>2.119700</td>\n",
              "      <td>2.180217</td>\n",
              "    </tr>\n",
              "  </tbody>\n",
              "</table><p>"
            ]
          },
          "metadata": {}
        }
      ],
      "source": [
        "trainer_arxiv.train(resume_from_checkpoint=\"drive/My Drive/Colab Notebooks/nlp project/arxiv_dataset_logs/checkpoint-45000/\")"
      ]
    },
    {
      "cell_type": "code",
      "source": [
        "trainer_arxiv.train(resume_from_checkpoint=\"drive/My Drive/nlpproject_galactica/checkpoint-60000/\")"
      ],
      "metadata": {
        "colab": {
          "base_uri": "https://localhost:8080/",
          "height": 303,
          "referenced_widgets": [
            "fa64d22c8bde480888e84a095dcb901c",
            "12dd1c48ef36492f86b3d1997ae8d9ce",
            "87b8cb95321f4886bed1cdffeccd853d",
            "53cb4977e6414fe2bc1fbed3599a0b98",
            "71a841e5e03243eab5961f838d142da5",
            "b38062779681440891f7b52415ac2df4",
            "e1ba9d3e03ff4e14b094c15a1019dd5b",
            "f88704ba48d84b169f325b6cd09d3667",
            "a96386c2a8de4737b6499877c984d8be",
            "4c2de78679e44ed183a4f30c0f1df2b0",
            "6db73811485642e5ae3ace9815647ad9"
          ]
        },
        "outputId": "fcd0f2df-b3f5-4626-de48-46dd395240bb",
        "id": "2nQ2P2r6mStr"
      },
      "execution_count": null,
      "outputs": [
        {
          "metadata": {
            "tags": null
          },
          "name": "stderr",
          "output_type": "stream",
          "text": [
            "/usr/local/lib/python3.10/dist-packages/transformers/optimization.py:391: FutureWarning: This implementation of AdamW is deprecated and will be removed in a future version. Use the PyTorch implementation torch.optim.AdamW instead, or set `no_deprecation_warning=True` to disable this warning\n",
            "  warnings.warn(\n"
          ]
        },
        {
          "data": {
            "application/vnd.jupyter.widget-view+json": {
              "model_id": "fa64d22c8bde480888e84a095dcb901c",
              "version_major": 2,
              "version_minor": 0
            },
            "text/plain": [
              "  0%|          | 0/60000 [00:00<?, ?it/s]"
            ]
          },
          "metadata": {},
          "output_type": "display_data"
        },
        {
          "metadata": {
            "tags": null
          },
          "name": "stderr",
          "output_type": "stream",
          "text": [
            "`use_cache=True` is incompatible with gradient checkpointing. Setting `use_cache=False`...\n"
          ]
        },
        {
          "data": {
            "text/html": [
              "\n",
              "    <div>\n",
              "      \n",
              "      <progress value='98719' max='312537' style='width:300px; height:20px; vertical-align: middle;'></progress>\n",
              "      [ 98719/312537 57:49 < 5:19:18, 11.16 it/s, Epoch 0.95/3]\n",
              "    </div>\n",
              "    <table border=\"1\" class=\"dataframe\">\n",
              "  <thead>\n",
              " <tr style=\"text-align: left;\">\n",
              "      <th>Step</th>\n",
              "      <th>Training Loss</th>\n",
              "      <th>Validation Loss</th>\n",
              "    </tr>\n",
              "  </thead>\n",
              "  <tbody>\n",
              "  </tbody>\n",
              "</table><p>"
            ],
            "text/plain": [
              "<IPython.core.display.HTML object>"
            ]
          },
          "metadata": {},
          "output_type": "display_data"
        },
        {
          "output_type": "display_data",
          "data": {
            "text/plain": [
              "<IPython.core.display.HTML object>"
            ],
            "text/html": [
              "\n",
              "    <div>\n",
              "      \n",
              "      <progress value='152236' max='312537' style='width:300px; height:20px; vertical-align: middle;'></progress>\n",
              "      [152236/312537 2:39:43 < 4:37:36, 9.62 it/s, Epoch 1.46/3]\n",
              "    </div>\n",
              "    <table border=\"1\" class=\"dataframe\">\n",
              "  <thead>\n",
              " <tr style=\"text-align: left;\">\n",
              "      <th>Step</th>\n",
              "      <th>Training Loss</th>\n",
              "      <th>Validation Loss</th>\n",
              "    </tr>\n",
              "  </thead>\n",
              "  <tbody>\n",
              "    <tr>\n",
              "      <td>100000</td>\n",
              "      <td>2.094300</td>\n",
              "      <td>2.160599</td>\n",
              "    </tr>\n",
              "    <tr>\n",
              "      <td>150000</td>\n",
              "      <td>2.028700</td>\n",
              "      <td>2.148649</td>\n",
              "    </tr>\n",
              "  </tbody>\n",
              "</table><p>"
            ]
          },
          "metadata": {}
        }
      ]
    },
    {
      "cell_type": "code",
      "execution_count": null,
      "metadata": {
        "colab": {
          "base_uri": "https://localhost:8080/",
          "height": 213,
          "referenced_widgets": [
            "598a38358eb54bdeba14443d3b1d8c32",
            "76a1e63d87d14487b9462e60f78129b7",
            "57d4dedf2f564dc88296439c9e7c4ddc",
            "5feb9d532c49403a8f156d88becfee2b",
            "1c0096e283d14bef96000c90b4fe83dd",
            "4c55c31f10794d7d9ad7cee4296e6bf5",
            "ba17b77a58064c148dbe2e2c58ae446c",
            "d1472a4d6b76490e839ebc052e8057b9",
            "d0ae1372291941719f15ebdcc49b38c8",
            "d0dcf1d0760149b19c1105edf82077b6",
            "ef1575a478534ce68e34a06b3b468f99"
          ]
        },
        "outputId": "aecd7f00-d6fa-41d5-9b7d-3785b068c6f2",
        "id": "0RpZWCBbbaaL"
      },
      "outputs": [
        {
          "output_type": "stream",
          "name": "stderr",
          "text": [
            "/usr/local/lib/python3.10/dist-packages/transformers/optimization.py:391: FutureWarning: This implementation of AdamW is deprecated and will be removed in a future version. Use the PyTorch implementation torch.optim.AdamW instead, or set `no_deprecation_warning=True` to disable this warning\n",
            "  warnings.warn(\n"
          ]
        },
        {
          "output_type": "display_data",
          "data": {
            "text/plain": [
              "  0%|          | 0/45821 [00:00<?, ?it/s]"
            ],
            "application/vnd.jupyter.widget-view+json": {
              "version_major": 2,
              "version_minor": 0,
              "model_id": "598a38358eb54bdeba14443d3b1d8c32"
            }
          },
          "metadata": {}
        },
        {
          "output_type": "stream",
          "name": "stderr",
          "text": [
            "`use_cache=True` is incompatible with gradient checkpointing. Setting `use_cache=False`...\n"
          ]
        },
        {
          "output_type": "display_data",
          "data": {
            "text/plain": [
              "<IPython.core.display.HTML object>"
            ],
            "text/html": [
              "\n",
              "    <div>\n",
              "      \n",
              "      <progress value='200136' max='312537' style='width:300px; height:20px; vertical-align: middle;'></progress>\n",
              "      [200136/312537 1:24:31 < 3:09:30, 9.88 it/s, Epoch 1.92/3]\n",
              "    </div>\n",
              "    <table border=\"1\" class=\"dataframe\">\n",
              "  <thead>\n",
              " <tr style=\"text-align: left;\">\n",
              "      <th>Step</th>\n",
              "      <th>Training Loss</th>\n",
              "      <th>Validation Loss</th>\n",
              "    </tr>\n",
              "  </thead>\n",
              "  <tbody>\n",
              "    <tr>\n",
              "      <td>200000</td>\n",
              "      <td>2.012600</td>\n",
              "      <td>2.133157</td>\n",
              "    </tr>\n",
              "  </tbody>\n",
              "</table><p>"
            ]
          },
          "metadata": {}
        }
      ],
      "source": [
        "trainer_arxiv.train(resume_from_checkpoint=\"drive/My Drive/nlpproject_galactica/checkpoint-150000/\")"
      ]
    },
    {
      "cell_type": "code",
      "execution_count": null,
      "metadata": {
        "colab": {
          "base_uri": "https://localhost:8080/",
          "height": 402,
          "referenced_widgets": [
            "598a38358eb54bdeba14443d3b1d8c32",
            "76a1e63d87d14487b9462e60f78129b7",
            "57d4dedf2f564dc88296439c9e7c4ddc",
            "5feb9d532c49403a8f156d88becfee2b",
            "1c0096e283d14bef96000c90b4fe83dd",
            "4c55c31f10794d7d9ad7cee4296e6bf5",
            "ba17b77a58064c148dbe2e2c58ae446c",
            "d1472a4d6b76490e839ebc052e8057b9",
            "d0ae1372291941719f15ebdcc49b38c8",
            "d0dcf1d0760149b19c1105edf82077b6",
            "ef1575a478534ce68e34a06b3b468f99"
          ]
        },
        "outputId": "112a3aac-71fa-4df6-ad39-a24b63f0c7f3",
        "id": "KztbNvShG1x0"
      },
      "outputs": [
        {
          "metadata": {
            "tags": null
          },
          "name": "stderr",
          "output_type": "stream",
          "text": [
            "/usr/local/lib/python3.10/dist-packages/transformers/optimization.py:391: FutureWarning: This implementation of AdamW is deprecated and will be removed in a future version. Use the PyTorch implementation torch.optim.AdamW instead, or set `no_deprecation_warning=True` to disable this warning\n",
            "  warnings.warn(\n"
          ]
        },
        {
          "data": {
            "application/vnd.jupyter.widget-view+json": {
              "model_id": "598a38358eb54bdeba14443d3b1d8c32",
              "version_major": 2,
              "version_minor": 0
            },
            "text/plain": [
              "  0%|          | 0/45821 [00:00<?, ?it/s]"
            ]
          },
          "metadata": {},
          "output_type": "display_data"
        },
        {
          "metadata": {
            "tags": null
          },
          "name": "stderr",
          "output_type": "stream",
          "text": [
            "`use_cache=True` is incompatible with gradient checkpointing. Setting `use_cache=False`...\n"
          ]
        },
        {
          "data": {
            "text/html": [
              "\n",
              "    <div>\n",
              "      \n",
              "      <progress value='230640' max='312537' style='width:300px; height:20px; vertical-align: middle;'></progress>\n",
              "      [230640/312537 2:09:37 < 2:11:39, 10.37 it/s, Epoch 2.21/3]\n",
              "    </div>\n",
              "    <table border=\"1\" class=\"dataframe\">\n",
              "  <thead>\n",
              " <tr style=\"text-align: left;\">\n",
              "      <th>Step</th>\n",
              "      <th>Training Loss</th>\n",
              "      <th>Validation Loss</th>\n",
              "    </tr>\n",
              "  </thead>\n",
              "  <tbody>\n",
              "    <tr>\n",
              "      <td>200000</td>\n",
              "      <td>2.012600</td>\n",
              "      <td>2.133157</td>\n",
              "    </tr>\n",
              "  </tbody>\n",
              "</table><p>"
            ],
            "text/plain": [
              "<IPython.core.display.HTML object>"
            ]
          },
          "metadata": {},
          "output_type": "display_data"
        },
        {
          "output_type": "display_data",
          "data": {
            "text/plain": [
              "<IPython.core.display.HTML object>"
            ],
            "text/html": [
              "\n",
              "    <div>\n",
              "      \n",
              "      <progress value='312537' max='312537' style='width:300px; height:20px; vertical-align: middle;'></progress>\n",
              "      [312537/312537 4:32:07, Epoch 3/3]\n",
              "    </div>\n",
              "    <table border=\"1\" class=\"dataframe\">\n",
              "  <thead>\n",
              " <tr style=\"text-align: left;\">\n",
              "      <th>Step</th>\n",
              "      <th>Training Loss</th>\n",
              "      <th>Validation Loss</th>\n",
              "    </tr>\n",
              "  </thead>\n",
              "  <tbody>\n",
              "    <tr>\n",
              "      <td>200000</td>\n",
              "      <td>2.012600</td>\n",
              "      <td>2.133157</td>\n",
              "    </tr>\n",
              "    <tr>\n",
              "      <td>250000</td>\n",
              "      <td>1.966100</td>\n",
              "      <td>2.131736</td>\n",
              "    </tr>\n",
              "    <tr>\n",
              "      <td>300000</td>\n",
              "      <td>1.951100</td>\n",
              "      <td>2.123894</td>\n",
              "    </tr>\n",
              "  </tbody>\n",
              "</table><p>"
            ]
          },
          "metadata": {}
        },
        {
          "output_type": "execute_result",
          "data": {
            "text/plain": [
              "TrainOutput(global_step=312537, training_loss=1.0268085696153575, metrics={'train_runtime': 16430.968, 'train_samples_per_second': 152.169, 'train_steps_per_second': 19.021, 'total_flos': 1.63252727119872e+17, 'train_loss': 1.0268085696153575, 'epoch': 3.0})"
            ]
          },
          "metadata": {},
          "execution_count": 16
        }
      ],
      "source": [
        "trainer_arxiv.train(resume_from_checkpoint=\"drive/My Drive/nlpproject_galactica/checkpoint-150000/\")"
      ]
    },
    {
      "cell_type": "markdown",
      "metadata": {
        "id": "OlReU2HyfeGJ"
      },
      "source": [
        "# **Testing**"
      ]
    },
    {
      "cell_type": "markdown",
      "source": [
        "### **Perplexity calculation**"
      ],
      "metadata": {
        "id": "feJh319_DAK2"
      }
    },
    {
      "cell_type": "code",
      "execution_count": null,
      "metadata": {
        "colab": {
          "base_uri": "https://localhost:8080/",
          "height": 55
        },
        "outputId": "0fd09788-2e6f-40ef-c793-db06400b7864",
        "id": "sCMmw8w0Jd6s"
      },
      "outputs": [
        {
          "output_type": "display_data",
          "data": {
            "text/plain": [
              "<IPython.core.display.HTML object>"
            ],
            "text/html": [
              "\n",
              "    <div>\n",
              "      \n",
              "      <progress value='31843' max='31843' style='width:300px; height:20px; vertical-align: middle;'></progress>\n",
              "      [31843/31843 10:38]\n",
              "    </div>\n",
              "    "
            ]
          },
          "metadata": {}
        },
        {
          "output_type": "stream",
          "name": "stdout",
          "text": [
            "Perplexity: 8.35\n"
          ]
        }
      ],
      "source": [
        "import math\n",
        "eval_results = trainer_arxiv.evaluate()\n",
        "print(f\"Perplexity: {math.exp(eval_results['eval_loss']):.2f}\")"
      ]
    },
    {
      "cell_type": "code",
      "execution_count": null,
      "metadata": {
        "colab": {
          "base_uri": "https://localhost:8080/",
          "height": 128
        },
        "outputId": "c830c0d9-984b-4a7b-92f2-209cac255ecf",
        "id": "Y0t0wqsNL5A8"
      },
      "outputs": [
        {
          "output_type": "display_data",
          "data": {
            "text/plain": [
              "<IPython.core.display.HTML object>"
            ],
            "text/html": [
              "\n",
              "    <div>\n",
              "      \n",
              "      <progress value='63200' max='31843' style='width:300px; height:20px; vertical-align: middle;'></progress>\n",
              "      [31843/31843 22:34]\n",
              "    </div>\n",
              "    "
            ]
          },
          "metadata": {}
        },
        {
          "output_type": "execute_result",
          "data": {
            "text/plain": [
              "{'eval_loss': 2.119905948638916,\n",
              " 'eval_runtime': 629.6581,\n",
              " 'eval_samples_per_second': 398.394,\n",
              " 'eval_steps_per_second': 49.8,\n",
              " 'epoch': 3.0}"
            ]
          },
          "metadata": {},
          "execution_count": 18
        }
      ],
      "source": [
        "test_result=trainer_arxiv.evaluate(arxiv_datasets[\"test\"])\n",
        "test_result"
      ]
    },
    {
      "cell_type": "markdown",
      "source": [
        "# **Inference**"
      ],
      "metadata": {
        "id": "ozsm5LS0MORU"
      }
    },
    {
      "cell_type": "code",
      "source": [
        "from transformers import AutoTokenizer, AutoModelForSeq2SeqLM,AutoModelForCausalLM,TFAutoModelForCausalLM\n",
        "\n",
        "# loading tokenzir and finetuned model\n",
        "name = \"mrm8488/galactica-125m\"\n",
        "tokenizer = AutoTokenizer.from_pretrained(\"mrm8488/galactica-125m\")\n",
        "\n"
      ],
      "metadata": {
        "id": "jjiticdrS3_L",
        "colab": {
          "base_uri": "https://localhost:8080/"
        },
        "outputId": "7a0f2c7a-dd38-4134-9ea7-29950ae9b7c5"
      },
      "execution_count": null,
      "outputs": [
        {
          "output_type": "stream",
          "name": "stderr",
          "text": [
            "Special tokens have been added in the vocabulary, make sure the associated word embeddings are fine-tuned or trained.\n"
          ]
        }
      ]
    },
    {
      "cell_type": "code",
      "source": [
        "model_res = AutoModelForCausalLM.from_pretrained(\"drive/My Drive/Colab Notebooks/nlp project/arxiv_dataset_logs/checkpoint-150000/\")"
      ],
      "metadata": {
        "id": "C77N3gSSMX1o"
      },
      "execution_count": null,
      "outputs": []
    },
    {
      "cell_type": "code",
      "source": [
        "document = \"\"\"additive models @xcite provide an important family of models for semiparametric regression or classification . some reasons for the success of additive models are their increased flexibility when compared to linear or generalized linear models and their increased interpretability when compared to fully nonparametric models . it is well - known that good estimators in additive models are in general less prone to the curse of high dimensionality than good estimators in fully nonparametric models . many examples of such estimators belong to the large class of regularized kernel based methods over a reproducing kernel hilbert space @xmath0 , see e.g. @xcite . in the last years many interesting results on learning rates of regularized kernel based models for additive models have been published when the focus is on sparsity and when the classical least squares loss function is used , see e.g. @xcite , @xcite , @xcite , @xcite , @xcite , @xcite and the references therein . of course , the least squares loss function is differentiable and has many nice mathematical properties , but it is only locally lipschitz continuous and therefore regularized kernel based methods based on this loss function typically suffer on bad statistical robustness properties , even if the kernel is bounded . this is in sharp contrast to kernel methods based on a lipschitz continuous loss function and on a bounded loss function , where results on upper bounds for the maxbias bias and on a bounded influence function are known , see e.g. @xcite for the general case and @xcite for additive models . therefore , we will here consider the case of regularized kernel based methods based on a general convex and lipschitz continuous loss function , on a general kernel , and on the classical regularizing term @xmath1 for some @xmath2 which is a smoothness penalty but not a sparsity penalty , see e.g. @xcite . such regularized kernel based methods are now often called support vector machines ( svms ) , although the notation was historically used for such methods based on the special hinge loss function and for special kernels only , we refer to @xcite . in this paper we address the open question , whether an svm with an additive kernel can provide a substantially better learning rate in high dimensions than an svm with a general kernel , say a classical gaussian rbf kernel , if the assumption of an additive model is satisfied . our leading example covers learning rates for quantile regression based on the lipschitz continuous but non - differentiable pinball loss function , which is also called check function in the literature , see e.g. @xcite and @xcite for parametric quantile regression and @xcite , @xcite , and @xcite for kernel based quantile regression . we will not address the question how to check whether the assumption of an additive model is satisfied because this would be a topic of a paper of its own . of course , a practical approach might be to fit both models and compare their risks evaluated for test data . for the same reason we will also not cover sparsity . consistency of support vector machines generated by additive kernels for additive models was considered in @xcite . in this paper we establish learning rates for these algorithms . let us recall the framework with a complete separable metric space @xmath3 as the input space and a closed subset @xmath4 of @xmath5 as the output space . a borel probability measure @xmath6 on @xmath7 is used to model the learning problem and an independent and identically distributed sample @xmath8 is drawn according to @xmath6 for learning . a loss function @xmath9 is used to measure the quality of a prediction function @xmath10 by the local error @xmath11 . _ throughout the paper we assume that @xmath12 is measurable , @xmath13 , convex with respect to the third variable , and uniformly lipschitz continuous satisfying @xmath14 with a finite constant @xmath15 . _ support vector machines ( svms ) considered here are kernel - based regularization schemes in a reproducing kernel hilbert space ( rkhs ) @xmath0 generated by a mercer kernel @xmath16 . with a shifted loss function @xmath17 introduced for dealing even with heavy - tailed distributions as @xmath18 , they take the form @xmath19 where for a general borel measure @xmath20 on @xmath21 , the function @xmath22 is defined by @xmath23 where @xmath24 is a regularization parameter . the idea to shift a loss function has a long history , see e.g. @xcite in the context of m - estimators . it was shown in @xcite that @xmath22 is also a minimizer of the following optimization problem involving the original loss function @xmath12 if a minimizer exists : @xmath25 the additive model we consider consists of the _ input space decomposition _ @xmath26 with each @xmath27 a complete separable metric space and a _ hypothesis space _ @xmath28 where @xmath29 is a set of functions @xmath30 each of which is also identified as a map @xmath31 from @xmath3 to @xmath5 . hence the functions from @xmath32 take the additive form @xmath33 . we mention , that there is strictly speaking a notational problem here , because in the previous formula each quantity @xmath34 is an element of the set @xmath35 which is a subset of the full input space @xmath36 , @xmath37 , whereas in the definition of sample @xmath8 each quantity @xmath38 is an element of the full input space @xmath36 , where @xmath39 . because these notations will only be used in different places and because we do not expect any misunderstandings , we think this notation is easier and more intuitive than specifying these quantities with different symbols . the additive kernel @xmath40 is defined in terms of mercer kernels @xmath41 on @xmath27 as @xmath42 it generates an rkhs @xmath0 which can be written in terms of the rkhs @xmath43 generated by @xmath41 on @xmath27 corresponding to the form ( [ additive ] ) as @xmath44 with norm given by @xmath45 the norm of @xmath46 satisfies @xmath47 to illustrate advantages of additive models , we provide two examples of comparing additive with product kernels . the first example deals with gaussian rbf kernels . all proofs will be given in section [ proofsection ] . [ gaussadd ] let @xmath48 , @xmath49 $ ] and @xmath50 ^ 2.$ ] let @xmath51 and @xmath52.\\ ] ] the additive kernel @xmath53 is given by @xmath54 furthermore , the product kernel @xmath55 is the standard gaussian kernel given by @xmath56 define a gaussian function @xmath57 on @xmath58 ^ 2 $ ] depending only on one variable by @xmath59 then @xmath60 but @xmath61 where @xmath62 denotes the rkhs generated by the standard gaussian rbf kernel @xmath63 . the second example is about sobolev kernels . [ sobolvadd ] let @xmath64 , @xmath65 $ ] and @xmath58^s.$ ] let @xmath66 : = \\bigl\\{u\\in l_2([0,1 ] ) ; d^\\alpha u \\in l_2([0,1 ] ) \\mbox{~for~all~}|\\alpha|\\le 1\\bigr\\}\\ ] ] be the sobolev space consisting of all square integrable univariate functions whose derivative is also square integrable . it is an rkhs with a mercer kernel @xmath67 defined on @xmath68 ^ 2 $ ] . if we take all the mercer kernels @xmath69 to be @xmath67 , then @xmath70 $ ] for each @xmath71 . the additive kernel @xmath72 is also a mercer kernel and defines an rkhs @xmath73\\right\\}.\\ ] ] however , the multivariate sobolev space @xmath74^s)$ ] , consisting of all square integrable functions whose partial derivatives are all square integrable , contains discontinuous functions and is not an rkhs . denote the marginal distribution of @xmath6 on @xmath27 as @xmath75 . under the assumption that @xmath76 for each @xmath71 and that @xmath43 is dense in @xmath29 in the @xmath77-metric , it was proved in @xcite that @xmath78 in probability as long as @xmath79 satisfies @xmath80 and @xmath81 . the rest of the paper has the following structure . section [ ratessection ] contains our main results on learning rates for svms based on additive kernels . learning rates for quantile regression are treated as important special cases . section [ comparisonsection ] contains a comparison of our results with other learning rates published recently . section [ proofsection ] contains all the proofs and some results which can be interesting in their own . in this paper we provide some learning rates for the support vector machines generated by additive kernels for additive models which helps improve the quantitative understanding presented in @xcite . the rates are about asymptotic behaviors of the excess risk @xmath82 and take the form @xmath83 with @xmath84 . they will be stated under three kinds of conditions involving the hypothesis space @xmath0 , the measure @xmath6 , the loss @xmath12 , and the choice of the regularization parameter @xmath85 . the first condition is about the approximation ability of the hypothesis space @xmath0 . since the output function @xmath19 is from the hypothesis space , the learning rates of the learning algorithm depend on the approximation ability of the hypothesis space @xmath0 with respect to the optimal risk @xmath86 measured by the following approximation error . [ defapprox ] the approximation error of the triple @xmath87 is defined as @xmath88 to estimate the approximation error , we make an assumption about the minimizer of the risk @xmath89 for each @xmath90 , define the integral operator @xmath91 associated with the kernel @xmath41 by @xmath92 we mention that @xmath93 is a compact and positive operator on @xmath94 . hence we can find its normalized eigenpairs @xmath95 such that @xmath96 is an orthonormal basis of @xmath94 and @xmath97 as @xmath98 . fix @xmath99 . then we can define the @xmath100-th power @xmath101 of @xmath93 by @xmath102 this is a positive and bounded operator and its range is well - defined . the assumption @xmath103 means @xmath104 lies in this range . [ assumption1 ] we assume @xmath105 and @xmath106 where for some @xmath107 and each @xmath108 , @xmath109 is a function of the form @xmath110 with some @xmath111 . the case @xmath112 of assumption [ assumption1 ] means each @xmath113 lies in the rkhs @xmath43 . a standard condition in the literature ( e.g. , @xcite ) for achieving decays of the form @xmath114 for the approximation error ( [ approxerrordef ] ) is @xmath115 with some @xmath116 . here the operator @xmath117 is defined by @xmath118 in general , this can not be written in an additive form . however , the hypothesis space ( [ additive ] ) takes an additive form @xmath119 . so it is natural for us to impose an additive expression @xmath120 for the target function @xmath121 with the component functions @xmath113 satisfying the power condition @xmath110 . the above natural assumption leads to a technical difficulty in estimating the approximation error : the function @xmath113 has no direct connection to the marginal distribution @xmath122 projected onto @xmath27 , hence existing methods in the literature ( e.g. , @xcite ) can not be applied directly . note that on the product space @xmath123 , there is no natural probability measure projected from @xmath6 , and the risk on @xmath124 is not defined . our idea to overcome the difficulty is to introduce an intermediate function @xmath125 . it may not minimize a risk ( which is not even defined ) . however , it approximates the component function @xmath113 well . when we add up such functions @xmath126 , we get a good approximation of the target function @xmath121 , and thereby a good estimate of the approximation error . this is the first novelty of the paper . [ approxerrorthm ] under assumption [ assumption1 ] , we have @xmath127 where @xmath128 is the constant given by @xmath129 the second condition for our learning rates is about the capacity of the hypothesis space measured by @xmath130-empirical covering numbers . let @xmath131 be a set of functions on @xmath21 and @xmath132 for every @xmath133 the * covering number of @xmath131 * with respect to the empirical metric @xmath134 , given by @xmath135 is defined as @xmath136 and the * @xmath130-empirical covering number * of @xmath137 is defined as @xmath138 [ assumption2 ] we assume @xmath139 and that for some @xmath140 , @xmath141 and every @xmath142 , the @xmath130-empirical covering number of the unit ball of @xmath43 satisfies @xmath143 the second novelty of this paper is to observe that the additive nature of the hypothesis space yields the following nice bound with a dimension - independent power exponent for the covering numbers of the balls of the hypothesis space @xmath0 , to be proved in section [ samplesection ] . [ capacitythm ] under assumption [ assumption2 ] , for any @xmath144 and @xmath145 , we have @xmath146 the bound for the covering numbers stated in theorem [ capacitythm ] is special : the power @xmath147 is independent of the number @xmath148 of the components in the additive model . it is well - known @xcite in the literature of function spaces that the covering numbers of balls of the sobolev space @xmath149 on the cube @xmath150^s$ ] of the euclidean space @xmath151 with regularity index @xmath152 has the following asymptotic behavior with @xmath153 : @xmath154 here the power @xmath155 depends linearly on the dimension @xmath148 . similar dimension - dependent bounds for the covering numbers of the rkhss associated with gaussian rbf - kernels can be found in @xcite . the special bound in theorem [ capacitythm ] demonstrates an advantage of the additive model in terms of capacity of the additive hypothesis space . the third condition for our learning rates is about the noise level in the measure @xmath6 with respect to the hypothesis space . before stating the general condition , we consider a special case for quantile regression , to illustrate our general results . let @xmath156 be a quantile parameter . the quantile regression function @xmath157 is defined by its value @xmath158 to be a @xmath159-quantile of @xmath160 , i.e. , a value @xmath161 satisfying @xmath162 the regularization scheme for quantile regression considered here takes the form ( [ algor ] ) with the loss function @xmath12 given by the pinball loss as @xmath163 a noise condition on @xmath6 for quantile regression is defined in @xcite as follows . to this end , let @xmath164 be a probability measure on @xmath165 and @xmath166 . then a real number @xmath167 is called @xmath159-quantile of @xmath164 , if and only if @xmath167 belongs to the set @xmath168\\bigr ) \\ge \\tau \\mbox{~~and~~ } q\\bigl([t , \\infty)\\bigr ) \\ge 1-\\tau\\bigr\\}\\,.\\ ] ] it is well - known that @xmath169 is a compact interval . [ noisecond ] let @xmath166 . 1 . a probability measure @xmath164 on @xmath165 is said to have a * @xmath159-quantile of type @xmath170 * , if there exist a @xmath159-quantile @xmath171 and a constant @xmath172 such that , for all @xmath173 $ ] , we have @xmath174 2 . let @xmath175 $ ] . we say that a probability measure @xmath20 on @xmath176 has a * @xmath159-quantile of @xmath177-average type @xmath170 * if the conditional probability measure @xmath178 has @xmath179-almost surely a @xmath159-quantile of type @xmath170 and the function @xmath180 where @xmath181 is the constant defined in part ( 1 ) , satisfies @xmath182 . one can show that a distribution @xmath164 having a @xmath159-quantile of type @xmath170 has a unique @xmath159-quantile @xmath183 . moreover , if @xmath164 has a lebesgue density @xmath184 then @xmath164 has a @xmath159-quantile of type @xmath170 if @xmath184 is bounded away from zero on @xmath185 $ ] since we can use @xmath186\\}$ ] in ( [ tauquantileoftype2formula ] ) . this assumption is general enough to cover many distributions used in parametric statistics such as gaussian , student s @xmath187 , and logistic distributions ( with @xmath188 ) , gamma and log - normal distributions ( with @xmath189 ) , and uniform and beta distributions ( with @xmath190 $ ] ) . the following theorem , to be proved in section [ proofsection ] , gives a learning rate for the regularization scheme ( [ algor ] ) in the special case of quantile regression . [ quantilethm ] suppose that @xmath191 almost surely for some constant @xmath192 , and that each kernel @xmath41 is @xmath193 with @xmath194 for some @xmath195 . if assumption [ assumption1 ] holds with @xmath112 and @xmath6 has a @xmath159-quantile of @xmath177-average type @xmath170 for some @xmath196 $ ] , then by taking @xmath197 , for any @xmath198 and @xmath199 , with confidence at least @xmath200 we have @xmath201 where @xmath202 is a constant independent of @xmath203 and @xmath204 and @xmath205 please note that the exponent @xmath206 given by ( [ quantilerates2 ] ) for the learning rate in ( [ quantilerates ] ) is independent of the quantile level @xmath159 , of the number @xmath148 of additive components in @xmath207 , and of the dimensions @xmath208 and @xmath209 further note that @xmath210 , if @xmath211 , and @xmath212 if @xmath213 . because @xmath214 can be arbitrarily close to @xmath215 , the learning rate , which is independent of the dimension @xmath216 and given by theorem [ quantilethm ] , is close to @xmath217 for large values of @xmath177 and is close to @xmath218 or better , if @xmath211 . to state our general learning rates , we need an assumption on a _ variance - expectation bound _ which is similar to definition [ noisecond ] in the special case of quantile regression . [ assumption3 ] we assume that there exist an exponent @xmath219 $ ] and a positive constant @xmath220 such that @xmath221 assumption [ assumption3 ] always holds true for @xmath222 . if the triple @xmath223 satisfies some conditions , the exponent @xmath224 can be larger . for example , when @xmath12 is the pinball loss ( [ pinloss ] ) and @xmath6 has a @xmath159-quantile of @xmath177-average type @xmath225 for some @xmath196 $ ] and @xmath226 as defined in @xcite , then @xmath227 . [ mainratesthm ] suppose that @xmath228 is bounded by a constant @xmath229 almost surely . under assumptions [ assumption1 ] to [ assumption3 ] , if we take @xmath198 and @xmath230 for some @xmath231 , then for any @xmath232 , with confidence at least @xmath200 we have @xmath233 where @xmath234 is given by @xmath235 and @xmath202 is constant independent of @xmath203 or @xmath204 ( to be given explicitly in the proof ) . we now add some theoretical and numerical comparisons on the goodness of our learning rates with those from the literature . as already mentioned in the introduction , some reasons for the popularity of additive models are flexibility , increased interpretability , and ( often ) a reduced proneness of the curse of high dimensions . hence it is important to check , whether the learning rate given in theorem [ mainratesthm ] under the assumption of an additive model favourably compares to ( essentially ) optimal learning rates without this assumption . in other words , we need to demonstrate that the main goal of this paper is achieved by theorem [ quantilethm ] and theorem [ mainratesthm ] , i.e. that an svm based on an additive kernel can provide a substantially better learning rate in high dimensions than an svm with a general kernel , say a classical gaussian rbf kernel , provided the assumption of an additive model is satisfied . our learning rate in theorem [ quantilethm ] is new and optimal in the literature of svm for quantile regression . most learning rates in the literature of svm for quantile regression are given for projected output functions @xmath236 , while it is well known that projections improve learning rates @xcite . here the projection operator @xmath237 is defined for any measurable function @xmath10 by @xmath238 sometimes this is called clipping . such results are given in @xcite . for example , under the assumptions that @xmath6 has a @xmath159-quantile of @xmath177-average type @xmath170 , the approximation error condition ( [ approxerrorb ] ) is satisfied for some @xmath239 , and that for some constants @xmath240 , the sequence of eigenvalues @xmath241 of the integral operator @xmath117 satisfies @xmath242 for every @xmath243 , it was shown in @xcite that with confidence at least @xmath200 , @xmath244 where @xmath245 here the parameter @xmath246 measures the capacity of the rkhs @xmath247 and it plays a similar role as half of the parameter @xmath147 in assumption 2 . for a @xmath193 kernel and @xmath112 , one can choose @xmath246 and @xmath147 to be arbitrarily small and the above power index @xmath248 can be taken as @xmath249 . the learning rate in theorem [ quantilethm ] may be improved by relaxing assumption 1 to a sobolev smoothness condition for @xmath121 and a regularity condition for the marginal distribution @xmath250 . for example , one may use a gaussian kernel @xmath251 depending on the sample size @xmath203 and @xcite achieve the approximation error condition ( [ approxerrorb ] ) for some @xmath252 . this is done for quantile regression in @xcite . since we are mainly interested in additive models , we shall not discuss such an extension . [ gaussmore ] let @xmath48 , @xmath49 $ ] and @xmath50 ^ 2.$ ] let @xmath51 and the additive kernel @xmath72 be given by ( [ gaussaddform ] ) with @xmath253 in example [ gaussadd ] as @xmath52.\\ ] ] if the function @xmath121 is given by ( [ gaussfcn ] ) , @xmath191 almost surely for some constant @xmath192 , and @xmath6 has a @xmath159-quantile of @xmath177-average type @xmath170 for some @xmath196 $ ] , then by taking @xmath197 , for any @xmath145 and @xmath199 , ( [ quantilerates ] ) holds with confidence at least @xmath200 . it is unknown whether the above learning rate can be derived by existing approaches in the literature ( e.g. @xcite ) even after projection . note that the kernel in the above example is independent of the sample size . it would be interesting to see whether there exists some @xmath99 such that the function @xmath57 defined by ( [ gaussfcn ] ) lies in the range of the operator @xmath254 . the existence of such a positive index would lead to the approximation error condition ( [ approxerrorb ] ) , see @xcite . let us now add some numerical comparisons on the goodness of our learning rates given by theorem [ mainratesthm ] with those given by @xcite . their corollary 4.12 gives ( essentially ) minmax optimal learning rates for ( clipped ) svms in the context of nonparametric quantile regression using one gaussian rbf kernel on the whole input space under appropriate smoothness assumptions of the target function . let us consider the case that the distribution @xmath6 has a @xmath159-quantile of @xmath177-average type @xmath170 , where @xmath255 , and assume that both corollary 4.12 in @xcite and our theorem [ mainratesthm ] are applicable . i.e. , we assume in particular that @xmath6 is a probability measure on @xmath256 $ ] and that the marginal distribution @xmath257 has a lebesgue density @xmath258 for some @xmath259 . furthermore , suppose that the optimal decision function @xmath260 has ( to make theorem [ mainratesthm ] applicable with @xmath261 $ ] ) the additive structure @xmath207 with each @xmath104 as stated in assumption [ assumption1 ] , where @xmath262 and @xmath263 , with minimal risk @xmath86 and additionally fulfills ( to make corollary 4.12 in @xcite applicable ) @xmath264 where @xmath265 $ ] and @xmath266 denotes a besov space with smoothness parameter @xmath267 . the intuitive meaning of @xmath248 is , that increasing values of @xmath248 correspond to increased smoothness . we refer to ( * ? ? ? * and p. 44 ) for details on besov spaces . it is well - known that the besov space @xmath268 contains the sobolev space @xmath269 for @xmath270 , @xmath271 , and @xmath272 , and that @xmath273 . we mention that if all @xmath41 are suitably chosen wendland kernels , their reproducing kernel hilbert spaces @xmath43 are sobolev spaces , see ( * ? ? ? * thm . 10.35 , p. 160 ) . furthermore , we use the same sequence of regularizing parameters as in ( * ? ? ? 4.9 , cor . 4.12 ) , i.e. , @xmath274 where @xmath275 , @xmath276 , @xmath277 $ ] , and @xmath278 is some user - defined positive constant independent of @xmath279 . for reasons of simplicity , let us fix @xmath280 . then ( * ? ? ? 4.12 ) gives learning rates for the risk of svms for @xmath159-quantile regression , if a single gaussian rbf - kernel on @xmath281 is used for @xmath159-quantile functions of @xmath177-average type @xmath170 with @xmath255 , which are of order @xmath282 hence the learning rate in theorem [ quantilethm ] is better than the one in ( * ? ? ? 4.12 ) in this situation , if @xmath283 provided the assumption of the additive model is valid . table [ table1 ] lists the values of @xmath284 from ( [ explicitratescz2 ] ) for some finite values of the dimension @xmath216 , where @xmath285 . all of these values of @xmath284 are positive with the exceptions if @xmath286 or @xmath287 . this is in contrast to the corresponding exponent in the learning rate by ( * ? ? * cor . 4.12 ) , because @xmath288 table [ table2 ] and figures [ figure1 ] to [ figure2 ] give additional information on the limit @xmath289 . of course , higher values of the exponent indicates faster rates of convergence . it is obvious , that an svm based on an additive kernel has a significantly faster rate of convergence in higher dimensions @xmath216 compared to svm based on a single gaussian rbf kernel defined on the whole input space , of course under the assumption that the additive model is valid . the figures seem to indicate that our learning rate from theorem [ mainratesthm ] is probably not optimal for small dimensions . however , the main focus of the present paper is on high dimensions . .[table1 ] the table lists the limits of the exponents @xmath290 from ( * ? ? ? * cor . 4.12 ) and @xmath291 from theorem [ mainratesthm ] , respectively , if the regularizing parameter @xmath292 is chosen in an optimal manner for the nonparametric setup , i.e. @xmath293 , with @xmath294 for @xmath295 and @xmath296 . recall that @xmath297 $ ] . [ cols= \" > , > , > , > \" , ]\"\"\""
      ],
      "metadata": {
        "id": "JjG3QaKbMZuW"
      },
      "execution_count": null,
      "outputs": []
    },
    {
      "cell_type": "code",
      "source": [
        "result=\"additive models play an important role in semiparametric statistics . this paper gives learning rates for regularized kernel based methods for additive models . these learning rates compare favourably in particular in high dimensions to recent results on optimal learning rates for purely nonparametric regularized kernel based quantile regression using the gaussian radial basis function kernel , provided the assumption of an additive model is valid . additionally , a concrete example is presented to show that a gaussian function depending only on one variable lies in a reproducing kernel hilbert space generated by an additive gaussian kernel , but does not belong to the reproducing kernel hilbert space generated by the multivariate gaussian kernel of the same variance . * key words and phrases . * additive model , kernel , quantile regression , semiparametric , rate of convergence , support vector machine .\""
      ],
      "metadata": {
        "id": "tu6m5MKCO5QH"
      },
      "execution_count": null,
      "outputs": []
    },
    {
      "cell_type": "code",
      "source": [
        "device = \"cuda\" if torch.cuda.is_available() else \"cpu\""
      ],
      "metadata": {
        "id": "xaGhnZQczetP"
      },
      "execution_count": null,
      "outputs": []
    },
    {
      "cell_type": "code",
      "source": [
        "tokenized = tokenizer([document], return_tensors='pt')\n",
        "\n",
        "out = model_res.generate(**tokenized, max_length=128)"
      ],
      "metadata": {
        "id": "wXn0bQtpkj-B",
        "colab": {
          "base_uri": "https://localhost:8080/"
        },
        "outputId": "368a388b-b0ad-476f-f3fb-2a12f766cd16"
      },
      "execution_count": null,
      "outputs": [
        {
          "output_type": "stream",
          "name": "stderr",
          "text": [
            "Input length of input_ids is 564, but `max_length` is set to 128. This can lead to unexpected behavior. You should consider increasing `max_new_tokens`.\n"
          ]
        }
      ]
    },
    {
      "cell_type": "code",
      "source": [
        "with tokenizer.as_target_tokenizer():\n",
        "    print(tokenizer.decode(out[0]))"
      ],
      "metadata": {
        "colab": {
          "base_uri": "https://localhost:8080/"
        },
        "id": "CQu3NU2K8E3v",
        "outputId": "9e23b93d-e1c7-4f86-ac67-0842a908446c"
      },
      "execution_count": null,
      "outputs": [
        {
          "output_type": "stream",
          "name": "stdout",
          "text": [
            "additive models play an important role in semiparametric statistics . this paper gives learning rates for regularized kernel based methods for additive models . these learning rates compare favourably in particular in high dimensions to recent results on optimal learning rates for purely nonparametric regularized kernel based quantile regression using the gaussian radial basis function kernel , provided the assumption of an additive model is valid . additionally , a concrete example is presented to show that a gaussian function depending only on one variable lies in a reproducing kernel hilbert space generated by an additive gaussian kernel , but does not belong to the reproducing kernel hilbert space generated by the multivariate gaussian kernel of the same variance . * key words and phrases . * additive model , kernel , quantile regression , semiparametric , rate of convergence , support vector machine .\n"
          ]
        }
      ]
    },
    {
      "cell_type": "code",
      "source": [
        "len(out)"
      ],
      "metadata": {
        "colab": {
          "base_uri": "https://localhost:8080/"
        },
        "id": "CbpNV9WS8I7B",
        "outputId": "051c83fc-44d6-4551-f0a3-5d96631b18ed"
      },
      "execution_count": null,
      "outputs": [
        {
          "output_type": "execute_result",
          "data": {
            "text/plain": [
              "919"
            ]
          },
          "metadata": {},
          "execution_count": 46
        }
      ]
    }
  ],
  "metadata": {
    "accelerator": "GPU",
    "colab": {
      "provenance": [],
      "gpuType": "T4",
      "authorship_tag": "ABX9TyNLDNm62d+Tu63raXW71a9q"
    },
    "gpuClass": "standard",
    "kernelspec": {
      "display_name": "Python 3",
      "name": "python3"
    },
    "language_info": {
      "name": "python"
    },
    "widgets": {
      "application/vnd.jupyter.widget-state+json": {
        "dbbba837685041869cb4f532b025fd43": {
          "model_module": "@jupyter-widgets/controls",
          "model_name": "HBoxModel",
          "model_module_version": "1.5.0",
          "state": {
            "_dom_classes": [],
            "_model_module": "@jupyter-widgets/controls",
            "_model_module_version": "1.5.0",
            "_model_name": "HBoxModel",
            "_view_count": null,
            "_view_module": "@jupyter-widgets/controls",
            "_view_module_version": "1.5.0",
            "_view_name": "HBoxView",
            "box_style": "",
            "children": [
              "IPY_MODEL_441aeb6390fc4f6cb553a98c7f1c938f",
              "IPY_MODEL_9e6046f2b10147f29c4e67d97eb08fdb",
              "IPY_MODEL_3ff5025eb27f4d5e91eeaa11b12cc695"
            ],
            "layout": "IPY_MODEL_c903c3044f5c44d39563b31d2bc71278"
          }
        },
        "441aeb6390fc4f6cb553a98c7f1c938f": {
          "model_module": "@jupyter-widgets/controls",
          "model_name": "HTMLModel",
          "model_module_version": "1.5.0",
          "state": {
            "_dom_classes": [],
            "_model_module": "@jupyter-widgets/controls",
            "_model_module_version": "1.5.0",
            "_model_name": "HTMLModel",
            "_view_count": null,
            "_view_module": "@jupyter-widgets/controls",
            "_view_module_version": "1.5.0",
            "_view_name": "HTMLView",
            "description": "",
            "description_tooltip": null,
            "layout": "IPY_MODEL_821bc1dcc0c343afa6c39788d86a4c08",
            "placeholder": "​",
            "style": "IPY_MODEL_345eb8473cad47efb3145864b9959e02",
            "value": "Skipping the first batches: 100%"
          }
        },
        "9e6046f2b10147f29c4e67d97eb08fdb": {
          "model_module": "@jupyter-widgets/controls",
          "model_name": "FloatProgressModel",
          "model_module_version": "1.5.0",
          "state": {
            "_dom_classes": [],
            "_model_module": "@jupyter-widgets/controls",
            "_model_module_version": "1.5.0",
            "_model_name": "FloatProgressModel",
            "_view_count": null,
            "_view_module": "@jupyter-widgets/controls",
            "_view_module_version": "1.5.0",
            "_view_name": "ProgressView",
            "bar_style": "success",
            "description": "",
            "description_tooltip": null,
            "layout": "IPY_MODEL_77ba8e72f6b64fe9b3a57095f53dc23e",
            "max": 45000,
            "min": 0,
            "orientation": "horizontal",
            "style": "IPY_MODEL_7fcf832703a44bf09588a0a797307dbd",
            "value": 45000
          }
        },
        "3ff5025eb27f4d5e91eeaa11b12cc695": {
          "model_module": "@jupyter-widgets/controls",
          "model_name": "HTMLModel",
          "model_module_version": "1.5.0",
          "state": {
            "_dom_classes": [],
            "_model_module": "@jupyter-widgets/controls",
            "_model_module_version": "1.5.0",
            "_model_name": "HTMLModel",
            "_view_count": null,
            "_view_module": "@jupyter-widgets/controls",
            "_view_module_version": "1.5.0",
            "_view_name": "HTMLView",
            "description": "",
            "description_tooltip": null,
            "layout": "IPY_MODEL_176172ecffe1489ba2bb5f17deef18e4",
            "placeholder": "​",
            "style": "IPY_MODEL_ed40486fadf947359ae00d7eab8e1c6a",
            "value": " 45000/45000 [02:01&lt;00:00, 500.63it/s]"
          }
        },
        "c903c3044f5c44d39563b31d2bc71278": {
          "model_module": "@jupyter-widgets/base",
          "model_name": "LayoutModel",
          "model_module_version": "1.2.0",
          "state": {
            "_model_module": "@jupyter-widgets/base",
            "_model_module_version": "1.2.0",
            "_model_name": "LayoutModel",
            "_view_count": null,
            "_view_module": "@jupyter-widgets/base",
            "_view_module_version": "1.2.0",
            "_view_name": "LayoutView",
            "align_content": null,
            "align_items": null,
            "align_self": null,
            "border": null,
            "bottom": null,
            "display": null,
            "flex": null,
            "flex_flow": null,
            "grid_area": null,
            "grid_auto_columns": null,
            "grid_auto_flow": null,
            "grid_auto_rows": null,
            "grid_column": null,
            "grid_gap": null,
            "grid_row": null,
            "grid_template_areas": null,
            "grid_template_columns": null,
            "grid_template_rows": null,
            "height": null,
            "justify_content": null,
            "justify_items": null,
            "left": null,
            "margin": null,
            "max_height": null,
            "max_width": null,
            "min_height": null,
            "min_width": null,
            "object_fit": null,
            "object_position": null,
            "order": null,
            "overflow": null,
            "overflow_x": null,
            "overflow_y": null,
            "padding": null,
            "right": null,
            "top": null,
            "visibility": null,
            "width": null
          }
        },
        "821bc1dcc0c343afa6c39788d86a4c08": {
          "model_module": "@jupyter-widgets/base",
          "model_name": "LayoutModel",
          "model_module_version": "1.2.0",
          "state": {
            "_model_module": "@jupyter-widgets/base",
            "_model_module_version": "1.2.0",
            "_model_name": "LayoutModel",
            "_view_count": null,
            "_view_module": "@jupyter-widgets/base",
            "_view_module_version": "1.2.0",
            "_view_name": "LayoutView",
            "align_content": null,
            "align_items": null,
            "align_self": null,
            "border": null,
            "bottom": null,
            "display": null,
            "flex": null,
            "flex_flow": null,
            "grid_area": null,
            "grid_auto_columns": null,
            "grid_auto_flow": null,
            "grid_auto_rows": null,
            "grid_column": null,
            "grid_gap": null,
            "grid_row": null,
            "grid_template_areas": null,
            "grid_template_columns": null,
            "grid_template_rows": null,
            "height": null,
            "justify_content": null,
            "justify_items": null,
            "left": null,
            "margin": null,
            "max_height": null,
            "max_width": null,
            "min_height": null,
            "min_width": null,
            "object_fit": null,
            "object_position": null,
            "order": null,
            "overflow": null,
            "overflow_x": null,
            "overflow_y": null,
            "padding": null,
            "right": null,
            "top": null,
            "visibility": null,
            "width": null
          }
        },
        "345eb8473cad47efb3145864b9959e02": {
          "model_module": "@jupyter-widgets/controls",
          "model_name": "DescriptionStyleModel",
          "model_module_version": "1.5.0",
          "state": {
            "_model_module": "@jupyter-widgets/controls",
            "_model_module_version": "1.5.0",
            "_model_name": "DescriptionStyleModel",
            "_view_count": null,
            "_view_module": "@jupyter-widgets/base",
            "_view_module_version": "1.2.0",
            "_view_name": "StyleView",
            "description_width": ""
          }
        },
        "77ba8e72f6b64fe9b3a57095f53dc23e": {
          "model_module": "@jupyter-widgets/base",
          "model_name": "LayoutModel",
          "model_module_version": "1.2.0",
          "state": {
            "_model_module": "@jupyter-widgets/base",
            "_model_module_version": "1.2.0",
            "_model_name": "LayoutModel",
            "_view_count": null,
            "_view_module": "@jupyter-widgets/base",
            "_view_module_version": "1.2.0",
            "_view_name": "LayoutView",
            "align_content": null,
            "align_items": null,
            "align_self": null,
            "border": null,
            "bottom": null,
            "display": null,
            "flex": null,
            "flex_flow": null,
            "grid_area": null,
            "grid_auto_columns": null,
            "grid_auto_flow": null,
            "grid_auto_rows": null,
            "grid_column": null,
            "grid_gap": null,
            "grid_row": null,
            "grid_template_areas": null,
            "grid_template_columns": null,
            "grid_template_rows": null,
            "height": null,
            "justify_content": null,
            "justify_items": null,
            "left": null,
            "margin": null,
            "max_height": null,
            "max_width": null,
            "min_height": null,
            "min_width": null,
            "object_fit": null,
            "object_position": null,
            "order": null,
            "overflow": null,
            "overflow_x": null,
            "overflow_y": null,
            "padding": null,
            "right": null,
            "top": null,
            "visibility": null,
            "width": null
          }
        },
        "7fcf832703a44bf09588a0a797307dbd": {
          "model_module": "@jupyter-widgets/controls",
          "model_name": "ProgressStyleModel",
          "model_module_version": "1.5.0",
          "state": {
            "_model_module": "@jupyter-widgets/controls",
            "_model_module_version": "1.5.0",
            "_model_name": "ProgressStyleModel",
            "_view_count": null,
            "_view_module": "@jupyter-widgets/base",
            "_view_module_version": "1.2.0",
            "_view_name": "StyleView",
            "bar_color": null,
            "description_width": ""
          }
        },
        "176172ecffe1489ba2bb5f17deef18e4": {
          "model_module": "@jupyter-widgets/base",
          "model_name": "LayoutModel",
          "model_module_version": "1.2.0",
          "state": {
            "_model_module": "@jupyter-widgets/base",
            "_model_module_version": "1.2.0",
            "_model_name": "LayoutModel",
            "_view_count": null,
            "_view_module": "@jupyter-widgets/base",
            "_view_module_version": "1.2.0",
            "_view_name": "LayoutView",
            "align_content": null,
            "align_items": null,
            "align_self": null,
            "border": null,
            "bottom": null,
            "display": null,
            "flex": null,
            "flex_flow": null,
            "grid_area": null,
            "grid_auto_columns": null,
            "grid_auto_flow": null,
            "grid_auto_rows": null,
            "grid_column": null,
            "grid_gap": null,
            "grid_row": null,
            "grid_template_areas": null,
            "grid_template_columns": null,
            "grid_template_rows": null,
            "height": null,
            "justify_content": null,
            "justify_items": null,
            "left": null,
            "margin": null,
            "max_height": null,
            "max_width": null,
            "min_height": null,
            "min_width": null,
            "object_fit": null,
            "object_position": null,
            "order": null,
            "overflow": null,
            "overflow_x": null,
            "overflow_y": null,
            "padding": null,
            "right": null,
            "top": null,
            "visibility": null,
            "width": null
          }
        },
        "ed40486fadf947359ae00d7eab8e1c6a": {
          "model_module": "@jupyter-widgets/controls",
          "model_name": "DescriptionStyleModel",
          "model_module_version": "1.5.0",
          "state": {
            "_model_module": "@jupyter-widgets/controls",
            "_model_module_version": "1.5.0",
            "_model_name": "DescriptionStyleModel",
            "_view_count": null,
            "_view_module": "@jupyter-widgets/base",
            "_view_module_version": "1.2.0",
            "_view_name": "StyleView",
            "description_width": ""
          }
        },
        "425497da828f466e8b91c7cb70bd5b67": {
          "model_module": "@jupyter-widgets/controls",
          "model_name": "HBoxModel",
          "model_module_version": "1.5.0",
          "state": {
            "_dom_classes": [],
            "_model_module": "@jupyter-widgets/controls",
            "_model_module_version": "1.5.0",
            "_model_name": "HBoxModel",
            "_view_count": null,
            "_view_module": "@jupyter-widgets/controls",
            "_view_module_version": "1.5.0",
            "_view_name": "HBoxView",
            "box_style": "",
            "children": [
              "IPY_MODEL_57f66af446c8438196b084b3585ca56d",
              "IPY_MODEL_972baf38218b4b85a9aba19be61427d7",
              "IPY_MODEL_c36c6f07673f4de891256d6c50030c09"
            ],
            "layout": "IPY_MODEL_3f29ebea1fbd4708bfdb72d20391d231"
          }
        },
        "57f66af446c8438196b084b3585ca56d": {
          "model_module": "@jupyter-widgets/controls",
          "model_name": "HTMLModel",
          "model_module_version": "1.5.0",
          "state": {
            "_dom_classes": [],
            "_model_module": "@jupyter-widgets/controls",
            "_model_module_version": "1.5.0",
            "_model_name": "HTMLModel",
            "_view_count": null,
            "_view_module": "@jupyter-widgets/controls",
            "_view_module_version": "1.5.0",
            "_view_name": "HTMLView",
            "description": "",
            "description_tooltip": null,
            "layout": "IPY_MODEL_e59bfbf57cd94c64a7cebc467b0893ca",
            "placeholder": "​",
            "style": "IPY_MODEL_fe5d1069bc024ebdbfea21a590b7ae10",
            "value": "Downloading builder script: 100%"
          }
        },
        "972baf38218b4b85a9aba19be61427d7": {
          "model_module": "@jupyter-widgets/controls",
          "model_name": "FloatProgressModel",
          "model_module_version": "1.5.0",
          "state": {
            "_dom_classes": [],
            "_model_module": "@jupyter-widgets/controls",
            "_model_module_version": "1.5.0",
            "_model_name": "FloatProgressModel",
            "_view_count": null,
            "_view_module": "@jupyter-widgets/controls",
            "_view_module_version": "1.5.0",
            "_view_name": "ProgressView",
            "bar_style": "success",
            "description": "",
            "description_tooltip": null,
            "layout": "IPY_MODEL_87420a31ca6f4bdaa14d9ba6cd74c5b5",
            "max": 5140,
            "min": 0,
            "orientation": "horizontal",
            "style": "IPY_MODEL_9d5ab443f2ac4ec3ae6637c3efb745f9",
            "value": 5140
          }
        },
        "c36c6f07673f4de891256d6c50030c09": {
          "model_module": "@jupyter-widgets/controls",
          "model_name": "HTMLModel",
          "model_module_version": "1.5.0",
          "state": {
            "_dom_classes": [],
            "_model_module": "@jupyter-widgets/controls",
            "_model_module_version": "1.5.0",
            "_model_name": "HTMLModel",
            "_view_count": null,
            "_view_module": "@jupyter-widgets/controls",
            "_view_module_version": "1.5.0",
            "_view_name": "HTMLView",
            "description": "",
            "description_tooltip": null,
            "layout": "IPY_MODEL_907149f179cd4bdf8d52cfcc9ebba885",
            "placeholder": "​",
            "style": "IPY_MODEL_67af796cd5974a66a4e7e054eb689066",
            "value": " 5.14k/5.14k [00:00&lt;00:00, 279kB/s]"
          }
        },
        "3f29ebea1fbd4708bfdb72d20391d231": {
          "model_module": "@jupyter-widgets/base",
          "model_name": "LayoutModel",
          "model_module_version": "1.2.0",
          "state": {
            "_model_module": "@jupyter-widgets/base",
            "_model_module_version": "1.2.0",
            "_model_name": "LayoutModel",
            "_view_count": null,
            "_view_module": "@jupyter-widgets/base",
            "_view_module_version": "1.2.0",
            "_view_name": "LayoutView",
            "align_content": null,
            "align_items": null,
            "align_self": null,
            "border": null,
            "bottom": null,
            "display": null,
            "flex": null,
            "flex_flow": null,
            "grid_area": null,
            "grid_auto_columns": null,
            "grid_auto_flow": null,
            "grid_auto_rows": null,
            "grid_column": null,
            "grid_gap": null,
            "grid_row": null,
            "grid_template_areas": null,
            "grid_template_columns": null,
            "grid_template_rows": null,
            "height": null,
            "justify_content": null,
            "justify_items": null,
            "left": null,
            "margin": null,
            "max_height": null,
            "max_width": null,
            "min_height": null,
            "min_width": null,
            "object_fit": null,
            "object_position": null,
            "order": null,
            "overflow": null,
            "overflow_x": null,
            "overflow_y": null,
            "padding": null,
            "right": null,
            "top": null,
            "visibility": null,
            "width": null
          }
        },
        "e59bfbf57cd94c64a7cebc467b0893ca": {
          "model_module": "@jupyter-widgets/base",
          "model_name": "LayoutModel",
          "model_module_version": "1.2.0",
          "state": {
            "_model_module": "@jupyter-widgets/base",
            "_model_module_version": "1.2.0",
            "_model_name": "LayoutModel",
            "_view_count": null,
            "_view_module": "@jupyter-widgets/base",
            "_view_module_version": "1.2.0",
            "_view_name": "LayoutView",
            "align_content": null,
            "align_items": null,
            "align_self": null,
            "border": null,
            "bottom": null,
            "display": null,
            "flex": null,
            "flex_flow": null,
            "grid_area": null,
            "grid_auto_columns": null,
            "grid_auto_flow": null,
            "grid_auto_rows": null,
            "grid_column": null,
            "grid_gap": null,
            "grid_row": null,
            "grid_template_areas": null,
            "grid_template_columns": null,
            "grid_template_rows": null,
            "height": null,
            "justify_content": null,
            "justify_items": null,
            "left": null,
            "margin": null,
            "max_height": null,
            "max_width": null,
            "min_height": null,
            "min_width": null,
            "object_fit": null,
            "object_position": null,
            "order": null,
            "overflow": null,
            "overflow_x": null,
            "overflow_y": null,
            "padding": null,
            "right": null,
            "top": null,
            "visibility": null,
            "width": null
          }
        },
        "fe5d1069bc024ebdbfea21a590b7ae10": {
          "model_module": "@jupyter-widgets/controls",
          "model_name": "DescriptionStyleModel",
          "model_module_version": "1.5.0",
          "state": {
            "_model_module": "@jupyter-widgets/controls",
            "_model_module_version": "1.5.0",
            "_model_name": "DescriptionStyleModel",
            "_view_count": null,
            "_view_module": "@jupyter-widgets/base",
            "_view_module_version": "1.2.0",
            "_view_name": "StyleView",
            "description_width": ""
          }
        },
        "87420a31ca6f4bdaa14d9ba6cd74c5b5": {
          "model_module": "@jupyter-widgets/base",
          "model_name": "LayoutModel",
          "model_module_version": "1.2.0",
          "state": {
            "_model_module": "@jupyter-widgets/base",
            "_model_module_version": "1.2.0",
            "_model_name": "LayoutModel",
            "_view_count": null,
            "_view_module": "@jupyter-widgets/base",
            "_view_module_version": "1.2.0",
            "_view_name": "LayoutView",
            "align_content": null,
            "align_items": null,
            "align_self": null,
            "border": null,
            "bottom": null,
            "display": null,
            "flex": null,
            "flex_flow": null,
            "grid_area": null,
            "grid_auto_columns": null,
            "grid_auto_flow": null,
            "grid_auto_rows": null,
            "grid_column": null,
            "grid_gap": null,
            "grid_row": null,
            "grid_template_areas": null,
            "grid_template_columns": null,
            "grid_template_rows": null,
            "height": null,
            "justify_content": null,
            "justify_items": null,
            "left": null,
            "margin": null,
            "max_height": null,
            "max_width": null,
            "min_height": null,
            "min_width": null,
            "object_fit": null,
            "object_position": null,
            "order": null,
            "overflow": null,
            "overflow_x": null,
            "overflow_y": null,
            "padding": null,
            "right": null,
            "top": null,
            "visibility": null,
            "width": null
          }
        },
        "9d5ab443f2ac4ec3ae6637c3efb745f9": {
          "model_module": "@jupyter-widgets/controls",
          "model_name": "ProgressStyleModel",
          "model_module_version": "1.5.0",
          "state": {
            "_model_module": "@jupyter-widgets/controls",
            "_model_module_version": "1.5.0",
            "_model_name": "ProgressStyleModel",
            "_view_count": null,
            "_view_module": "@jupyter-widgets/base",
            "_view_module_version": "1.2.0",
            "_view_name": "StyleView",
            "bar_color": null,
            "description_width": ""
          }
        },
        "907149f179cd4bdf8d52cfcc9ebba885": {
          "model_module": "@jupyter-widgets/base",
          "model_name": "LayoutModel",
          "model_module_version": "1.2.0",
          "state": {
            "_model_module": "@jupyter-widgets/base",
            "_model_module_version": "1.2.0",
            "_model_name": "LayoutModel",
            "_view_count": null,
            "_view_module": "@jupyter-widgets/base",
            "_view_module_version": "1.2.0",
            "_view_name": "LayoutView",
            "align_content": null,
            "align_items": null,
            "align_self": null,
            "border": null,
            "bottom": null,
            "display": null,
            "flex": null,
            "flex_flow": null,
            "grid_area": null,
            "grid_auto_columns": null,
            "grid_auto_flow": null,
            "grid_auto_rows": null,
            "grid_column": null,
            "grid_gap": null,
            "grid_row": null,
            "grid_template_areas": null,
            "grid_template_columns": null,
            "grid_template_rows": null,
            "height": null,
            "justify_content": null,
            "justify_items": null,
            "left": null,
            "margin": null,
            "max_height": null,
            "max_width": null,
            "min_height": null,
            "min_width": null,
            "object_fit": null,
            "object_position": null,
            "order": null,
            "overflow": null,
            "overflow_x": null,
            "overflow_y": null,
            "padding": null,
            "right": null,
            "top": null,
            "visibility": null,
            "width": null
          }
        },
        "67af796cd5974a66a4e7e054eb689066": {
          "model_module": "@jupyter-widgets/controls",
          "model_name": "DescriptionStyleModel",
          "model_module_version": "1.5.0",
          "state": {
            "_model_module": "@jupyter-widgets/controls",
            "_model_module_version": "1.5.0",
            "_model_name": "DescriptionStyleModel",
            "_view_count": null,
            "_view_module": "@jupyter-widgets/base",
            "_view_module_version": "1.2.0",
            "_view_name": "StyleView",
            "description_width": ""
          }
        },
        "d44a265aa39e432f9b9d3cb60d1d992a": {
          "model_module": "@jupyter-widgets/controls",
          "model_name": "HBoxModel",
          "model_module_version": "1.5.0",
          "state": {
            "_dom_classes": [],
            "_model_module": "@jupyter-widgets/controls",
            "_model_module_version": "1.5.0",
            "_model_name": "HBoxModel",
            "_view_count": null,
            "_view_module": "@jupyter-widgets/controls",
            "_view_module_version": "1.5.0",
            "_view_name": "HBoxView",
            "box_style": "",
            "children": [
              "IPY_MODEL_08d354b272ca4275b0e0a0edb1fceb5d",
              "IPY_MODEL_873cb5a404184f179e8decf25eb82150",
              "IPY_MODEL_bdd6f7a439ff4a0da2e50881fe337e26"
            ],
            "layout": "IPY_MODEL_3b32df3d7ff94bfd9ac8309b25e2fcc2"
          }
        },
        "08d354b272ca4275b0e0a0edb1fceb5d": {
          "model_module": "@jupyter-widgets/controls",
          "model_name": "HTMLModel",
          "model_module_version": "1.5.0",
          "state": {
            "_dom_classes": [],
            "_model_module": "@jupyter-widgets/controls",
            "_model_module_version": "1.5.0",
            "_model_name": "HTMLModel",
            "_view_count": null,
            "_view_module": "@jupyter-widgets/controls",
            "_view_module_version": "1.5.0",
            "_view_name": "HTMLView",
            "description": "",
            "description_tooltip": null,
            "layout": "IPY_MODEL_a1e6f3ca4405412bac7b5ec8c24f2574",
            "placeholder": "​",
            "style": "IPY_MODEL_7c781134b959428d952b436bb19efbb5",
            "value": "Downloading readme: 100%"
          }
        },
        "873cb5a404184f179e8decf25eb82150": {
          "model_module": "@jupyter-widgets/controls",
          "model_name": "FloatProgressModel",
          "model_module_version": "1.5.0",
          "state": {
            "_dom_classes": [],
            "_model_module": "@jupyter-widgets/controls",
            "_model_module_version": "1.5.0",
            "_model_name": "FloatProgressModel",
            "_view_count": null,
            "_view_module": "@jupyter-widgets/controls",
            "_view_module_version": "1.5.0",
            "_view_name": "ProgressView",
            "bar_style": "success",
            "description": "",
            "description_tooltip": null,
            "layout": "IPY_MODEL_256d08799ea74cdb999dc7ad341f0ec7",
            "max": 2829,
            "min": 0,
            "orientation": "horizontal",
            "style": "IPY_MODEL_4d6d3388ed0644bea1ce4d58ded64a95",
            "value": 2829
          }
        },
        "bdd6f7a439ff4a0da2e50881fe337e26": {
          "model_module": "@jupyter-widgets/controls",
          "model_name": "HTMLModel",
          "model_module_version": "1.5.0",
          "state": {
            "_dom_classes": [],
            "_model_module": "@jupyter-widgets/controls",
            "_model_module_version": "1.5.0",
            "_model_name": "HTMLModel",
            "_view_count": null,
            "_view_module": "@jupyter-widgets/controls",
            "_view_module_version": "1.5.0",
            "_view_name": "HTMLView",
            "description": "",
            "description_tooltip": null,
            "layout": "IPY_MODEL_bcf18802aeaa494a8d69e0a83fc4c0fc",
            "placeholder": "​",
            "style": "IPY_MODEL_c8d117fd258443a2801a11aaeb3ace82",
            "value": " 2.83k/2.83k [00:00&lt;00:00, 147kB/s]"
          }
        },
        "3b32df3d7ff94bfd9ac8309b25e2fcc2": {
          "model_module": "@jupyter-widgets/base",
          "model_name": "LayoutModel",
          "model_module_version": "1.2.0",
          "state": {
            "_model_module": "@jupyter-widgets/base",
            "_model_module_version": "1.2.0",
            "_model_name": "LayoutModel",
            "_view_count": null,
            "_view_module": "@jupyter-widgets/base",
            "_view_module_version": "1.2.0",
            "_view_name": "LayoutView",
            "align_content": null,
            "align_items": null,
            "align_self": null,
            "border": null,
            "bottom": null,
            "display": null,
            "flex": null,
            "flex_flow": null,
            "grid_area": null,
            "grid_auto_columns": null,
            "grid_auto_flow": null,
            "grid_auto_rows": null,
            "grid_column": null,
            "grid_gap": null,
            "grid_row": null,
            "grid_template_areas": null,
            "grid_template_columns": null,
            "grid_template_rows": null,
            "height": null,
            "justify_content": null,
            "justify_items": null,
            "left": null,
            "margin": null,
            "max_height": null,
            "max_width": null,
            "min_height": null,
            "min_width": null,
            "object_fit": null,
            "object_position": null,
            "order": null,
            "overflow": null,
            "overflow_x": null,
            "overflow_y": null,
            "padding": null,
            "right": null,
            "top": null,
            "visibility": null,
            "width": null
          }
        },
        "a1e6f3ca4405412bac7b5ec8c24f2574": {
          "model_module": "@jupyter-widgets/base",
          "model_name": "LayoutModel",
          "model_module_version": "1.2.0",
          "state": {
            "_model_module": "@jupyter-widgets/base",
            "_model_module_version": "1.2.0",
            "_model_name": "LayoutModel",
            "_view_count": null,
            "_view_module": "@jupyter-widgets/base",
            "_view_module_version": "1.2.0",
            "_view_name": "LayoutView",
            "align_content": null,
            "align_items": null,
            "align_self": null,
            "border": null,
            "bottom": null,
            "display": null,
            "flex": null,
            "flex_flow": null,
            "grid_area": null,
            "grid_auto_columns": null,
            "grid_auto_flow": null,
            "grid_auto_rows": null,
            "grid_column": null,
            "grid_gap": null,
            "grid_row": null,
            "grid_template_areas": null,
            "grid_template_columns": null,
            "grid_template_rows": null,
            "height": null,
            "justify_content": null,
            "justify_items": null,
            "left": null,
            "margin": null,
            "max_height": null,
            "max_width": null,
            "min_height": null,
            "min_width": null,
            "object_fit": null,
            "object_position": null,
            "order": null,
            "overflow": null,
            "overflow_x": null,
            "overflow_y": null,
            "padding": null,
            "right": null,
            "top": null,
            "visibility": null,
            "width": null
          }
        },
        "7c781134b959428d952b436bb19efbb5": {
          "model_module": "@jupyter-widgets/controls",
          "model_name": "DescriptionStyleModel",
          "model_module_version": "1.5.0",
          "state": {
            "_model_module": "@jupyter-widgets/controls",
            "_model_module_version": "1.5.0",
            "_model_name": "DescriptionStyleModel",
            "_view_count": null,
            "_view_module": "@jupyter-widgets/base",
            "_view_module_version": "1.2.0",
            "_view_name": "StyleView",
            "description_width": ""
          }
        },
        "256d08799ea74cdb999dc7ad341f0ec7": {
          "model_module": "@jupyter-widgets/base",
          "model_name": "LayoutModel",
          "model_module_version": "1.2.0",
          "state": {
            "_model_module": "@jupyter-widgets/base",
            "_model_module_version": "1.2.0",
            "_model_name": "LayoutModel",
            "_view_count": null,
            "_view_module": "@jupyter-widgets/base",
            "_view_module_version": "1.2.0",
            "_view_name": "LayoutView",
            "align_content": null,
            "align_items": null,
            "align_self": null,
            "border": null,
            "bottom": null,
            "display": null,
            "flex": null,
            "flex_flow": null,
            "grid_area": null,
            "grid_auto_columns": null,
            "grid_auto_flow": null,
            "grid_auto_rows": null,
            "grid_column": null,
            "grid_gap": null,
            "grid_row": null,
            "grid_template_areas": null,
            "grid_template_columns": null,
            "grid_template_rows": null,
            "height": null,
            "justify_content": null,
            "justify_items": null,
            "left": null,
            "margin": null,
            "max_height": null,
            "max_width": null,
            "min_height": null,
            "min_width": null,
            "object_fit": null,
            "object_position": null,
            "order": null,
            "overflow": null,
            "overflow_x": null,
            "overflow_y": null,
            "padding": null,
            "right": null,
            "top": null,
            "visibility": null,
            "width": null
          }
        },
        "4d6d3388ed0644bea1ce4d58ded64a95": {
          "model_module": "@jupyter-widgets/controls",
          "model_name": "ProgressStyleModel",
          "model_module_version": "1.5.0",
          "state": {
            "_model_module": "@jupyter-widgets/controls",
            "_model_module_version": "1.5.0",
            "_model_name": "ProgressStyleModel",
            "_view_count": null,
            "_view_module": "@jupyter-widgets/base",
            "_view_module_version": "1.2.0",
            "_view_name": "StyleView",
            "bar_color": null,
            "description_width": ""
          }
        },
        "bcf18802aeaa494a8d69e0a83fc4c0fc": {
          "model_module": "@jupyter-widgets/base",
          "model_name": "LayoutModel",
          "model_module_version": "1.2.0",
          "state": {
            "_model_module": "@jupyter-widgets/base",
            "_model_module_version": "1.2.0",
            "_model_name": "LayoutModel",
            "_view_count": null,
            "_view_module": "@jupyter-widgets/base",
            "_view_module_version": "1.2.0",
            "_view_name": "LayoutView",
            "align_content": null,
            "align_items": null,
            "align_self": null,
            "border": null,
            "bottom": null,
            "display": null,
            "flex": null,
            "flex_flow": null,
            "grid_area": null,
            "grid_auto_columns": null,
            "grid_auto_flow": null,
            "grid_auto_rows": null,
            "grid_column": null,
            "grid_gap": null,
            "grid_row": null,
            "grid_template_areas": null,
            "grid_template_columns": null,
            "grid_template_rows": null,
            "height": null,
            "justify_content": null,
            "justify_items": null,
            "left": null,
            "margin": null,
            "max_height": null,
            "max_width": null,
            "min_height": null,
            "min_width": null,
            "object_fit": null,
            "object_position": null,
            "order": null,
            "overflow": null,
            "overflow_x": null,
            "overflow_y": null,
            "padding": null,
            "right": null,
            "top": null,
            "visibility": null,
            "width": null
          }
        },
        "c8d117fd258443a2801a11aaeb3ace82": {
          "model_module": "@jupyter-widgets/controls",
          "model_name": "DescriptionStyleModel",
          "model_module_version": "1.5.0",
          "state": {
            "_model_module": "@jupyter-widgets/controls",
            "_model_module_version": "1.5.0",
            "_model_name": "DescriptionStyleModel",
            "_view_count": null,
            "_view_module": "@jupyter-widgets/base",
            "_view_module_version": "1.2.0",
            "_view_name": "StyleView",
            "description_width": ""
          }
        },
        "5011898d247f4cc38d09169a4c3121b4": {
          "model_module": "@jupyter-widgets/controls",
          "model_name": "HBoxModel",
          "model_module_version": "1.5.0",
          "state": {
            "_dom_classes": [],
            "_model_module": "@jupyter-widgets/controls",
            "_model_module_version": "1.5.0",
            "_model_name": "HBoxModel",
            "_view_count": null,
            "_view_module": "@jupyter-widgets/controls",
            "_view_module_version": "1.5.0",
            "_view_name": "HBoxView",
            "box_style": "",
            "children": [
              "IPY_MODEL_7f349150260a4cff80bf832254f57db0",
              "IPY_MODEL_d47b1be44ed0488cbd147016ffe1d009",
              "IPY_MODEL_c812c9fc54074a0e9433fd9198e666f5"
            ],
            "layout": "IPY_MODEL_cecc166c6dd74fcf86354bd60ab612d9"
          }
        },
        "7f349150260a4cff80bf832254f57db0": {
          "model_module": "@jupyter-widgets/controls",
          "model_name": "HTMLModel",
          "model_module_version": "1.5.0",
          "state": {
            "_dom_classes": [],
            "_model_module": "@jupyter-widgets/controls",
            "_model_module_version": "1.5.0",
            "_model_name": "HTMLModel",
            "_view_count": null,
            "_view_module": "@jupyter-widgets/controls",
            "_view_module_version": "1.5.0",
            "_view_name": "HTMLView",
            "description": "",
            "description_tooltip": null,
            "layout": "IPY_MODEL_6d0594f1130b4a0ba415d934cb08fbd8",
            "placeholder": "​",
            "style": "IPY_MODEL_1f910fdf508a4c3ab1a1f8b8aaf49cc9",
            "value": "Downloading data: 100%"
          }
        },
        "d47b1be44ed0488cbd147016ffe1d009": {
          "model_module": "@jupyter-widgets/controls",
          "model_name": "FloatProgressModel",
          "model_module_version": "1.5.0",
          "state": {
            "_dom_classes": [],
            "_model_module": "@jupyter-widgets/controls",
            "_model_module_version": "1.5.0",
            "_model_name": "FloatProgressModel",
            "_view_count": null,
            "_view_module": "@jupyter-widgets/controls",
            "_view_module_version": "1.5.0",
            "_view_name": "ProgressView",
            "bar_style": "success",
            "description": "",
            "description_tooltip": null,
            "layout": "IPY_MODEL_ab9f4d124c78481db02d393b37205ed4",
            "max": 3364100438,
            "min": 0,
            "orientation": "horizontal",
            "style": "IPY_MODEL_3cebd0b7578a4467992c2bbdf7d7835e",
            "value": 3364100438
          }
        },
        "c812c9fc54074a0e9433fd9198e666f5": {
          "model_module": "@jupyter-widgets/controls",
          "model_name": "HTMLModel",
          "model_module_version": "1.5.0",
          "state": {
            "_dom_classes": [],
            "_model_module": "@jupyter-widgets/controls",
            "_model_module_version": "1.5.0",
            "_model_name": "HTMLModel",
            "_view_count": null,
            "_view_module": "@jupyter-widgets/controls",
            "_view_module_version": "1.5.0",
            "_view_name": "HTMLView",
            "description": "",
            "description_tooltip": null,
            "layout": "IPY_MODEL_67a43446e0bf432286106596f09936f7",
            "placeholder": "​",
            "style": "IPY_MODEL_8c19cbe8294a4849abc7b1ec7f1676cc",
            "value": " 3.36G/3.36G [00:55&lt;00:00, 100MB/s]"
          }
        },
        "cecc166c6dd74fcf86354bd60ab612d9": {
          "model_module": "@jupyter-widgets/base",
          "model_name": "LayoutModel",
          "model_module_version": "1.2.0",
          "state": {
            "_model_module": "@jupyter-widgets/base",
            "_model_module_version": "1.2.0",
            "_model_name": "LayoutModel",
            "_view_count": null,
            "_view_module": "@jupyter-widgets/base",
            "_view_module_version": "1.2.0",
            "_view_name": "LayoutView",
            "align_content": null,
            "align_items": null,
            "align_self": null,
            "border": null,
            "bottom": null,
            "display": null,
            "flex": null,
            "flex_flow": null,
            "grid_area": null,
            "grid_auto_columns": null,
            "grid_auto_flow": null,
            "grid_auto_rows": null,
            "grid_column": null,
            "grid_gap": null,
            "grid_row": null,
            "grid_template_areas": null,
            "grid_template_columns": null,
            "grid_template_rows": null,
            "height": null,
            "justify_content": null,
            "justify_items": null,
            "left": null,
            "margin": null,
            "max_height": null,
            "max_width": null,
            "min_height": null,
            "min_width": null,
            "object_fit": null,
            "object_position": null,
            "order": null,
            "overflow": null,
            "overflow_x": null,
            "overflow_y": null,
            "padding": null,
            "right": null,
            "top": null,
            "visibility": null,
            "width": null
          }
        },
        "6d0594f1130b4a0ba415d934cb08fbd8": {
          "model_module": "@jupyter-widgets/base",
          "model_name": "LayoutModel",
          "model_module_version": "1.2.0",
          "state": {
            "_model_module": "@jupyter-widgets/base",
            "_model_module_version": "1.2.0",
            "_model_name": "LayoutModel",
            "_view_count": null,
            "_view_module": "@jupyter-widgets/base",
            "_view_module_version": "1.2.0",
            "_view_name": "LayoutView",
            "align_content": null,
            "align_items": null,
            "align_self": null,
            "border": null,
            "bottom": null,
            "display": null,
            "flex": null,
            "flex_flow": null,
            "grid_area": null,
            "grid_auto_columns": null,
            "grid_auto_flow": null,
            "grid_auto_rows": null,
            "grid_column": null,
            "grid_gap": null,
            "grid_row": null,
            "grid_template_areas": null,
            "grid_template_columns": null,
            "grid_template_rows": null,
            "height": null,
            "justify_content": null,
            "justify_items": null,
            "left": null,
            "margin": null,
            "max_height": null,
            "max_width": null,
            "min_height": null,
            "min_width": null,
            "object_fit": null,
            "object_position": null,
            "order": null,
            "overflow": null,
            "overflow_x": null,
            "overflow_y": null,
            "padding": null,
            "right": null,
            "top": null,
            "visibility": null,
            "width": null
          }
        },
        "1f910fdf508a4c3ab1a1f8b8aaf49cc9": {
          "model_module": "@jupyter-widgets/controls",
          "model_name": "DescriptionStyleModel",
          "model_module_version": "1.5.0",
          "state": {
            "_model_module": "@jupyter-widgets/controls",
            "_model_module_version": "1.5.0",
            "_model_name": "DescriptionStyleModel",
            "_view_count": null,
            "_view_module": "@jupyter-widgets/base",
            "_view_module_version": "1.2.0",
            "_view_name": "StyleView",
            "description_width": ""
          }
        },
        "ab9f4d124c78481db02d393b37205ed4": {
          "model_module": "@jupyter-widgets/base",
          "model_name": "LayoutModel",
          "model_module_version": "1.2.0",
          "state": {
            "_model_module": "@jupyter-widgets/base",
            "_model_module_version": "1.2.0",
            "_model_name": "LayoutModel",
            "_view_count": null,
            "_view_module": "@jupyter-widgets/base",
            "_view_module_version": "1.2.0",
            "_view_name": "LayoutView",
            "align_content": null,
            "align_items": null,
            "align_self": null,
            "border": null,
            "bottom": null,
            "display": null,
            "flex": null,
            "flex_flow": null,
            "grid_area": null,
            "grid_auto_columns": null,
            "grid_auto_flow": null,
            "grid_auto_rows": null,
            "grid_column": null,
            "grid_gap": null,
            "grid_row": null,
            "grid_template_areas": null,
            "grid_template_columns": null,
            "grid_template_rows": null,
            "height": null,
            "justify_content": null,
            "justify_items": null,
            "left": null,
            "margin": null,
            "max_height": null,
            "max_width": null,
            "min_height": null,
            "min_width": null,
            "object_fit": null,
            "object_position": null,
            "order": null,
            "overflow": null,
            "overflow_x": null,
            "overflow_y": null,
            "padding": null,
            "right": null,
            "top": null,
            "visibility": null,
            "width": null
          }
        },
        "3cebd0b7578a4467992c2bbdf7d7835e": {
          "model_module": "@jupyter-widgets/controls",
          "model_name": "ProgressStyleModel",
          "model_module_version": "1.5.0",
          "state": {
            "_model_module": "@jupyter-widgets/controls",
            "_model_module_version": "1.5.0",
            "_model_name": "ProgressStyleModel",
            "_view_count": null,
            "_view_module": "@jupyter-widgets/base",
            "_view_module_version": "1.2.0",
            "_view_name": "StyleView",
            "bar_color": null,
            "description_width": ""
          }
        },
        "67a43446e0bf432286106596f09936f7": {
          "model_module": "@jupyter-widgets/base",
          "model_name": "LayoutModel",
          "model_module_version": "1.2.0",
          "state": {
            "_model_module": "@jupyter-widgets/base",
            "_model_module_version": "1.2.0",
            "_model_name": "LayoutModel",
            "_view_count": null,
            "_view_module": "@jupyter-widgets/base",
            "_view_module_version": "1.2.0",
            "_view_name": "LayoutView",
            "align_content": null,
            "align_items": null,
            "align_self": null,
            "border": null,
            "bottom": null,
            "display": null,
            "flex": null,
            "flex_flow": null,
            "grid_area": null,
            "grid_auto_columns": null,
            "grid_auto_flow": null,
            "grid_auto_rows": null,
            "grid_column": null,
            "grid_gap": null,
            "grid_row": null,
            "grid_template_areas": null,
            "grid_template_columns": null,
            "grid_template_rows": null,
            "height": null,
            "justify_content": null,
            "justify_items": null,
            "left": null,
            "margin": null,
            "max_height": null,
            "max_width": null,
            "min_height": null,
            "min_width": null,
            "object_fit": null,
            "object_position": null,
            "order": null,
            "overflow": null,
            "overflow_x": null,
            "overflow_y": null,
            "padding": null,
            "right": null,
            "top": null,
            "visibility": null,
            "width": null
          }
        },
        "8c19cbe8294a4849abc7b1ec7f1676cc": {
          "model_module": "@jupyter-widgets/controls",
          "model_name": "DescriptionStyleModel",
          "model_module_version": "1.5.0",
          "state": {
            "_model_module": "@jupyter-widgets/controls",
            "_model_module_version": "1.5.0",
            "_model_name": "DescriptionStyleModel",
            "_view_count": null,
            "_view_module": "@jupyter-widgets/base",
            "_view_module_version": "1.2.0",
            "_view_name": "StyleView",
            "description_width": ""
          }
        },
        "c821518df1614e6a8bbde8f9958ae67b": {
          "model_module": "@jupyter-widgets/controls",
          "model_name": "HBoxModel",
          "model_module_version": "1.5.0",
          "state": {
            "_dom_classes": [],
            "_model_module": "@jupyter-widgets/controls",
            "_model_module_version": "1.5.0",
            "_model_name": "HBoxModel",
            "_view_count": null,
            "_view_module": "@jupyter-widgets/controls",
            "_view_module_version": "1.5.0",
            "_view_name": "HBoxView",
            "box_style": "",
            "children": [
              "IPY_MODEL_fda2e46c9352484daeacab58224933cf",
              "IPY_MODEL_87e8aaf430f4429e99377c08de19f2ad",
              "IPY_MODEL_b7c06d513cd842ba890fa605560e6d0b"
            ],
            "layout": "IPY_MODEL_9cc5d0ad024341e7b8c7478c9d623f14"
          }
        },
        "fda2e46c9352484daeacab58224933cf": {
          "model_module": "@jupyter-widgets/controls",
          "model_name": "HTMLModel",
          "model_module_version": "1.5.0",
          "state": {
            "_dom_classes": [],
            "_model_module": "@jupyter-widgets/controls",
            "_model_module_version": "1.5.0",
            "_model_name": "HTMLModel",
            "_view_count": null,
            "_view_module": "@jupyter-widgets/controls",
            "_view_module_version": "1.5.0",
            "_view_name": "HTMLView",
            "description": "",
            "description_tooltip": null,
            "layout": "IPY_MODEL_f8cd2d8ef73247579888540b2ebd1525",
            "placeholder": "​",
            "style": "IPY_MODEL_b5962fc1e13c49b69e39b10ec284faba",
            "value": "Downloading data: 100%"
          }
        },
        "87e8aaf430f4429e99377c08de19f2ad": {
          "model_module": "@jupyter-widgets/controls",
          "model_name": "FloatProgressModel",
          "model_module_version": "1.5.0",
          "state": {
            "_dom_classes": [],
            "_model_module": "@jupyter-widgets/controls",
            "_model_module_version": "1.5.0",
            "_model_name": "FloatProgressModel",
            "_view_count": null,
            "_view_module": "@jupyter-widgets/controls",
            "_view_module_version": "1.5.0",
            "_view_name": "ProgressView",
            "bar_style": "success",
            "description": "",
            "description_tooltip": null,
            "layout": "IPY_MODEL_3eb98df0ab964fbda04a2238b405085c",
            "max": 102038141,
            "min": 0,
            "orientation": "horizontal",
            "style": "IPY_MODEL_58ec8bac5e7746839d3fe89c272db763",
            "value": 102038141
          }
        },
        "b7c06d513cd842ba890fa605560e6d0b": {
          "model_module": "@jupyter-widgets/controls",
          "model_name": "HTMLModel",
          "model_module_version": "1.5.0",
          "state": {
            "_dom_classes": [],
            "_model_module": "@jupyter-widgets/controls",
            "_model_module_version": "1.5.0",
            "_model_name": "HTMLModel",
            "_view_count": null,
            "_view_module": "@jupyter-widgets/controls",
            "_view_module_version": "1.5.0",
            "_view_name": "HTMLView",
            "description": "",
            "description_tooltip": null,
            "layout": "IPY_MODEL_62d41906bd394f42be50c671e8ac95c7",
            "placeholder": "​",
            "style": "IPY_MODEL_9a62af8d75504a1d8ed9ea4e5dfc1a3b",
            "value": " 102M/102M [00:01&lt;00:00, 94.7MB/s]"
          }
        },
        "9cc5d0ad024341e7b8c7478c9d623f14": {
          "model_module": "@jupyter-widgets/base",
          "model_name": "LayoutModel",
          "model_module_version": "1.2.0",
          "state": {
            "_model_module": "@jupyter-widgets/base",
            "_model_module_version": "1.2.0",
            "_model_name": "LayoutModel",
            "_view_count": null,
            "_view_module": "@jupyter-widgets/base",
            "_view_module_version": "1.2.0",
            "_view_name": "LayoutView",
            "align_content": null,
            "align_items": null,
            "align_self": null,
            "border": null,
            "bottom": null,
            "display": null,
            "flex": null,
            "flex_flow": null,
            "grid_area": null,
            "grid_auto_columns": null,
            "grid_auto_flow": null,
            "grid_auto_rows": null,
            "grid_column": null,
            "grid_gap": null,
            "grid_row": null,
            "grid_template_areas": null,
            "grid_template_columns": null,
            "grid_template_rows": null,
            "height": null,
            "justify_content": null,
            "justify_items": null,
            "left": null,
            "margin": null,
            "max_height": null,
            "max_width": null,
            "min_height": null,
            "min_width": null,
            "object_fit": null,
            "object_position": null,
            "order": null,
            "overflow": null,
            "overflow_x": null,
            "overflow_y": null,
            "padding": null,
            "right": null,
            "top": null,
            "visibility": null,
            "width": null
          }
        },
        "f8cd2d8ef73247579888540b2ebd1525": {
          "model_module": "@jupyter-widgets/base",
          "model_name": "LayoutModel",
          "model_module_version": "1.2.0",
          "state": {
            "_model_module": "@jupyter-widgets/base",
            "_model_module_version": "1.2.0",
            "_model_name": "LayoutModel",
            "_view_count": null,
            "_view_module": "@jupyter-widgets/base",
            "_view_module_version": "1.2.0",
            "_view_name": "LayoutView",
            "align_content": null,
            "align_items": null,
            "align_self": null,
            "border": null,
            "bottom": null,
            "display": null,
            "flex": null,
            "flex_flow": null,
            "grid_area": null,
            "grid_auto_columns": null,
            "grid_auto_flow": null,
            "grid_auto_rows": null,
            "grid_column": null,
            "grid_gap": null,
            "grid_row": null,
            "grid_template_areas": null,
            "grid_template_columns": null,
            "grid_template_rows": null,
            "height": null,
            "justify_content": null,
            "justify_items": null,
            "left": null,
            "margin": null,
            "max_height": null,
            "max_width": null,
            "min_height": null,
            "min_width": null,
            "object_fit": null,
            "object_position": null,
            "order": null,
            "overflow": null,
            "overflow_x": null,
            "overflow_y": null,
            "padding": null,
            "right": null,
            "top": null,
            "visibility": null,
            "width": null
          }
        },
        "b5962fc1e13c49b69e39b10ec284faba": {
          "model_module": "@jupyter-widgets/controls",
          "model_name": "DescriptionStyleModel",
          "model_module_version": "1.5.0",
          "state": {
            "_model_module": "@jupyter-widgets/controls",
            "_model_module_version": "1.5.0",
            "_model_name": "DescriptionStyleModel",
            "_view_count": null,
            "_view_module": "@jupyter-widgets/base",
            "_view_module_version": "1.2.0",
            "_view_name": "StyleView",
            "description_width": ""
          }
        },
        "3eb98df0ab964fbda04a2238b405085c": {
          "model_module": "@jupyter-widgets/base",
          "model_name": "LayoutModel",
          "model_module_version": "1.2.0",
          "state": {
            "_model_module": "@jupyter-widgets/base",
            "_model_module_version": "1.2.0",
            "_model_name": "LayoutModel",
            "_view_count": null,
            "_view_module": "@jupyter-widgets/base",
            "_view_module_version": "1.2.0",
            "_view_name": "LayoutView",
            "align_content": null,
            "align_items": null,
            "align_self": null,
            "border": null,
            "bottom": null,
            "display": null,
            "flex": null,
            "flex_flow": null,
            "grid_area": null,
            "grid_auto_columns": null,
            "grid_auto_flow": null,
            "grid_auto_rows": null,
            "grid_column": null,
            "grid_gap": null,
            "grid_row": null,
            "grid_template_areas": null,
            "grid_template_columns": null,
            "grid_template_rows": null,
            "height": null,
            "justify_content": null,
            "justify_items": null,
            "left": null,
            "margin": null,
            "max_height": null,
            "max_width": null,
            "min_height": null,
            "min_width": null,
            "object_fit": null,
            "object_position": null,
            "order": null,
            "overflow": null,
            "overflow_x": null,
            "overflow_y": null,
            "padding": null,
            "right": null,
            "top": null,
            "visibility": null,
            "width": null
          }
        },
        "58ec8bac5e7746839d3fe89c272db763": {
          "model_module": "@jupyter-widgets/controls",
          "model_name": "ProgressStyleModel",
          "model_module_version": "1.5.0",
          "state": {
            "_model_module": "@jupyter-widgets/controls",
            "_model_module_version": "1.5.0",
            "_model_name": "ProgressStyleModel",
            "_view_count": null,
            "_view_module": "@jupyter-widgets/base",
            "_view_module_version": "1.2.0",
            "_view_name": "StyleView",
            "bar_color": null,
            "description_width": ""
          }
        },
        "62d41906bd394f42be50c671e8ac95c7": {
          "model_module": "@jupyter-widgets/base",
          "model_name": "LayoutModel",
          "model_module_version": "1.2.0",
          "state": {
            "_model_module": "@jupyter-widgets/base",
            "_model_module_version": "1.2.0",
            "_model_name": "LayoutModel",
            "_view_count": null,
            "_view_module": "@jupyter-widgets/base",
            "_view_module_version": "1.2.0",
            "_view_name": "LayoutView",
            "align_content": null,
            "align_items": null,
            "align_self": null,
            "border": null,
            "bottom": null,
            "display": null,
            "flex": null,
            "flex_flow": null,
            "grid_area": null,
            "grid_auto_columns": null,
            "grid_auto_flow": null,
            "grid_auto_rows": null,
            "grid_column": null,
            "grid_gap": null,
            "grid_row": null,
            "grid_template_areas": null,
            "grid_template_columns": null,
            "grid_template_rows": null,
            "height": null,
            "justify_content": null,
            "justify_items": null,
            "left": null,
            "margin": null,
            "max_height": null,
            "max_width": null,
            "min_height": null,
            "min_width": null,
            "object_fit": null,
            "object_position": null,
            "order": null,
            "overflow": null,
            "overflow_x": null,
            "overflow_y": null,
            "padding": null,
            "right": null,
            "top": null,
            "visibility": null,
            "width": null
          }
        },
        "9a62af8d75504a1d8ed9ea4e5dfc1a3b": {
          "model_module": "@jupyter-widgets/controls",
          "model_name": "DescriptionStyleModel",
          "model_module_version": "1.5.0",
          "state": {
            "_model_module": "@jupyter-widgets/controls",
            "_model_module_version": "1.5.0",
            "_model_name": "DescriptionStyleModel",
            "_view_count": null,
            "_view_module": "@jupyter-widgets/base",
            "_view_module_version": "1.2.0",
            "_view_name": "StyleView",
            "description_width": ""
          }
        },
        "2c29a48aca954f1d9a3b3d28fe047885": {
          "model_module": "@jupyter-widgets/controls",
          "model_name": "HBoxModel",
          "model_module_version": "1.5.0",
          "state": {
            "_dom_classes": [],
            "_model_module": "@jupyter-widgets/controls",
            "_model_module_version": "1.5.0",
            "_model_name": "HBoxModel",
            "_view_count": null,
            "_view_module": "@jupyter-widgets/controls",
            "_view_module_version": "1.5.0",
            "_view_name": "HBoxView",
            "box_style": "",
            "children": [
              "IPY_MODEL_da069a14625b484ea042137ff9fe2387",
              "IPY_MODEL_193b25ee2c9e4e34952fe5e095f5cfbc",
              "IPY_MODEL_64e1b890bd6748d3a20b08f68be0199b"
            ],
            "layout": "IPY_MODEL_06940210a7454d86a1a6661edba0a860"
          }
        },
        "da069a14625b484ea042137ff9fe2387": {
          "model_module": "@jupyter-widgets/controls",
          "model_name": "HTMLModel",
          "model_module_version": "1.5.0",
          "state": {
            "_dom_classes": [],
            "_model_module": "@jupyter-widgets/controls",
            "_model_module_version": "1.5.0",
            "_model_name": "HTMLModel",
            "_view_count": null,
            "_view_module": "@jupyter-widgets/controls",
            "_view_module_version": "1.5.0",
            "_view_name": "HTMLView",
            "description": "",
            "description_tooltip": null,
            "layout": "IPY_MODEL_9a48b0d36c5644378f6abb0a7b2d4c75",
            "placeholder": "​",
            "style": "IPY_MODEL_d6ea93452d9a49a8a5643f265c219999",
            "value": "Downloading data: 100%"
          }
        },
        "193b25ee2c9e4e34952fe5e095f5cfbc": {
          "model_module": "@jupyter-widgets/controls",
          "model_name": "FloatProgressModel",
          "model_module_version": "1.5.0",
          "state": {
            "_dom_classes": [],
            "_model_module": "@jupyter-widgets/controls",
            "_model_module_version": "1.5.0",
            "_model_name": "FloatProgressModel",
            "_view_count": null,
            "_view_module": "@jupyter-widgets/controls",
            "_view_module_version": "1.5.0",
            "_view_name": "ProgressView",
            "bar_style": "success",
            "description": "",
            "description_tooltip": null,
            "layout": "IPY_MODEL_9f41418f6a8940f39744c555c3b47671",
            "max": 102183593,
            "min": 0,
            "orientation": "horizontal",
            "style": "IPY_MODEL_6980ef51b6f440cf9d85c749c1a9e9a2",
            "value": 102183593
          }
        },
        "64e1b890bd6748d3a20b08f68be0199b": {
          "model_module": "@jupyter-widgets/controls",
          "model_name": "HTMLModel",
          "model_module_version": "1.5.0",
          "state": {
            "_dom_classes": [],
            "_model_module": "@jupyter-widgets/controls",
            "_model_module_version": "1.5.0",
            "_model_name": "HTMLModel",
            "_view_count": null,
            "_view_module": "@jupyter-widgets/controls",
            "_view_module_version": "1.5.0",
            "_view_name": "HTMLView",
            "description": "",
            "description_tooltip": null,
            "layout": "IPY_MODEL_378ed785e0a04ec4a6617700c0ecb644",
            "placeholder": "​",
            "style": "IPY_MODEL_0dfbba380853493a905e7c28a33584e8",
            "value": " 102M/102M [00:00&lt;00:00, 108MB/s]"
          }
        },
        "06940210a7454d86a1a6661edba0a860": {
          "model_module": "@jupyter-widgets/base",
          "model_name": "LayoutModel",
          "model_module_version": "1.2.0",
          "state": {
            "_model_module": "@jupyter-widgets/base",
            "_model_module_version": "1.2.0",
            "_model_name": "LayoutModel",
            "_view_count": null,
            "_view_module": "@jupyter-widgets/base",
            "_view_module_version": "1.2.0",
            "_view_name": "LayoutView",
            "align_content": null,
            "align_items": null,
            "align_self": null,
            "border": null,
            "bottom": null,
            "display": null,
            "flex": null,
            "flex_flow": null,
            "grid_area": null,
            "grid_auto_columns": null,
            "grid_auto_flow": null,
            "grid_auto_rows": null,
            "grid_column": null,
            "grid_gap": null,
            "grid_row": null,
            "grid_template_areas": null,
            "grid_template_columns": null,
            "grid_template_rows": null,
            "height": null,
            "justify_content": null,
            "justify_items": null,
            "left": null,
            "margin": null,
            "max_height": null,
            "max_width": null,
            "min_height": null,
            "min_width": null,
            "object_fit": null,
            "object_position": null,
            "order": null,
            "overflow": null,
            "overflow_x": null,
            "overflow_y": null,
            "padding": null,
            "right": null,
            "top": null,
            "visibility": null,
            "width": null
          }
        },
        "9a48b0d36c5644378f6abb0a7b2d4c75": {
          "model_module": "@jupyter-widgets/base",
          "model_name": "LayoutModel",
          "model_module_version": "1.2.0",
          "state": {
            "_model_module": "@jupyter-widgets/base",
            "_model_module_version": "1.2.0",
            "_model_name": "LayoutModel",
            "_view_count": null,
            "_view_module": "@jupyter-widgets/base",
            "_view_module_version": "1.2.0",
            "_view_name": "LayoutView",
            "align_content": null,
            "align_items": null,
            "align_self": null,
            "border": null,
            "bottom": null,
            "display": null,
            "flex": null,
            "flex_flow": null,
            "grid_area": null,
            "grid_auto_columns": null,
            "grid_auto_flow": null,
            "grid_auto_rows": null,
            "grid_column": null,
            "grid_gap": null,
            "grid_row": null,
            "grid_template_areas": null,
            "grid_template_columns": null,
            "grid_template_rows": null,
            "height": null,
            "justify_content": null,
            "justify_items": null,
            "left": null,
            "margin": null,
            "max_height": null,
            "max_width": null,
            "min_height": null,
            "min_width": null,
            "object_fit": null,
            "object_position": null,
            "order": null,
            "overflow": null,
            "overflow_x": null,
            "overflow_y": null,
            "padding": null,
            "right": null,
            "top": null,
            "visibility": null,
            "width": null
          }
        },
        "d6ea93452d9a49a8a5643f265c219999": {
          "model_module": "@jupyter-widgets/controls",
          "model_name": "DescriptionStyleModel",
          "model_module_version": "1.5.0",
          "state": {
            "_model_module": "@jupyter-widgets/controls",
            "_model_module_version": "1.5.0",
            "_model_name": "DescriptionStyleModel",
            "_view_count": null,
            "_view_module": "@jupyter-widgets/base",
            "_view_module_version": "1.2.0",
            "_view_name": "StyleView",
            "description_width": ""
          }
        },
        "9f41418f6a8940f39744c555c3b47671": {
          "model_module": "@jupyter-widgets/base",
          "model_name": "LayoutModel",
          "model_module_version": "1.2.0",
          "state": {
            "_model_module": "@jupyter-widgets/base",
            "_model_module_version": "1.2.0",
            "_model_name": "LayoutModel",
            "_view_count": null,
            "_view_module": "@jupyter-widgets/base",
            "_view_module_version": "1.2.0",
            "_view_name": "LayoutView",
            "align_content": null,
            "align_items": null,
            "align_self": null,
            "border": null,
            "bottom": null,
            "display": null,
            "flex": null,
            "flex_flow": null,
            "grid_area": null,
            "grid_auto_columns": null,
            "grid_auto_flow": null,
            "grid_auto_rows": null,
            "grid_column": null,
            "grid_gap": null,
            "grid_row": null,
            "grid_template_areas": null,
            "grid_template_columns": null,
            "grid_template_rows": null,
            "height": null,
            "justify_content": null,
            "justify_items": null,
            "left": null,
            "margin": null,
            "max_height": null,
            "max_width": null,
            "min_height": null,
            "min_width": null,
            "object_fit": null,
            "object_position": null,
            "order": null,
            "overflow": null,
            "overflow_x": null,
            "overflow_y": null,
            "padding": null,
            "right": null,
            "top": null,
            "visibility": null,
            "width": null
          }
        },
        "6980ef51b6f440cf9d85c749c1a9e9a2": {
          "model_module": "@jupyter-widgets/controls",
          "model_name": "ProgressStyleModel",
          "model_module_version": "1.5.0",
          "state": {
            "_model_module": "@jupyter-widgets/controls",
            "_model_module_version": "1.5.0",
            "_model_name": "ProgressStyleModel",
            "_view_count": null,
            "_view_module": "@jupyter-widgets/base",
            "_view_module_version": "1.2.0",
            "_view_name": "StyleView",
            "bar_color": null,
            "description_width": ""
          }
        },
        "378ed785e0a04ec4a6617700c0ecb644": {
          "model_module": "@jupyter-widgets/base",
          "model_name": "LayoutModel",
          "model_module_version": "1.2.0",
          "state": {
            "_model_module": "@jupyter-widgets/base",
            "_model_module_version": "1.2.0",
            "_model_name": "LayoutModel",
            "_view_count": null,
            "_view_module": "@jupyter-widgets/base",
            "_view_module_version": "1.2.0",
            "_view_name": "LayoutView",
            "align_content": null,
            "align_items": null,
            "align_self": null,
            "border": null,
            "bottom": null,
            "display": null,
            "flex": null,
            "flex_flow": null,
            "grid_area": null,
            "grid_auto_columns": null,
            "grid_auto_flow": null,
            "grid_auto_rows": null,
            "grid_column": null,
            "grid_gap": null,
            "grid_row": null,
            "grid_template_areas": null,
            "grid_template_columns": null,
            "grid_template_rows": null,
            "height": null,
            "justify_content": null,
            "justify_items": null,
            "left": null,
            "margin": null,
            "max_height": null,
            "max_width": null,
            "min_height": null,
            "min_width": null,
            "object_fit": null,
            "object_position": null,
            "order": null,
            "overflow": null,
            "overflow_x": null,
            "overflow_y": null,
            "padding": null,
            "right": null,
            "top": null,
            "visibility": null,
            "width": null
          }
        },
        "0dfbba380853493a905e7c28a33584e8": {
          "model_module": "@jupyter-widgets/controls",
          "model_name": "DescriptionStyleModel",
          "model_module_version": "1.5.0",
          "state": {
            "_model_module": "@jupyter-widgets/controls",
            "_model_module_version": "1.5.0",
            "_model_name": "DescriptionStyleModel",
            "_view_count": null,
            "_view_module": "@jupyter-widgets/base",
            "_view_module_version": "1.2.0",
            "_view_name": "StyleView",
            "description_width": ""
          }
        },
        "fbe00699f4024adcab50b219b188252c": {
          "model_module": "@jupyter-widgets/controls",
          "model_name": "HBoxModel",
          "model_module_version": "1.5.0",
          "state": {
            "_dom_classes": [],
            "_model_module": "@jupyter-widgets/controls",
            "_model_module_version": "1.5.0",
            "_model_name": "HBoxModel",
            "_view_count": null,
            "_view_module": "@jupyter-widgets/controls",
            "_view_module_version": "1.5.0",
            "_view_name": "HBoxView",
            "box_style": "",
            "children": [
              "IPY_MODEL_8819fc04dbbe48c18dbdb5b2120e5ed7",
              "IPY_MODEL_5294745f832c4e1c890728bbab8e7985",
              "IPY_MODEL_c504269cc4d645828ef6da1f24cde1f4"
            ],
            "layout": "IPY_MODEL_718ac5b5f7c74ecb894759cb93fa0fd8"
          }
        },
        "8819fc04dbbe48c18dbdb5b2120e5ed7": {
          "model_module": "@jupyter-widgets/controls",
          "model_name": "HTMLModel",
          "model_module_version": "1.5.0",
          "state": {
            "_dom_classes": [],
            "_model_module": "@jupyter-widgets/controls",
            "_model_module_version": "1.5.0",
            "_model_name": "HTMLModel",
            "_view_count": null,
            "_view_module": "@jupyter-widgets/controls",
            "_view_module_version": "1.5.0",
            "_view_name": "HTMLView",
            "description": "",
            "description_tooltip": null,
            "layout": "IPY_MODEL_fe3166bea1944eaa99e94249b43b4b8d",
            "placeholder": "​",
            "style": "IPY_MODEL_970ca09cf75540518c00de12d695b255",
            "value": "Generating train split: "
          }
        },
        "5294745f832c4e1c890728bbab8e7985": {
          "model_module": "@jupyter-widgets/controls",
          "model_name": "FloatProgressModel",
          "model_module_version": "1.5.0",
          "state": {
            "_dom_classes": [],
            "_model_module": "@jupyter-widgets/controls",
            "_model_module_version": "1.5.0",
            "_model_name": "FloatProgressModel",
            "_view_count": null,
            "_view_module": "@jupyter-widgets/controls",
            "_view_module_version": "1.5.0",
            "_view_name": "ProgressView",
            "bar_style": "info",
            "description": "",
            "description_tooltip": null,
            "layout": "IPY_MODEL_57c2b42ceac24c1fb07d9ed97ac479d0",
            "max": 1,
            "min": 0,
            "orientation": "horizontal",
            "style": "IPY_MODEL_e396c60d25a64da88830a5aa4e0f4ae6",
            "value": 1
          }
        },
        "c504269cc4d645828ef6da1f24cde1f4": {
          "model_module": "@jupyter-widgets/controls",
          "model_name": "HTMLModel",
          "model_module_version": "1.5.0",
          "state": {
            "_dom_classes": [],
            "_model_module": "@jupyter-widgets/controls",
            "_model_module_version": "1.5.0",
            "_model_name": "HTMLModel",
            "_view_count": null,
            "_view_module": "@jupyter-widgets/controls",
            "_view_module_version": "1.5.0",
            "_view_name": "HTMLView",
            "description": "",
            "description_tooltip": null,
            "layout": "IPY_MODEL_b4068334112f40179dfc91e560e2d5d0",
            "placeholder": "​",
            "style": "IPY_MODEL_ee4c54388e0547ba8ca20953a9afc642",
            "value": " 202915/0 [02:02&lt;00:00, 2029.74 examples/s]"
          }
        },
        "718ac5b5f7c74ecb894759cb93fa0fd8": {
          "model_module": "@jupyter-widgets/base",
          "model_name": "LayoutModel",
          "model_module_version": "1.2.0",
          "state": {
            "_model_module": "@jupyter-widgets/base",
            "_model_module_version": "1.2.0",
            "_model_name": "LayoutModel",
            "_view_count": null,
            "_view_module": "@jupyter-widgets/base",
            "_view_module_version": "1.2.0",
            "_view_name": "LayoutView",
            "align_content": null,
            "align_items": null,
            "align_self": null,
            "border": null,
            "bottom": null,
            "display": null,
            "flex": null,
            "flex_flow": null,
            "grid_area": null,
            "grid_auto_columns": null,
            "grid_auto_flow": null,
            "grid_auto_rows": null,
            "grid_column": null,
            "grid_gap": null,
            "grid_row": null,
            "grid_template_areas": null,
            "grid_template_columns": null,
            "grid_template_rows": null,
            "height": null,
            "justify_content": null,
            "justify_items": null,
            "left": null,
            "margin": null,
            "max_height": null,
            "max_width": null,
            "min_height": null,
            "min_width": null,
            "object_fit": null,
            "object_position": null,
            "order": null,
            "overflow": null,
            "overflow_x": null,
            "overflow_y": null,
            "padding": null,
            "right": null,
            "top": null,
            "visibility": "hidden",
            "width": null
          }
        },
        "fe3166bea1944eaa99e94249b43b4b8d": {
          "model_module": "@jupyter-widgets/base",
          "model_name": "LayoutModel",
          "model_module_version": "1.2.0",
          "state": {
            "_model_module": "@jupyter-widgets/base",
            "_model_module_version": "1.2.0",
            "_model_name": "LayoutModel",
            "_view_count": null,
            "_view_module": "@jupyter-widgets/base",
            "_view_module_version": "1.2.0",
            "_view_name": "LayoutView",
            "align_content": null,
            "align_items": null,
            "align_self": null,
            "border": null,
            "bottom": null,
            "display": null,
            "flex": null,
            "flex_flow": null,
            "grid_area": null,
            "grid_auto_columns": null,
            "grid_auto_flow": null,
            "grid_auto_rows": null,
            "grid_column": null,
            "grid_gap": null,
            "grid_row": null,
            "grid_template_areas": null,
            "grid_template_columns": null,
            "grid_template_rows": null,
            "height": null,
            "justify_content": null,
            "justify_items": null,
            "left": null,
            "margin": null,
            "max_height": null,
            "max_width": null,
            "min_height": null,
            "min_width": null,
            "object_fit": null,
            "object_position": null,
            "order": null,
            "overflow": null,
            "overflow_x": null,
            "overflow_y": null,
            "padding": null,
            "right": null,
            "top": null,
            "visibility": null,
            "width": null
          }
        },
        "970ca09cf75540518c00de12d695b255": {
          "model_module": "@jupyter-widgets/controls",
          "model_name": "DescriptionStyleModel",
          "model_module_version": "1.5.0",
          "state": {
            "_model_module": "@jupyter-widgets/controls",
            "_model_module_version": "1.5.0",
            "_model_name": "DescriptionStyleModel",
            "_view_count": null,
            "_view_module": "@jupyter-widgets/base",
            "_view_module_version": "1.2.0",
            "_view_name": "StyleView",
            "description_width": ""
          }
        },
        "57c2b42ceac24c1fb07d9ed97ac479d0": {
          "model_module": "@jupyter-widgets/base",
          "model_name": "LayoutModel",
          "model_module_version": "1.2.0",
          "state": {
            "_model_module": "@jupyter-widgets/base",
            "_model_module_version": "1.2.0",
            "_model_name": "LayoutModel",
            "_view_count": null,
            "_view_module": "@jupyter-widgets/base",
            "_view_module_version": "1.2.0",
            "_view_name": "LayoutView",
            "align_content": null,
            "align_items": null,
            "align_self": null,
            "border": null,
            "bottom": null,
            "display": null,
            "flex": null,
            "flex_flow": null,
            "grid_area": null,
            "grid_auto_columns": null,
            "grid_auto_flow": null,
            "grid_auto_rows": null,
            "grid_column": null,
            "grid_gap": null,
            "grid_row": null,
            "grid_template_areas": null,
            "grid_template_columns": null,
            "grid_template_rows": null,
            "height": null,
            "justify_content": null,
            "justify_items": null,
            "left": null,
            "margin": null,
            "max_height": null,
            "max_width": null,
            "min_height": null,
            "min_width": null,
            "object_fit": null,
            "object_position": null,
            "order": null,
            "overflow": null,
            "overflow_x": null,
            "overflow_y": null,
            "padding": null,
            "right": null,
            "top": null,
            "visibility": null,
            "width": "20px"
          }
        },
        "e396c60d25a64da88830a5aa4e0f4ae6": {
          "model_module": "@jupyter-widgets/controls",
          "model_name": "ProgressStyleModel",
          "model_module_version": "1.5.0",
          "state": {
            "_model_module": "@jupyter-widgets/controls",
            "_model_module_version": "1.5.0",
            "_model_name": "ProgressStyleModel",
            "_view_count": null,
            "_view_module": "@jupyter-widgets/base",
            "_view_module_version": "1.2.0",
            "_view_name": "StyleView",
            "bar_color": null,
            "description_width": ""
          }
        },
        "b4068334112f40179dfc91e560e2d5d0": {
          "model_module": "@jupyter-widgets/base",
          "model_name": "LayoutModel",
          "model_module_version": "1.2.0",
          "state": {
            "_model_module": "@jupyter-widgets/base",
            "_model_module_version": "1.2.0",
            "_model_name": "LayoutModel",
            "_view_count": null,
            "_view_module": "@jupyter-widgets/base",
            "_view_module_version": "1.2.0",
            "_view_name": "LayoutView",
            "align_content": null,
            "align_items": null,
            "align_self": null,
            "border": null,
            "bottom": null,
            "display": null,
            "flex": null,
            "flex_flow": null,
            "grid_area": null,
            "grid_auto_columns": null,
            "grid_auto_flow": null,
            "grid_auto_rows": null,
            "grid_column": null,
            "grid_gap": null,
            "grid_row": null,
            "grid_template_areas": null,
            "grid_template_columns": null,
            "grid_template_rows": null,
            "height": null,
            "justify_content": null,
            "justify_items": null,
            "left": null,
            "margin": null,
            "max_height": null,
            "max_width": null,
            "min_height": null,
            "min_width": null,
            "object_fit": null,
            "object_position": null,
            "order": null,
            "overflow": null,
            "overflow_x": null,
            "overflow_y": null,
            "padding": null,
            "right": null,
            "top": null,
            "visibility": null,
            "width": null
          }
        },
        "ee4c54388e0547ba8ca20953a9afc642": {
          "model_module": "@jupyter-widgets/controls",
          "model_name": "DescriptionStyleModel",
          "model_module_version": "1.5.0",
          "state": {
            "_model_module": "@jupyter-widgets/controls",
            "_model_module_version": "1.5.0",
            "_model_name": "DescriptionStyleModel",
            "_view_count": null,
            "_view_module": "@jupyter-widgets/base",
            "_view_module_version": "1.2.0",
            "_view_name": "StyleView",
            "description_width": ""
          }
        },
        "0442dffc3001464289a2441526d7d199": {
          "model_module": "@jupyter-widgets/controls",
          "model_name": "HBoxModel",
          "model_module_version": "1.5.0",
          "state": {
            "_dom_classes": [],
            "_model_module": "@jupyter-widgets/controls",
            "_model_module_version": "1.5.0",
            "_model_name": "HBoxModel",
            "_view_count": null,
            "_view_module": "@jupyter-widgets/controls",
            "_view_module_version": "1.5.0",
            "_view_name": "HBoxView",
            "box_style": "",
            "children": [
              "IPY_MODEL_bc59d873f57248428726a6e46ddaac35",
              "IPY_MODEL_53144dfbf5c441c288a5310ce0b71477",
              "IPY_MODEL_8d619fafceff458ba975a5963b835951"
            ],
            "layout": "IPY_MODEL_6ae5e09ea56c4b2caf8d5c2d2a7857af"
          }
        },
        "bc59d873f57248428726a6e46ddaac35": {
          "model_module": "@jupyter-widgets/controls",
          "model_name": "HTMLModel",
          "model_module_version": "1.5.0",
          "state": {
            "_dom_classes": [],
            "_model_module": "@jupyter-widgets/controls",
            "_model_module_version": "1.5.0",
            "_model_name": "HTMLModel",
            "_view_count": null,
            "_view_module": "@jupyter-widgets/controls",
            "_view_module_version": "1.5.0",
            "_view_name": "HTMLView",
            "description": "",
            "description_tooltip": null,
            "layout": "IPY_MODEL_457c9646511545bc8050fa7494fdde5c",
            "placeholder": "​",
            "style": "IPY_MODEL_8d3bb68de6f0479482d605ff45aab277",
            "value": "Generating validation split: "
          }
        },
        "53144dfbf5c441c288a5310ce0b71477": {
          "model_module": "@jupyter-widgets/controls",
          "model_name": "FloatProgressModel",
          "model_module_version": "1.5.0",
          "state": {
            "_dom_classes": [],
            "_model_module": "@jupyter-widgets/controls",
            "_model_module_version": "1.5.0",
            "_model_name": "FloatProgressModel",
            "_view_count": null,
            "_view_module": "@jupyter-widgets/controls",
            "_view_module_version": "1.5.0",
            "_view_name": "ProgressView",
            "bar_style": "info",
            "description": "",
            "description_tooltip": null,
            "layout": "IPY_MODEL_1c20d249fb1544de9c5e75f2b5323b47",
            "max": 1,
            "min": 0,
            "orientation": "horizontal",
            "style": "IPY_MODEL_c8d79a013027438e8e63e8af9baec52e",
            "value": 1
          }
        },
        "8d619fafceff458ba975a5963b835951": {
          "model_module": "@jupyter-widgets/controls",
          "model_name": "HTMLModel",
          "model_module_version": "1.5.0",
          "state": {
            "_dom_classes": [],
            "_model_module": "@jupyter-widgets/controls",
            "_model_module_version": "1.5.0",
            "_model_name": "HTMLModel",
            "_view_count": null,
            "_view_module": "@jupyter-widgets/controls",
            "_view_module_version": "1.5.0",
            "_view_name": "HTMLView",
            "description": "",
            "description_tooltip": null,
            "layout": "IPY_MODEL_5996e12c9ada49289d42de5067f46d58",
            "placeholder": "​",
            "style": "IPY_MODEL_6cea08b829844b3cb4298384e43ce9b5",
            "value": " 6426/0 [00:03&lt;00:00, 1602.88 examples/s]"
          }
        },
        "6ae5e09ea56c4b2caf8d5c2d2a7857af": {
          "model_module": "@jupyter-widgets/base",
          "model_name": "LayoutModel",
          "model_module_version": "1.2.0",
          "state": {
            "_model_module": "@jupyter-widgets/base",
            "_model_module_version": "1.2.0",
            "_model_name": "LayoutModel",
            "_view_count": null,
            "_view_module": "@jupyter-widgets/base",
            "_view_module_version": "1.2.0",
            "_view_name": "LayoutView",
            "align_content": null,
            "align_items": null,
            "align_self": null,
            "border": null,
            "bottom": null,
            "display": null,
            "flex": null,
            "flex_flow": null,
            "grid_area": null,
            "grid_auto_columns": null,
            "grid_auto_flow": null,
            "grid_auto_rows": null,
            "grid_column": null,
            "grid_gap": null,
            "grid_row": null,
            "grid_template_areas": null,
            "grid_template_columns": null,
            "grid_template_rows": null,
            "height": null,
            "justify_content": null,
            "justify_items": null,
            "left": null,
            "margin": null,
            "max_height": null,
            "max_width": null,
            "min_height": null,
            "min_width": null,
            "object_fit": null,
            "object_position": null,
            "order": null,
            "overflow": null,
            "overflow_x": null,
            "overflow_y": null,
            "padding": null,
            "right": null,
            "top": null,
            "visibility": "hidden",
            "width": null
          }
        },
        "457c9646511545bc8050fa7494fdde5c": {
          "model_module": "@jupyter-widgets/base",
          "model_name": "LayoutModel",
          "model_module_version": "1.2.0",
          "state": {
            "_model_module": "@jupyter-widgets/base",
            "_model_module_version": "1.2.0",
            "_model_name": "LayoutModel",
            "_view_count": null,
            "_view_module": "@jupyter-widgets/base",
            "_view_module_version": "1.2.0",
            "_view_name": "LayoutView",
            "align_content": null,
            "align_items": null,
            "align_self": null,
            "border": null,
            "bottom": null,
            "display": null,
            "flex": null,
            "flex_flow": null,
            "grid_area": null,
            "grid_auto_columns": null,
            "grid_auto_flow": null,
            "grid_auto_rows": null,
            "grid_column": null,
            "grid_gap": null,
            "grid_row": null,
            "grid_template_areas": null,
            "grid_template_columns": null,
            "grid_template_rows": null,
            "height": null,
            "justify_content": null,
            "justify_items": null,
            "left": null,
            "margin": null,
            "max_height": null,
            "max_width": null,
            "min_height": null,
            "min_width": null,
            "object_fit": null,
            "object_position": null,
            "order": null,
            "overflow": null,
            "overflow_x": null,
            "overflow_y": null,
            "padding": null,
            "right": null,
            "top": null,
            "visibility": null,
            "width": null
          }
        },
        "8d3bb68de6f0479482d605ff45aab277": {
          "model_module": "@jupyter-widgets/controls",
          "model_name": "DescriptionStyleModel",
          "model_module_version": "1.5.0",
          "state": {
            "_model_module": "@jupyter-widgets/controls",
            "_model_module_version": "1.5.0",
            "_model_name": "DescriptionStyleModel",
            "_view_count": null,
            "_view_module": "@jupyter-widgets/base",
            "_view_module_version": "1.2.0",
            "_view_name": "StyleView",
            "description_width": ""
          }
        },
        "1c20d249fb1544de9c5e75f2b5323b47": {
          "model_module": "@jupyter-widgets/base",
          "model_name": "LayoutModel",
          "model_module_version": "1.2.0",
          "state": {
            "_model_module": "@jupyter-widgets/base",
            "_model_module_version": "1.2.0",
            "_model_name": "LayoutModel",
            "_view_count": null,
            "_view_module": "@jupyter-widgets/base",
            "_view_module_version": "1.2.0",
            "_view_name": "LayoutView",
            "align_content": null,
            "align_items": null,
            "align_self": null,
            "border": null,
            "bottom": null,
            "display": null,
            "flex": null,
            "flex_flow": null,
            "grid_area": null,
            "grid_auto_columns": null,
            "grid_auto_flow": null,
            "grid_auto_rows": null,
            "grid_column": null,
            "grid_gap": null,
            "grid_row": null,
            "grid_template_areas": null,
            "grid_template_columns": null,
            "grid_template_rows": null,
            "height": null,
            "justify_content": null,
            "justify_items": null,
            "left": null,
            "margin": null,
            "max_height": null,
            "max_width": null,
            "min_height": null,
            "min_width": null,
            "object_fit": null,
            "object_position": null,
            "order": null,
            "overflow": null,
            "overflow_x": null,
            "overflow_y": null,
            "padding": null,
            "right": null,
            "top": null,
            "visibility": null,
            "width": "20px"
          }
        },
        "c8d79a013027438e8e63e8af9baec52e": {
          "model_module": "@jupyter-widgets/controls",
          "model_name": "ProgressStyleModel",
          "model_module_version": "1.5.0",
          "state": {
            "_model_module": "@jupyter-widgets/controls",
            "_model_module_version": "1.5.0",
            "_model_name": "ProgressStyleModel",
            "_view_count": null,
            "_view_module": "@jupyter-widgets/base",
            "_view_module_version": "1.2.0",
            "_view_name": "StyleView",
            "bar_color": null,
            "description_width": ""
          }
        },
        "5996e12c9ada49289d42de5067f46d58": {
          "model_module": "@jupyter-widgets/base",
          "model_name": "LayoutModel",
          "model_module_version": "1.2.0",
          "state": {
            "_model_module": "@jupyter-widgets/base",
            "_model_module_version": "1.2.0",
            "_model_name": "LayoutModel",
            "_view_count": null,
            "_view_module": "@jupyter-widgets/base",
            "_view_module_version": "1.2.0",
            "_view_name": "LayoutView",
            "align_content": null,
            "align_items": null,
            "align_self": null,
            "border": null,
            "bottom": null,
            "display": null,
            "flex": null,
            "flex_flow": null,
            "grid_area": null,
            "grid_auto_columns": null,
            "grid_auto_flow": null,
            "grid_auto_rows": null,
            "grid_column": null,
            "grid_gap": null,
            "grid_row": null,
            "grid_template_areas": null,
            "grid_template_columns": null,
            "grid_template_rows": null,
            "height": null,
            "justify_content": null,
            "justify_items": null,
            "left": null,
            "margin": null,
            "max_height": null,
            "max_width": null,
            "min_height": null,
            "min_width": null,
            "object_fit": null,
            "object_position": null,
            "order": null,
            "overflow": null,
            "overflow_x": null,
            "overflow_y": null,
            "padding": null,
            "right": null,
            "top": null,
            "visibility": null,
            "width": null
          }
        },
        "6cea08b829844b3cb4298384e43ce9b5": {
          "model_module": "@jupyter-widgets/controls",
          "model_name": "DescriptionStyleModel",
          "model_module_version": "1.5.0",
          "state": {
            "_model_module": "@jupyter-widgets/controls",
            "_model_module_version": "1.5.0",
            "_model_name": "DescriptionStyleModel",
            "_view_count": null,
            "_view_module": "@jupyter-widgets/base",
            "_view_module_version": "1.2.0",
            "_view_name": "StyleView",
            "description_width": ""
          }
        },
        "37349241e0764e6684b347af76185f23": {
          "model_module": "@jupyter-widgets/controls",
          "model_name": "HBoxModel",
          "model_module_version": "1.5.0",
          "state": {
            "_dom_classes": [],
            "_model_module": "@jupyter-widgets/controls",
            "_model_module_version": "1.5.0",
            "_model_name": "HBoxModel",
            "_view_count": null,
            "_view_module": "@jupyter-widgets/controls",
            "_view_module_version": "1.5.0",
            "_view_name": "HBoxView",
            "box_style": "",
            "children": [
              "IPY_MODEL_f629c4feb371418aa7560dc49e569c11",
              "IPY_MODEL_7fcb1e6e1e0348ee8ff3f589900a2f86",
              "IPY_MODEL_cf4d98949499404a81bb43208ab7142e"
            ],
            "layout": "IPY_MODEL_a53fb15aadfe4c3287de694e2d3beb0d"
          }
        },
        "f629c4feb371418aa7560dc49e569c11": {
          "model_module": "@jupyter-widgets/controls",
          "model_name": "HTMLModel",
          "model_module_version": "1.5.0",
          "state": {
            "_dom_classes": [],
            "_model_module": "@jupyter-widgets/controls",
            "_model_module_version": "1.5.0",
            "_model_name": "HTMLModel",
            "_view_count": null,
            "_view_module": "@jupyter-widgets/controls",
            "_view_module_version": "1.5.0",
            "_view_name": "HTMLView",
            "description": "",
            "description_tooltip": null,
            "layout": "IPY_MODEL_f5e4503325c14a31ac29139150f4bd14",
            "placeholder": "​",
            "style": "IPY_MODEL_f257c07c50f2481eb0309d7e46f59ab8",
            "value": "Generating test split: "
          }
        },
        "7fcb1e6e1e0348ee8ff3f589900a2f86": {
          "model_module": "@jupyter-widgets/controls",
          "model_name": "FloatProgressModel",
          "model_module_version": "1.5.0",
          "state": {
            "_dom_classes": [],
            "_model_module": "@jupyter-widgets/controls",
            "_model_module_version": "1.5.0",
            "_model_name": "FloatProgressModel",
            "_view_count": null,
            "_view_module": "@jupyter-widgets/controls",
            "_view_module_version": "1.5.0",
            "_view_name": "ProgressView",
            "bar_style": "info",
            "description": "",
            "description_tooltip": null,
            "layout": "IPY_MODEL_b7c27db6f1294a31b49208831bbfff28",
            "max": 1,
            "min": 0,
            "orientation": "horizontal",
            "style": "IPY_MODEL_2f122a0650ed41989e3a26100b87f3ad",
            "value": 1
          }
        },
        "cf4d98949499404a81bb43208ab7142e": {
          "model_module": "@jupyter-widgets/controls",
          "model_name": "HTMLModel",
          "model_module_version": "1.5.0",
          "state": {
            "_dom_classes": [],
            "_model_module": "@jupyter-widgets/controls",
            "_model_module_version": "1.5.0",
            "_model_name": "HTMLModel",
            "_view_count": null,
            "_view_module": "@jupyter-widgets/controls",
            "_view_module_version": "1.5.0",
            "_view_name": "HTMLView",
            "description": "",
            "description_tooltip": null,
            "layout": "IPY_MODEL_235610d8ada544128dfccc828305b9b6",
            "placeholder": "​",
            "style": "IPY_MODEL_e188ba4faf5147e6acda226bf8890607",
            "value": " 6224/0 [00:03&lt;00:00, 1641.82 examples/s]"
          }
        },
        "a53fb15aadfe4c3287de694e2d3beb0d": {
          "model_module": "@jupyter-widgets/base",
          "model_name": "LayoutModel",
          "model_module_version": "1.2.0",
          "state": {
            "_model_module": "@jupyter-widgets/base",
            "_model_module_version": "1.2.0",
            "_model_name": "LayoutModel",
            "_view_count": null,
            "_view_module": "@jupyter-widgets/base",
            "_view_module_version": "1.2.0",
            "_view_name": "LayoutView",
            "align_content": null,
            "align_items": null,
            "align_self": null,
            "border": null,
            "bottom": null,
            "display": null,
            "flex": null,
            "flex_flow": null,
            "grid_area": null,
            "grid_auto_columns": null,
            "grid_auto_flow": null,
            "grid_auto_rows": null,
            "grid_column": null,
            "grid_gap": null,
            "grid_row": null,
            "grid_template_areas": null,
            "grid_template_columns": null,
            "grid_template_rows": null,
            "height": null,
            "justify_content": null,
            "justify_items": null,
            "left": null,
            "margin": null,
            "max_height": null,
            "max_width": null,
            "min_height": null,
            "min_width": null,
            "object_fit": null,
            "object_position": null,
            "order": null,
            "overflow": null,
            "overflow_x": null,
            "overflow_y": null,
            "padding": null,
            "right": null,
            "top": null,
            "visibility": "hidden",
            "width": null
          }
        },
        "f5e4503325c14a31ac29139150f4bd14": {
          "model_module": "@jupyter-widgets/base",
          "model_name": "LayoutModel",
          "model_module_version": "1.2.0",
          "state": {
            "_model_module": "@jupyter-widgets/base",
            "_model_module_version": "1.2.0",
            "_model_name": "LayoutModel",
            "_view_count": null,
            "_view_module": "@jupyter-widgets/base",
            "_view_module_version": "1.2.0",
            "_view_name": "LayoutView",
            "align_content": null,
            "align_items": null,
            "align_self": null,
            "border": null,
            "bottom": null,
            "display": null,
            "flex": null,
            "flex_flow": null,
            "grid_area": null,
            "grid_auto_columns": null,
            "grid_auto_flow": null,
            "grid_auto_rows": null,
            "grid_column": null,
            "grid_gap": null,
            "grid_row": null,
            "grid_template_areas": null,
            "grid_template_columns": null,
            "grid_template_rows": null,
            "height": null,
            "justify_content": null,
            "justify_items": null,
            "left": null,
            "margin": null,
            "max_height": null,
            "max_width": null,
            "min_height": null,
            "min_width": null,
            "object_fit": null,
            "object_position": null,
            "order": null,
            "overflow": null,
            "overflow_x": null,
            "overflow_y": null,
            "padding": null,
            "right": null,
            "top": null,
            "visibility": null,
            "width": null
          }
        },
        "f257c07c50f2481eb0309d7e46f59ab8": {
          "model_module": "@jupyter-widgets/controls",
          "model_name": "DescriptionStyleModel",
          "model_module_version": "1.5.0",
          "state": {
            "_model_module": "@jupyter-widgets/controls",
            "_model_module_version": "1.5.0",
            "_model_name": "DescriptionStyleModel",
            "_view_count": null,
            "_view_module": "@jupyter-widgets/base",
            "_view_module_version": "1.2.0",
            "_view_name": "StyleView",
            "description_width": ""
          }
        },
        "b7c27db6f1294a31b49208831bbfff28": {
          "model_module": "@jupyter-widgets/base",
          "model_name": "LayoutModel",
          "model_module_version": "1.2.0",
          "state": {
            "_model_module": "@jupyter-widgets/base",
            "_model_module_version": "1.2.0",
            "_model_name": "LayoutModel",
            "_view_count": null,
            "_view_module": "@jupyter-widgets/base",
            "_view_module_version": "1.2.0",
            "_view_name": "LayoutView",
            "align_content": null,
            "align_items": null,
            "align_self": null,
            "border": null,
            "bottom": null,
            "display": null,
            "flex": null,
            "flex_flow": null,
            "grid_area": null,
            "grid_auto_columns": null,
            "grid_auto_flow": null,
            "grid_auto_rows": null,
            "grid_column": null,
            "grid_gap": null,
            "grid_row": null,
            "grid_template_areas": null,
            "grid_template_columns": null,
            "grid_template_rows": null,
            "height": null,
            "justify_content": null,
            "justify_items": null,
            "left": null,
            "margin": null,
            "max_height": null,
            "max_width": null,
            "min_height": null,
            "min_width": null,
            "object_fit": null,
            "object_position": null,
            "order": null,
            "overflow": null,
            "overflow_x": null,
            "overflow_y": null,
            "padding": null,
            "right": null,
            "top": null,
            "visibility": null,
            "width": "20px"
          }
        },
        "2f122a0650ed41989e3a26100b87f3ad": {
          "model_module": "@jupyter-widgets/controls",
          "model_name": "ProgressStyleModel",
          "model_module_version": "1.5.0",
          "state": {
            "_model_module": "@jupyter-widgets/controls",
            "_model_module_version": "1.5.0",
            "_model_name": "ProgressStyleModel",
            "_view_count": null,
            "_view_module": "@jupyter-widgets/base",
            "_view_module_version": "1.2.0",
            "_view_name": "StyleView",
            "bar_color": null,
            "description_width": ""
          }
        },
        "235610d8ada544128dfccc828305b9b6": {
          "model_module": "@jupyter-widgets/base",
          "model_name": "LayoutModel",
          "model_module_version": "1.2.0",
          "state": {
            "_model_module": "@jupyter-widgets/base",
            "_model_module_version": "1.2.0",
            "_model_name": "LayoutModel",
            "_view_count": null,
            "_view_module": "@jupyter-widgets/base",
            "_view_module_version": "1.2.0",
            "_view_name": "LayoutView",
            "align_content": null,
            "align_items": null,
            "align_self": null,
            "border": null,
            "bottom": null,
            "display": null,
            "flex": null,
            "flex_flow": null,
            "grid_area": null,
            "grid_auto_columns": null,
            "grid_auto_flow": null,
            "grid_auto_rows": null,
            "grid_column": null,
            "grid_gap": null,
            "grid_row": null,
            "grid_template_areas": null,
            "grid_template_columns": null,
            "grid_template_rows": null,
            "height": null,
            "justify_content": null,
            "justify_items": null,
            "left": null,
            "margin": null,
            "max_height": null,
            "max_width": null,
            "min_height": null,
            "min_width": null,
            "object_fit": null,
            "object_position": null,
            "order": null,
            "overflow": null,
            "overflow_x": null,
            "overflow_y": null,
            "padding": null,
            "right": null,
            "top": null,
            "visibility": null,
            "width": null
          }
        },
        "e188ba4faf5147e6acda226bf8890607": {
          "model_module": "@jupyter-widgets/controls",
          "model_name": "DescriptionStyleModel",
          "model_module_version": "1.5.0",
          "state": {
            "_model_module": "@jupyter-widgets/controls",
            "_model_module_version": "1.5.0",
            "_model_name": "DescriptionStyleModel",
            "_view_count": null,
            "_view_module": "@jupyter-widgets/base",
            "_view_module_version": "1.2.0",
            "_view_name": "StyleView",
            "description_width": ""
          }
        },
        "a13a182e11704f09b365a798c5fda3b1": {
          "model_module": "@jupyter-widgets/controls",
          "model_name": "HBoxModel",
          "model_module_version": "1.5.0",
          "state": {
            "_dom_classes": [],
            "_model_module": "@jupyter-widgets/controls",
            "_model_module_version": "1.5.0",
            "_model_name": "HBoxModel",
            "_view_count": null,
            "_view_module": "@jupyter-widgets/controls",
            "_view_module_version": "1.5.0",
            "_view_name": "HBoxView",
            "box_style": "",
            "children": [
              "IPY_MODEL_0fb860dd3b1b4cde8f22dff6bf4ee6cc",
              "IPY_MODEL_d7bd674372164ea1b5098dba0a99f676",
              "IPY_MODEL_1bf6466cd32046f1a5182846b367ecfe"
            ],
            "layout": "IPY_MODEL_ddd66a2809d1444f8c92d7c1cdc07a5f"
          }
        },
        "0fb860dd3b1b4cde8f22dff6bf4ee6cc": {
          "model_module": "@jupyter-widgets/controls",
          "model_name": "HTMLModel",
          "model_module_version": "1.5.0",
          "state": {
            "_dom_classes": [],
            "_model_module": "@jupyter-widgets/controls",
            "_model_module_version": "1.5.0",
            "_model_name": "HTMLModel",
            "_view_count": null,
            "_view_module": "@jupyter-widgets/controls",
            "_view_module_version": "1.5.0",
            "_view_name": "HTMLView",
            "description": "",
            "description_tooltip": null,
            "layout": "IPY_MODEL_d1c1bab11db04fc8b7df3ce15e2c0408",
            "placeholder": "​",
            "style": "IPY_MODEL_89a44daa07a24e8d819459f44688ee1a",
            "value": "Downloading (…)lve/main/config.json: 100%"
          }
        },
        "d7bd674372164ea1b5098dba0a99f676": {
          "model_module": "@jupyter-widgets/controls",
          "model_name": "FloatProgressModel",
          "model_module_version": "1.5.0",
          "state": {
            "_dom_classes": [],
            "_model_module": "@jupyter-widgets/controls",
            "_model_module_version": "1.5.0",
            "_model_name": "FloatProgressModel",
            "_view_count": null,
            "_view_module": "@jupyter-widgets/controls",
            "_view_module_version": "1.5.0",
            "_view_name": "ProgressView",
            "bar_style": "success",
            "description": "",
            "description_tooltip": null,
            "layout": "IPY_MODEL_4e59a7e34561470780c0ee97198fb494",
            "max": 792,
            "min": 0,
            "orientation": "horizontal",
            "style": "IPY_MODEL_2634f0d9ab0c417f88c7f8c10be16512",
            "value": 792
          }
        },
        "1bf6466cd32046f1a5182846b367ecfe": {
          "model_module": "@jupyter-widgets/controls",
          "model_name": "HTMLModel",
          "model_module_version": "1.5.0",
          "state": {
            "_dom_classes": [],
            "_model_module": "@jupyter-widgets/controls",
            "_model_module_version": "1.5.0",
            "_model_name": "HTMLModel",
            "_view_count": null,
            "_view_module": "@jupyter-widgets/controls",
            "_view_module_version": "1.5.0",
            "_view_name": "HTMLView",
            "description": "",
            "description_tooltip": null,
            "layout": "IPY_MODEL_a7a608ec7fdc4dc795e69938276d6978",
            "placeholder": "​",
            "style": "IPY_MODEL_41a61347c0ff4fa19002b5c11f1c6982",
            "value": " 792/792 [00:00&lt;00:00, 51.8kB/s]"
          }
        },
        "ddd66a2809d1444f8c92d7c1cdc07a5f": {
          "model_module": "@jupyter-widgets/base",
          "model_name": "LayoutModel",
          "model_module_version": "1.2.0",
          "state": {
            "_model_module": "@jupyter-widgets/base",
            "_model_module_version": "1.2.0",
            "_model_name": "LayoutModel",
            "_view_count": null,
            "_view_module": "@jupyter-widgets/base",
            "_view_module_version": "1.2.0",
            "_view_name": "LayoutView",
            "align_content": null,
            "align_items": null,
            "align_self": null,
            "border": null,
            "bottom": null,
            "display": null,
            "flex": null,
            "flex_flow": null,
            "grid_area": null,
            "grid_auto_columns": null,
            "grid_auto_flow": null,
            "grid_auto_rows": null,
            "grid_column": null,
            "grid_gap": null,
            "grid_row": null,
            "grid_template_areas": null,
            "grid_template_columns": null,
            "grid_template_rows": null,
            "height": null,
            "justify_content": null,
            "justify_items": null,
            "left": null,
            "margin": null,
            "max_height": null,
            "max_width": null,
            "min_height": null,
            "min_width": null,
            "object_fit": null,
            "object_position": null,
            "order": null,
            "overflow": null,
            "overflow_x": null,
            "overflow_y": null,
            "padding": null,
            "right": null,
            "top": null,
            "visibility": null,
            "width": null
          }
        },
        "d1c1bab11db04fc8b7df3ce15e2c0408": {
          "model_module": "@jupyter-widgets/base",
          "model_name": "LayoutModel",
          "model_module_version": "1.2.0",
          "state": {
            "_model_module": "@jupyter-widgets/base",
            "_model_module_version": "1.2.0",
            "_model_name": "LayoutModel",
            "_view_count": null,
            "_view_module": "@jupyter-widgets/base",
            "_view_module_version": "1.2.0",
            "_view_name": "LayoutView",
            "align_content": null,
            "align_items": null,
            "align_self": null,
            "border": null,
            "bottom": null,
            "display": null,
            "flex": null,
            "flex_flow": null,
            "grid_area": null,
            "grid_auto_columns": null,
            "grid_auto_flow": null,
            "grid_auto_rows": null,
            "grid_column": null,
            "grid_gap": null,
            "grid_row": null,
            "grid_template_areas": null,
            "grid_template_columns": null,
            "grid_template_rows": null,
            "height": null,
            "justify_content": null,
            "justify_items": null,
            "left": null,
            "margin": null,
            "max_height": null,
            "max_width": null,
            "min_height": null,
            "min_width": null,
            "object_fit": null,
            "object_position": null,
            "order": null,
            "overflow": null,
            "overflow_x": null,
            "overflow_y": null,
            "padding": null,
            "right": null,
            "top": null,
            "visibility": null,
            "width": null
          }
        },
        "89a44daa07a24e8d819459f44688ee1a": {
          "model_module": "@jupyter-widgets/controls",
          "model_name": "DescriptionStyleModel",
          "model_module_version": "1.5.0",
          "state": {
            "_model_module": "@jupyter-widgets/controls",
            "_model_module_version": "1.5.0",
            "_model_name": "DescriptionStyleModel",
            "_view_count": null,
            "_view_module": "@jupyter-widgets/base",
            "_view_module_version": "1.2.0",
            "_view_name": "StyleView",
            "description_width": ""
          }
        },
        "4e59a7e34561470780c0ee97198fb494": {
          "model_module": "@jupyter-widgets/base",
          "model_name": "LayoutModel",
          "model_module_version": "1.2.0",
          "state": {
            "_model_module": "@jupyter-widgets/base",
            "_model_module_version": "1.2.0",
            "_model_name": "LayoutModel",
            "_view_count": null,
            "_view_module": "@jupyter-widgets/base",
            "_view_module_version": "1.2.0",
            "_view_name": "LayoutView",
            "align_content": null,
            "align_items": null,
            "align_self": null,
            "border": null,
            "bottom": null,
            "display": null,
            "flex": null,
            "flex_flow": null,
            "grid_area": null,
            "grid_auto_columns": null,
            "grid_auto_flow": null,
            "grid_auto_rows": null,
            "grid_column": null,
            "grid_gap": null,
            "grid_row": null,
            "grid_template_areas": null,
            "grid_template_columns": null,
            "grid_template_rows": null,
            "height": null,
            "justify_content": null,
            "justify_items": null,
            "left": null,
            "margin": null,
            "max_height": null,
            "max_width": null,
            "min_height": null,
            "min_width": null,
            "object_fit": null,
            "object_position": null,
            "order": null,
            "overflow": null,
            "overflow_x": null,
            "overflow_y": null,
            "padding": null,
            "right": null,
            "top": null,
            "visibility": null,
            "width": null
          }
        },
        "2634f0d9ab0c417f88c7f8c10be16512": {
          "model_module": "@jupyter-widgets/controls",
          "model_name": "ProgressStyleModel",
          "model_module_version": "1.5.0",
          "state": {
            "_model_module": "@jupyter-widgets/controls",
            "_model_module_version": "1.5.0",
            "_model_name": "ProgressStyleModel",
            "_view_count": null,
            "_view_module": "@jupyter-widgets/base",
            "_view_module_version": "1.2.0",
            "_view_name": "StyleView",
            "bar_color": null,
            "description_width": ""
          }
        },
        "a7a608ec7fdc4dc795e69938276d6978": {
          "model_module": "@jupyter-widgets/base",
          "model_name": "LayoutModel",
          "model_module_version": "1.2.0",
          "state": {
            "_model_module": "@jupyter-widgets/base",
            "_model_module_version": "1.2.0",
            "_model_name": "LayoutModel",
            "_view_count": null,
            "_view_module": "@jupyter-widgets/base",
            "_view_module_version": "1.2.0",
            "_view_name": "LayoutView",
            "align_content": null,
            "align_items": null,
            "align_self": null,
            "border": null,
            "bottom": null,
            "display": null,
            "flex": null,
            "flex_flow": null,
            "grid_area": null,
            "grid_auto_columns": null,
            "grid_auto_flow": null,
            "grid_auto_rows": null,
            "grid_column": null,
            "grid_gap": null,
            "grid_row": null,
            "grid_template_areas": null,
            "grid_template_columns": null,
            "grid_template_rows": null,
            "height": null,
            "justify_content": null,
            "justify_items": null,
            "left": null,
            "margin": null,
            "max_height": null,
            "max_width": null,
            "min_height": null,
            "min_width": null,
            "object_fit": null,
            "object_position": null,
            "order": null,
            "overflow": null,
            "overflow_x": null,
            "overflow_y": null,
            "padding": null,
            "right": null,
            "top": null,
            "visibility": null,
            "width": null
          }
        },
        "41a61347c0ff4fa19002b5c11f1c6982": {
          "model_module": "@jupyter-widgets/controls",
          "model_name": "DescriptionStyleModel",
          "model_module_version": "1.5.0",
          "state": {
            "_model_module": "@jupyter-widgets/controls",
            "_model_module_version": "1.5.0",
            "_model_name": "DescriptionStyleModel",
            "_view_count": null,
            "_view_module": "@jupyter-widgets/base",
            "_view_module_version": "1.2.0",
            "_view_name": "StyleView",
            "description_width": ""
          }
        },
        "7379520e13904818a39d009ad304ba04": {
          "model_module": "@jupyter-widgets/controls",
          "model_name": "HBoxModel",
          "model_module_version": "1.5.0",
          "state": {
            "_dom_classes": [],
            "_model_module": "@jupyter-widgets/controls",
            "_model_module_version": "1.5.0",
            "_model_name": "HBoxModel",
            "_view_count": null,
            "_view_module": "@jupyter-widgets/controls",
            "_view_module_version": "1.5.0",
            "_view_name": "HBoxView",
            "box_style": "",
            "children": [
              "IPY_MODEL_b748bccf374c4cabb2cbd817cb6283c2",
              "IPY_MODEL_21f9a0e99c4c437dabd6aa9a99a25f00",
              "IPY_MODEL_fcd4ffbb51224ade9c93bfed50df1f0d"
            ],
            "layout": "IPY_MODEL_33fb3c10933847688040ff0ada36143e"
          }
        },
        "b748bccf374c4cabb2cbd817cb6283c2": {
          "model_module": "@jupyter-widgets/controls",
          "model_name": "HTMLModel",
          "model_module_version": "1.5.0",
          "state": {
            "_dom_classes": [],
            "_model_module": "@jupyter-widgets/controls",
            "_model_module_version": "1.5.0",
            "_model_name": "HTMLModel",
            "_view_count": null,
            "_view_module": "@jupyter-widgets/controls",
            "_view_module_version": "1.5.0",
            "_view_name": "HTMLView",
            "description": "",
            "description_tooltip": null,
            "layout": "IPY_MODEL_6abbbe94c8534b89897b08e1b97c59f9",
            "placeholder": "​",
            "style": "IPY_MODEL_7aaa000d84644c7d80ba275e6d8ba670",
            "value": "Downloading (…)olve/main/vocab.json: 100%"
          }
        },
        "21f9a0e99c4c437dabd6aa9a99a25f00": {
          "model_module": "@jupyter-widgets/controls",
          "model_name": "FloatProgressModel",
          "model_module_version": "1.5.0",
          "state": {
            "_dom_classes": [],
            "_model_module": "@jupyter-widgets/controls",
            "_model_module_version": "1.5.0",
            "_model_name": "FloatProgressModel",
            "_view_count": null,
            "_view_module": "@jupyter-widgets/controls",
            "_view_module_version": "1.5.0",
            "_view_name": "ProgressView",
            "bar_style": "success",
            "description": "",
            "description_tooltip": null,
            "layout": "IPY_MODEL_2527fc3e2fc1480e80e7aeaad218249f",
            "max": 812969,
            "min": 0,
            "orientation": "horizontal",
            "style": "IPY_MODEL_74fefebc79e341a0816b43351f98d6c6",
            "value": 812969
          }
        },
        "fcd4ffbb51224ade9c93bfed50df1f0d": {
          "model_module": "@jupyter-widgets/controls",
          "model_name": "HTMLModel",
          "model_module_version": "1.5.0",
          "state": {
            "_dom_classes": [],
            "_model_module": "@jupyter-widgets/controls",
            "_model_module_version": "1.5.0",
            "_model_name": "HTMLModel",
            "_view_count": null,
            "_view_module": "@jupyter-widgets/controls",
            "_view_module_version": "1.5.0",
            "_view_name": "HTMLView",
            "description": "",
            "description_tooltip": null,
            "layout": "IPY_MODEL_2b2786cf63d747f6a3246be53f3260dc",
            "placeholder": "​",
            "style": "IPY_MODEL_449b0328edab4387a5b92d8b2fea50ac",
            "value": " 813k/813k [00:00&lt;00:00, 2.49MB/s]"
          }
        },
        "33fb3c10933847688040ff0ada36143e": {
          "model_module": "@jupyter-widgets/base",
          "model_name": "LayoutModel",
          "model_module_version": "1.2.0",
          "state": {
            "_model_module": "@jupyter-widgets/base",
            "_model_module_version": "1.2.0",
            "_model_name": "LayoutModel",
            "_view_count": null,
            "_view_module": "@jupyter-widgets/base",
            "_view_module_version": "1.2.0",
            "_view_name": "LayoutView",
            "align_content": null,
            "align_items": null,
            "align_self": null,
            "border": null,
            "bottom": null,
            "display": null,
            "flex": null,
            "flex_flow": null,
            "grid_area": null,
            "grid_auto_columns": null,
            "grid_auto_flow": null,
            "grid_auto_rows": null,
            "grid_column": null,
            "grid_gap": null,
            "grid_row": null,
            "grid_template_areas": null,
            "grid_template_columns": null,
            "grid_template_rows": null,
            "height": null,
            "justify_content": null,
            "justify_items": null,
            "left": null,
            "margin": null,
            "max_height": null,
            "max_width": null,
            "min_height": null,
            "min_width": null,
            "object_fit": null,
            "object_position": null,
            "order": null,
            "overflow": null,
            "overflow_x": null,
            "overflow_y": null,
            "padding": null,
            "right": null,
            "top": null,
            "visibility": null,
            "width": null
          }
        },
        "6abbbe94c8534b89897b08e1b97c59f9": {
          "model_module": "@jupyter-widgets/base",
          "model_name": "LayoutModel",
          "model_module_version": "1.2.0",
          "state": {
            "_model_module": "@jupyter-widgets/base",
            "_model_module_version": "1.2.0",
            "_model_name": "LayoutModel",
            "_view_count": null,
            "_view_module": "@jupyter-widgets/base",
            "_view_module_version": "1.2.0",
            "_view_name": "LayoutView",
            "align_content": null,
            "align_items": null,
            "align_self": null,
            "border": null,
            "bottom": null,
            "display": null,
            "flex": null,
            "flex_flow": null,
            "grid_area": null,
            "grid_auto_columns": null,
            "grid_auto_flow": null,
            "grid_auto_rows": null,
            "grid_column": null,
            "grid_gap": null,
            "grid_row": null,
            "grid_template_areas": null,
            "grid_template_columns": null,
            "grid_template_rows": null,
            "height": null,
            "justify_content": null,
            "justify_items": null,
            "left": null,
            "margin": null,
            "max_height": null,
            "max_width": null,
            "min_height": null,
            "min_width": null,
            "object_fit": null,
            "object_position": null,
            "order": null,
            "overflow": null,
            "overflow_x": null,
            "overflow_y": null,
            "padding": null,
            "right": null,
            "top": null,
            "visibility": null,
            "width": null
          }
        },
        "7aaa000d84644c7d80ba275e6d8ba670": {
          "model_module": "@jupyter-widgets/controls",
          "model_name": "DescriptionStyleModel",
          "model_module_version": "1.5.0",
          "state": {
            "_model_module": "@jupyter-widgets/controls",
            "_model_module_version": "1.5.0",
            "_model_name": "DescriptionStyleModel",
            "_view_count": null,
            "_view_module": "@jupyter-widgets/base",
            "_view_module_version": "1.2.0",
            "_view_name": "StyleView",
            "description_width": ""
          }
        },
        "2527fc3e2fc1480e80e7aeaad218249f": {
          "model_module": "@jupyter-widgets/base",
          "model_name": "LayoutModel",
          "model_module_version": "1.2.0",
          "state": {
            "_model_module": "@jupyter-widgets/base",
            "_model_module_version": "1.2.0",
            "_model_name": "LayoutModel",
            "_view_count": null,
            "_view_module": "@jupyter-widgets/base",
            "_view_module_version": "1.2.0",
            "_view_name": "LayoutView",
            "align_content": null,
            "align_items": null,
            "align_self": null,
            "border": null,
            "bottom": null,
            "display": null,
            "flex": null,
            "flex_flow": null,
            "grid_area": null,
            "grid_auto_columns": null,
            "grid_auto_flow": null,
            "grid_auto_rows": null,
            "grid_column": null,
            "grid_gap": null,
            "grid_row": null,
            "grid_template_areas": null,
            "grid_template_columns": null,
            "grid_template_rows": null,
            "height": null,
            "justify_content": null,
            "justify_items": null,
            "left": null,
            "margin": null,
            "max_height": null,
            "max_width": null,
            "min_height": null,
            "min_width": null,
            "object_fit": null,
            "object_position": null,
            "order": null,
            "overflow": null,
            "overflow_x": null,
            "overflow_y": null,
            "padding": null,
            "right": null,
            "top": null,
            "visibility": null,
            "width": null
          }
        },
        "74fefebc79e341a0816b43351f98d6c6": {
          "model_module": "@jupyter-widgets/controls",
          "model_name": "ProgressStyleModel",
          "model_module_version": "1.5.0",
          "state": {
            "_model_module": "@jupyter-widgets/controls",
            "_model_module_version": "1.5.0",
            "_model_name": "ProgressStyleModel",
            "_view_count": null,
            "_view_module": "@jupyter-widgets/base",
            "_view_module_version": "1.2.0",
            "_view_name": "StyleView",
            "bar_color": null,
            "description_width": ""
          }
        },
        "2b2786cf63d747f6a3246be53f3260dc": {
          "model_module": "@jupyter-widgets/base",
          "model_name": "LayoutModel",
          "model_module_version": "1.2.0",
          "state": {
            "_model_module": "@jupyter-widgets/base",
            "_model_module_version": "1.2.0",
            "_model_name": "LayoutModel",
            "_view_count": null,
            "_view_module": "@jupyter-widgets/base",
            "_view_module_version": "1.2.0",
            "_view_name": "LayoutView",
            "align_content": null,
            "align_items": null,
            "align_self": null,
            "border": null,
            "bottom": null,
            "display": null,
            "flex": null,
            "flex_flow": null,
            "grid_area": null,
            "grid_auto_columns": null,
            "grid_auto_flow": null,
            "grid_auto_rows": null,
            "grid_column": null,
            "grid_gap": null,
            "grid_row": null,
            "grid_template_areas": null,
            "grid_template_columns": null,
            "grid_template_rows": null,
            "height": null,
            "justify_content": null,
            "justify_items": null,
            "left": null,
            "margin": null,
            "max_height": null,
            "max_width": null,
            "min_height": null,
            "min_width": null,
            "object_fit": null,
            "object_position": null,
            "order": null,
            "overflow": null,
            "overflow_x": null,
            "overflow_y": null,
            "padding": null,
            "right": null,
            "top": null,
            "visibility": null,
            "width": null
          }
        },
        "449b0328edab4387a5b92d8b2fea50ac": {
          "model_module": "@jupyter-widgets/controls",
          "model_name": "DescriptionStyleModel",
          "model_module_version": "1.5.0",
          "state": {
            "_model_module": "@jupyter-widgets/controls",
            "_model_module_version": "1.5.0",
            "_model_name": "DescriptionStyleModel",
            "_view_count": null,
            "_view_module": "@jupyter-widgets/base",
            "_view_module_version": "1.2.0",
            "_view_name": "StyleView",
            "description_width": ""
          }
        },
        "8fb9697a534f486880060daa51b542af": {
          "model_module": "@jupyter-widgets/controls",
          "model_name": "HBoxModel",
          "model_module_version": "1.5.0",
          "state": {
            "_dom_classes": [],
            "_model_module": "@jupyter-widgets/controls",
            "_model_module_version": "1.5.0",
            "_model_name": "HBoxModel",
            "_view_count": null,
            "_view_module": "@jupyter-widgets/controls",
            "_view_module_version": "1.5.0",
            "_view_name": "HBoxView",
            "box_style": "",
            "children": [
              "IPY_MODEL_b51d4f39beae44aa94114ba5cae96437",
              "IPY_MODEL_8340084c5be84406a44b3fc9aa7236f6",
              "IPY_MODEL_7debbe47faf340e99e91f12d43df2b99"
            ],
            "layout": "IPY_MODEL_312f3dedd6e64ec1a5680161d0e2f78f"
          }
        },
        "b51d4f39beae44aa94114ba5cae96437": {
          "model_module": "@jupyter-widgets/controls",
          "model_name": "HTMLModel",
          "model_module_version": "1.5.0",
          "state": {
            "_dom_classes": [],
            "_model_module": "@jupyter-widgets/controls",
            "_model_module_version": "1.5.0",
            "_model_name": "HTMLModel",
            "_view_count": null,
            "_view_module": "@jupyter-widgets/controls",
            "_view_module_version": "1.5.0",
            "_view_name": "HTMLView",
            "description": "",
            "description_tooltip": null,
            "layout": "IPY_MODEL_821f7d56d810402ebf2118506ac2c319",
            "placeholder": "​",
            "style": "IPY_MODEL_2eb1e94e235746dc859feb4013a7f5b8",
            "value": "Downloading (…)olve/main/merges.txt: 100%"
          }
        },
        "8340084c5be84406a44b3fc9aa7236f6": {
          "model_module": "@jupyter-widgets/controls",
          "model_name": "FloatProgressModel",
          "model_module_version": "1.5.0",
          "state": {
            "_dom_classes": [],
            "_model_module": "@jupyter-widgets/controls",
            "_model_module_version": "1.5.0",
            "_model_name": "FloatProgressModel",
            "_view_count": null,
            "_view_module": "@jupyter-widgets/controls",
            "_view_module_version": "1.5.0",
            "_view_name": "ProgressView",
            "bar_style": "success",
            "description": "",
            "description_tooltip": null,
            "layout": "IPY_MODEL_db09e74a43cf4e29a9e8880d1448d42c",
            "max": 472925,
            "min": 0,
            "orientation": "horizontal",
            "style": "IPY_MODEL_b662d150d5b247349f42271f69d1ddbc",
            "value": 472925
          }
        },
        "7debbe47faf340e99e91f12d43df2b99": {
          "model_module": "@jupyter-widgets/controls",
          "model_name": "HTMLModel",
          "model_module_version": "1.5.0",
          "state": {
            "_dom_classes": [],
            "_model_module": "@jupyter-widgets/controls",
            "_model_module_version": "1.5.0",
            "_model_name": "HTMLModel",
            "_view_count": null,
            "_view_module": "@jupyter-widgets/controls",
            "_view_module_version": "1.5.0",
            "_view_name": "HTMLView",
            "description": "",
            "description_tooltip": null,
            "layout": "IPY_MODEL_e1f4c4b1420d4a47b043114e8230b9ff",
            "placeholder": "​",
            "style": "IPY_MODEL_ba3f1acd30594286b955c3693bf68596",
            "value": " 473k/473k [00:00&lt;00:00, 7.09MB/s]"
          }
        },
        "312f3dedd6e64ec1a5680161d0e2f78f": {
          "model_module": "@jupyter-widgets/base",
          "model_name": "LayoutModel",
          "model_module_version": "1.2.0",
          "state": {
            "_model_module": "@jupyter-widgets/base",
            "_model_module_version": "1.2.0",
            "_model_name": "LayoutModel",
            "_view_count": null,
            "_view_module": "@jupyter-widgets/base",
            "_view_module_version": "1.2.0",
            "_view_name": "LayoutView",
            "align_content": null,
            "align_items": null,
            "align_self": null,
            "border": null,
            "bottom": null,
            "display": null,
            "flex": null,
            "flex_flow": null,
            "grid_area": null,
            "grid_auto_columns": null,
            "grid_auto_flow": null,
            "grid_auto_rows": null,
            "grid_column": null,
            "grid_gap": null,
            "grid_row": null,
            "grid_template_areas": null,
            "grid_template_columns": null,
            "grid_template_rows": null,
            "height": null,
            "justify_content": null,
            "justify_items": null,
            "left": null,
            "margin": null,
            "max_height": null,
            "max_width": null,
            "min_height": null,
            "min_width": null,
            "object_fit": null,
            "object_position": null,
            "order": null,
            "overflow": null,
            "overflow_x": null,
            "overflow_y": null,
            "padding": null,
            "right": null,
            "top": null,
            "visibility": null,
            "width": null
          }
        },
        "821f7d56d810402ebf2118506ac2c319": {
          "model_module": "@jupyter-widgets/base",
          "model_name": "LayoutModel",
          "model_module_version": "1.2.0",
          "state": {
            "_model_module": "@jupyter-widgets/base",
            "_model_module_version": "1.2.0",
            "_model_name": "LayoutModel",
            "_view_count": null,
            "_view_module": "@jupyter-widgets/base",
            "_view_module_version": "1.2.0",
            "_view_name": "LayoutView",
            "align_content": null,
            "align_items": null,
            "align_self": null,
            "border": null,
            "bottom": null,
            "display": null,
            "flex": null,
            "flex_flow": null,
            "grid_area": null,
            "grid_auto_columns": null,
            "grid_auto_flow": null,
            "grid_auto_rows": null,
            "grid_column": null,
            "grid_gap": null,
            "grid_row": null,
            "grid_template_areas": null,
            "grid_template_columns": null,
            "grid_template_rows": null,
            "height": null,
            "justify_content": null,
            "justify_items": null,
            "left": null,
            "margin": null,
            "max_height": null,
            "max_width": null,
            "min_height": null,
            "min_width": null,
            "object_fit": null,
            "object_position": null,
            "order": null,
            "overflow": null,
            "overflow_x": null,
            "overflow_y": null,
            "padding": null,
            "right": null,
            "top": null,
            "visibility": null,
            "width": null
          }
        },
        "2eb1e94e235746dc859feb4013a7f5b8": {
          "model_module": "@jupyter-widgets/controls",
          "model_name": "DescriptionStyleModel",
          "model_module_version": "1.5.0",
          "state": {
            "_model_module": "@jupyter-widgets/controls",
            "_model_module_version": "1.5.0",
            "_model_name": "DescriptionStyleModel",
            "_view_count": null,
            "_view_module": "@jupyter-widgets/base",
            "_view_module_version": "1.2.0",
            "_view_name": "StyleView",
            "description_width": ""
          }
        },
        "db09e74a43cf4e29a9e8880d1448d42c": {
          "model_module": "@jupyter-widgets/base",
          "model_name": "LayoutModel",
          "model_module_version": "1.2.0",
          "state": {
            "_model_module": "@jupyter-widgets/base",
            "_model_module_version": "1.2.0",
            "_model_name": "LayoutModel",
            "_view_count": null,
            "_view_module": "@jupyter-widgets/base",
            "_view_module_version": "1.2.0",
            "_view_name": "LayoutView",
            "align_content": null,
            "align_items": null,
            "align_self": null,
            "border": null,
            "bottom": null,
            "display": null,
            "flex": null,
            "flex_flow": null,
            "grid_area": null,
            "grid_auto_columns": null,
            "grid_auto_flow": null,
            "grid_auto_rows": null,
            "grid_column": null,
            "grid_gap": null,
            "grid_row": null,
            "grid_template_areas": null,
            "grid_template_columns": null,
            "grid_template_rows": null,
            "height": null,
            "justify_content": null,
            "justify_items": null,
            "left": null,
            "margin": null,
            "max_height": null,
            "max_width": null,
            "min_height": null,
            "min_width": null,
            "object_fit": null,
            "object_position": null,
            "order": null,
            "overflow": null,
            "overflow_x": null,
            "overflow_y": null,
            "padding": null,
            "right": null,
            "top": null,
            "visibility": null,
            "width": null
          }
        },
        "b662d150d5b247349f42271f69d1ddbc": {
          "model_module": "@jupyter-widgets/controls",
          "model_name": "ProgressStyleModel",
          "model_module_version": "1.5.0",
          "state": {
            "_model_module": "@jupyter-widgets/controls",
            "_model_module_version": "1.5.0",
            "_model_name": "ProgressStyleModel",
            "_view_count": null,
            "_view_module": "@jupyter-widgets/base",
            "_view_module_version": "1.2.0",
            "_view_name": "StyleView",
            "bar_color": null,
            "description_width": ""
          }
        },
        "e1f4c4b1420d4a47b043114e8230b9ff": {
          "model_module": "@jupyter-widgets/base",
          "model_name": "LayoutModel",
          "model_module_version": "1.2.0",
          "state": {
            "_model_module": "@jupyter-widgets/base",
            "_model_module_version": "1.2.0",
            "_model_name": "LayoutModel",
            "_view_count": null,
            "_view_module": "@jupyter-widgets/base",
            "_view_module_version": "1.2.0",
            "_view_name": "LayoutView",
            "align_content": null,
            "align_items": null,
            "align_self": null,
            "border": null,
            "bottom": null,
            "display": null,
            "flex": null,
            "flex_flow": null,
            "grid_area": null,
            "grid_auto_columns": null,
            "grid_auto_flow": null,
            "grid_auto_rows": null,
            "grid_column": null,
            "grid_gap": null,
            "grid_row": null,
            "grid_template_areas": null,
            "grid_template_columns": null,
            "grid_template_rows": null,
            "height": null,
            "justify_content": null,
            "justify_items": null,
            "left": null,
            "margin": null,
            "max_height": null,
            "max_width": null,
            "min_height": null,
            "min_width": null,
            "object_fit": null,
            "object_position": null,
            "order": null,
            "overflow": null,
            "overflow_x": null,
            "overflow_y": null,
            "padding": null,
            "right": null,
            "top": null,
            "visibility": null,
            "width": null
          }
        },
        "ba3f1acd30594286b955c3693bf68596": {
          "model_module": "@jupyter-widgets/controls",
          "model_name": "DescriptionStyleModel",
          "model_module_version": "1.5.0",
          "state": {
            "_model_module": "@jupyter-widgets/controls",
            "_model_module_version": "1.5.0",
            "_model_name": "DescriptionStyleModel",
            "_view_count": null,
            "_view_module": "@jupyter-widgets/base",
            "_view_module_version": "1.2.0",
            "_view_name": "StyleView",
            "description_width": ""
          }
        },
        "146f0d5a38fd4a518fcca75073a14c6d": {
          "model_module": "@jupyter-widgets/controls",
          "model_name": "HBoxModel",
          "model_module_version": "1.5.0",
          "state": {
            "_dom_classes": [],
            "_model_module": "@jupyter-widgets/controls",
            "_model_module_version": "1.5.0",
            "_model_name": "HBoxModel",
            "_view_count": null,
            "_view_module": "@jupyter-widgets/controls",
            "_view_module_version": "1.5.0",
            "_view_name": "HBoxView",
            "box_style": "",
            "children": [
              "IPY_MODEL_46cc68636a134cd28062a51a7b2179f4",
              "IPY_MODEL_fba520af111b45398c18a684757c0336",
              "IPY_MODEL_d4de7a38135b4c87824828f43f82c960"
            ],
            "layout": "IPY_MODEL_a1305764573e47f0a68971a52aae88cb"
          }
        },
        "46cc68636a134cd28062a51a7b2179f4": {
          "model_module": "@jupyter-widgets/controls",
          "model_name": "HTMLModel",
          "model_module_version": "1.5.0",
          "state": {
            "_dom_classes": [],
            "_model_module": "@jupyter-widgets/controls",
            "_model_module_version": "1.5.0",
            "_model_name": "HTMLModel",
            "_view_count": null,
            "_view_module": "@jupyter-widgets/controls",
            "_view_module_version": "1.5.0",
            "_view_name": "HTMLView",
            "description": "",
            "description_tooltip": null,
            "layout": "IPY_MODEL_63673c6a02114a8984dde6f8816e318a",
            "placeholder": "​",
            "style": "IPY_MODEL_c8585d3a6d714d64b279ee491dd56173",
            "value": "Downloading (…)/main/tokenizer.json: 100%"
          }
        },
        "fba520af111b45398c18a684757c0336": {
          "model_module": "@jupyter-widgets/controls",
          "model_name": "FloatProgressModel",
          "model_module_version": "1.5.0",
          "state": {
            "_dom_classes": [],
            "_model_module": "@jupyter-widgets/controls",
            "_model_module_version": "1.5.0",
            "_model_name": "FloatProgressModel",
            "_view_count": null,
            "_view_module": "@jupyter-widgets/controls",
            "_view_module_version": "1.5.0",
            "_view_name": "ProgressView",
            "bar_style": "success",
            "description": "",
            "description_tooltip": null,
            "layout": "IPY_MODEL_97881ede81554117913117b294c145ca",
            "max": 2138819,
            "min": 0,
            "orientation": "horizontal",
            "style": "IPY_MODEL_1dcf4810f0ac4dc0a7b99b4d8e60f9d1",
            "value": 2138819
          }
        },
        "d4de7a38135b4c87824828f43f82c960": {
          "model_module": "@jupyter-widgets/controls",
          "model_name": "HTMLModel",
          "model_module_version": "1.5.0",
          "state": {
            "_dom_classes": [],
            "_model_module": "@jupyter-widgets/controls",
            "_model_module_version": "1.5.0",
            "_model_name": "HTMLModel",
            "_view_count": null,
            "_view_module": "@jupyter-widgets/controls",
            "_view_module_version": "1.5.0",
            "_view_name": "HTMLView",
            "description": "",
            "description_tooltip": null,
            "layout": "IPY_MODEL_11e4b409da17473eb89187940cfcc839",
            "placeholder": "​",
            "style": "IPY_MODEL_a5517bafbb174526a27bdde02e9b7df3",
            "value": " 2.14M/2.14M [00:00&lt;00:00, 22.7MB/s]"
          }
        },
        "a1305764573e47f0a68971a52aae88cb": {
          "model_module": "@jupyter-widgets/base",
          "model_name": "LayoutModel",
          "model_module_version": "1.2.0",
          "state": {
            "_model_module": "@jupyter-widgets/base",
            "_model_module_version": "1.2.0",
            "_model_name": "LayoutModel",
            "_view_count": null,
            "_view_module": "@jupyter-widgets/base",
            "_view_module_version": "1.2.0",
            "_view_name": "LayoutView",
            "align_content": null,
            "align_items": null,
            "align_self": null,
            "border": null,
            "bottom": null,
            "display": null,
            "flex": null,
            "flex_flow": null,
            "grid_area": null,
            "grid_auto_columns": null,
            "grid_auto_flow": null,
            "grid_auto_rows": null,
            "grid_column": null,
            "grid_gap": null,
            "grid_row": null,
            "grid_template_areas": null,
            "grid_template_columns": null,
            "grid_template_rows": null,
            "height": null,
            "justify_content": null,
            "justify_items": null,
            "left": null,
            "margin": null,
            "max_height": null,
            "max_width": null,
            "min_height": null,
            "min_width": null,
            "object_fit": null,
            "object_position": null,
            "order": null,
            "overflow": null,
            "overflow_x": null,
            "overflow_y": null,
            "padding": null,
            "right": null,
            "top": null,
            "visibility": null,
            "width": null
          }
        },
        "63673c6a02114a8984dde6f8816e318a": {
          "model_module": "@jupyter-widgets/base",
          "model_name": "LayoutModel",
          "model_module_version": "1.2.0",
          "state": {
            "_model_module": "@jupyter-widgets/base",
            "_model_module_version": "1.2.0",
            "_model_name": "LayoutModel",
            "_view_count": null,
            "_view_module": "@jupyter-widgets/base",
            "_view_module_version": "1.2.0",
            "_view_name": "LayoutView",
            "align_content": null,
            "align_items": null,
            "align_self": null,
            "border": null,
            "bottom": null,
            "display": null,
            "flex": null,
            "flex_flow": null,
            "grid_area": null,
            "grid_auto_columns": null,
            "grid_auto_flow": null,
            "grid_auto_rows": null,
            "grid_column": null,
            "grid_gap": null,
            "grid_row": null,
            "grid_template_areas": null,
            "grid_template_columns": null,
            "grid_template_rows": null,
            "height": null,
            "justify_content": null,
            "justify_items": null,
            "left": null,
            "margin": null,
            "max_height": null,
            "max_width": null,
            "min_height": null,
            "min_width": null,
            "object_fit": null,
            "object_position": null,
            "order": null,
            "overflow": null,
            "overflow_x": null,
            "overflow_y": null,
            "padding": null,
            "right": null,
            "top": null,
            "visibility": null,
            "width": null
          }
        },
        "c8585d3a6d714d64b279ee491dd56173": {
          "model_module": "@jupyter-widgets/controls",
          "model_name": "DescriptionStyleModel",
          "model_module_version": "1.5.0",
          "state": {
            "_model_module": "@jupyter-widgets/controls",
            "_model_module_version": "1.5.0",
            "_model_name": "DescriptionStyleModel",
            "_view_count": null,
            "_view_module": "@jupyter-widgets/base",
            "_view_module_version": "1.2.0",
            "_view_name": "StyleView",
            "description_width": ""
          }
        },
        "97881ede81554117913117b294c145ca": {
          "model_module": "@jupyter-widgets/base",
          "model_name": "LayoutModel",
          "model_module_version": "1.2.0",
          "state": {
            "_model_module": "@jupyter-widgets/base",
            "_model_module_version": "1.2.0",
            "_model_name": "LayoutModel",
            "_view_count": null,
            "_view_module": "@jupyter-widgets/base",
            "_view_module_version": "1.2.0",
            "_view_name": "LayoutView",
            "align_content": null,
            "align_items": null,
            "align_self": null,
            "border": null,
            "bottom": null,
            "display": null,
            "flex": null,
            "flex_flow": null,
            "grid_area": null,
            "grid_auto_columns": null,
            "grid_auto_flow": null,
            "grid_auto_rows": null,
            "grid_column": null,
            "grid_gap": null,
            "grid_row": null,
            "grid_template_areas": null,
            "grid_template_columns": null,
            "grid_template_rows": null,
            "height": null,
            "justify_content": null,
            "justify_items": null,
            "left": null,
            "margin": null,
            "max_height": null,
            "max_width": null,
            "min_height": null,
            "min_width": null,
            "object_fit": null,
            "object_position": null,
            "order": null,
            "overflow": null,
            "overflow_x": null,
            "overflow_y": null,
            "padding": null,
            "right": null,
            "top": null,
            "visibility": null,
            "width": null
          }
        },
        "1dcf4810f0ac4dc0a7b99b4d8e60f9d1": {
          "model_module": "@jupyter-widgets/controls",
          "model_name": "ProgressStyleModel",
          "model_module_version": "1.5.0",
          "state": {
            "_model_module": "@jupyter-widgets/controls",
            "_model_module_version": "1.5.0",
            "_model_name": "ProgressStyleModel",
            "_view_count": null,
            "_view_module": "@jupyter-widgets/base",
            "_view_module_version": "1.2.0",
            "_view_name": "StyleView",
            "bar_color": null,
            "description_width": ""
          }
        },
        "11e4b409da17473eb89187940cfcc839": {
          "model_module": "@jupyter-widgets/base",
          "model_name": "LayoutModel",
          "model_module_version": "1.2.0",
          "state": {
            "_model_module": "@jupyter-widgets/base",
            "_model_module_version": "1.2.0",
            "_model_name": "LayoutModel",
            "_view_count": null,
            "_view_module": "@jupyter-widgets/base",
            "_view_module_version": "1.2.0",
            "_view_name": "LayoutView",
            "align_content": null,
            "align_items": null,
            "align_self": null,
            "border": null,
            "bottom": null,
            "display": null,
            "flex": null,
            "flex_flow": null,
            "grid_area": null,
            "grid_auto_columns": null,
            "grid_auto_flow": null,
            "grid_auto_rows": null,
            "grid_column": null,
            "grid_gap": null,
            "grid_row": null,
            "grid_template_areas": null,
            "grid_template_columns": null,
            "grid_template_rows": null,
            "height": null,
            "justify_content": null,
            "justify_items": null,
            "left": null,
            "margin": null,
            "max_height": null,
            "max_width": null,
            "min_height": null,
            "min_width": null,
            "object_fit": null,
            "object_position": null,
            "order": null,
            "overflow": null,
            "overflow_x": null,
            "overflow_y": null,
            "padding": null,
            "right": null,
            "top": null,
            "visibility": null,
            "width": null
          }
        },
        "a5517bafbb174526a27bdde02e9b7df3": {
          "model_module": "@jupyter-widgets/controls",
          "model_name": "DescriptionStyleModel",
          "model_module_version": "1.5.0",
          "state": {
            "_model_module": "@jupyter-widgets/controls",
            "_model_module_version": "1.5.0",
            "_model_name": "DescriptionStyleModel",
            "_view_count": null,
            "_view_module": "@jupyter-widgets/base",
            "_view_module_version": "1.2.0",
            "_view_name": "StyleView",
            "description_width": ""
          }
        },
        "bf68670c10f345a786a20f5ab266bb8f": {
          "model_module": "@jupyter-widgets/controls",
          "model_name": "HBoxModel",
          "model_module_version": "1.5.0",
          "state": {
            "_dom_classes": [],
            "_model_module": "@jupyter-widgets/controls",
            "_model_module_version": "1.5.0",
            "_model_name": "HBoxModel",
            "_view_count": null,
            "_view_module": "@jupyter-widgets/controls",
            "_view_module_version": "1.5.0",
            "_view_name": "HBoxView",
            "box_style": "",
            "children": [
              "IPY_MODEL_9b59bd8f978245bd8c20bb94726b73e0",
              "IPY_MODEL_ee7393c9938e43809ae4667feea3935e",
              "IPY_MODEL_2826e4877a0d42dd9a8fcf6730200029"
            ],
            "layout": "IPY_MODEL_e757fdff93bb4fc3aa0ee854357ad165"
          }
        },
        "9b59bd8f978245bd8c20bb94726b73e0": {
          "model_module": "@jupyter-widgets/controls",
          "model_name": "HTMLModel",
          "model_module_version": "1.5.0",
          "state": {
            "_dom_classes": [],
            "_model_module": "@jupyter-widgets/controls",
            "_model_module_version": "1.5.0",
            "_model_name": "HTMLModel",
            "_view_count": null,
            "_view_module": "@jupyter-widgets/controls",
            "_view_module_version": "1.5.0",
            "_view_name": "HTMLView",
            "description": "",
            "description_tooltip": null,
            "layout": "IPY_MODEL_778877d772b941aa9519cfb23cd3a651",
            "placeholder": "​",
            "style": "IPY_MODEL_91ce0395171248ef9a1fc8d5ebfa84e0",
            "value": "Downloading pytorch_model.bin: 100%"
          }
        },
        "ee7393c9938e43809ae4667feea3935e": {
          "model_module": "@jupyter-widgets/controls",
          "model_name": "FloatProgressModel",
          "model_module_version": "1.5.0",
          "state": {
            "_dom_classes": [],
            "_model_module": "@jupyter-widgets/controls",
            "_model_module_version": "1.5.0",
            "_model_name": "FloatProgressModel",
            "_view_count": null,
            "_view_module": "@jupyter-widgets/controls",
            "_view_module_version": "1.5.0",
            "_view_name": "ProgressView",
            "bar_style": "success",
            "description": "",
            "description_tooltip": null,
            "layout": "IPY_MODEL_551415c10c2142cbbe2a2e36a78d9876",
            "max": 500183289,
            "min": 0,
            "orientation": "horizontal",
            "style": "IPY_MODEL_f39787d014a54aba96fc49923f6f0a71",
            "value": 500183289
          }
        },
        "2826e4877a0d42dd9a8fcf6730200029": {
          "model_module": "@jupyter-widgets/controls",
          "model_name": "HTMLModel",
          "model_module_version": "1.5.0",
          "state": {
            "_dom_classes": [],
            "_model_module": "@jupyter-widgets/controls",
            "_model_module_version": "1.5.0",
            "_model_name": "HTMLModel",
            "_view_count": null,
            "_view_module": "@jupyter-widgets/controls",
            "_view_module_version": "1.5.0",
            "_view_name": "HTMLView",
            "description": "",
            "description_tooltip": null,
            "layout": "IPY_MODEL_940e2c50951243d8857b6d35aec5fd5d",
            "placeholder": "​",
            "style": "IPY_MODEL_874fcba85a264cb182fc89b7bfaf45e8",
            "value": " 500M/500M [00:12&lt;00:00, 42.8MB/s]"
          }
        },
        "e757fdff93bb4fc3aa0ee854357ad165": {
          "model_module": "@jupyter-widgets/base",
          "model_name": "LayoutModel",
          "model_module_version": "1.2.0",
          "state": {
            "_model_module": "@jupyter-widgets/base",
            "_model_module_version": "1.2.0",
            "_model_name": "LayoutModel",
            "_view_count": null,
            "_view_module": "@jupyter-widgets/base",
            "_view_module_version": "1.2.0",
            "_view_name": "LayoutView",
            "align_content": null,
            "align_items": null,
            "align_self": null,
            "border": null,
            "bottom": null,
            "display": null,
            "flex": null,
            "flex_flow": null,
            "grid_area": null,
            "grid_auto_columns": null,
            "grid_auto_flow": null,
            "grid_auto_rows": null,
            "grid_column": null,
            "grid_gap": null,
            "grid_row": null,
            "grid_template_areas": null,
            "grid_template_columns": null,
            "grid_template_rows": null,
            "height": null,
            "justify_content": null,
            "justify_items": null,
            "left": null,
            "margin": null,
            "max_height": null,
            "max_width": null,
            "min_height": null,
            "min_width": null,
            "object_fit": null,
            "object_position": null,
            "order": null,
            "overflow": null,
            "overflow_x": null,
            "overflow_y": null,
            "padding": null,
            "right": null,
            "top": null,
            "visibility": null,
            "width": null
          }
        },
        "778877d772b941aa9519cfb23cd3a651": {
          "model_module": "@jupyter-widgets/base",
          "model_name": "LayoutModel",
          "model_module_version": "1.2.0",
          "state": {
            "_model_module": "@jupyter-widgets/base",
            "_model_module_version": "1.2.0",
            "_model_name": "LayoutModel",
            "_view_count": null,
            "_view_module": "@jupyter-widgets/base",
            "_view_module_version": "1.2.0",
            "_view_name": "LayoutView",
            "align_content": null,
            "align_items": null,
            "align_self": null,
            "border": null,
            "bottom": null,
            "display": null,
            "flex": null,
            "flex_flow": null,
            "grid_area": null,
            "grid_auto_columns": null,
            "grid_auto_flow": null,
            "grid_auto_rows": null,
            "grid_column": null,
            "grid_gap": null,
            "grid_row": null,
            "grid_template_areas": null,
            "grid_template_columns": null,
            "grid_template_rows": null,
            "height": null,
            "justify_content": null,
            "justify_items": null,
            "left": null,
            "margin": null,
            "max_height": null,
            "max_width": null,
            "min_height": null,
            "min_width": null,
            "object_fit": null,
            "object_position": null,
            "order": null,
            "overflow": null,
            "overflow_x": null,
            "overflow_y": null,
            "padding": null,
            "right": null,
            "top": null,
            "visibility": null,
            "width": null
          }
        },
        "91ce0395171248ef9a1fc8d5ebfa84e0": {
          "model_module": "@jupyter-widgets/controls",
          "model_name": "DescriptionStyleModel",
          "model_module_version": "1.5.0",
          "state": {
            "_model_module": "@jupyter-widgets/controls",
            "_model_module_version": "1.5.0",
            "_model_name": "DescriptionStyleModel",
            "_view_count": null,
            "_view_module": "@jupyter-widgets/base",
            "_view_module_version": "1.2.0",
            "_view_name": "StyleView",
            "description_width": ""
          }
        },
        "551415c10c2142cbbe2a2e36a78d9876": {
          "model_module": "@jupyter-widgets/base",
          "model_name": "LayoutModel",
          "model_module_version": "1.2.0",
          "state": {
            "_model_module": "@jupyter-widgets/base",
            "_model_module_version": "1.2.0",
            "_model_name": "LayoutModel",
            "_view_count": null,
            "_view_module": "@jupyter-widgets/base",
            "_view_module_version": "1.2.0",
            "_view_name": "LayoutView",
            "align_content": null,
            "align_items": null,
            "align_self": null,
            "border": null,
            "bottom": null,
            "display": null,
            "flex": null,
            "flex_flow": null,
            "grid_area": null,
            "grid_auto_columns": null,
            "grid_auto_flow": null,
            "grid_auto_rows": null,
            "grid_column": null,
            "grid_gap": null,
            "grid_row": null,
            "grid_template_areas": null,
            "grid_template_columns": null,
            "grid_template_rows": null,
            "height": null,
            "justify_content": null,
            "justify_items": null,
            "left": null,
            "margin": null,
            "max_height": null,
            "max_width": null,
            "min_height": null,
            "min_width": null,
            "object_fit": null,
            "object_position": null,
            "order": null,
            "overflow": null,
            "overflow_x": null,
            "overflow_y": null,
            "padding": null,
            "right": null,
            "top": null,
            "visibility": null,
            "width": null
          }
        },
        "f39787d014a54aba96fc49923f6f0a71": {
          "model_module": "@jupyter-widgets/controls",
          "model_name": "ProgressStyleModel",
          "model_module_version": "1.5.0",
          "state": {
            "_model_module": "@jupyter-widgets/controls",
            "_model_module_version": "1.5.0",
            "_model_name": "ProgressStyleModel",
            "_view_count": null,
            "_view_module": "@jupyter-widgets/base",
            "_view_module_version": "1.2.0",
            "_view_name": "StyleView",
            "bar_color": null,
            "description_width": ""
          }
        },
        "940e2c50951243d8857b6d35aec5fd5d": {
          "model_module": "@jupyter-widgets/base",
          "model_name": "LayoutModel",
          "model_module_version": "1.2.0",
          "state": {
            "_model_module": "@jupyter-widgets/base",
            "_model_module_version": "1.2.0",
            "_model_name": "LayoutModel",
            "_view_count": null,
            "_view_module": "@jupyter-widgets/base",
            "_view_module_version": "1.2.0",
            "_view_name": "LayoutView",
            "align_content": null,
            "align_items": null,
            "align_self": null,
            "border": null,
            "bottom": null,
            "display": null,
            "flex": null,
            "flex_flow": null,
            "grid_area": null,
            "grid_auto_columns": null,
            "grid_auto_flow": null,
            "grid_auto_rows": null,
            "grid_column": null,
            "grid_gap": null,
            "grid_row": null,
            "grid_template_areas": null,
            "grid_template_columns": null,
            "grid_template_rows": null,
            "height": null,
            "justify_content": null,
            "justify_items": null,
            "left": null,
            "margin": null,
            "max_height": null,
            "max_width": null,
            "min_height": null,
            "min_width": null,
            "object_fit": null,
            "object_position": null,
            "order": null,
            "overflow": null,
            "overflow_x": null,
            "overflow_y": null,
            "padding": null,
            "right": null,
            "top": null,
            "visibility": null,
            "width": null
          }
        },
        "874fcba85a264cb182fc89b7bfaf45e8": {
          "model_module": "@jupyter-widgets/controls",
          "model_name": "DescriptionStyleModel",
          "model_module_version": "1.5.0",
          "state": {
            "_model_module": "@jupyter-widgets/controls",
            "_model_module_version": "1.5.0",
            "_model_name": "DescriptionStyleModel",
            "_view_count": null,
            "_view_module": "@jupyter-widgets/base",
            "_view_module_version": "1.2.0",
            "_view_name": "StyleView",
            "description_width": ""
          }
        },
        "4bcd2491f4f74c5bbd554fb86b640a0b": {
          "model_module": "@jupyter-widgets/controls",
          "model_name": "HBoxModel",
          "model_module_version": "1.5.0",
          "state": {
            "_dom_classes": [],
            "_model_module": "@jupyter-widgets/controls",
            "_model_module_version": "1.5.0",
            "_model_name": "HBoxModel",
            "_view_count": null,
            "_view_module": "@jupyter-widgets/controls",
            "_view_module_version": "1.5.0",
            "_view_name": "HBoxView",
            "box_style": "",
            "children": [
              "IPY_MODEL_95708991282a4571908a1e4fe5efcc71",
              "IPY_MODEL_a05c7d2b9ffa49b888fe151ee34c5aba",
              "IPY_MODEL_200088635a984cdabac8ec197508b7b7"
            ],
            "layout": "IPY_MODEL_30bceb2137694280953138988214c986"
          }
        },
        "95708991282a4571908a1e4fe5efcc71": {
          "model_module": "@jupyter-widgets/controls",
          "model_name": "HTMLModel",
          "model_module_version": "1.5.0",
          "state": {
            "_dom_classes": [],
            "_model_module": "@jupyter-widgets/controls",
            "_model_module_version": "1.5.0",
            "_model_name": "HTMLModel",
            "_view_count": null,
            "_view_module": "@jupyter-widgets/controls",
            "_view_module_version": "1.5.0",
            "_view_name": "HTMLView",
            "description": "",
            "description_tooltip": null,
            "layout": "IPY_MODEL_20e79ff268a844ffb654f6be3bc2affd",
            "placeholder": "​",
            "style": "IPY_MODEL_f235e1a556604d5abc84a521fbafe772",
            "value": "Map (num_proc=4): 100%"
          }
        },
        "a05c7d2b9ffa49b888fe151ee34c5aba": {
          "model_module": "@jupyter-widgets/controls",
          "model_name": "FloatProgressModel",
          "model_module_version": "1.5.0",
          "state": {
            "_dom_classes": [],
            "_model_module": "@jupyter-widgets/controls",
            "_model_module_version": "1.5.0",
            "_model_name": "FloatProgressModel",
            "_view_count": null,
            "_view_module": "@jupyter-widgets/controls",
            "_view_module_version": "1.5.0",
            "_view_name": "ProgressView",
            "bar_style": "",
            "description": "",
            "description_tooltip": null,
            "layout": "IPY_MODEL_015b8d3b86b24cbdbf1876a6440ad135",
            "max": 10152,
            "min": 0,
            "orientation": "horizontal",
            "style": "IPY_MODEL_d770287c303049ad9f88134a36e1c3bc",
            "value": 10152
          }
        },
        "200088635a984cdabac8ec197508b7b7": {
          "model_module": "@jupyter-widgets/controls",
          "model_name": "HTMLModel",
          "model_module_version": "1.5.0",
          "state": {
            "_dom_classes": [],
            "_model_module": "@jupyter-widgets/controls",
            "_model_module_version": "1.5.0",
            "_model_name": "HTMLModel",
            "_view_count": null,
            "_view_module": "@jupyter-widgets/controls",
            "_view_module_version": "1.5.0",
            "_view_name": "HTMLView",
            "description": "",
            "description_tooltip": null,
            "layout": "IPY_MODEL_84fbbe3fe8074a6c8417b9964afc8cf3",
            "placeholder": "​",
            "style": "IPY_MODEL_8002ea5e2c04470ea907d6848ae73237",
            "value": " 10152/10152 [06:49&lt;00:00, 44.10 examples/s]"
          }
        },
        "30bceb2137694280953138988214c986": {
          "model_module": "@jupyter-widgets/base",
          "model_name": "LayoutModel",
          "model_module_version": "1.2.0",
          "state": {
            "_model_module": "@jupyter-widgets/base",
            "_model_module_version": "1.2.0",
            "_model_name": "LayoutModel",
            "_view_count": null,
            "_view_module": "@jupyter-widgets/base",
            "_view_module_version": "1.2.0",
            "_view_name": "LayoutView",
            "align_content": null,
            "align_items": null,
            "align_self": null,
            "border": null,
            "bottom": null,
            "display": null,
            "flex": null,
            "flex_flow": null,
            "grid_area": null,
            "grid_auto_columns": null,
            "grid_auto_flow": null,
            "grid_auto_rows": null,
            "grid_column": null,
            "grid_gap": null,
            "grid_row": null,
            "grid_template_areas": null,
            "grid_template_columns": null,
            "grid_template_rows": null,
            "height": null,
            "justify_content": null,
            "justify_items": null,
            "left": null,
            "margin": null,
            "max_height": null,
            "max_width": null,
            "min_height": null,
            "min_width": null,
            "object_fit": null,
            "object_position": null,
            "order": null,
            "overflow": null,
            "overflow_x": null,
            "overflow_y": null,
            "padding": null,
            "right": null,
            "top": null,
            "visibility": "hidden",
            "width": null
          }
        },
        "20e79ff268a844ffb654f6be3bc2affd": {
          "model_module": "@jupyter-widgets/base",
          "model_name": "LayoutModel",
          "model_module_version": "1.2.0",
          "state": {
            "_model_module": "@jupyter-widgets/base",
            "_model_module_version": "1.2.0",
            "_model_name": "LayoutModel",
            "_view_count": null,
            "_view_module": "@jupyter-widgets/base",
            "_view_module_version": "1.2.0",
            "_view_name": "LayoutView",
            "align_content": null,
            "align_items": null,
            "align_self": null,
            "border": null,
            "bottom": null,
            "display": null,
            "flex": null,
            "flex_flow": null,
            "grid_area": null,
            "grid_auto_columns": null,
            "grid_auto_flow": null,
            "grid_auto_rows": null,
            "grid_column": null,
            "grid_gap": null,
            "grid_row": null,
            "grid_template_areas": null,
            "grid_template_columns": null,
            "grid_template_rows": null,
            "height": null,
            "justify_content": null,
            "justify_items": null,
            "left": null,
            "margin": null,
            "max_height": null,
            "max_width": null,
            "min_height": null,
            "min_width": null,
            "object_fit": null,
            "object_position": null,
            "order": null,
            "overflow": null,
            "overflow_x": null,
            "overflow_y": null,
            "padding": null,
            "right": null,
            "top": null,
            "visibility": null,
            "width": null
          }
        },
        "f235e1a556604d5abc84a521fbafe772": {
          "model_module": "@jupyter-widgets/controls",
          "model_name": "DescriptionStyleModel",
          "model_module_version": "1.5.0",
          "state": {
            "_model_module": "@jupyter-widgets/controls",
            "_model_module_version": "1.5.0",
            "_model_name": "DescriptionStyleModel",
            "_view_count": null,
            "_view_module": "@jupyter-widgets/base",
            "_view_module_version": "1.2.0",
            "_view_name": "StyleView",
            "description_width": ""
          }
        },
        "015b8d3b86b24cbdbf1876a6440ad135": {
          "model_module": "@jupyter-widgets/base",
          "model_name": "LayoutModel",
          "model_module_version": "1.2.0",
          "state": {
            "_model_module": "@jupyter-widgets/base",
            "_model_module_version": "1.2.0",
            "_model_name": "LayoutModel",
            "_view_count": null,
            "_view_module": "@jupyter-widgets/base",
            "_view_module_version": "1.2.0",
            "_view_name": "LayoutView",
            "align_content": null,
            "align_items": null,
            "align_self": null,
            "border": null,
            "bottom": null,
            "display": null,
            "flex": null,
            "flex_flow": null,
            "grid_area": null,
            "grid_auto_columns": null,
            "grid_auto_flow": null,
            "grid_auto_rows": null,
            "grid_column": null,
            "grid_gap": null,
            "grid_row": null,
            "grid_template_areas": null,
            "grid_template_columns": null,
            "grid_template_rows": null,
            "height": null,
            "justify_content": null,
            "justify_items": null,
            "left": null,
            "margin": null,
            "max_height": null,
            "max_width": null,
            "min_height": null,
            "min_width": null,
            "object_fit": null,
            "object_position": null,
            "order": null,
            "overflow": null,
            "overflow_x": null,
            "overflow_y": null,
            "padding": null,
            "right": null,
            "top": null,
            "visibility": null,
            "width": null
          }
        },
        "d770287c303049ad9f88134a36e1c3bc": {
          "model_module": "@jupyter-widgets/controls",
          "model_name": "ProgressStyleModel",
          "model_module_version": "1.5.0",
          "state": {
            "_model_module": "@jupyter-widgets/controls",
            "_model_module_version": "1.5.0",
            "_model_name": "ProgressStyleModel",
            "_view_count": null,
            "_view_module": "@jupyter-widgets/base",
            "_view_module_version": "1.2.0",
            "_view_name": "StyleView",
            "bar_color": null,
            "description_width": ""
          }
        },
        "84fbbe3fe8074a6c8417b9964afc8cf3": {
          "model_module": "@jupyter-widgets/base",
          "model_name": "LayoutModel",
          "model_module_version": "1.2.0",
          "state": {
            "_model_module": "@jupyter-widgets/base",
            "_model_module_version": "1.2.0",
            "_model_name": "LayoutModel",
            "_view_count": null,
            "_view_module": "@jupyter-widgets/base",
            "_view_module_version": "1.2.0",
            "_view_name": "LayoutView",
            "align_content": null,
            "align_items": null,
            "align_self": null,
            "border": null,
            "bottom": null,
            "display": null,
            "flex": null,
            "flex_flow": null,
            "grid_area": null,
            "grid_auto_columns": null,
            "grid_auto_flow": null,
            "grid_auto_rows": null,
            "grid_column": null,
            "grid_gap": null,
            "grid_row": null,
            "grid_template_areas": null,
            "grid_template_columns": null,
            "grid_template_rows": null,
            "height": null,
            "justify_content": null,
            "justify_items": null,
            "left": null,
            "margin": null,
            "max_height": null,
            "max_width": null,
            "min_height": null,
            "min_width": null,
            "object_fit": null,
            "object_position": null,
            "order": null,
            "overflow": null,
            "overflow_x": null,
            "overflow_y": null,
            "padding": null,
            "right": null,
            "top": null,
            "visibility": null,
            "width": null
          }
        },
        "8002ea5e2c04470ea907d6848ae73237": {
          "model_module": "@jupyter-widgets/controls",
          "model_name": "DescriptionStyleModel",
          "model_module_version": "1.5.0",
          "state": {
            "_model_module": "@jupyter-widgets/controls",
            "_model_module_version": "1.5.0",
            "_model_name": "DescriptionStyleModel",
            "_view_count": null,
            "_view_module": "@jupyter-widgets/base",
            "_view_module_version": "1.2.0",
            "_view_name": "StyleView",
            "description_width": ""
          }
        },
        "917b274437d14cd0adc8154983cbd345": {
          "model_module": "@jupyter-widgets/controls",
          "model_name": "HBoxModel",
          "model_module_version": "1.5.0",
          "state": {
            "_dom_classes": [],
            "_model_module": "@jupyter-widgets/controls",
            "_model_module_version": "1.5.0",
            "_model_name": "HBoxModel",
            "_view_count": null,
            "_view_module": "@jupyter-widgets/controls",
            "_view_module_version": "1.5.0",
            "_view_name": "HBoxView",
            "box_style": "",
            "children": [
              "IPY_MODEL_31275140305e47e685efe520eb9f9731",
              "IPY_MODEL_fe80a238a7084b7db650cfa582a59da7",
              "IPY_MODEL_46558a29605c4edc8c5f638a5332f099"
            ],
            "layout": "IPY_MODEL_08a4cae639544a628de9dbb2ae8e689a"
          }
        },
        "31275140305e47e685efe520eb9f9731": {
          "model_module": "@jupyter-widgets/controls",
          "model_name": "HTMLModel",
          "model_module_version": "1.5.0",
          "state": {
            "_dom_classes": [],
            "_model_module": "@jupyter-widgets/controls",
            "_model_module_version": "1.5.0",
            "_model_name": "HTMLModel",
            "_view_count": null,
            "_view_module": "@jupyter-widgets/controls",
            "_view_module_version": "1.5.0",
            "_view_name": "HTMLView",
            "description": "",
            "description_tooltip": null,
            "layout": "IPY_MODEL_375e9b41af07493e988da64944a98f8d",
            "placeholder": "​",
            "style": "IPY_MODEL_018f6399fa154b2aa5454260d81aa682",
            "value": "Map (num_proc=4): 100%"
          }
        },
        "fe80a238a7084b7db650cfa582a59da7": {
          "model_module": "@jupyter-widgets/controls",
          "model_name": "FloatProgressModel",
          "model_module_version": "1.5.0",
          "state": {
            "_dom_classes": [],
            "_model_module": "@jupyter-widgets/controls",
            "_model_module_version": "1.5.0",
            "_model_name": "FloatProgressModel",
            "_view_count": null,
            "_view_module": "@jupyter-widgets/controls",
            "_view_module_version": "1.5.0",
            "_view_name": "ProgressView",
            "bar_style": "",
            "description": "",
            "description_tooltip": null,
            "layout": "IPY_MODEL_1cb236886ee847358667160bb9503796",
            "max": 3220,
            "min": 0,
            "orientation": "horizontal",
            "style": "IPY_MODEL_7a736a9c9428445c9c805c545bb6bd5e",
            "value": 3220
          }
        },
        "46558a29605c4edc8c5f638a5332f099": {
          "model_module": "@jupyter-widgets/controls",
          "model_name": "HTMLModel",
          "model_module_version": "1.5.0",
          "state": {
            "_dom_classes": [],
            "_model_module": "@jupyter-widgets/controls",
            "_model_module_version": "1.5.0",
            "_model_name": "HTMLModel",
            "_view_count": null,
            "_view_module": "@jupyter-widgets/controls",
            "_view_module_version": "1.5.0",
            "_view_name": "HTMLView",
            "description": "",
            "description_tooltip": null,
            "layout": "IPY_MODEL_0503b7bba8d6449fa96b6196cdfae9b3",
            "placeholder": "​",
            "style": "IPY_MODEL_e3fa79940f2745d191aa02a774fdde0d",
            "value": " 3220/3220 [02:01&lt;00:00, 47.86 examples/s]"
          }
        },
        "08a4cae639544a628de9dbb2ae8e689a": {
          "model_module": "@jupyter-widgets/base",
          "model_name": "LayoutModel",
          "model_module_version": "1.2.0",
          "state": {
            "_model_module": "@jupyter-widgets/base",
            "_model_module_version": "1.2.0",
            "_model_name": "LayoutModel",
            "_view_count": null,
            "_view_module": "@jupyter-widgets/base",
            "_view_module_version": "1.2.0",
            "_view_name": "LayoutView",
            "align_content": null,
            "align_items": null,
            "align_self": null,
            "border": null,
            "bottom": null,
            "display": null,
            "flex": null,
            "flex_flow": null,
            "grid_area": null,
            "grid_auto_columns": null,
            "grid_auto_flow": null,
            "grid_auto_rows": null,
            "grid_column": null,
            "grid_gap": null,
            "grid_row": null,
            "grid_template_areas": null,
            "grid_template_columns": null,
            "grid_template_rows": null,
            "height": null,
            "justify_content": null,
            "justify_items": null,
            "left": null,
            "margin": null,
            "max_height": null,
            "max_width": null,
            "min_height": null,
            "min_width": null,
            "object_fit": null,
            "object_position": null,
            "order": null,
            "overflow": null,
            "overflow_x": null,
            "overflow_y": null,
            "padding": null,
            "right": null,
            "top": null,
            "visibility": "hidden",
            "width": null
          }
        },
        "375e9b41af07493e988da64944a98f8d": {
          "model_module": "@jupyter-widgets/base",
          "model_name": "LayoutModel",
          "model_module_version": "1.2.0",
          "state": {
            "_model_module": "@jupyter-widgets/base",
            "_model_module_version": "1.2.0",
            "_model_name": "LayoutModel",
            "_view_count": null,
            "_view_module": "@jupyter-widgets/base",
            "_view_module_version": "1.2.0",
            "_view_name": "LayoutView",
            "align_content": null,
            "align_items": null,
            "align_self": null,
            "border": null,
            "bottom": null,
            "display": null,
            "flex": null,
            "flex_flow": null,
            "grid_area": null,
            "grid_auto_columns": null,
            "grid_auto_flow": null,
            "grid_auto_rows": null,
            "grid_column": null,
            "grid_gap": null,
            "grid_row": null,
            "grid_template_areas": null,
            "grid_template_columns": null,
            "grid_template_rows": null,
            "height": null,
            "justify_content": null,
            "justify_items": null,
            "left": null,
            "margin": null,
            "max_height": null,
            "max_width": null,
            "min_height": null,
            "min_width": null,
            "object_fit": null,
            "object_position": null,
            "order": null,
            "overflow": null,
            "overflow_x": null,
            "overflow_y": null,
            "padding": null,
            "right": null,
            "top": null,
            "visibility": null,
            "width": null
          }
        },
        "018f6399fa154b2aa5454260d81aa682": {
          "model_module": "@jupyter-widgets/controls",
          "model_name": "DescriptionStyleModel",
          "model_module_version": "1.5.0",
          "state": {
            "_model_module": "@jupyter-widgets/controls",
            "_model_module_version": "1.5.0",
            "_model_name": "DescriptionStyleModel",
            "_view_count": null,
            "_view_module": "@jupyter-widgets/base",
            "_view_module_version": "1.2.0",
            "_view_name": "StyleView",
            "description_width": ""
          }
        },
        "1cb236886ee847358667160bb9503796": {
          "model_module": "@jupyter-widgets/base",
          "model_name": "LayoutModel",
          "model_module_version": "1.2.0",
          "state": {
            "_model_module": "@jupyter-widgets/base",
            "_model_module_version": "1.2.0",
            "_model_name": "LayoutModel",
            "_view_count": null,
            "_view_module": "@jupyter-widgets/base",
            "_view_module_version": "1.2.0",
            "_view_name": "LayoutView",
            "align_content": null,
            "align_items": null,
            "align_self": null,
            "border": null,
            "bottom": null,
            "display": null,
            "flex": null,
            "flex_flow": null,
            "grid_area": null,
            "grid_auto_columns": null,
            "grid_auto_flow": null,
            "grid_auto_rows": null,
            "grid_column": null,
            "grid_gap": null,
            "grid_row": null,
            "grid_template_areas": null,
            "grid_template_columns": null,
            "grid_template_rows": null,
            "height": null,
            "justify_content": null,
            "justify_items": null,
            "left": null,
            "margin": null,
            "max_height": null,
            "max_width": null,
            "min_height": null,
            "min_width": null,
            "object_fit": null,
            "object_position": null,
            "order": null,
            "overflow": null,
            "overflow_x": null,
            "overflow_y": null,
            "padding": null,
            "right": null,
            "top": null,
            "visibility": null,
            "width": null
          }
        },
        "7a736a9c9428445c9c805c545bb6bd5e": {
          "model_module": "@jupyter-widgets/controls",
          "model_name": "ProgressStyleModel",
          "model_module_version": "1.5.0",
          "state": {
            "_model_module": "@jupyter-widgets/controls",
            "_model_module_version": "1.5.0",
            "_model_name": "ProgressStyleModel",
            "_view_count": null,
            "_view_module": "@jupyter-widgets/base",
            "_view_module_version": "1.2.0",
            "_view_name": "StyleView",
            "bar_color": null,
            "description_width": ""
          }
        },
        "0503b7bba8d6449fa96b6196cdfae9b3": {
          "model_module": "@jupyter-widgets/base",
          "model_name": "LayoutModel",
          "model_module_version": "1.2.0",
          "state": {
            "_model_module": "@jupyter-widgets/base",
            "_model_module_version": "1.2.0",
            "_model_name": "LayoutModel",
            "_view_count": null,
            "_view_module": "@jupyter-widgets/base",
            "_view_module_version": "1.2.0",
            "_view_name": "LayoutView",
            "align_content": null,
            "align_items": null,
            "align_self": null,
            "border": null,
            "bottom": null,
            "display": null,
            "flex": null,
            "flex_flow": null,
            "grid_area": null,
            "grid_auto_columns": null,
            "grid_auto_flow": null,
            "grid_auto_rows": null,
            "grid_column": null,
            "grid_gap": null,
            "grid_row": null,
            "grid_template_areas": null,
            "grid_template_columns": null,
            "grid_template_rows": null,
            "height": null,
            "justify_content": null,
            "justify_items": null,
            "left": null,
            "margin": null,
            "max_height": null,
            "max_width": null,
            "min_height": null,
            "min_width": null,
            "object_fit": null,
            "object_position": null,
            "order": null,
            "overflow": null,
            "overflow_x": null,
            "overflow_y": null,
            "padding": null,
            "right": null,
            "top": null,
            "visibility": null,
            "width": null
          }
        },
        "e3fa79940f2745d191aa02a774fdde0d": {
          "model_module": "@jupyter-widgets/controls",
          "model_name": "DescriptionStyleModel",
          "model_module_version": "1.5.0",
          "state": {
            "_model_module": "@jupyter-widgets/controls",
            "_model_module_version": "1.5.0",
            "_model_name": "DescriptionStyleModel",
            "_view_count": null,
            "_view_module": "@jupyter-widgets/base",
            "_view_module_version": "1.2.0",
            "_view_name": "StyleView",
            "description_width": ""
          }
        },
        "9c4bdf2627184cf787d17b592e90ddb2": {
          "model_module": "@jupyter-widgets/controls",
          "model_name": "HBoxModel",
          "model_module_version": "1.5.0",
          "state": {
            "_dom_classes": [],
            "_model_module": "@jupyter-widgets/controls",
            "_model_module_version": "1.5.0",
            "_model_name": "HBoxModel",
            "_view_count": null,
            "_view_module": "@jupyter-widgets/controls",
            "_view_module_version": "1.5.0",
            "_view_name": "HBoxView",
            "box_style": "",
            "children": [
              "IPY_MODEL_ffcdbf8498304400a4399e3eb70ad0f2",
              "IPY_MODEL_5e2736331d4a4a86bedd70bc899a8519",
              "IPY_MODEL_29cf392e6c414dc985a586e865b62283"
            ],
            "layout": "IPY_MODEL_e206b5a562a249d292af44e15ba2c05a"
          }
        },
        "ffcdbf8498304400a4399e3eb70ad0f2": {
          "model_module": "@jupyter-widgets/controls",
          "model_name": "HTMLModel",
          "model_module_version": "1.5.0",
          "state": {
            "_dom_classes": [],
            "_model_module": "@jupyter-widgets/controls",
            "_model_module_version": "1.5.0",
            "_model_name": "HTMLModel",
            "_view_count": null,
            "_view_module": "@jupyter-widgets/controls",
            "_view_module_version": "1.5.0",
            "_view_name": "HTMLView",
            "description": "",
            "description_tooltip": null,
            "layout": "IPY_MODEL_050f3f5f7ef144c09b48e5bf5920bf80",
            "placeholder": "​",
            "style": "IPY_MODEL_183772bd722a45e3a1483895e2d87645",
            "value": "Map (num_proc=4): 100%"
          }
        },
        "5e2736331d4a4a86bedd70bc899a8519": {
          "model_module": "@jupyter-widgets/controls",
          "model_name": "FloatProgressModel",
          "model_module_version": "1.5.0",
          "state": {
            "_dom_classes": [],
            "_model_module": "@jupyter-widgets/controls",
            "_model_module_version": "1.5.0",
            "_model_name": "FloatProgressModel",
            "_view_count": null,
            "_view_module": "@jupyter-widgets/controls",
            "_view_module_version": "1.5.0",
            "_view_name": "ProgressView",
            "bar_style": "",
            "description": "",
            "description_tooltip": null,
            "layout": "IPY_MODEL_f05a7fbe34484d44b3f1502f7621fbfb",
            "max": 3218,
            "min": 0,
            "orientation": "horizontal",
            "style": "IPY_MODEL_52198f6c132d4b30abd2832abf5dda75",
            "value": 3218
          }
        },
        "29cf392e6c414dc985a586e865b62283": {
          "model_module": "@jupyter-widgets/controls",
          "model_name": "HTMLModel",
          "model_module_version": "1.5.0",
          "state": {
            "_dom_classes": [],
            "_model_module": "@jupyter-widgets/controls",
            "_model_module_version": "1.5.0",
            "_model_name": "HTMLModel",
            "_view_count": null,
            "_view_module": "@jupyter-widgets/controls",
            "_view_module_version": "1.5.0",
            "_view_name": "HTMLView",
            "description": "",
            "description_tooltip": null,
            "layout": "IPY_MODEL_a3d46a9b475c412dbdbe222d5bca9e00",
            "placeholder": "​",
            "style": "IPY_MODEL_fffaec0259b44d04963a70897dbe15e9",
            "value": " 3218/3218 [02:03&lt;00:00, 47.55 examples/s]"
          }
        },
        "e206b5a562a249d292af44e15ba2c05a": {
          "model_module": "@jupyter-widgets/base",
          "model_name": "LayoutModel",
          "model_module_version": "1.2.0",
          "state": {
            "_model_module": "@jupyter-widgets/base",
            "_model_module_version": "1.2.0",
            "_model_name": "LayoutModel",
            "_view_count": null,
            "_view_module": "@jupyter-widgets/base",
            "_view_module_version": "1.2.0",
            "_view_name": "LayoutView",
            "align_content": null,
            "align_items": null,
            "align_self": null,
            "border": null,
            "bottom": null,
            "display": null,
            "flex": null,
            "flex_flow": null,
            "grid_area": null,
            "grid_auto_columns": null,
            "grid_auto_flow": null,
            "grid_auto_rows": null,
            "grid_column": null,
            "grid_gap": null,
            "grid_row": null,
            "grid_template_areas": null,
            "grid_template_columns": null,
            "grid_template_rows": null,
            "height": null,
            "justify_content": null,
            "justify_items": null,
            "left": null,
            "margin": null,
            "max_height": null,
            "max_width": null,
            "min_height": null,
            "min_width": null,
            "object_fit": null,
            "object_position": null,
            "order": null,
            "overflow": null,
            "overflow_x": null,
            "overflow_y": null,
            "padding": null,
            "right": null,
            "top": null,
            "visibility": "hidden",
            "width": null
          }
        },
        "050f3f5f7ef144c09b48e5bf5920bf80": {
          "model_module": "@jupyter-widgets/base",
          "model_name": "LayoutModel",
          "model_module_version": "1.2.0",
          "state": {
            "_model_module": "@jupyter-widgets/base",
            "_model_module_version": "1.2.0",
            "_model_name": "LayoutModel",
            "_view_count": null,
            "_view_module": "@jupyter-widgets/base",
            "_view_module_version": "1.2.0",
            "_view_name": "LayoutView",
            "align_content": null,
            "align_items": null,
            "align_self": null,
            "border": null,
            "bottom": null,
            "display": null,
            "flex": null,
            "flex_flow": null,
            "grid_area": null,
            "grid_auto_columns": null,
            "grid_auto_flow": null,
            "grid_auto_rows": null,
            "grid_column": null,
            "grid_gap": null,
            "grid_row": null,
            "grid_template_areas": null,
            "grid_template_columns": null,
            "grid_template_rows": null,
            "height": null,
            "justify_content": null,
            "justify_items": null,
            "left": null,
            "margin": null,
            "max_height": null,
            "max_width": null,
            "min_height": null,
            "min_width": null,
            "object_fit": null,
            "object_position": null,
            "order": null,
            "overflow": null,
            "overflow_x": null,
            "overflow_y": null,
            "padding": null,
            "right": null,
            "top": null,
            "visibility": null,
            "width": null
          }
        },
        "183772bd722a45e3a1483895e2d87645": {
          "model_module": "@jupyter-widgets/controls",
          "model_name": "DescriptionStyleModel",
          "model_module_version": "1.5.0",
          "state": {
            "_model_module": "@jupyter-widgets/controls",
            "_model_module_version": "1.5.0",
            "_model_name": "DescriptionStyleModel",
            "_view_count": null,
            "_view_module": "@jupyter-widgets/base",
            "_view_module_version": "1.2.0",
            "_view_name": "StyleView",
            "description_width": ""
          }
        },
        "f05a7fbe34484d44b3f1502f7621fbfb": {
          "model_module": "@jupyter-widgets/base",
          "model_name": "LayoutModel",
          "model_module_version": "1.2.0",
          "state": {
            "_model_module": "@jupyter-widgets/base",
            "_model_module_version": "1.2.0",
            "_model_name": "LayoutModel",
            "_view_count": null,
            "_view_module": "@jupyter-widgets/base",
            "_view_module_version": "1.2.0",
            "_view_name": "LayoutView",
            "align_content": null,
            "align_items": null,
            "align_self": null,
            "border": null,
            "bottom": null,
            "display": null,
            "flex": null,
            "flex_flow": null,
            "grid_area": null,
            "grid_auto_columns": null,
            "grid_auto_flow": null,
            "grid_auto_rows": null,
            "grid_column": null,
            "grid_gap": null,
            "grid_row": null,
            "grid_template_areas": null,
            "grid_template_columns": null,
            "grid_template_rows": null,
            "height": null,
            "justify_content": null,
            "justify_items": null,
            "left": null,
            "margin": null,
            "max_height": null,
            "max_width": null,
            "min_height": null,
            "min_width": null,
            "object_fit": null,
            "object_position": null,
            "order": null,
            "overflow": null,
            "overflow_x": null,
            "overflow_y": null,
            "padding": null,
            "right": null,
            "top": null,
            "visibility": null,
            "width": null
          }
        },
        "52198f6c132d4b30abd2832abf5dda75": {
          "model_module": "@jupyter-widgets/controls",
          "model_name": "ProgressStyleModel",
          "model_module_version": "1.5.0",
          "state": {
            "_model_module": "@jupyter-widgets/controls",
            "_model_module_version": "1.5.0",
            "_model_name": "ProgressStyleModel",
            "_view_count": null,
            "_view_module": "@jupyter-widgets/base",
            "_view_module_version": "1.2.0",
            "_view_name": "StyleView",
            "bar_color": null,
            "description_width": ""
          }
        },
        "a3d46a9b475c412dbdbe222d5bca9e00": {
          "model_module": "@jupyter-widgets/base",
          "model_name": "LayoutModel",
          "model_module_version": "1.2.0",
          "state": {
            "_model_module": "@jupyter-widgets/base",
            "_model_module_version": "1.2.0",
            "_model_name": "LayoutModel",
            "_view_count": null,
            "_view_module": "@jupyter-widgets/base",
            "_view_module_version": "1.2.0",
            "_view_name": "LayoutView",
            "align_content": null,
            "align_items": null,
            "align_self": null,
            "border": null,
            "bottom": null,
            "display": null,
            "flex": null,
            "flex_flow": null,
            "grid_area": null,
            "grid_auto_columns": null,
            "grid_auto_flow": null,
            "grid_auto_rows": null,
            "grid_column": null,
            "grid_gap": null,
            "grid_row": null,
            "grid_template_areas": null,
            "grid_template_columns": null,
            "grid_template_rows": null,
            "height": null,
            "justify_content": null,
            "justify_items": null,
            "left": null,
            "margin": null,
            "max_height": null,
            "max_width": null,
            "min_height": null,
            "min_width": null,
            "object_fit": null,
            "object_position": null,
            "order": null,
            "overflow": null,
            "overflow_x": null,
            "overflow_y": null,
            "padding": null,
            "right": null,
            "top": null,
            "visibility": null,
            "width": null
          }
        },
        "fffaec0259b44d04963a70897dbe15e9": {
          "model_module": "@jupyter-widgets/controls",
          "model_name": "DescriptionStyleModel",
          "model_module_version": "1.5.0",
          "state": {
            "_model_module": "@jupyter-widgets/controls",
            "_model_module_version": "1.5.0",
            "_model_name": "DescriptionStyleModel",
            "_view_count": null,
            "_view_module": "@jupyter-widgets/base",
            "_view_module_version": "1.2.0",
            "_view_name": "StyleView",
            "description_width": ""
          }
        },
        "470b3b65c3e14cc7853fbf1aa8da3e6c": {
          "model_module": "@jupyter-widgets/controls",
          "model_name": "HBoxModel",
          "model_module_version": "1.5.0",
          "state": {
            "_dom_classes": [],
            "_model_module": "@jupyter-widgets/controls",
            "_model_module_version": "1.5.0",
            "_model_name": "HBoxModel",
            "_view_count": null,
            "_view_module": "@jupyter-widgets/controls",
            "_view_module_version": "1.5.0",
            "_view_name": "HBoxView",
            "box_style": "",
            "children": [
              "IPY_MODEL_85a560c6df8a4f01bf57facb10ae845c",
              "IPY_MODEL_c1d4b884c0e043a2b731d2302275b043",
              "IPY_MODEL_d3c6ef4c9fc24901906cd59410828d5b"
            ],
            "layout": "IPY_MODEL_fae73e9367a34dab83bfed3f90929aba"
          }
        },
        "85a560c6df8a4f01bf57facb10ae845c": {
          "model_module": "@jupyter-widgets/controls",
          "model_name": "HTMLModel",
          "model_module_version": "1.5.0",
          "state": {
            "_dom_classes": [],
            "_model_module": "@jupyter-widgets/controls",
            "_model_module_version": "1.5.0",
            "_model_name": "HTMLModel",
            "_view_count": null,
            "_view_module": "@jupyter-widgets/controls",
            "_view_module_version": "1.5.0",
            "_view_name": "HTMLView",
            "description": "",
            "description_tooltip": null,
            "layout": "IPY_MODEL_29bbf9c0115b44f686c4176367b52d00",
            "placeholder": "​",
            "style": "IPY_MODEL_60f0056e2ad5409eae92ab2c4614a64c",
            "value": "Map (num_proc=4): 100%"
          }
        },
        "c1d4b884c0e043a2b731d2302275b043": {
          "model_module": "@jupyter-widgets/controls",
          "model_name": "FloatProgressModel",
          "model_module_version": "1.5.0",
          "state": {
            "_dom_classes": [],
            "_model_module": "@jupyter-widgets/controls",
            "_model_module_version": "1.5.0",
            "_model_name": "FloatProgressModel",
            "_view_count": null,
            "_view_module": "@jupyter-widgets/controls",
            "_view_module_version": "1.5.0",
            "_view_name": "ProgressView",
            "bar_style": "",
            "description": "",
            "description_tooltip": null,
            "layout": "IPY_MODEL_2c3df0a9b9ca42a9baaf4043426e090c",
            "max": 10152,
            "min": 0,
            "orientation": "horizontal",
            "style": "IPY_MODEL_99ccf96f6a9947408b8d8fdf4fcc68e0",
            "value": 10152
          }
        },
        "d3c6ef4c9fc24901906cd59410828d5b": {
          "model_module": "@jupyter-widgets/controls",
          "model_name": "HTMLModel",
          "model_module_version": "1.5.0",
          "state": {
            "_dom_classes": [],
            "_model_module": "@jupyter-widgets/controls",
            "_model_module_version": "1.5.0",
            "_model_name": "HTMLModel",
            "_view_count": null,
            "_view_module": "@jupyter-widgets/controls",
            "_view_module_version": "1.5.0",
            "_view_name": "HTMLView",
            "description": "",
            "description_tooltip": null,
            "layout": "IPY_MODEL_94a1fd1495704d04bb23f8af5deb3db3",
            "placeholder": "​",
            "style": "IPY_MODEL_527a41028c91449c8c42dafe2dc4afe8",
            "value": " 10152/10152 [09:17&lt;00:00, 38.94 examples/s]"
          }
        },
        "fae73e9367a34dab83bfed3f90929aba": {
          "model_module": "@jupyter-widgets/base",
          "model_name": "LayoutModel",
          "model_module_version": "1.2.0",
          "state": {
            "_model_module": "@jupyter-widgets/base",
            "_model_module_version": "1.2.0",
            "_model_name": "LayoutModel",
            "_view_count": null,
            "_view_module": "@jupyter-widgets/base",
            "_view_module_version": "1.2.0",
            "_view_name": "LayoutView",
            "align_content": null,
            "align_items": null,
            "align_self": null,
            "border": null,
            "bottom": null,
            "display": null,
            "flex": null,
            "flex_flow": null,
            "grid_area": null,
            "grid_auto_columns": null,
            "grid_auto_flow": null,
            "grid_auto_rows": null,
            "grid_column": null,
            "grid_gap": null,
            "grid_row": null,
            "grid_template_areas": null,
            "grid_template_columns": null,
            "grid_template_rows": null,
            "height": null,
            "justify_content": null,
            "justify_items": null,
            "left": null,
            "margin": null,
            "max_height": null,
            "max_width": null,
            "min_height": null,
            "min_width": null,
            "object_fit": null,
            "object_position": null,
            "order": null,
            "overflow": null,
            "overflow_x": null,
            "overflow_y": null,
            "padding": null,
            "right": null,
            "top": null,
            "visibility": "hidden",
            "width": null
          }
        },
        "29bbf9c0115b44f686c4176367b52d00": {
          "model_module": "@jupyter-widgets/base",
          "model_name": "LayoutModel",
          "model_module_version": "1.2.0",
          "state": {
            "_model_module": "@jupyter-widgets/base",
            "_model_module_version": "1.2.0",
            "_model_name": "LayoutModel",
            "_view_count": null,
            "_view_module": "@jupyter-widgets/base",
            "_view_module_version": "1.2.0",
            "_view_name": "LayoutView",
            "align_content": null,
            "align_items": null,
            "align_self": null,
            "border": null,
            "bottom": null,
            "display": null,
            "flex": null,
            "flex_flow": null,
            "grid_area": null,
            "grid_auto_columns": null,
            "grid_auto_flow": null,
            "grid_auto_rows": null,
            "grid_column": null,
            "grid_gap": null,
            "grid_row": null,
            "grid_template_areas": null,
            "grid_template_columns": null,
            "grid_template_rows": null,
            "height": null,
            "justify_content": null,
            "justify_items": null,
            "left": null,
            "margin": null,
            "max_height": null,
            "max_width": null,
            "min_height": null,
            "min_width": null,
            "object_fit": null,
            "object_position": null,
            "order": null,
            "overflow": null,
            "overflow_x": null,
            "overflow_y": null,
            "padding": null,
            "right": null,
            "top": null,
            "visibility": null,
            "width": null
          }
        },
        "60f0056e2ad5409eae92ab2c4614a64c": {
          "model_module": "@jupyter-widgets/controls",
          "model_name": "DescriptionStyleModel",
          "model_module_version": "1.5.0",
          "state": {
            "_model_module": "@jupyter-widgets/controls",
            "_model_module_version": "1.5.0",
            "_model_name": "DescriptionStyleModel",
            "_view_count": null,
            "_view_module": "@jupyter-widgets/base",
            "_view_module_version": "1.2.0",
            "_view_name": "StyleView",
            "description_width": ""
          }
        },
        "2c3df0a9b9ca42a9baaf4043426e090c": {
          "model_module": "@jupyter-widgets/base",
          "model_name": "LayoutModel",
          "model_module_version": "1.2.0",
          "state": {
            "_model_module": "@jupyter-widgets/base",
            "_model_module_version": "1.2.0",
            "_model_name": "LayoutModel",
            "_view_count": null,
            "_view_module": "@jupyter-widgets/base",
            "_view_module_version": "1.2.0",
            "_view_name": "LayoutView",
            "align_content": null,
            "align_items": null,
            "align_self": null,
            "border": null,
            "bottom": null,
            "display": null,
            "flex": null,
            "flex_flow": null,
            "grid_area": null,
            "grid_auto_columns": null,
            "grid_auto_flow": null,
            "grid_auto_rows": null,
            "grid_column": null,
            "grid_gap": null,
            "grid_row": null,
            "grid_template_areas": null,
            "grid_template_columns": null,
            "grid_template_rows": null,
            "height": null,
            "justify_content": null,
            "justify_items": null,
            "left": null,
            "margin": null,
            "max_height": null,
            "max_width": null,
            "min_height": null,
            "min_width": null,
            "object_fit": null,
            "object_position": null,
            "order": null,
            "overflow": null,
            "overflow_x": null,
            "overflow_y": null,
            "padding": null,
            "right": null,
            "top": null,
            "visibility": null,
            "width": null
          }
        },
        "99ccf96f6a9947408b8d8fdf4fcc68e0": {
          "model_module": "@jupyter-widgets/controls",
          "model_name": "ProgressStyleModel",
          "model_module_version": "1.5.0",
          "state": {
            "_model_module": "@jupyter-widgets/controls",
            "_model_module_version": "1.5.0",
            "_model_name": "ProgressStyleModel",
            "_view_count": null,
            "_view_module": "@jupyter-widgets/base",
            "_view_module_version": "1.2.0",
            "_view_name": "StyleView",
            "bar_color": null,
            "description_width": ""
          }
        },
        "94a1fd1495704d04bb23f8af5deb3db3": {
          "model_module": "@jupyter-widgets/base",
          "model_name": "LayoutModel",
          "model_module_version": "1.2.0",
          "state": {
            "_model_module": "@jupyter-widgets/base",
            "_model_module_version": "1.2.0",
            "_model_name": "LayoutModel",
            "_view_count": null,
            "_view_module": "@jupyter-widgets/base",
            "_view_module_version": "1.2.0",
            "_view_name": "LayoutView",
            "align_content": null,
            "align_items": null,
            "align_self": null,
            "border": null,
            "bottom": null,
            "display": null,
            "flex": null,
            "flex_flow": null,
            "grid_area": null,
            "grid_auto_columns": null,
            "grid_auto_flow": null,
            "grid_auto_rows": null,
            "grid_column": null,
            "grid_gap": null,
            "grid_row": null,
            "grid_template_areas": null,
            "grid_template_columns": null,
            "grid_template_rows": null,
            "height": null,
            "justify_content": null,
            "justify_items": null,
            "left": null,
            "margin": null,
            "max_height": null,
            "max_width": null,
            "min_height": null,
            "min_width": null,
            "object_fit": null,
            "object_position": null,
            "order": null,
            "overflow": null,
            "overflow_x": null,
            "overflow_y": null,
            "padding": null,
            "right": null,
            "top": null,
            "visibility": null,
            "width": null
          }
        },
        "527a41028c91449c8c42dafe2dc4afe8": {
          "model_module": "@jupyter-widgets/controls",
          "model_name": "DescriptionStyleModel",
          "model_module_version": "1.5.0",
          "state": {
            "_model_module": "@jupyter-widgets/controls",
            "_model_module_version": "1.5.0",
            "_model_name": "DescriptionStyleModel",
            "_view_count": null,
            "_view_module": "@jupyter-widgets/base",
            "_view_module_version": "1.2.0",
            "_view_name": "StyleView",
            "description_width": ""
          }
        },
        "45d449232d4f41aa8a433b2b3987e3ea": {
          "model_module": "@jupyter-widgets/controls",
          "model_name": "HBoxModel",
          "model_module_version": "1.5.0",
          "state": {
            "_dom_classes": [],
            "_model_module": "@jupyter-widgets/controls",
            "_model_module_version": "1.5.0",
            "_model_name": "HBoxModel",
            "_view_count": null,
            "_view_module": "@jupyter-widgets/controls",
            "_view_module_version": "1.5.0",
            "_view_name": "HBoxView",
            "box_style": "",
            "children": [
              "IPY_MODEL_27422903a6ce45e1bfafa6384f51c08a",
              "IPY_MODEL_52b019bfd0394f70b3d5005113516595",
              "IPY_MODEL_578e2e3336eb4614b0b10d1fd337f0d9"
            ],
            "layout": "IPY_MODEL_eb22a92bcacb42f296ff0dc332a7ba31"
          }
        },
        "27422903a6ce45e1bfafa6384f51c08a": {
          "model_module": "@jupyter-widgets/controls",
          "model_name": "HTMLModel",
          "model_module_version": "1.5.0",
          "state": {
            "_dom_classes": [],
            "_model_module": "@jupyter-widgets/controls",
            "_model_module_version": "1.5.0",
            "_model_name": "HTMLModel",
            "_view_count": null,
            "_view_module": "@jupyter-widgets/controls",
            "_view_module_version": "1.5.0",
            "_view_name": "HTMLView",
            "description": "",
            "description_tooltip": null,
            "layout": "IPY_MODEL_25270c164a004ebab4170b02a76ca77e",
            "placeholder": "​",
            "style": "IPY_MODEL_6ab51f24353945bda12be1c5080aeb76",
            "value": "Map (num_proc=4): 100%"
          }
        },
        "52b019bfd0394f70b3d5005113516595": {
          "model_module": "@jupyter-widgets/controls",
          "model_name": "FloatProgressModel",
          "model_module_version": "1.5.0",
          "state": {
            "_dom_classes": [],
            "_model_module": "@jupyter-widgets/controls",
            "_model_module_version": "1.5.0",
            "_model_name": "FloatProgressModel",
            "_view_count": null,
            "_view_module": "@jupyter-widgets/controls",
            "_view_module_version": "1.5.0",
            "_view_name": "ProgressView",
            "bar_style": "",
            "description": "",
            "description_tooltip": null,
            "layout": "IPY_MODEL_0bba5eca2f4a412e9cc14a14bb4c8ad1",
            "max": 3220,
            "min": 0,
            "orientation": "horizontal",
            "style": "IPY_MODEL_56b36936ae2d4d69850743dab6571f6a",
            "value": 3220
          }
        },
        "578e2e3336eb4614b0b10d1fd337f0d9": {
          "model_module": "@jupyter-widgets/controls",
          "model_name": "HTMLModel",
          "model_module_version": "1.5.0",
          "state": {
            "_dom_classes": [],
            "_model_module": "@jupyter-widgets/controls",
            "_model_module_version": "1.5.0",
            "_model_name": "HTMLModel",
            "_view_count": null,
            "_view_module": "@jupyter-widgets/controls",
            "_view_module_version": "1.5.0",
            "_view_name": "HTMLView",
            "description": "",
            "description_tooltip": null,
            "layout": "IPY_MODEL_8ac50efa615f4011af1162841034569c",
            "placeholder": "​",
            "style": "IPY_MODEL_12585a4098544188a0925bf57b8ac35a",
            "value": " 3220/3220 [02:28&lt;00:00, 39.14 examples/s]"
          }
        },
        "eb22a92bcacb42f296ff0dc332a7ba31": {
          "model_module": "@jupyter-widgets/base",
          "model_name": "LayoutModel",
          "model_module_version": "1.2.0",
          "state": {
            "_model_module": "@jupyter-widgets/base",
            "_model_module_version": "1.2.0",
            "_model_name": "LayoutModel",
            "_view_count": null,
            "_view_module": "@jupyter-widgets/base",
            "_view_module_version": "1.2.0",
            "_view_name": "LayoutView",
            "align_content": null,
            "align_items": null,
            "align_self": null,
            "border": null,
            "bottom": null,
            "display": null,
            "flex": null,
            "flex_flow": null,
            "grid_area": null,
            "grid_auto_columns": null,
            "grid_auto_flow": null,
            "grid_auto_rows": null,
            "grid_column": null,
            "grid_gap": null,
            "grid_row": null,
            "grid_template_areas": null,
            "grid_template_columns": null,
            "grid_template_rows": null,
            "height": null,
            "justify_content": null,
            "justify_items": null,
            "left": null,
            "margin": null,
            "max_height": null,
            "max_width": null,
            "min_height": null,
            "min_width": null,
            "object_fit": null,
            "object_position": null,
            "order": null,
            "overflow": null,
            "overflow_x": null,
            "overflow_y": null,
            "padding": null,
            "right": null,
            "top": null,
            "visibility": "hidden",
            "width": null
          }
        },
        "25270c164a004ebab4170b02a76ca77e": {
          "model_module": "@jupyter-widgets/base",
          "model_name": "LayoutModel",
          "model_module_version": "1.2.0",
          "state": {
            "_model_module": "@jupyter-widgets/base",
            "_model_module_version": "1.2.0",
            "_model_name": "LayoutModel",
            "_view_count": null,
            "_view_module": "@jupyter-widgets/base",
            "_view_module_version": "1.2.0",
            "_view_name": "LayoutView",
            "align_content": null,
            "align_items": null,
            "align_self": null,
            "border": null,
            "bottom": null,
            "display": null,
            "flex": null,
            "flex_flow": null,
            "grid_area": null,
            "grid_auto_columns": null,
            "grid_auto_flow": null,
            "grid_auto_rows": null,
            "grid_column": null,
            "grid_gap": null,
            "grid_row": null,
            "grid_template_areas": null,
            "grid_template_columns": null,
            "grid_template_rows": null,
            "height": null,
            "justify_content": null,
            "justify_items": null,
            "left": null,
            "margin": null,
            "max_height": null,
            "max_width": null,
            "min_height": null,
            "min_width": null,
            "object_fit": null,
            "object_position": null,
            "order": null,
            "overflow": null,
            "overflow_x": null,
            "overflow_y": null,
            "padding": null,
            "right": null,
            "top": null,
            "visibility": null,
            "width": null
          }
        },
        "6ab51f24353945bda12be1c5080aeb76": {
          "model_module": "@jupyter-widgets/controls",
          "model_name": "DescriptionStyleModel",
          "model_module_version": "1.5.0",
          "state": {
            "_model_module": "@jupyter-widgets/controls",
            "_model_module_version": "1.5.0",
            "_model_name": "DescriptionStyleModel",
            "_view_count": null,
            "_view_module": "@jupyter-widgets/base",
            "_view_module_version": "1.2.0",
            "_view_name": "StyleView",
            "description_width": ""
          }
        },
        "0bba5eca2f4a412e9cc14a14bb4c8ad1": {
          "model_module": "@jupyter-widgets/base",
          "model_name": "LayoutModel",
          "model_module_version": "1.2.0",
          "state": {
            "_model_module": "@jupyter-widgets/base",
            "_model_module_version": "1.2.0",
            "_model_name": "LayoutModel",
            "_view_count": null,
            "_view_module": "@jupyter-widgets/base",
            "_view_module_version": "1.2.0",
            "_view_name": "LayoutView",
            "align_content": null,
            "align_items": null,
            "align_self": null,
            "border": null,
            "bottom": null,
            "display": null,
            "flex": null,
            "flex_flow": null,
            "grid_area": null,
            "grid_auto_columns": null,
            "grid_auto_flow": null,
            "grid_auto_rows": null,
            "grid_column": null,
            "grid_gap": null,
            "grid_row": null,
            "grid_template_areas": null,
            "grid_template_columns": null,
            "grid_template_rows": null,
            "height": null,
            "justify_content": null,
            "justify_items": null,
            "left": null,
            "margin": null,
            "max_height": null,
            "max_width": null,
            "min_height": null,
            "min_width": null,
            "object_fit": null,
            "object_position": null,
            "order": null,
            "overflow": null,
            "overflow_x": null,
            "overflow_y": null,
            "padding": null,
            "right": null,
            "top": null,
            "visibility": null,
            "width": null
          }
        },
        "56b36936ae2d4d69850743dab6571f6a": {
          "model_module": "@jupyter-widgets/controls",
          "model_name": "ProgressStyleModel",
          "model_module_version": "1.5.0",
          "state": {
            "_model_module": "@jupyter-widgets/controls",
            "_model_module_version": "1.5.0",
            "_model_name": "ProgressStyleModel",
            "_view_count": null,
            "_view_module": "@jupyter-widgets/base",
            "_view_module_version": "1.2.0",
            "_view_name": "StyleView",
            "bar_color": null,
            "description_width": ""
          }
        },
        "8ac50efa615f4011af1162841034569c": {
          "model_module": "@jupyter-widgets/base",
          "model_name": "LayoutModel",
          "model_module_version": "1.2.0",
          "state": {
            "_model_module": "@jupyter-widgets/base",
            "_model_module_version": "1.2.0",
            "_model_name": "LayoutModel",
            "_view_count": null,
            "_view_module": "@jupyter-widgets/base",
            "_view_module_version": "1.2.0",
            "_view_name": "LayoutView",
            "align_content": null,
            "align_items": null,
            "align_self": null,
            "border": null,
            "bottom": null,
            "display": null,
            "flex": null,
            "flex_flow": null,
            "grid_area": null,
            "grid_auto_columns": null,
            "grid_auto_flow": null,
            "grid_auto_rows": null,
            "grid_column": null,
            "grid_gap": null,
            "grid_row": null,
            "grid_template_areas": null,
            "grid_template_columns": null,
            "grid_template_rows": null,
            "height": null,
            "justify_content": null,
            "justify_items": null,
            "left": null,
            "margin": null,
            "max_height": null,
            "max_width": null,
            "min_height": null,
            "min_width": null,
            "object_fit": null,
            "object_position": null,
            "order": null,
            "overflow": null,
            "overflow_x": null,
            "overflow_y": null,
            "padding": null,
            "right": null,
            "top": null,
            "visibility": null,
            "width": null
          }
        },
        "12585a4098544188a0925bf57b8ac35a": {
          "model_module": "@jupyter-widgets/controls",
          "model_name": "DescriptionStyleModel",
          "model_module_version": "1.5.0",
          "state": {
            "_model_module": "@jupyter-widgets/controls",
            "_model_module_version": "1.5.0",
            "_model_name": "DescriptionStyleModel",
            "_view_count": null,
            "_view_module": "@jupyter-widgets/base",
            "_view_module_version": "1.2.0",
            "_view_name": "StyleView",
            "description_width": ""
          }
        },
        "499ccc1761854813a6307380cb420af2": {
          "model_module": "@jupyter-widgets/controls",
          "model_name": "HBoxModel",
          "model_module_version": "1.5.0",
          "state": {
            "_dom_classes": [],
            "_model_module": "@jupyter-widgets/controls",
            "_model_module_version": "1.5.0",
            "_model_name": "HBoxModel",
            "_view_count": null,
            "_view_module": "@jupyter-widgets/controls",
            "_view_module_version": "1.5.0",
            "_view_name": "HBoxView",
            "box_style": "",
            "children": [
              "IPY_MODEL_f642d07c6ca840d9adb2b5b9e837d04c",
              "IPY_MODEL_f90d8ce4202e475a877b9cc0fb123dcc",
              "IPY_MODEL_ece21feb690f4d9eab44cee93b523b0e"
            ],
            "layout": "IPY_MODEL_669ebd3c55104109a14142da98bab344"
          }
        },
        "f642d07c6ca840d9adb2b5b9e837d04c": {
          "model_module": "@jupyter-widgets/controls",
          "model_name": "HTMLModel",
          "model_module_version": "1.5.0",
          "state": {
            "_dom_classes": [],
            "_model_module": "@jupyter-widgets/controls",
            "_model_module_version": "1.5.0",
            "_model_name": "HTMLModel",
            "_view_count": null,
            "_view_module": "@jupyter-widgets/controls",
            "_view_module_version": "1.5.0",
            "_view_name": "HTMLView",
            "description": "",
            "description_tooltip": null,
            "layout": "IPY_MODEL_5b90aa22371c41d3983bae00781cbf67",
            "placeholder": "​",
            "style": "IPY_MODEL_0f009337d9d94d51adbca3bcf458e041",
            "value": "Map (num_proc=4): 100%"
          }
        },
        "f90d8ce4202e475a877b9cc0fb123dcc": {
          "model_module": "@jupyter-widgets/controls",
          "model_name": "FloatProgressModel",
          "model_module_version": "1.5.0",
          "state": {
            "_dom_classes": [],
            "_model_module": "@jupyter-widgets/controls",
            "_model_module_version": "1.5.0",
            "_model_name": "FloatProgressModel",
            "_view_count": null,
            "_view_module": "@jupyter-widgets/controls",
            "_view_module_version": "1.5.0",
            "_view_name": "ProgressView",
            "bar_style": "",
            "description": "",
            "description_tooltip": null,
            "layout": "IPY_MODEL_17c751e34e294b32950a18040c6891ed",
            "max": 3218,
            "min": 0,
            "orientation": "horizontal",
            "style": "IPY_MODEL_43af6f9f2e4a415483bad803773ab6e0",
            "value": 3218
          }
        },
        "ece21feb690f4d9eab44cee93b523b0e": {
          "model_module": "@jupyter-widgets/controls",
          "model_name": "HTMLModel",
          "model_module_version": "1.5.0",
          "state": {
            "_dom_classes": [],
            "_model_module": "@jupyter-widgets/controls",
            "_model_module_version": "1.5.0",
            "_model_name": "HTMLModel",
            "_view_count": null,
            "_view_module": "@jupyter-widgets/controls",
            "_view_module_version": "1.5.0",
            "_view_name": "HTMLView",
            "description": "",
            "description_tooltip": null,
            "layout": "IPY_MODEL_a48e0ba07cee4e2482ac51fdcef5252b",
            "placeholder": "​",
            "style": "IPY_MODEL_3b72154e015742b5aa60d297a66e9393",
            "value": " 3218/3218 [02:35&lt;00:00, 37.58 examples/s]"
          }
        },
        "669ebd3c55104109a14142da98bab344": {
          "model_module": "@jupyter-widgets/base",
          "model_name": "LayoutModel",
          "model_module_version": "1.2.0",
          "state": {
            "_model_module": "@jupyter-widgets/base",
            "_model_module_version": "1.2.0",
            "_model_name": "LayoutModel",
            "_view_count": null,
            "_view_module": "@jupyter-widgets/base",
            "_view_module_version": "1.2.0",
            "_view_name": "LayoutView",
            "align_content": null,
            "align_items": null,
            "align_self": null,
            "border": null,
            "bottom": null,
            "display": null,
            "flex": null,
            "flex_flow": null,
            "grid_area": null,
            "grid_auto_columns": null,
            "grid_auto_flow": null,
            "grid_auto_rows": null,
            "grid_column": null,
            "grid_gap": null,
            "grid_row": null,
            "grid_template_areas": null,
            "grid_template_columns": null,
            "grid_template_rows": null,
            "height": null,
            "justify_content": null,
            "justify_items": null,
            "left": null,
            "margin": null,
            "max_height": null,
            "max_width": null,
            "min_height": null,
            "min_width": null,
            "object_fit": null,
            "object_position": null,
            "order": null,
            "overflow": null,
            "overflow_x": null,
            "overflow_y": null,
            "padding": null,
            "right": null,
            "top": null,
            "visibility": "hidden",
            "width": null
          }
        },
        "5b90aa22371c41d3983bae00781cbf67": {
          "model_module": "@jupyter-widgets/base",
          "model_name": "LayoutModel",
          "model_module_version": "1.2.0",
          "state": {
            "_model_module": "@jupyter-widgets/base",
            "_model_module_version": "1.2.0",
            "_model_name": "LayoutModel",
            "_view_count": null,
            "_view_module": "@jupyter-widgets/base",
            "_view_module_version": "1.2.0",
            "_view_name": "LayoutView",
            "align_content": null,
            "align_items": null,
            "align_self": null,
            "border": null,
            "bottom": null,
            "display": null,
            "flex": null,
            "flex_flow": null,
            "grid_area": null,
            "grid_auto_columns": null,
            "grid_auto_flow": null,
            "grid_auto_rows": null,
            "grid_column": null,
            "grid_gap": null,
            "grid_row": null,
            "grid_template_areas": null,
            "grid_template_columns": null,
            "grid_template_rows": null,
            "height": null,
            "justify_content": null,
            "justify_items": null,
            "left": null,
            "margin": null,
            "max_height": null,
            "max_width": null,
            "min_height": null,
            "min_width": null,
            "object_fit": null,
            "object_position": null,
            "order": null,
            "overflow": null,
            "overflow_x": null,
            "overflow_y": null,
            "padding": null,
            "right": null,
            "top": null,
            "visibility": null,
            "width": null
          }
        },
        "0f009337d9d94d51adbca3bcf458e041": {
          "model_module": "@jupyter-widgets/controls",
          "model_name": "DescriptionStyleModel",
          "model_module_version": "1.5.0",
          "state": {
            "_model_module": "@jupyter-widgets/controls",
            "_model_module_version": "1.5.0",
            "_model_name": "DescriptionStyleModel",
            "_view_count": null,
            "_view_module": "@jupyter-widgets/base",
            "_view_module_version": "1.2.0",
            "_view_name": "StyleView",
            "description_width": ""
          }
        },
        "17c751e34e294b32950a18040c6891ed": {
          "model_module": "@jupyter-widgets/base",
          "model_name": "LayoutModel",
          "model_module_version": "1.2.0",
          "state": {
            "_model_module": "@jupyter-widgets/base",
            "_model_module_version": "1.2.0",
            "_model_name": "LayoutModel",
            "_view_count": null,
            "_view_module": "@jupyter-widgets/base",
            "_view_module_version": "1.2.0",
            "_view_name": "LayoutView",
            "align_content": null,
            "align_items": null,
            "align_self": null,
            "border": null,
            "bottom": null,
            "display": null,
            "flex": null,
            "flex_flow": null,
            "grid_area": null,
            "grid_auto_columns": null,
            "grid_auto_flow": null,
            "grid_auto_rows": null,
            "grid_column": null,
            "grid_gap": null,
            "grid_row": null,
            "grid_template_areas": null,
            "grid_template_columns": null,
            "grid_template_rows": null,
            "height": null,
            "justify_content": null,
            "justify_items": null,
            "left": null,
            "margin": null,
            "max_height": null,
            "max_width": null,
            "min_height": null,
            "min_width": null,
            "object_fit": null,
            "object_position": null,
            "order": null,
            "overflow": null,
            "overflow_x": null,
            "overflow_y": null,
            "padding": null,
            "right": null,
            "top": null,
            "visibility": null,
            "width": null
          }
        },
        "43af6f9f2e4a415483bad803773ab6e0": {
          "model_module": "@jupyter-widgets/controls",
          "model_name": "ProgressStyleModel",
          "model_module_version": "1.5.0",
          "state": {
            "_model_module": "@jupyter-widgets/controls",
            "_model_module_version": "1.5.0",
            "_model_name": "ProgressStyleModel",
            "_view_count": null,
            "_view_module": "@jupyter-widgets/base",
            "_view_module_version": "1.2.0",
            "_view_name": "StyleView",
            "bar_color": null,
            "description_width": ""
          }
        },
        "a48e0ba07cee4e2482ac51fdcef5252b": {
          "model_module": "@jupyter-widgets/base",
          "model_name": "LayoutModel",
          "model_module_version": "1.2.0",
          "state": {
            "_model_module": "@jupyter-widgets/base",
            "_model_module_version": "1.2.0",
            "_model_name": "LayoutModel",
            "_view_count": null,
            "_view_module": "@jupyter-widgets/base",
            "_view_module_version": "1.2.0",
            "_view_name": "LayoutView",
            "align_content": null,
            "align_items": null,
            "align_self": null,
            "border": null,
            "bottom": null,
            "display": null,
            "flex": null,
            "flex_flow": null,
            "grid_area": null,
            "grid_auto_columns": null,
            "grid_auto_flow": null,
            "grid_auto_rows": null,
            "grid_column": null,
            "grid_gap": null,
            "grid_row": null,
            "grid_template_areas": null,
            "grid_template_columns": null,
            "grid_template_rows": null,
            "height": null,
            "justify_content": null,
            "justify_items": null,
            "left": null,
            "margin": null,
            "max_height": null,
            "max_width": null,
            "min_height": null,
            "min_width": null,
            "object_fit": null,
            "object_position": null,
            "order": null,
            "overflow": null,
            "overflow_x": null,
            "overflow_y": null,
            "padding": null,
            "right": null,
            "top": null,
            "visibility": null,
            "width": null
          }
        },
        "3b72154e015742b5aa60d297a66e9393": {
          "model_module": "@jupyter-widgets/controls",
          "model_name": "DescriptionStyleModel",
          "model_module_version": "1.5.0",
          "state": {
            "_model_module": "@jupyter-widgets/controls",
            "_model_module_version": "1.5.0",
            "_model_name": "DescriptionStyleModel",
            "_view_count": null,
            "_view_module": "@jupyter-widgets/base",
            "_view_module_version": "1.2.0",
            "_view_name": "StyleView",
            "description_width": ""
          }
        }
      }
    }
  },
  "nbformat": 4,
  "nbformat_minor": 0
}